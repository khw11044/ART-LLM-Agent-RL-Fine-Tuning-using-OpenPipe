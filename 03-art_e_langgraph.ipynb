{
  "cells": [
    {
      "cell_type": "markdown",
      "metadata": {
        "id": "Emg-y6MMIX6D"
      },
      "source": [
        "## LangGraph를 이용해서 email search agent를 강화학습으로 훈련시키기"
      ]
    },
    {
      "cell_type": "markdown",
      "metadata": {},
      "source": [
        "### Email Search Agent with LangGraph"
      ]
    },
    {
      "cell_type": "markdown",
      "metadata": {},
      "source": [
        "이 노트북에서는 LangGraph와 ART를 함께 사용하여 ART•E 에이전트를 처음부터 직접 학습시켜 볼 것입니다! \n",
        "\n",
        "이 구현은 LangGraph의 agent framework와 ART의 training 기능을 통합하는 방법을 보여줍니다.\n",
        "\n",
        "Qwen2.5 - 7B base model로 시작하여, LangGraph의 ReAct agent pattern을 사용하여, 우리는 이것을 훈련 시켜 모델이 이메일을 검색하고 질문에 대답을 하게 합니다.\n",
        "\n",
        "우리는 agentic environment를 구축할 것이고, LangGraph를 이용하여 rollout을 정의하고, training loop를 실행합니다.\n",
        "\n",
        "우리는 또한 agnet의 answers들의 품질을 판단하기 위한 RULER를 어떻게 사용할 것인지 배울 것입니다.\n"
      ]
    },
    {
      "cell_type": "markdown",
      "metadata": {},
      "source": [
        "### RULER\n",
        "\n",
        "RULER는 agent의 answers 품질을 평가하고, agent가 최상의 완성을 더 잘 생산하도록 훈련시키는 robust한 기술입니다.\n",
        "\n",
        "RULER에 대해서 더 알아보고 싶다면 다음 링크에 접속하세요:\n",
        "[RULER](https://art.openpipe.ai/fundamentals/ruler)"
      ]
    },
    {
      "cell_type": "code",
      "execution_count": 1,
      "metadata": {
        "id": "QBijDl7iIX6F"
      },
      "outputs": [
        {
          "name": "stdout",
          "output_type": "stream",
          "text": [
            "\u001b[2mUsing Python 3.11.13 environment at: /home/khw/miniconda3/envs/openpipe\u001b[0m\n",
            "\u001b[2mAudited \u001b[1m6 packages\u001b[0m \u001b[2min 82ms\u001b[0m\u001b[0m\n"
          ]
        }
      ],
      "source": [
        "#@title 💿 Installation\n",
        "\n",
        "# Portions adapted from Unsloth Notebooks (https://github.com/unslothai/notebooks)\n",
        "# Copyright (c) Unsloth contributors.\n",
        "# License: GNU LGPL v3.0.\n",
        "# Modifications by OpenPipe:\n",
        "# - switched to uv\n",
        "# - changed vllm/triton pinning logic\n",
        "# - added litellm/protobuf pins\n",
        "# See /licenses/LGPL-3.0.txt and /licenses/GPL-3.0.txt for full text.\n",
        "\n",
        "# %%capture\n",
        "import os\n",
        "\n",
        "if \"COLAB_\" not in \"\".join(os.environ.keys()):\n",
        "    !uv pip install openpipe-art[backend,langgraph]==0.4.11 langchain-core langgraph langchain_openai tenacity datasets --prerelease allow --no-cache-dir\n",
        "else:\n",
        "    try:\n",
        "        import numpy\n",
        "\n",
        "        get_numpy = f\"numpy=={numpy.__version__}\"\n",
        "    except:\n",
        "        get_numpy = \"numpy\"\n",
        "    try:\n",
        "        import subprocess\n",
        "\n",
        "        is_t4 = \"Tesla T4\" in str(subprocess.check_output([\"nvidia-smi\"]))\n",
        "    except:\n",
        "        is_t4 = False\n",
        "    get_vllm, get_triton = (\n",
        "        (\"vllm==0.9.2\", \"triton==3.2.0\") if is_t4 else (\"vllm\", \"triton\")\n",
        "    )\n",
        "    !uv pip install --upgrade \\\n",
        "        openpipe-art[backend,langgraph]==0.4.11 langchain-core langgraph langchain_openai tenacity datasets protobuf==5.29.5 {get_vllm} {get_numpy} --prerelease allow --no-cache-dir\n",
        "    !uv pip install -qqq {get_triton}"
      ]
    },
    {
      "cell_type": "markdown",
      "metadata": {
        "id": "pOMCNkBVIX6G"
      },
      "source": [
        "<a name=\"Environment-Variables\"></a>\n",
        "\n",
        "### Environment Variables\n",
        "\n",
        "**OpenAI (used for RULER judge model)**\n",
        "\n",
        "우리의 RULER 보상 함수는 third-party models을 쿼리하여 에이전트의 performance 품질을 판단합니다. LiteLLM에서 지원하는 모든 모델이 작동합니다. 이 예제에서는 OpenAI의 o4-mini 모델을 사용하므로 `OPENAI_API_KEY` 환경 변수를 설정해야 합니다.\n",
        "\n",
        "\n",
        "\n",
        "**Weights & Biases (optional)**\n",
        "\n",
        "나중에 노트북에서 Weights & Biases에 메트릭을 자동으로 기록하고 Weave에 채팅 완료를 자동으로 기록하는 모델을 만들 것입니다. 이를 위해서는 Weights & Biases API 키를 환경 변수로 제공해야 합니다.\n"
      ]
    },
    {
      "cell_type": "code",
      "execution_count": null,
      "metadata": {
        "id": "Vx9dP2GNIX6G"
      },
      "outputs": [],
      "source": [
        "import os\n",
        "\n",
        "from dotenv import load_dotenv\n",
        "\n",
        "load_dotenv()\n",
        "\n",
        "# Required\n",
        "# os.environ[\"OPENAI_API_KEY\"] = \"OPENAI_API_KEY\"\n",
        "\n",
        "if not os.environ.get(\"OPENAI_API_KEY\"):\n",
        "    raise ValueError(\n",
        "        \"OPENAI_API_KEY is required for RULER functionality when using openai/o4-mini.\"\n",
        "    )\n",
        "\n",
        "# Optional\n",
        "# os.environ[\"WANDB_API_KEY\"] = \"YOUR_API_KEY\"\n",
        "\n",
        "if not os.environ.get(\"WANDB_API_KEY\"):\n",
        "    print(\"WANDB_API_KEY is not set. We'll skip logging metrics to Weights & Biases.\")"
      ]
    },
    {
      "cell_type": "markdown",
      "metadata": {
        "id": "o9QaTu1CIX6G"
      },
      "source": [
        "<a name=\"Environment\"></a>\n",
        "\n",
        "### Email Search Environment\n",
        "\n",
        "ART는 에이전트가 환경과 상호 작용하여 학습할 수 있도록 합니다. 이 예시에서는 **LangGraph의 도구 통합**을 사용하여 에이전트가 __이메일을 검색하고 관련 질문에 답변할 수 있는 환경__ 을 만들어 보겠습니다.\n",
        "\n",
        "이 agent가 접근 할 수 있는 3가지 도구는 다음과 같습니다:\n",
        "1. `search_inbox` - Search for emails by keywords\n",
        "2. `read_email` - Read a specific email by message ID\n",
        "3. `return_final_answer` - Return the final answer with source email IDs"
      ]
    },
    {
      "cell_type": "code",
      "execution_count": 3,
      "metadata": {
        "colab": {
          "base_uri": "https://localhost:8080/"
        },
        "id": "r9Xvmi-yIX6H",
        "outputId": "d43031fc-4ba8-4d1b-a941-b80462ed519c"
      },
      "outputs": [
        {
          "name": "stderr",
          "output_type": "stream",
          "text": [
            "/home/khw/miniconda3/envs/openpipe/lib/python3.11/site-packages/tqdm/auto.py:21: TqdmWarning: IProgress not found. Please update jupyter and ipywidgets. See https://ipywidgets.readthedocs.io/en/stable/user_install.html\n",
            "  from .autonotebook import tqdm as notebook_tqdm\n"
          ]
        },
        {
          "name": "stdout",
          "output_type": "stream",
          "text": [
            "Loading train scenarios from Hugging Face...\n",
            "Loaded 50 scenarios.\n",
            "Email search environment created with full Enron dataset!\n",
            "Database contains the complete email dataset, loaded 50 training scenarios.\n",
            "\n",
            "Sample scenario\n",
            "id: 3296\n",
            "question: Who can I contact for Power Operations when Sally is in London?\n",
            "answer: Stacey White (x31870) and Leslie Reeves (x37962).\n",
            "message_ids: ['<6033065.1075856098960.JavaMail.evans@thyme>']\n",
            "how_realistic: 0.699999988079071\n",
            "inbox_address: louise.kitchen@enron.com\n",
            "query_date: 2001-01-25\n",
            "split: train\n"
          ]
        }
      ],
      "source": [
        "#@title Email Search Code\n",
        "\n",
        "import os\n",
        "import random\n",
        "import sqlite3\n",
        "from dataclasses import asdict, dataclass\n",
        "from datetime import datetime\n",
        "from textwrap import dedent\n",
        "from typing import List, Literal, Optional\n",
        "\n",
        "from datasets import Dataset, Features, Sequence, Value, load_dataset\n",
        "from pydantic import BaseModel, Field\n",
        "from tqdm import tqdm\n",
        "\n",
        "\n",
        "# Email and Scenario data models\n",
        "class Email(BaseModel):\n",
        "    message_id: str\n",
        "    date: str  # ISO 8601 string 'YYYY-MM-DD HH:MM:SS'\n",
        "    subject: Optional[str] = None\n",
        "    from_address: Optional[str] = None\n",
        "    to_addresses: List[str] = []  # Populated from recipients table\n",
        "    cc_addresses: List[str] = []  # Populated from recipients table\n",
        "    bcc_addresses: List[str] = []  # Populated from recipients table\n",
        "    body: Optional[str] = None\n",
        "    file_name: Optional[str] = None\n",
        "\n",
        "\n",
        "class Scenario(BaseModel):\n",
        "    id: int\n",
        "    question: str\n",
        "    answer: str\n",
        "    message_ids: List[str]  # message_ids (strings) of referenced emails\n",
        "    how_realistic: float\n",
        "    inbox_address: str\n",
        "    query_date: str\n",
        "    split: Literal[\"train\", \"test\"]\n",
        "\n",
        "\n",
        "@dataclass\n",
        "class SearchResult:\n",
        "    message_id: str\n",
        "    snippet: str\n",
        "\n",
        "\n",
        "class FinalAnswer(BaseModel):\n",
        "    answer: str\n",
        "    source_ids: list[str]\n",
        "\n",
        "\n",
        "# Database configuration\n",
        "DB_PATH = \"./enron_emails.db\"\n",
        "EMAIL_DATASET_REPO_ID = \"corbt/enron-emails\"        # 허깅페이스에 있는 데이터셋 레포 아이디 \n",
        "SCENARIO_DATASET_REPO_ID = \"corbt/enron_emails_sample_questions\"\n",
        "\n",
        "# Global database connection\n",
        "db_conn = None\n",
        "\n",
        "# 허깅페이스 데이터셋을 로드해서 sqlite3로 db를 만들고 sqlite3 db를 접근하며 옳은 대답을 해주는 LLM Agent를 만들것임\n",
        "def create_email_database():\n",
        "    \"\"\"Create the email database from Hugging Face dataset\"\"\"\n",
        "    print(\"Creating email database from Hugging Face dataset...\")\n",
        "    print(\n",
        "        \"This will download and process the full Enron email dataset - this may take several minutes...\"\n",
        "    )\n",
        "\n",
        "    # Database schema\n",
        "    SQL_CREATE_TABLES = \"\"\"\n",
        "    DROP TABLE IF EXISTS recipients;\n",
        "    DROP TABLE IF EXISTS emails_fts;\n",
        "    DROP TABLE IF EXISTS emails;\n",
        "\n",
        "    CREATE TABLE emails (\n",
        "        id INTEGER PRIMARY KEY AUTOINCREMENT,\n",
        "        message_id TEXT UNIQUE,\n",
        "        subject TEXT,\n",
        "        from_address TEXT,\n",
        "        date TEXT,\n",
        "        body TEXT,\n",
        "        file_name TEXT\n",
        "    );\n",
        "\n",
        "    CREATE TABLE recipients (\n",
        "        email_id TEXT,\n",
        "        recipient_address TEXT,\n",
        "        recipient_type TEXT\n",
        "    );\n",
        "    \"\"\"\n",
        "\n",
        "    SQL_CREATE_INDEXES_TRIGGERS = \"\"\"\n",
        "    CREATE INDEX idx_emails_from ON emails(from_address);\n",
        "    CREATE INDEX idx_emails_date ON emails(date);\n",
        "    CREATE INDEX idx_emails_message_id ON emails(message_id);\n",
        "    CREATE INDEX idx_recipients_address ON recipients(recipient_address);\n",
        "    CREATE INDEX idx_recipients_type ON recipients(recipient_type);\n",
        "    CREATE INDEX idx_recipients_email_id ON recipients(email_id);\n",
        "    CREATE INDEX idx_recipients_address_email ON recipients(recipient_address, email_id);\n",
        "\n",
        "    CREATE VIRTUAL TABLE emails_fts USING fts5(\n",
        "        subject,\n",
        "        body,\n",
        "        content='emails',\n",
        "        content_rowid='id'\n",
        "    );\n",
        "\n",
        "    CREATE TRIGGER emails_ai AFTER INSERT ON emails BEGIN\n",
        "        INSERT INTO emails_fts (rowid, subject, body)\n",
        "        VALUES (new.id, new.subject, new.body);\n",
        "    END;\n",
        "\n",
        "    CREATE TRIGGER emails_ad AFTER DELETE ON emails BEGIN\n",
        "        DELETE FROM emails_fts WHERE rowid=old.id;\n",
        "    END;\n",
        "\n",
        "    CREATE TRIGGER emails_au AFTER UPDATE ON emails BEGIN\n",
        "        UPDATE emails_fts SET subject=new.subject, body=new.body WHERE rowid=old.id;\n",
        "    END;\n",
        "    \"\"\"\n",
        "\n",
        "    # Create database\n",
        "    conn = sqlite3.connect(DB_PATH)\n",
        "    cursor = conn.cursor()\n",
        "    cursor.executescript(SQL_CREATE_TABLES)\n",
        "    conn.commit()\n",
        "\n",
        "    # Load dataset\n",
        "    print(\"Loading full email dataset...\")\n",
        "    expected_features = Features(\n",
        "        {\n",
        "            \"message_id\": Value(\"string\"),\n",
        "            \"subject\": Value(\"string\"),\n",
        "            \"from\": Value(\"string\"),\n",
        "            \"to\": Sequence(Value(\"string\")),\n",
        "            \"cc\": Sequence(Value(\"string\")),\n",
        "            \"bcc\": Sequence(Value(\"string\")),\n",
        "            \"date\": Value(\"timestamp[us]\"),\n",
        "            \"body\": Value(\"string\"),\n",
        "            \"file_name\": Value(\"string\"),\n",
        "        }\n",
        "    )\n",
        "\n",
        "    dataset = load_dataset(\n",
        "        EMAIL_DATASET_REPO_ID, features=expected_features, split=\"train\"\n",
        "    )\n",
        "    print(f\"Dataset contains {len(dataset)} total emails\")\n",
        "\n",
        "    # Populate database with ALL emails (not limited to 1000)\n",
        "    print(\"Populating database with all emails...\")\n",
        "    conn.execute(\"PRAGMA synchronous = OFF;\")\n",
        "    conn.execute(\"PRAGMA journal_mode = MEMORY;\")\n",
        "    conn.execute(\"BEGIN TRANSACTION;\")\n",
        "\n",
        "    record_count = 0\n",
        "    skipped_count = 0\n",
        "    duplicate_count = 0\n",
        "    processed_emails = set()  # Track (subject, body, from) tuples for deduplication\n",
        "\n",
        "    for email_data in tqdm(dataset, desc=\"Inserting emails\"):\n",
        "        message_id = email_data[\"message_id\"]\n",
        "        subject = email_data[\"subject\"]\n",
        "        from_address = email_data[\"from\"]\n",
        "        date_obj: datetime = email_data[\"date\"]\n",
        "        body = email_data[\"body\"]\n",
        "        file_name = email_data[\"file_name\"]\n",
        "        to_list = [str(addr) for addr in email_data[\"to\"] if addr]\n",
        "        cc_list = [str(addr) for addr in email_data[\"cc\"] if addr]\n",
        "        bcc_list = [str(addr) for addr in email_data[\"bcc\"] if addr]\n",
        "\n",
        "        # Apply the same filters as the original project\n",
        "        total_recipients = len(to_list) + len(cc_list) + len(bcc_list)\n",
        "\n",
        "        # Filter out very long emails and those with too many recipients\n",
        "        if len(body) > 5000:\n",
        "            skipped_count += 1\n",
        "            continue\n",
        "\n",
        "        if total_recipients > 30:\n",
        "            skipped_count += 1\n",
        "            continue\n",
        "\n",
        "        # Deduplication check (same as original project)\n",
        "        email_key = (subject, body, from_address)\n",
        "        if email_key in processed_emails:\n",
        "            duplicate_count += 1\n",
        "            continue\n",
        "        else:\n",
        "            processed_emails.add(email_key)\n",
        "\n",
        "        date_str = date_obj.strftime(\"%Y-%m-%d %H:%M:%S\")\n",
        "\n",
        "        cursor.execute(\n",
        "            \"\"\"\n",
        "            INSERT INTO emails (message_id, subject, from_address, date, body, file_name)\n",
        "            VALUES (?, ?, ?, ?, ?, ?)\n",
        "        \"\"\",\n",
        "            (message_id, subject, from_address, date_str, body, file_name),\n",
        "        )\n",
        "\n",
        "        # Insert recipients\n",
        "        recipient_data = []\n",
        "        for addr in to_list:\n",
        "            recipient_data.append((message_id, addr, \"to\"))\n",
        "        for addr in cc_list:\n",
        "            recipient_data.append((message_id, addr, \"cc\"))\n",
        "        for addr in bcc_list:\n",
        "            recipient_data.append((message_id, addr, \"bcc\"))\n",
        "\n",
        "        if recipient_data:\n",
        "            cursor.executemany(\n",
        "                \"\"\"\n",
        "                INSERT INTO recipients (email_id, recipient_address, recipient_type)\n",
        "                VALUES (?, ?, ?)\n",
        "            \"\"\",\n",
        "                recipient_data,\n",
        "            )\n",
        "\n",
        "        record_count += 1\n",
        "\n",
        "    conn.commit()\n",
        "\n",
        "    # Create indexes and triggers\n",
        "    print(\"Creating indexes and FTS...\")\n",
        "    cursor.executescript(SQL_CREATE_INDEXES_TRIGGERS)\n",
        "    cursor.execute('INSERT INTO emails_fts(emails_fts) VALUES(\"rebuild\")')\n",
        "    conn.commit()\n",
        "\n",
        "    print(f\"Successfully created database with {record_count} emails.\")\n",
        "    print(f\"Skipped {skipped_count} emails due to length/recipient limits.\")\n",
        "    print(f\"Skipped {duplicate_count} duplicate emails.\")\n",
        "    return conn\n",
        "\n",
        "\n",
        "def get_db_connection():\n",
        "    \"\"\"Get database connection\"\"\"\n",
        "    if os.path.exists(DB_PATH):\n",
        "        print(f\"Loading existing database from {DB_PATH}\")\n",
        "        db_conn = sqlite3.connect(DB_PATH, check_same_thread=False)\n",
        "    else:\n",
        "        db_conn = create_email_database()\n",
        "    return db_conn\n",
        "\n",
        "\n",
        "def search_emails(\n",
        "    inbox: str,\n",
        "    keywords: List[str],\n",
        "    from_addr: Optional[str] = None,\n",
        "    to_addr: Optional[str] = None,\n",
        "    sent_after: Optional[str] = None,\n",
        "    sent_before: Optional[str] = None,\n",
        "    max_results: int = 10,\n",
        ") -> List[SearchResult]:\n",
        "    \"\"\"Search the email database based on keywords and filters\"\"\"\n",
        "    conn = get_db_connection()\n",
        "    cursor = conn.cursor()\n",
        "\n",
        "    where_clauses: List[str] = []\n",
        "    params: List[str | int] = []\n",
        "\n",
        "    if not keywords:\n",
        "        raise ValueError(\"No keywords provided for search.\")\n",
        "\n",
        "    if max_results > 10:\n",
        "        raise ValueError(\"max_results must be less than or equal to 10.\")\n",
        "\n",
        "    # FTS5 default is AND, so just join keywords. Escape quotes for safety.\n",
        "    fts_query = \" \".join(f\"\"\" \"{k.replace('\"', '\"\"')}\" \"\"\" for k in keywords)\n",
        "    where_clauses.append(\"fts.emails_fts MATCH ?\")\n",
        "    params.append(fts_query)\n",
        "\n",
        "    # Inbox filter\n",
        "    where_clauses.append(\"\"\"\n",
        "        (e.from_address = ? OR EXISTS (\n",
        "            SELECT 1 FROM recipients r_inbox\n",
        "            WHERE r_inbox.recipient_address = ? AND r_inbox.email_id = e.message_id\n",
        "        ))\n",
        "    \"\"\")\n",
        "    params.extend([inbox, inbox])\n",
        "\n",
        "    if from_addr:\n",
        "        where_clauses.append(\"e.from_address = ?\")\n",
        "        params.append(from_addr)\n",
        "\n",
        "    if to_addr:\n",
        "        where_clauses.append(\"\"\"\n",
        "            EXISTS (\n",
        "                SELECT 1 FROM recipients r_to\n",
        "                WHERE r_to.recipient_address = ? AND r_to.email_id = e.message_id\n",
        "            )\n",
        "        \"\"\")\n",
        "        params.append(to_addr)\n",
        "\n",
        "    if sent_after:\n",
        "        where_clauses.append(\"e.date >= ?\")\n",
        "        params.append(f\"{sent_after} 00:00:00\")\n",
        "\n",
        "    if sent_before:\n",
        "        where_clauses.append(\"e.date < ?\")\n",
        "        params.append(f\"{sent_before} 00:00:00\")\n",
        "\n",
        "    sql = f\"\"\"\n",
        "        SELECT\n",
        "            e.message_id,\n",
        "            snippet(emails_fts, -1, '<b>', '</b>', ' ... ', 15) as snippet\n",
        "        FROM\n",
        "            emails e JOIN emails_fts fts ON e.id = fts.rowid\n",
        "        WHERE\n",
        "            {\" AND \".join(where_clauses)}\n",
        "        ORDER BY\n",
        "            e.date DESC\n",
        "        LIMIT ?;\n",
        "    \"\"\"\n",
        "    params.append(max_results)\n",
        "\n",
        "    cursor.execute(sql, params)\n",
        "    results = cursor.fetchall()\n",
        "\n",
        "    return [SearchResult(message_id=row[0], snippet=row[1]) for row in results]\n",
        "\n",
        "\n",
        "def read_email(message_id: str) -> Optional[Email]:\n",
        "    \"\"\"Retrieve a single email by its message_id\"\"\"\n",
        "    conn = get_db_connection()\n",
        "    cursor = conn.cursor()\n",
        "\n",
        "    # Get email details\n",
        "    cursor.execute(\n",
        "        \"SELECT message_id, date, subject, from_address, body, file_name FROM emails WHERE message_id = ?\",\n",
        "        (message_id,),\n",
        "    )\n",
        "    email_row = cursor.fetchone()\n",
        "\n",
        "    if not email_row:\n",
        "        return None\n",
        "\n",
        "    msg_id, date, subject, from_addr, body, file_name = email_row\n",
        "\n",
        "    # Get recipients\n",
        "    cursor.execute(\n",
        "        \"SELECT recipient_address, recipient_type FROM recipients WHERE email_id = ?\",\n",
        "        (message_id,),\n",
        "    )\n",
        "    recipient_rows = cursor.fetchall()\n",
        "\n",
        "    to_addresses = []\n",
        "    cc_addresses = []\n",
        "    bcc_addresses = []\n",
        "\n",
        "    for addr, type_val in recipient_rows:\n",
        "        if type_val.lower() == \"to\":\n",
        "            to_addresses.append(addr)\n",
        "        elif type_val.lower() == \"cc\":\n",
        "            cc_addresses.append(addr)\n",
        "        elif type_val.lower() == \"bcc\":\n",
        "            bcc_addresses.append(addr)\n",
        "\n",
        "    return Email(\n",
        "        message_id=msg_id,\n",
        "        date=date,\n",
        "        subject=subject,\n",
        "        from_address=from_addr,\n",
        "        to_addresses=to_addresses,\n",
        "        cc_addresses=cc_addresses,\n",
        "        bcc_addresses=bcc_addresses,\n",
        "        body=body,\n",
        "        file_name=file_name,\n",
        "    )\n",
        "\n",
        "\n",
        "def load_training_scenarios(\n",
        "    split: Literal[\"train\", \"test\"] = \"train\",\n",
        "    limit: Optional[int] = None,\n",
        "    max_messages: Optional[int] = 1,\n",
        "    shuffle: bool = False,\n",
        "    seed: Optional[int] = None,\n",
        ") -> List[Scenario]:\n",
        "    \"\"\"Load training scenarios from Hugging Face dataset\"\"\"\n",
        "    print(f\"Loading {split} scenarios from Hugging Face...\")\n",
        "    dataset: Dataset = load_dataset(SCENARIO_DATASET_REPO_ID, split=split)\n",
        "\n",
        "    if max_messages is not None:\n",
        "        dataset = dataset.filter(lambda x: len(x[\"message_ids\"]) <= max_messages)\n",
        "\n",
        "    if shuffle or (seed is not None):\n",
        "        if seed is not None:\n",
        "            dataset = dataset.shuffle(seed=seed)\n",
        "        else:\n",
        "            dataset = dataset.shuffle()\n",
        "\n",
        "    # Convert each row to a Scenario object\n",
        "    scenarios = [Scenario(**row, split=split) for row in dataset]\n",
        "\n",
        "    if max_messages is not None:\n",
        "        scenarios = [s for s in scenarios if len(s.message_ids) <= max_messages]\n",
        "\n",
        "    if shuffle:\n",
        "        if seed is not None:\n",
        "            rng = random.Random(seed)\n",
        "            rng.shuffle(scenarios)\n",
        "        else:\n",
        "            random.shuffle(scenarios)\n",
        "\n",
        "    if limit is not None:\n",
        "        scenarios = scenarios[:limit]\n",
        "\n",
        "    print(f\"Loaded {len(scenarios)} scenarios.\")\n",
        "    return scenarios\n",
        "\n",
        "\n",
        "# Load training scenarios\n",
        "training_scenarios = load_training_scenarios(\n",
        "    split=\"train\", limit=50, max_messages=1, shuffle=True, seed=42\n",
        ")\n",
        "\n",
        "print(\"Email search environment created with full Enron dataset!\")\n",
        "print(\n",
        "    f\"Database contains the complete email dataset, loaded {len(training_scenarios)} training scenarios.\"\n",
        ")\n",
        "\n",
        "# print first scenario\n",
        "print(\"\\nSample scenario\")\n",
        "print(\"id:\", training_scenarios[0].id)\n",
        "print(\"question:\", training_scenarios[0].question)\n",
        "print(\"answer:\", training_scenarios[0].answer)\n",
        "print(\"message_ids:\", training_scenarios[0].message_ids)\n",
        "print(\"how_realistic:\", training_scenarios[0].how_realistic)\n",
        "print(\"inbox_address:\", training_scenarios[0].inbox_address)\n",
        "print(\"query_date:\", training_scenarios[0].query_date)\n",
        "print(\"split:\", training_scenarios[0].split)"
      ]
    },
    {
      "cell_type": "markdown",
      "metadata": {
        "id": "7RRi5EtmIX6I"
      },
      "source": [
        "### Creating a Model\n",
        "\n",
        "이제 환경 규칙을 정의했으므로, 이메일을 효과적으로 검색하는 방법을 학습하는 모델을 만들 수 있습니다. \n",
        "\n",
        "이 예제에서는 Qwen 2.5 7B 모델을 사용하겠습니다.\n",
        "\n"
      ]
    },
    {
      "cell_type": "code",
      "execution_count": 4,
      "metadata": {
        "id": "wSrU87EBIX6I"
      },
      "outputs": [
        {
          "name": "stderr",
          "output_type": "stream",
          "text": [
            "\u001b[34m\u001b[1mwandb\u001b[0m: Currently logged in as: \u001b[33mhyunew\u001b[0m to \u001b[32mhttps://api.wandb.ai\u001b[0m. Use \u001b[1m`wandb login --relogin`\u001b[0m to force relogin\n"
          ]
        },
        {
          "data": {
            "text/html": [
              "Tracking run with wandb version 0.21.0"
            ],
            "text/plain": [
              "<IPython.core.display.HTML object>"
            ]
          },
          "metadata": {},
          "output_type": "display_data"
        },
        {
          "data": {
            "text/html": [
              "Run data is saved locally in <code>/home/khw/Workspace/llm/openpipe/01.Tutorial/wandb/run-20250918_153100-email-agent-langgraph-001</code>"
            ],
            "text/plain": [
              "<IPython.core.display.HTML object>"
            ]
          },
          "metadata": {},
          "output_type": "display_data"
        },
        {
          "data": {
            "text/html": [
              "Resuming run <strong><a href='https://wandb.ai/hyunew/email-search-agent-langgraph/runs/email-agent-langgraph-001' target=\"_blank\">email-agent-langgraph-001</a></strong> to <a href='https://wandb.ai/hyunew/email-search-agent-langgraph' target=\"_blank\">Weights & Biases</a> (<a href='https://wandb.me/developer-guide' target=\"_blank\">docs</a>)<br>"
            ],
            "text/plain": [
              "<IPython.core.display.HTML object>"
            ]
          },
          "metadata": {},
          "output_type": "display_data"
        },
        {
          "data": {
            "text/html": [
              " View project at <a href='https://wandb.ai/hyunew/email-search-agent-langgraph' target=\"_blank\">https://wandb.ai/hyunew/email-search-agent-langgraph</a>"
            ],
            "text/plain": [
              "<IPython.core.display.HTML object>"
            ]
          },
          "metadata": {},
          "output_type": "display_data"
        },
        {
          "data": {
            "text/html": [
              " View run at <a href='https://wandb.ai/hyunew/email-search-agent-langgraph/runs/email-agent-langgraph-001' target=\"_blank\">https://wandb.ai/hyunew/email-search-agent-langgraph/runs/email-agent-langgraph-001</a>"
            ],
            "text/plain": [
              "<IPython.core.display.HTML object>"
            ]
          },
          "metadata": {},
          "output_type": "display_data"
        },
        {
          "name": "stdout",
          "output_type": "stream",
          "text": [
            "INFO 09-18 15:31:06 [__init__.py:235] Automatically detected platform cuda.\n"
          ]
        },
        {
          "name": "stderr",
          "output_type": "stream",
          "text": [
            "/home/khw/miniconda3/envs/openpipe/lib/python3.11/site-packages/art/unsloth/state.py:10: UserWarning: WARNING: Unsloth should be imported before trl, transformers, peft to ensure all optimizations are applied. Your code may run slower or encounter memory issues without these optimizations.\n",
            "\n",
            "Please restructure your imports with 'import unsloth' at the top of your file.\n",
            "  import unsloth  # type: ignore\n"
          ]
        },
        {
          "name": "stdout",
          "output_type": "stream",
          "text": [
            "🦥 Unsloth: Will patch your computer to enable 2x faster free finetuning.\n",
            "🦥 Unsloth Zoo will now patch everything to make training faster!\n"
          ]
        },
        {
          "name": "stderr",
          "output_type": "stream",
          "text": [
            "Note: Environment variable`HF_TOKEN` is set and is the current active token independently from the token you've just configured.\n"
          ]
        },
        {
          "name": "stdout",
          "output_type": "stream",
          "text": [
            "Unsloth: Patching vLLM v1 graph capture\n",
            "Unsloth: Patching vLLM v0 graph capture\n",
            "==((====))==  Unsloth 2025.8.6: Fast Qwen2 patching. Transformers: 4.53.2. vLLM: 0.10.0.\n",
            "   \\\\   /|    NVIDIA A100-SXM4-40GB. Num GPUs = 2. Max memory: 39.394 GB. Platform: Linux.\n",
            "O^O/ \\_/ \\    Torch: 2.7.1+cu126. CUDA: 8.0. CUDA Toolkit: 12.6. Triton: 3.3.1\n",
            "\\        /    Bfloat16 = TRUE. FA [Xformers = 0.0.31. FA2 = False]\n",
            " \"-____-\"     Free license: http://github.com/unslothai/unsloth\n",
            "Unsloth: Fast downloading is enabled - ignore downloading bars which are red colored!\n",
            "Unsloth: vLLM loading unsloth/qwen2.5-7b-instruct-unsloth-bnb-4bit with actual GPU utilization = 78.07%\n",
            "Unsloth: Your GPU has CUDA compute capability 8.0 with VRAM = 39.39 GB.\n",
            "Unsloth: Using conservativeness = 1.0. Chunked prefill tokens = 8192. Num Sequences = 320.\n",
            "Unsloth: vLLM's KV Cache can use up to 24.89 GB. Also swap space = 6 GB.\n",
            "Unsloth: Not an error, but `device` is not supported in vLLM. Skipping.\n",
            "INFO 09-18 15:31:26 [config.py:1604] Using max model len 8192\n"
          ]
        },
        {
          "name": "stderr",
          "output_type": "stream",
          "text": [
            "2025-09-18 15:31:26,233\tINFO util.py:154 -- Missing packages: ['ipywidgets']. Run `pip install -U ipywidgets`, then restart the notebook server for rich notebook output.\n"
          ]
        },
        {
          "name": "stdout",
          "output_type": "stream",
          "text": [
            "WARNING 09-18 15:31:26 [cuda.py:103] To see benefits of async output processing, enable CUDA graph. Since, enforce-eager is enabled, async output processor cannot be used\n",
            "Unsloth: vLLM Bitsandbytes config using kwargs = {'load_in_8bit': False, 'load_in_4bit': True, 'bnb_4bit_compute_dtype': 'bfloat16', 'bnb_4bit_quant_storage': 'uint8', 'bnb_4bit_quant_type': 'nf4', 'bnb_4bit_use_double_quant': True, 'llm_int8_enable_fp32_cpu_offload': False, 'llm_int8_has_fp16_weight': False, 'llm_int8_skip_modules': ['lm_head', 'multi_modal_projector', 'merger', 'modality_projection', 'model.layers.0.self_attn', 'model.layers.1.self_attn', 'model.layers.2.mlp', 'model.layers.3.mlp', 'model.layers.4.mlp', 'model.layers.25.mlp', 'model.layers.26.mlp'], 'llm_int8_threshold': 6.0}\n",
            "INFO 09-18 15:31:26 [llm_engine.py:228] Initializing a V0 LLM engine (v0.10.0) with config: model='unsloth/qwen2.5-7b-instruct-unsloth-bnb-4bit', speculative_config=None, tokenizer='unsloth/qwen2.5-7b-instruct-unsloth-bnb-4bit', skip_tokenizer_init=False, tokenizer_mode=auto, revision=None, override_neuron_config={}, tokenizer_revision=None, trust_remote_code=False, dtype=torch.bfloat16, max_seq_len=8192, download_dir=None, load_format=LoadFormat.BITSANDBYTES, tensor_parallel_size=1, pipeline_parallel_size=1, disable_custom_all_reduce=False, quantization=bitsandbytes, enforce_eager=True, kv_cache_dtype=auto,  device_config=cuda, decoding_config=DecodingConfig(backend='auto', disable_fallback=False, disable_any_whitespace=False, disable_additional_properties=False, reasoning_backend=''), observability_config=ObservabilityConfig(show_hidden_metrics_for_version=None, otlp_traces_endpoint=None, collect_detailed_traces=None), seed=0, served_model_name=unsloth/qwen2.5-7b-instruct-unsloth-bnb-4bit, num_scheduler_steps=16, multi_step_stream_outputs=True, enable_prefix_caching=True, chunked_prefill_enabled=False, use_async_output_proc=False, pooler_config=None, compilation_config={\"level\":0,\"debug_dump_path\":\"\",\"cache_dir\":\"\",\"backend\":\"inductor\",\"custom_ops\":[],\"splitting_ops\":[],\"use_inductor\":true,\"compile_sizes\":[],\"inductor_compile_config\":{\"epilogue_fusion\":true,\"max_autotune\":false,\"shape_padding\":true,\"trace.enabled\":false,\"triton.cudagraphs\":true,\"debug\":false,\"dce\":true,\"memory_planning\":true,\"coordinate_descent_tuning\":true,\"trace.graph_diagram\":false,\"compile_threads\":32,\"group_fusion\":true,\"disable_progress\":false,\"verbose_progress\":true,\"triton.multi_kernel\":0,\"triton.use_block_ptr\":true,\"triton.enable_persistent_tma_matmul\":true,\"triton.autotune_at_compile_time\":false,\"triton.cooperative_reductions\":false,\"cuda.compile_opt_level\":\"-O2\",\"cuda.enable_cuda_lto\":true,\"combo_kernels\":false,\"benchmark_combo_kernel\":true,\"combo_kernel_foreach_dynamic_shapes\":true,\"enable_auto_functionalized_v2\":false},\"inductor_passes\":{},\"use_cudagraph\":true,\"cudagraph_num_of_warmups\":1,\"cudagraph_capture_sizes\":[],\"cudagraph_copy_inputs\":false,\"full_cuda_graph\":false,\"max_capture_size\":0,\"local_cache_dir\":null}, use_cached_outputs=False, \n",
            "INFO 09-18 15:31:28 [cuda.py:398] Using Flash Attention backend.\n",
            "INFO 09-18 15:31:28 [parallel_state.py:1102] rank 0 in world size 1 is assigned as DP rank 0, PP rank 0, TP rank 0, EP rank 0\n",
            "INFO 09-18 15:31:28 [model_runner.py:1083] Starting to load model unsloth/qwen2.5-7b-instruct-unsloth-bnb-4bit...\n",
            "INFO 09-18 15:31:29 [bitsandbytes_loader.py:733] Loading weights with BitsAndBytes quantization. May take a while ...\n",
            "INFO 09-18 15:31:30 [weight_utils.py:296] Using model weights format ['*.safetensors']\n",
            "INFO 09-18 15:34:20 [weight_utils.py:312] Time spent downloading weights for unsloth/qwen2.5-7b-instruct-unsloth-bnb-4bit: 169.624063 seconds\n"
          ]
        },
        {
          "name": "stderr",
          "output_type": "stream",
          "text": [
            "Loading safetensors checkpoint shards:   0% Completed | 0/2 [00:00<?, ?it/s]\n",
            "Loading safetensors checkpoint shards: 100% Completed | 2/2 [00:00<00:00, 41.50it/s]\n",
            "\n",
            "Loading safetensors checkpoint shards:   0% Completed | 0/2 [00:00<?, ?it/s]\n",
            "Loading safetensors checkpoint shards:  50% Completed | 1/2 [00:01<00:01,  1.54s/it]\n",
            "Loading safetensors checkpoint shards: 100% Completed | 2/2 [00:02<00:00,  1.07s/it]\n",
            "Loading safetensors checkpoint shards: 100% Completed | 2/2 [00:02<00:00,  1.14s/it]\n"
          ]
        },
        {
          "name": "stdout",
          "output_type": "stream",
          "text": [
            "INFO 09-18 15:34:23 [punica_selector.py:19] Using PunicaWrapperGPU.\n"
          ]
        },
        {
          "name": "stderr",
          "output_type": "stream",
          "text": [
            "\n"
          ]
        },
        {
          "name": "stdout",
          "output_type": "stream",
          "text": [
            "INFO 09-18 15:34:24 [model_runner.py:1115] Model loading took 6.7342 GiB and 174.758162 seconds\n",
            "INFO 09-18 15:34:28 [worker.py:295] Memory profiling takes 3.20 seconds\n",
            "INFO 09-18 15:34:28 [worker.py:295] the current vLLM instance can use total_gpu_memory (39.39GiB) x gpu_memory_utilization (0.80) = 31.52GiB\n",
            "INFO 09-18 15:34:28 [worker.py:295] model weights take 6.73GiB; non_torch_memory takes 0.09GiB; PyTorch activation peak memory takes 1.79GiB; the rest of the memory reserved for KV Cache is 22.90GiB.\n",
            "INFO 09-18 15:34:28 [executor_base.py:113] # cuda blocks: 26803, # CPU blocks: 7021\n",
            "INFO 09-18 15:34:28 [executor_base.py:118] Maximum concurrency for 8192 tokens per request: 52.35x\n",
            "INFO 09-18 15:34:32 [llm_engine.py:424] init engine (profile, create kv cache, warmup model) took 7.74 seconds\n",
            "Unsloth: Just some info: will skip parsing ['q_norm', 'pre_feedforward_layernorm', 'post_feedforward_layernorm', 'k_norm']\n",
            "Unsloth: Just some info: will skip parsing ['q_norm', 'pre_feedforward_layernorm', 'post_feedforward_layernorm', 'k_norm']\n"
          ]
        },
        {
          "name": "stderr",
          "output_type": "stream",
          "text": [
            "Unsloth 2025.8.6 patched 28 layers with 28 QKV layers, 28 O layers and 28 MLP layers.\n"
          ]
        }
      ],
      "source": [
        "import art\n",
        "from art.local import LocalBackend\n",
        "\n",
        "random.seed(42)\n",
        "\n",
        "# Declare the model\n",
        "model = art.TrainableModel(\n",
        "    name=\"email-agent-langgraph-001\",\n",
        "    project=\"email-search-agent-langgraph\",\n",
        "    base_model=\"Qwen/Qwen2.5-7B-Instruct\",\n",
        ")\n",
        "\n",
        "# To run on a T4, we need to override some config defaults.\n",
        "model._internal_config = art.dev.InternalModelConfig(\n",
        "    init_args=art.dev.InitArgs(\n",
        "        max_seq_length=8192,\n",
        "    ),\n",
        "    engine_args=art.dev.EngineArgs(\n",
        "        enforce_eager=True,\n",
        "        gpu_memory_utilization=0.8,\n",
        "    ),\n",
        ")\n",
        "\n",
        "# Initialize the server\n",
        "backend = LocalBackend(\n",
        "    # Normally we don't want to run the server in-process, but for the output\n",
        "    # to show up properly on Google Colab we'll enable this.\n",
        "    in_process=True,\n",
        "    path=\"./.art\",\n",
        ")\n",
        "\n",
        "# Register the model with the local Backend (sets up logging, inference, and training)\n",
        "await model.register(backend)"
      ]
    },
    {
      "cell_type": "markdown",
      "metadata": {
        "id": "JImGVAwJIX6J"
      },
      "source": [
        "<a name=\"Rollout\"></a>\n",
        "\n",
        "### Defining a Rollout with LangGraph\n",
        "\n",
        "\n",
        "롤아웃은 에이전트가 작업을 수행하는 단일 에피소드를 의미합니다.\n",
        "\n",
        "이 예시에서는 LangGraph의 ReAct 에이전트를 사용하여 롤아웃을 처리합니다.\n",
        "\n",
        "롤아웃 함수는 에이전트에게 **이메일 검색** 시나리오를 제시하고, LangGraph 에이전트는 **사용 가능한 도구**를 사용하여 _이메일을 검색_ 하고 질문에 답합니다.\n",
        "\n",
        "agent가 최종 답변을 제공하면 답변이 맞는지 여부에 따라 `correct` metric 가 계산됩니다.\n",
        "\n"
      ]
    },
    {
      "cell_type": "code",
      "execution_count": 5,
      "metadata": {
        "colab": {
          "base_uri": "https://localhost:8080/"
        },
        "id": "txL32vtjIX6J",
        "outputId": "be12984c-d82b-4088-a246-083eeea55c9d"
      },
      "outputs": [
        {
          "name": "stdout",
          "output_type": "stream",
          "text": [
            "LangGraph rollout function defined!\n"
          ]
        }
      ],
      "source": [
        "import uuid\n",
        "\n",
        "import weave\n",
        "from langchain_core.messages import HumanMessage, SystemMessage\n",
        "from langchain_core.tools import tool\n",
        "from langgraph.prebuilt import create_react_agent\n",
        "from litellm import acompletion\n",
        "from tenacity import retry, stop_after_attempt\n",
        "from art.langgraph import init_chat_model\n",
        "\n",
        "import art\n",
        "\n",
        "if os.getenv(\"WANDB_API_KEY\", \"\"):\n",
        "    weave.init(model.project, settings={\"print_call_link\": False})\n",
        "\n",
        "MAX_TURNS = 20\n",
        "\n",
        "class CorrectnessJudgeResponse(BaseModel):\n",
        "    reasoning: str = Field(description=\"Explanation of the reasoning process.\")\n",
        "    accept: bool = Field(description=\"Whether the AI answer should be accepted.\")\n",
        "\n",
        "\n",
        "@retry(stop=stop_after_attempt(3))\n",
        "async def judge_correctness(\n",
        "    scenario: Scenario, answer: str\n",
        ") -> CorrectnessJudgeResponse:\n",
        "    system_prompt = dedent(\n",
        "        \"\"\"\n",
        "        You are given a question, the reference answer (labelled **Reference answer**), and an answer generated by an AI assistant (labelled **AI answer**).\n",
        "\n",
        "        Your task is to decide whether the AI answer is correct and should be accepted. You should accept the answer if it contains the relevant information from the reference answer. You should not accept the answer if it is missing information relevant to the question, or if it contradicts the reference answer.\n",
        "        \"\"\"\n",
        "    )\n",
        "\n",
        "    messages = [\n",
        "        {\"role\": \"system\", \"content\": system_prompt},\n",
        "        {\n",
        "            \"role\": \"user\",\n",
        "            \"content\": (\n",
        "                f\"Question: {scenario.question}\\n\"\n",
        "                f\"Reference answer: {scenario.answer}\\n\"\n",
        "                f\"AI answer: {answer}\"\n",
        "            ),\n",
        "        },\n",
        "    ]\n",
        "\n",
        "    response = await acompletion(\n",
        "        model=\"openai/gpt-4.1\",\n",
        "        messages=messages,\n",
        "        response_format=CorrectnessJudgeResponse,\n",
        "    )\n",
        "\n",
        "    first_choice = response.choices[0]\n",
        "    raw_content = first_choice.message.content or \"{}\"\n",
        "\n",
        "    try:\n",
        "        return CorrectnessJudgeResponse.model_validate_json(raw_content)\n",
        "    except Exception as e:\n",
        "        return CorrectnessJudgeResponse(\n",
        "            reasoning=f\"Parse error: {e}\\nRaw: {raw_content}\", accept=False\n",
        "        )\n",
        "\n",
        "\n",
        "class ProjectTrajectory(art.Trajectory):\n",
        "    final_answer: FinalAnswer | None = None\n",
        "\n",
        "\n",
        "class EmailScenario(BaseModel):\n",
        "    step: int\n",
        "    scenario: Scenario\n",
        "\n",
        "\n",
        "@weave.op\n",
        "async def rollout(model: art.Model, email_scenario: EmailScenario) -> ProjectTrajectory:\n",
        "    scenario = email_scenario.scenario\n",
        "\n",
        "    traj = ProjectTrajectory(\n",
        "        reward=0.0,\n",
        "        messages_and_choices=[],\n",
        "        metadata={\n",
        "            \"scenario_id\": scenario.id,\n",
        "            \"step\": email_scenario.step,\n",
        "        },\n",
        "    )\n",
        "\n",
        "    system_prompt = dedent(\n",
        "        f\"\"\"\n",
        "        You are an email search agent. You are given a user query and a list of tools you can use to search the user's email. Use the tools to search the user's emails and find the answer to the user's query. You may take up to {MAX_TURNS} turns to find the answer, so if your first search doesn't find the answer, you can try with different keywords.\n",
        "\n",
        "        User's email address is {scenario.inbox_address}\n",
        "        Today's date is {scenario.query_date}\n",
        "\n",
        "        When you have found the answer, use the return_final_answer_tool to provide your final answer along with the source message IDs.\n",
        "        \"\"\"\n",
        "    )\n",
        "\n",
        "    # Store final answer in trajectory\n",
        "    final_answer = None\n",
        "\n",
        "    # Define tools inside the rollout function to access local variables\n",
        "    @tool\n",
        "    def search_inbox_tool(keywords: list[str]) -> list[dict]:\n",
        "        \"\"\"Search the inbox for emails matching the given keywords and return\n",
        "        a list of dictionaries so the LLM can easily consume them.\"\"\"\n",
        "        results = search_emails(\n",
        "            inbox=scenario.inbox_address,\n",
        "            keywords=keywords,\n",
        "            sent_before=scenario.query_date,\n",
        "        )\n",
        "        return [asdict(result) for result in results]\n",
        "\n",
        "    @tool\n",
        "    def read_email_tool(message_id: str) -> dict | None:\n",
        "        \"\"\"Read a specific email by message ID.\"\"\"\n",
        "        email = read_email(message_id)\n",
        "        if email:\n",
        "            return email.model_dump()\n",
        "        return None\n",
        "\n",
        "    @tool\n",
        "    def return_final_answer_tool(answer: str, reference_message_ids: list[str]) -> dict:\n",
        "        \"\"\"Return the final answer and the message IDs of the emails that were used to generate the answer.\"\"\"\n",
        "        nonlocal final_answer\n",
        "        final_answer = FinalAnswer(answer=answer, source_ids=reference_message_ids)\n",
        "        return final_answer.model_dump()\n",
        "\n",
        "    # Create LangGraph tools\n",
        "    tools = [search_inbox_tool, read_email_tool, return_final_answer_tool]\n",
        "\n",
        "    chat_model = init_chat_model(model.name, temperature=1.0)\n",
        "\n",
        "    # Create the LangGraph ReAct agent\n",
        "    react_agent = create_react_agent(chat_model, tools)\n",
        "\n",
        "    try:\n",
        "        # Run the agent\n",
        "        config = {\n",
        "            \"configurable\": {\"thread_id\": str(uuid.uuid4())},\n",
        "            \"recursion_limit\": MAX_TURNS,\n",
        "        }\n",
        "\n",
        "        await react_agent.ainvoke(\n",
        "            {\n",
        "                \"messages\": [\n",
        "                    SystemMessage(content=system_prompt),\n",
        "                    HumanMessage(content=scenario.question),\n",
        "                ]\n",
        "            },\n",
        "            config=config,\n",
        "        )\n",
        "\n",
        "        # Check if we got a final answer\n",
        "        if final_answer:\n",
        "            traj.final_answer = final_answer\n",
        "            # Score the trajectory\n",
        "            correctness_judge_response = await judge_correctness(\n",
        "                scenario, traj.final_answer.answer\n",
        "            )\n",
        "            traj.metrics[\"correct\"] = float(correctness_judge_response.accept)\n",
        "\n",
        "    except Exception as e:\n",
        "        print(f\"Error running LangGraph agent: {e}\")\n",
        "        # Add error information to trajectory\n",
        "        traj.messages_and_choices.append(\n",
        "            {\"role\": \"assistant\", \"content\": f\"Error: {str(e)}\"}\n",
        "        )\n",
        "\n",
        "    return traj\n",
        "\n",
        "\n",
        "print(\"LangGraph rollout function defined!\")"
      ]
    },
    {
      "cell_type": "markdown",
      "metadata": {
        "id": "aqPKUCpeIX6J"
      },
      "source": [
        "<a name=\"ruler\"></a>\n",
        "\n",
        "### How RULER works\n",
        "\n",
        "**RULER** 는 다음 2개의 핵심 인사이트를 이용합니다:\n",
        "\n",
        "1. **상대적 채점은 절대적 채점보다 쉽습니다**\n",
        "    : LLM이 여러 솔루션을 개별적으로 채점하는 것보다 서로 상대적으로 순위를 매기는 것이 더 쉽습니다.\n",
        "    \n",
        "2. **GRPO는 상대 점수만 필요합니다**\n",
        "    : GRPO는 각 그룹 내에서 점수를 정규화하므로 절대 값이 아닌 상대적 순위만 중요합니다.\n",
        "    \n",
        "\n",
        "#### process:\n",
        "\n",
        "1. 주어진 시나리오에 대해 N개의 궤적을 생성합니다.\n",
        "2. 모든 N개의 궤적을 RULER에 전달합니다.\n",
        "3. RULER는 공통 접두사(예: 동일한 시스템 메시지)의 중복을 제거합니다.\n",
        "4. LLM 심사위원은 목표 달성 여부에 따라 각 궤적을 0~1점으로 평가합니다.\n",
        "5. 이 점수는 GRPO 훈련에서 보상으로 직접 사용됩니다.\n",
        "\n",
        "\n",
        "To learn more about **RULER**, check out the [RULER docs](https://art.openpipe.ai/fundamentals/ruler).\n",
        "\n",
        "\n",
        "\n",
        "\n",
        "\n",
        "\n",
        "\n",
        "\n"
      ]
    },
    {
      "cell_type": "code",
      "execution_count": 6,
      "metadata": {
        "cellView": "form",
        "colab": {
          "base_uri": "https://localhost:8080/",
          "height": 518
        },
        "id": "0U1aFYfuIX6K",
        "outputId": "e55fcc07-5cd9-456e-d34c-c731f383bd88"
      },
      "outputs": [
        {
          "data": {
            "text/html": [
              "<pre style=\"white-space:pre;overflow-x:auto;line-height:normal;font-family:Menlo,'DejaVu Sans Mono',consolas,'Courier New',monospace\">\n",
              "<span style=\"font-weight: bold\">[</span>RULER<span style=\"font-weight: bold\">]</span> Pretty-printed LLM choice JSON:\n",
              "</pre>\n"
            ],
            "text/plain": [
              "\n",
              "\u001b[1m[\u001b[0mRULER\u001b[1m]\u001b[0m Pretty-printed LLM choice JSON:\n"
            ]
          },
          "metadata": {},
          "output_type": "display_data"
        },
        {
          "data": {
            "text/html": [
              "<pre style=\"white-space:pre;overflow-x:auto;line-height:normal;font-family:Menlo,'DejaVu Sans Mono',consolas,'Courier New',monospace\"><span style=\"font-weight: bold\">{</span>\n",
              "    <span style=\"color: #008000; text-decoration-color: #008000\">'scores'</span>: <span style=\"font-weight: bold\">[</span>\n",
              "        <span style=\"font-weight: bold\">{</span>\n",
              "            <span style=\"color: #008000; text-decoration-color: #008000\">'trajectory_id'</span>: <span style=\"color: #008000; text-decoration-color: #008000\">'1'</span>,\n",
              "            <span style=\"color: #008000; text-decoration-color: #008000\">'explanation'</span>: <span style=\"color: #008000; text-decoration-color: #008000\">'Correctly counts from 1 to 10 using numeric symbols as instructed.'</span>,\n",
              "            <span style=\"color: #008000; text-decoration-color: #008000\">'score'</span>: <span style=\"color: #008080; text-decoration-color: #008080; font-weight: bold\">1.0</span>\n",
              "        <span style=\"font-weight: bold\">}</span>,\n",
              "        <span style=\"font-weight: bold\">{</span>\n",
              "            <span style=\"color: #008000; text-decoration-color: #008000\">'trajectory_id'</span>: <span style=\"color: #008000; text-decoration-color: #008000\">'2'</span>,\n",
              "            <span style=\"color: #008000; text-decoration-color: #008000\">'explanation'</span>: <span style=\"color: #008000; text-decoration-color: #008000\">'Shows the correct sequence but uses spelled-out words instead of numeric symbols.'</span>,\n",
              "            <span style=\"color: #008000; text-decoration-color: #008000\">'score'</span>: <span style=\"color: #008080; text-decoration-color: #008080; font-weight: bold\">0.5</span>\n",
              "        <span style=\"font-weight: bold\">}</span>,\n",
              "        <span style=\"font-weight: bold\">{</span>\n",
              "            <span style=\"color: #008000; text-decoration-color: #008000\">'trajectory_id'</span>: <span style=\"color: #008000; text-decoration-color: #008000\">'3'</span>,\n",
              "            <span style=\"color: #008000; text-decoration-color: #008000\">'explanation'</span>: <span style=\"color: #008000; text-decoration-color: #008000\">'Uses letters rather than numbers; does not fulfill the counting task.'</span>,\n",
              "            <span style=\"color: #008000; text-decoration-color: #008000\">'score'</span>: <span style=\"color: #008080; text-decoration-color: #008080; font-weight: bold\">0.0</span>\n",
              "        <span style=\"font-weight: bold\">}</span>\n",
              "    <span style=\"font-weight: bold\">]</span>\n",
              "<span style=\"font-weight: bold\">}</span>\n",
              "</pre>\n"
            ],
            "text/plain": [
              "\u001b[1m{\u001b[0m\n",
              "    \u001b[32m'scores'\u001b[0m: \u001b[1m[\u001b[0m\n",
              "        \u001b[1m{\u001b[0m\n",
              "            \u001b[32m'trajectory_id'\u001b[0m: \u001b[32m'1'\u001b[0m,\n",
              "            \u001b[32m'explanation'\u001b[0m: \u001b[32m'Correctly counts from 1 to 10 using numeric symbols as instructed.'\u001b[0m,\n",
              "            \u001b[32m'score'\u001b[0m: \u001b[1;36m1.0\u001b[0m\n",
              "        \u001b[1m}\u001b[0m,\n",
              "        \u001b[1m{\u001b[0m\n",
              "            \u001b[32m'trajectory_id'\u001b[0m: \u001b[32m'2'\u001b[0m,\n",
              "            \u001b[32m'explanation'\u001b[0m: \u001b[32m'Shows the correct sequence but uses spelled-out words instead of numeric symbols.'\u001b[0m,\n",
              "            \u001b[32m'score'\u001b[0m: \u001b[1;36m0.5\u001b[0m\n",
              "        \u001b[1m}\u001b[0m,\n",
              "        \u001b[1m{\u001b[0m\n",
              "            \u001b[32m'trajectory_id'\u001b[0m: \u001b[32m'3'\u001b[0m,\n",
              "            \u001b[32m'explanation'\u001b[0m: \u001b[32m'Uses letters rather than numbers; does not fulfill the counting task.'\u001b[0m,\n",
              "            \u001b[32m'score'\u001b[0m: \u001b[1;36m0.0\u001b[0m\n",
              "        \u001b[1m}\u001b[0m\n",
              "    \u001b[1m]\u001b[0m\n",
              "\u001b[1m}\u001b[0m\n"
            ]
          },
          "metadata": {},
          "output_type": "display_data"
        },
        {
          "name": "stdout",
          "output_type": "stream",
          "text": [
            "\n",
            "Rank 1: Score 1.000\n",
            "  Response: 1, 2, 3, 4, 5, 6, 7, 8, 9, 10...\n",
            "\n",
            "Rank 2: Score 0.500\n",
            "  Response: one, two, three, four, five, six, seven, eight, ni...\n",
            "\n",
            "Rank 3: Score 0.000\n",
            "  Response: a, b, c, d, e, f, g, h, i, j...\n"
          ]
        }
      ],
      "source": [
        "#@title Sample RULER evaluation\n",
        "\n",
        "import art\n",
        "from art.rewards import ruler_score_group\n",
        "\n",
        "# Test RULER with a simple example\n",
        "base_messages = [\n",
        "    {\"role\": \"system\", \"content\": \"You count numbers using numeric symbols.\"},\n",
        "    {\"role\": \"user\", \"content\": \"Count to 10.\"},\n",
        "]\n",
        "\n",
        "good_trajectory = art.Trajectory(\n",
        "    messages_and_choices=[\n",
        "        *base_messages,\n",
        "        {\"role\": \"assistant\", \"content\": \"1, 2, 3, 4, 5, 6, 7, 8, 9, 10\"},\n",
        "    ],\n",
        "    reward=0,\n",
        ")\n",
        "\n",
        "mediocre_trajectory = art.Trajectory(\n",
        "    messages_and_choices=[\n",
        "        *base_messages,\n",
        "        {\n",
        "            \"role\": \"assistant\",\n",
        "            \"content\": \"one, two, three, four, five, six, seven, eight, nine, ten\",\n",
        "        },\n",
        "    ],\n",
        "    reward=0,\n",
        ")\n",
        "\n",
        "bad_trajectory = art.Trajectory(\n",
        "    messages_and_choices=[\n",
        "        *base_messages,\n",
        "        {\"role\": \"assistant\", \"content\": \"a, b, c, d, e, f, g, h, i, j\"},\n",
        "    ],\n",
        "    reward=0,\n",
        ")\n",
        "\n",
        "sample_group = art.TrajectoryGroup(\n",
        "    trajectories=[\n",
        "        good_trajectory,\n",
        "        mediocre_trajectory,\n",
        "        bad_trajectory,\n",
        "    ]\n",
        ")\n",
        "\n",
        "judged_group = await ruler_score_group(sample_group, \"openai/o4-mini\", debug=True)\n",
        "assert judged_group is not None\n",
        "\n",
        "# Display rankings\n",
        "sorted_trajectories = sorted(\n",
        "    judged_group.trajectories, key=lambda t: t.reward, reverse=True\n",
        ")\n",
        "for rank, traj in enumerate(sorted_trajectories, 1):\n",
        "    messages = traj.messages()\n",
        "    print(f\"\\nRank {rank}: Score {traj.reward:.3f}\")\n",
        "    print(f\"  Response: {messages[-1]['content'][:50]}...\")"
      ]
    },
    {
      "cell_type": "markdown",
      "metadata": {
        "id": "VEC3r48iIX6K"
      },
      "source": [
        "<a name=\"Loop\"></a>\n",
        "\n",
        "### Training Loop with LangGraph\n",
        "\n",
        "The training loop is where the magic happens. For each of the steps defined below, the rollout function will be called multiple times in parallel using LangGraph's ReAct agent. Each scenario will produce a trajectory, which will be used to update the model.\n",
        "\n",
        "The `gather` step will wait for all of the trajectories to be generated, then it will use RULER to assign relative scores to each trajectory.\n",
        "\n",
        "Our notebook will then delete all but the most recent checkpoint and train the model on the scored trajectories."
      ]
    },
    {
      "cell_type": "code",
      "execution_count": 7,
      "metadata": {
        "id": "ZLMkONqFIX6K"
      },
      "outputs": [
        {
          "name": "stderr",
          "output_type": "stream",
          "text": [
            "Iterating dataset:   0%|          | 0/500 [00:00<?, ?batch/s]"
          ]
        },
        {
          "name": "stdout",
          "output_type": "stream",
          "text": [
            "Training step 0, epoch 0, epoch step 0\n",
            "Batch contains 2 scenarios\n",
            "<art.trajectories.TrajectoryGroup.__new__.<locals>.CoroutineWithMetadata object at 0x755d710b7310>\n"
          ]
        },
        {
          "name": "stderr",
          "output_type": "stream",
          "text": [
            "/tmp/ipykernel_288833/1452329291.py:133: LangGraphDeprecatedSinceV10: create_react_agent has been moved to langchain.agents. Please update your import to 'from langchain.agents import create_agent'. Deprecated in LangGraph V1.0 to be removed in V2.0.\n",
            "  react_agent = create_react_agent(chat_model, tools)\n",
            "/tmp/ipykernel_288833/1452329291.py:133: LangGraphDeprecatedSinceV10: create_react_agent has been moved to langchain.agents. Please update your import to 'from langchain.agents import create_agent'. Deprecated in LangGraph V1.0 to be removed in V2.0.\n",
            "  react_agent = create_react_agent(chat_model, tools)\n",
            "/tmp/ipykernel_288833/1452329291.py:133: LangGraphDeprecatedSinceV10: create_react_agent has been moved to langchain.agents. Please update your import to 'from langchain.agents import create_agent'. Deprecated in LangGraph V1.0 to be removed in V2.0.\n",
            "  react_agent = create_react_agent(chat_model, tools)\n",
            "/tmp/ipykernel_288833/1452329291.py:133: LangGraphDeprecatedSinceV10: create_react_agent has been moved to langchain.agents. Please update your import to 'from langchain.agents import create_agent'. Deprecated in LangGraph V1.0 to be removed in V2.0.\n",
            "  react_agent = create_react_agent(chat_model, tools)\n",
            "/tmp/ipykernel_288833/1452329291.py:133: LangGraphDeprecatedSinceV10: create_react_agent has been moved to langchain.agents. Please update your import to 'from langchain.agents import create_agent'. Deprecated in LangGraph V1.0 to be removed in V2.0.\n",
            "  react_agent = create_react_agent(chat_model, tools)\n",
            "/tmp/ipykernel_288833/1452329291.py:133: LangGraphDeprecatedSinceV10: create_react_agent has been moved to langchain.agents. Please update your import to 'from langchain.agents import create_agent'. Deprecated in LangGraph V1.0 to be removed in V2.0.\n",
            "  react_agent = create_react_agent(chat_model, tools)\n",
            "/tmp/ipykernel_288833/1452329291.py:133: LangGraphDeprecatedSinceV10: create_react_agent has been moved to langchain.agents. Please update your import to 'from langchain.agents import create_agent'. Deprecated in LangGraph V1.0 to be removed in V2.0.\n",
            "  react_agent = create_react_agent(chat_model, tools)\n",
            "/tmp/ipykernel_288833/1452329291.py:133: LangGraphDeprecatedSinceV10: create_react_agent has been moved to langchain.agents. Please update your import to 'from langchain.agents import create_agent'. Deprecated in LangGraph V1.0 to be removed in V2.0.\n",
            "  react_agent = create_react_agent(chat_model, tools)\n"
          ]
        },
        {
          "name": "stdout",
          "output_type": "stream",
          "text": [
            "Creating email database from Hugging Face dataset...\n",
            "This will download and process the full Enron email dataset - this may take several minutes...\n",
            "Loading existing database from ./enron_emails.db\n",
            "Loading full email dataset...\n",
            "Loading existing database from ./enron_emails.db\n",
            "Loading existing database from ./enron_emails.db\n",
            "Loading existing database from ./enron_emails.db\n",
            "Loading existing database from ./enron_emails.dbLoading existing database from ./enron_emails.db\n",
            "\n",
            "Loading existing database from ./enron_emails.db\n",
            "Loading existing database from ./enron_emails.db\n",
            "Loading existing database from ./enron_emails.db\n",
            "Loading existing database from ./enron_emails.db\n",
            "Loading existing database from ./enron_emails.db\n",
            "Loading existing database from ./enron_emails.dbLoading existing database from ./enron_emails.db\n",
            "\n",
            "Loading existing database from ./enron_emails.db\n",
            "Loading existing database from ./enron_emails.db\n",
            "Loading existing database from ./enron_emails.db\n",
            "Loading existing database from ./enron_emails.db\n"
          ]
        },
        {
          "name": "stderr",
          "output_type": "stream",
          "text": []
        },
        {
          "name": "stdout",
          "output_type": "stream",
          "text": [
            "Loading existing database from ./enron_emails.db\n",
            "Loading existing database from ./enron_emails.db\n",
            "Loading existing database from ./enron_emails.db\n"
          ]
        },
        {
          "name": "stderr",
          "output_type": "stream",
          "text": [
            "\n",
            "\u001b[A\n",
            "\u001b[A\n",
            "\u001b[A\n",
            "\u001b[A\n",
            "\u001b[A\n",
            "\u001b[A\n",
            "\u001b[A\n",
            "\u001b[A\n",
            "\u001b[A\n",
            "\u001b[A\n",
            "\u001b[A\n",
            "\u001b[A\n",
            "\u001b[A"
          ]
        },
        {
          "name": "stdout",
          "output_type": "stream",
          "text": [
            "Loading existing database from ./enron_emails.db\n",
            "Loading existing database from ./enron_emails.db\n"
          ]
        },
        {
          "name": "stderr",
          "output_type": "stream",
          "text": [
            "\n",
            "\u001b[A\n",
            "\u001b[A\n",
            "\u001b[A\n",
            "\u001b[A\n",
            "\u001b[A\n",
            "\u001b[A\n",
            "\u001b[A\n",
            "\u001b[A\n",
            "\u001b[A\n",
            "\u001b[A\n",
            "\u001b[A\n",
            "\u001b[A\n",
            "\u001b[A\n",
            "\u001b[A\n",
            "\u001b[A\n",
            "\u001b[A\n",
            "\u001b[A\n",
            "\u001b[A\n",
            "\u001b[A\n",
            "\u001b[A\n",
            "\u001b[A\n",
            "\u001b[A\n",
            "\u001b[A\n",
            "\u001b[A\n",
            "\u001b[A\n",
            "\u001b[A\n",
            "\u001b[A\n",
            "\u001b[A\n",
            "\u001b[A\n",
            "\u001b[A\n",
            "\u001b[A\n",
            "\u001b[A\n",
            "\u001b[A\n",
            "\u001b[A\n",
            "\u001b[A\n",
            "\u001b[A\n",
            "Generating train split: 100%|██████████| 517401/517401 [00:06<00:00, 74711.17 examples/s]\n"
          ]
        },
        {
          "name": "stdout",
          "output_type": "stream",
          "text": [
            "Dataset contains 517401 total emails\n",
            "Populating database with all emails...\n"
          ]
        },
        {
          "name": "stderr",
          "output_type": "stream",
          "text": [
            "\n",
            "\u001b[A\n",
            "\u001b[A\n",
            "\u001b[A\n",
            "\u001b[A\n",
            "\u001b[A\n",
            "\u001b[A\n",
            "\u001b[A\n",
            "\u001b[A\n",
            "\u001b[A\n",
            "\u001b[A\n",
            "\u001b[A\n",
            "\u001b[A\n",
            "\u001b[A\n",
            "\u001b[A\n",
            "\u001b[A\n",
            "\u001b[A\n",
            "\u001b[A\n",
            "\u001b[A\n",
            "\u001b[A\n",
            "\u001b[A\n",
            "\u001b[A\n",
            "\u001b[A\n",
            "\u001b[A\n",
            "\u001b[A\n",
            "\u001b[A\n",
            "\u001b[A\n",
            "\u001b[A\n",
            "\u001b[A\n",
            "\u001b[A\n",
            "\u001b[A\n",
            "\u001b[A\n",
            "\u001b[A\n",
            "\u001b[A\n",
            "\u001b[A\n",
            "\u001b[A\n",
            "\u001b[A\n",
            "\u001b[A\n",
            "\u001b[A\n",
            "\u001b[A\n",
            "\u001b[A\n",
            "\u001b[A\n",
            "\u001b[A\n",
            "\u001b[A\n",
            "\u001b[A\n",
            "\u001b[A\n",
            "\u001b[A"
          ]
        },
        {
          "name": "stdout",
          "output_type": "stream",
          "text": [
            "Loading existing database from ./enron_emails.dbLoading existing database from ./enron_emails.db\n",
            "\n"
          ]
        },
        {
          "name": "stderr",
          "output_type": "stream",
          "text": [
            "\n",
            "\u001b[A\n",
            "\u001b[A\n",
            "\u001b[A\n",
            "\u001b[A\n",
            "\u001b[A\n",
            "\u001b[A\n",
            "\u001b[A\n",
            "\u001b[A\n",
            "\u001b[A\n",
            "\u001b[A\n",
            "\u001b[A\n",
            "\u001b[A\n",
            "\u001b[A\n",
            "\u001b[A\n",
            "\u001b[A\n",
            "\u001b[A\n",
            "\u001b[A\n",
            "\u001b[A\n",
            "\u001b[A\n",
            "\u001b[A\n",
            "\u001b[A\n",
            "\u001b[A\n",
            "\u001b[A\n",
            "\u001b[A\n",
            "\u001b[A\n",
            "\u001b[A\n",
            "\u001b[A\n",
            "\u001b[A\n",
            "\u001b[A\n",
            "\u001b[A\n",
            "\u001b[A\n",
            "\u001b[A\n",
            "\u001b[A\n",
            "\u001b[A\n",
            "\u001b[A\n",
            "\u001b[A\n",
            "\u001b[A\n",
            "\u001b[A\n",
            "\u001b[A\n",
            "\u001b[A\n",
            "\u001b[A\n",
            "\u001b[A\n",
            "\u001b[A\n",
            "\u001b[A\n",
            "\u001b[A\n",
            "\u001b[A\n",
            "\u001b[A\n",
            "\u001b[A\n",
            "\u001b[A\n",
            "\u001b[A\n",
            "\u001b[A\n",
            "\u001b[A\n",
            "\u001b[A\n",
            "\u001b[A\n",
            "\u001b[A\n",
            "\u001b[A\n",
            "\u001b[A\n",
            "\u001b[A\n",
            "\u001b[A\n",
            "\u001b[A\n",
            "\u001b[A\n",
            "\u001b[A\n",
            "\u001b[A\n",
            "\u001b[A\n",
            "\u001b[A\n",
            "\u001b[A\n",
            "\u001b[A\n",
            "\u001b[A\n",
            "\u001b[A\n",
            "\u001b[A\n",
            "\u001b[A\n",
            "\u001b[A\n",
            "\u001b[A\n",
            "\u001b[A\n",
            "\u001b[A\n",
            "\u001b[A\n",
            "\u001b[A\n",
            "\u001b[A\n",
            "\u001b[A\n",
            "\u001b[A\n",
            "\u001b[A\n",
            "\u001b[A\n",
            "\u001b[A\n",
            "\u001b[A\n",
            "\u001b[A\n",
            "\u001b[A\n",
            "\u001b[A\n",
            "\u001b[A\n",
            "\u001b[A\n",
            "\u001b[A\n",
            "\u001b[A\n",
            "\u001b[A\n",
            "\u001b[A\n",
            "\u001b[A\n",
            "\u001b[A\n",
            "\u001b[A\n",
            "\u001b[A\n",
            "\u001b[A\n",
            "\u001b[A\n",
            "\u001b[A\n",
            "\u001b[A\n",
            "\u001b[A\n",
            "\u001b[A\n",
            "\u001b[A\n",
            "\u001b[A\n",
            "\u001b[A\n",
            "\u001b[A\n",
            "\u001b[A\n",
            "\u001b[A\n",
            "\u001b[A\n",
            "\u001b[A\n",
            "\u001b[A\n",
            "\u001b[A\n",
            "\u001b[A\n",
            "\u001b[A\n",
            "\u001b[A\n",
            "\u001b[A\n",
            "\u001b[A\n",
            "\u001b[A\n",
            "\u001b[A\n",
            "\u001b[A\n",
            "\u001b[A\n",
            "\u001b[A\n",
            "\u001b[A\n",
            "\u001b[A\n",
            "\u001b[A"
          ]
        },
        {
          "name": "stdout",
          "output_type": "stream",
          "text": [
            "Loading existing database from ./enron_emails.db\n",
            "Loading existing database from ./enron_emails.db\n"
          ]
        },
        {
          "name": "stderr",
          "output_type": "stream",
          "text": [
            "\n",
            "\u001b[A\n",
            "\u001b[A\n",
            "\u001b[A\n",
            "\u001b[A\n",
            "\u001b[A\n",
            "\u001b[A\n",
            "\u001b[A\n",
            "\u001b[A\n",
            "\u001b[A\n",
            "\u001b[A\n",
            "\u001b[A\n",
            "\u001b[A\n",
            "\u001b[A\n",
            "\u001b[A\n",
            "\u001b[A\n",
            "\u001b[A\n",
            "\u001b[A\n",
            "\u001b[A\n",
            "\u001b[A\n",
            "\u001b[A\n",
            "\u001b[A\n",
            "\u001b[A\n",
            "\u001b[A\n",
            "\u001b[A\n",
            "\u001b[A\n",
            "\u001b[A\n",
            "\u001b[A\n",
            "\u001b[A\n",
            "\u001b[A\n",
            "\u001b[A\n",
            "\u001b[A\n",
            "\u001b[A\n",
            "\u001b[A\n",
            "\u001b[A\n",
            "\u001b[A\n",
            "\u001b[A\n",
            "\u001b[A\n",
            "\u001b[A\n",
            "\u001b[A\n",
            "\u001b[A\n",
            "\u001b[A\n",
            "\u001b[A\n",
            "\u001b[A\n",
            "\u001b[A\n",
            "\u001b[A\n",
            "\u001b[A\n",
            "\u001b[A\n",
            "\u001b[A\n",
            "\u001b[A\n",
            "\u001b[A\n",
            "\u001b[A\n",
            "\u001b[A\n",
            "\u001b[A\n",
            "\u001b[A\n",
            "\u001b[A\n",
            "\u001b[A\n",
            "\u001b[A\n",
            "\u001b[A\n",
            "\u001b[A\n",
            "\u001b[A\n",
            "\u001b[A\n",
            "\u001b[A\n",
            "\u001b[A\n",
            "\u001b[A\n",
            "\u001b[A\n",
            "\u001b[A\n",
            "\u001b[A\n",
            "\u001b[A\n",
            "\u001b[A\n",
            "\u001b[A\n",
            "\u001b[A\n",
            "\u001b[A\n",
            "\u001b[A\n",
            "\u001b[A\n",
            "\u001b[A\n",
            "\u001b[A\n",
            "\u001b[A\n",
            "\u001b[A\n",
            "\u001b[A\n",
            "\u001b[A\n",
            "\u001b[A\n",
            "\u001b[A\n",
            "\u001b[A\n",
            "\u001b[A\n",
            "\u001b[A\n",
            "\u001b[A\n",
            "\u001b[A\n",
            "\u001b[A\n",
            "\u001b[A\n",
            "\u001b[A\n",
            "\u001b[A\n",
            "\u001b[A\n",
            "\u001b[A\n",
            "\u001b[A\n",
            "\u001b[A\n",
            "\u001b[A\n",
            "\u001b[A\n",
            "\u001b[A\n",
            "\u001b[A\n",
            "\u001b[A\n",
            "\u001b[A\n",
            "\u001b[A\n",
            "\u001b[A\n",
            "\u001b[A\n",
            "\u001b[A\n",
            "\u001b[A\n",
            "\u001b[A\n",
            "\u001b[A\n",
            "\u001b[A\n",
            "\u001b[A\n",
            "\u001b[A\n",
            "\u001b[A\n",
            "\u001b[A\n",
            "\u001b[A\n",
            "\u001b[A\n",
            "\u001b[A\n",
            "\u001b[A\n",
            "\u001b[A\n",
            "\u001b[A\n",
            "\u001b[A\n",
            "\u001b[A\n",
            "\u001b[A\n",
            "\u001b[A\n",
            "\u001b[A\n",
            "\u001b[A\n",
            "\u001b[A\n",
            "\u001b[A\n",
            "\u001b[A\n",
            "\u001b[A\n",
            "\u001b[A\n",
            "\u001b[A\n",
            "\u001b[A\n",
            "\u001b[A\n",
            "\u001b[A\n",
            "\u001b[A\n",
            "\u001b[A"
          ]
        },
        {
          "name": "stdout",
          "output_type": "stream",
          "text": [
            "Loading existing database from ./enron_emails.db\n"
          ]
        },
        {
          "name": "stderr",
          "output_type": "stream",
          "text": [
            "\n",
            "\u001b[A\n",
            "\u001b[A\n",
            "\u001b[A\n",
            "\u001b[A\n",
            "\u001b[A\n",
            "\u001b[A\n",
            "\u001b[A\n",
            "\u001b[A\n",
            "\u001b[A\n",
            "\u001b[A\n",
            "\u001b[A\n",
            "\u001b[A\n",
            "\u001b[A\n",
            "\u001b[A\n",
            "\u001b[A\n",
            "\u001b[A\n",
            "\u001b[A\n",
            "\u001b[A\n",
            "\u001b[A\n",
            "\u001b[A\n",
            "\u001b[A\n",
            "\u001b[A\n",
            "\u001b[A\n",
            "\u001b[A\n",
            "\u001b[A\n",
            "\u001b[A\n",
            "\u001b[A\n",
            "\u001b[A\n",
            "\u001b[A\n",
            "\u001b[A\n",
            "\u001b[A\n",
            "\u001b[A\n",
            "\u001b[A\n",
            "\u001b[A\n",
            "\u001b[A\n",
            "\u001b[A\n",
            "\u001b[A\n",
            "\u001b[A\n",
            "\u001b[A\n",
            "\u001b[A\n",
            "\u001b[A\n",
            "\u001b[A\n",
            "\u001b[A\n",
            "\u001b[A\n",
            "\u001b[A\n",
            "\u001b[A\n",
            "\u001b[A\n",
            "\u001b[A\n",
            "\u001b[A\n",
            "\u001b[A\n",
            "\u001b[A\n",
            "\u001b[A\n",
            "\u001b[A\n",
            "\u001b[A\n",
            "\u001b[A\n",
            "\u001b[A\n",
            "\u001b[A\n",
            "\u001b[A\n",
            "\u001b[A\n",
            "\u001b[A\n",
            "\u001b[A\n",
            "\u001b[A\n",
            "\u001b[A\n",
            "\u001b[A\n",
            "\u001b[A\n",
            "\u001b[A\n",
            "\u001b[A\n",
            "\u001b[A\n",
            "\u001b[A\n",
            "\u001b[A\n",
            "\u001b[A\n",
            "\u001b[A\n",
            "\u001b[A\n",
            "\u001b[A\n",
            "\u001b[A\n",
            "\u001b[A\n",
            "\u001b[A\n",
            "\u001b[A\n",
            "\u001b[A\n",
            "\u001b[A\n",
            "\u001b[A\n",
            "\u001b[A\n",
            "\u001b[A\n",
            "\u001b[A\n",
            "\u001b[A\n",
            "\u001b[A\n",
            "\u001b[A\n",
            "\u001b[A\n",
            "\u001b[A\n",
            "\u001b[A\n",
            "\u001b[A\n",
            "\u001b[A\n",
            "\u001b[A\n",
            "\u001b[A\n",
            "\u001b[A\n",
            "\u001b[A\n",
            "\u001b[A\n",
            "\u001b[A\n",
            "\u001b[A\n",
            "\u001b[A\n",
            "\u001b[A\n",
            "\u001b[A\n",
            "\u001b[A\n",
            "\u001b[A\n",
            "\u001b[A\n",
            "\u001b[A\n",
            "\u001b[A\n",
            "\u001b[A\n",
            "\u001b[A\n",
            "\u001b[A\n",
            "\u001b[A\n",
            "\u001b[A\n",
            "\u001b[A\n",
            "\u001b[A\n",
            "\u001b[A\n",
            "\u001b[A\n",
            "\u001b[A\n",
            "\u001b[A\n",
            "\u001b[A\n",
            "\u001b[A\n",
            "\u001b[A\n",
            "\u001b[A\n",
            "\u001b[A\n",
            "\u001b[A\n",
            "\u001b[A\n",
            "\u001b[A\n",
            "\u001b[A"
          ]
        },
        {
          "name": "stdout",
          "output_type": "stream",
          "text": [
            "Loading existing database from ./enron_emails.db\n"
          ]
        },
        {
          "name": "stderr",
          "output_type": "stream",
          "text": [
            "\n",
            "\u001b[A\n",
            "\u001b[A\n",
            "\u001b[A\n",
            "\u001b[A\n",
            "\u001b[A\n",
            "\u001b[A\n",
            "\u001b[A\n",
            "\u001b[A\n",
            "\u001b[A\n",
            "\u001b[A\n",
            "\u001b[A\n",
            "\u001b[A\n",
            "\u001b[A\n",
            "\u001b[A\n",
            "\u001b[A\n",
            "\u001b[A\n",
            "\u001b[A\n",
            "\u001b[A\n",
            "\u001b[A\n",
            "\u001b[A\n",
            "\u001b[A\n",
            "\u001b[A\n",
            "\u001b[A\n",
            "\u001b[A\n",
            "\u001b[A\n",
            "\u001b[A\n",
            "\u001b[A\n",
            "\u001b[A\n",
            "\u001b[A\n",
            "\u001b[A\n",
            "\u001b[A\n",
            "\u001b[A\n",
            "\u001b[A\n",
            "\u001b[A\n",
            "\u001b[A\n",
            "\u001b[A\n",
            "\u001b[A\n",
            "\u001b[A\n",
            "\u001b[A\n",
            "\u001b[A\n",
            "\u001b[A\n",
            "\u001b[A\n",
            "\u001b[A\n",
            "\u001b[A\n",
            "\u001b[A\n",
            "\u001b[A\n",
            "\u001b[A\n",
            "\u001b[A\n",
            "\u001b[A\n",
            "\u001b[A\n",
            "\u001b[A\n",
            "\u001b[A\n",
            "\u001b[A\n",
            "\u001b[A\n",
            "\u001b[A\n",
            "\u001b[A\n",
            "\u001b[A\n",
            "\u001b[A\n",
            "\u001b[A\n",
            "\u001b[A\n",
            "\u001b[A\n",
            "\u001b[A\n",
            "\u001b[A\n",
            "\u001b[A\n",
            "\u001b[A\n",
            "\u001b[A\n",
            "\u001b[A\n",
            "\u001b[A\n",
            "\u001b[A\n",
            "\u001b[A\n",
            "\u001b[A\n",
            "\u001b[A\n",
            "\u001b[A\n",
            "\u001b[A\n",
            "\u001b[A\n",
            "\u001b[A\n",
            "\u001b[A\n",
            "\u001b[A\n",
            "\u001b[A\n",
            "\u001b[A\n",
            "\u001b[A\n",
            "\u001b[A\n",
            "\u001b[A\n",
            "\u001b[A\n",
            "\u001b[A\n",
            "\u001b[A\n",
            "\u001b[A\n",
            "\u001b[A\n",
            "\u001b[A\n",
            "\u001b[A\n",
            "\u001b[A\n",
            "\u001b[A\n",
            "\u001b[A\n",
            "\u001b[A\n",
            "\u001b[A\n",
            "\u001b[A\n",
            "\u001b[A\n",
            "\u001b[A\n",
            "\u001b[A\n",
            "\u001b[A\n",
            "\u001b[A\n",
            "\u001b[A\n",
            "\u001b[A\n",
            "\u001b[A\n",
            "\u001b[A\n",
            "\u001b[A\n",
            "\u001b[A\n",
            "\u001b[A\n",
            "\u001b[A\n",
            "\u001b[A\n",
            "\u001b[A\n",
            "\u001b[A\n",
            "\u001b[A\n",
            "\u001b[A\n",
            "\u001b[A\n",
            "\u001b[A\n",
            "\u001b[A\n",
            "\u001b[A\n",
            "\u001b[A\n",
            "\u001b[A\n",
            "\u001b[A\n",
            "\u001b[A\n",
            "\u001b[A"
          ]
        },
        {
          "name": "stdout",
          "output_type": "stream",
          "text": [
            "Loading existing database from ./enron_emails.db\n"
          ]
        },
        {
          "name": "stderr",
          "output_type": "stream",
          "text": [
            "\n",
            "\u001b[A\n",
            "\u001b[A\n",
            "\u001b[A\n",
            "\u001b[A\n",
            "\u001b[A\n",
            "\u001b[A\n",
            "\u001b[A\n",
            "\u001b[A\n",
            "\u001b[A\n",
            "\u001b[A\n",
            "\u001b[A\n",
            "\u001b[A\n",
            "\u001b[A\n",
            "\u001b[A\n",
            "\u001b[A\n",
            "\u001b[A\n",
            "\u001b[A\n",
            "\u001b[A\n",
            "\u001b[A\n",
            "\u001b[A\n",
            "\u001b[A\n",
            "\u001b[A\n",
            "\u001b[A\n",
            "\u001b[A\n",
            "\u001b[A\n",
            "\u001b[A\n",
            "\u001b[A\n",
            "\u001b[A\n",
            "\u001b[A\n",
            "\u001b[A\n",
            "\u001b[A\n",
            "\u001b[A\n",
            "\u001b[A\n",
            "\u001b[A\n",
            "\u001b[A\n",
            "\u001b[A\n",
            "\u001b[A\n",
            "\u001b[A\n",
            "\u001b[A\n",
            "\u001b[A\n",
            "\u001b[A\n",
            "\u001b[A\n",
            "\u001b[A\n",
            "\u001b[A\n",
            "\u001b[A\n",
            "\u001b[A\n",
            "\u001b[A\n",
            "\u001b[A\n",
            "\u001b[A\n",
            "\u001b[A\n",
            "\u001b[A\n",
            "\u001b[A\n",
            "\u001b[A\n",
            "\u001b[A\n",
            "\u001b[A\n",
            "\u001b[A\n",
            "\u001b[A\n",
            "\u001b[A\n",
            "\u001b[A\n",
            "\u001b[A\n",
            "\u001b[A\n",
            "\u001b[A\n",
            "\u001b[A\n",
            "\u001b[A\n",
            "\u001b[A\n",
            "\u001b[A\n",
            "\u001b[A\n",
            "\u001b[A\n",
            "\u001b[A\n",
            "\u001b[A\n",
            "\u001b[A\n",
            "\u001b[A\n",
            "\u001b[A\n",
            "\u001b[A\n",
            "\u001b[A\n",
            "\u001b[A\n",
            "\u001b[A\n",
            "\u001b[A\n",
            "\u001b[A\n",
            "Inserting emails: 100%|██████████| 517401/517401 [01:12<00:00, 7104.23it/s]\n"
          ]
        },
        {
          "name": "stdout",
          "output_type": "stream",
          "text": [
            "Creating indexes and FTS...\n"
          ]
        },
        {
          "name": "stderr",
          "output_type": "stream",
          "text": []
        },
        {
          "name": "stdout",
          "output_type": "stream",
          "text": [
            "Loading existing database from ./enron_emails.db\n",
            "Loading existing database from ./enron_emails.db\n",
            "Successfully created database with 225965 emails.\n",
            "Skipped 57734 emails due to length/recipient limits.\n",
            "Skipped 233702 duplicate emails.\n",
            "Loading existing database from ./enron_emails.db\n"
          ]
        },
        {
          "name": "stderr",
          "output_type": "stream",
          "text": []
        },
        {
          "name": "stdout",
          "output_type": "stream",
          "text": [
            "Loading existing database from ./enron_emails.db\n",
            "Loading existing database from ./enron_emails.db\n",
            "Loading existing database from ./enron_emails.db\n"
          ]
        },
        {
          "name": "stderr",
          "output_type": "stream",
          "text": [
            "gather: 100%|██████████| 8/8 [02:54<00:00, 21.78s/it, reward=0, completion_tokens=64.1]\n"
          ]
        },
        {
          "data": {
            "text/html": [
              "<pre style=\"white-space:pre;overflow-x:auto;line-height:normal;font-family:Menlo,'DejaVu Sans Mono',consolas,'Courier New',monospace\">\n",
              "<span style=\"font-weight: bold\">[</span>RULER<span style=\"font-weight: bold\">]</span> Pretty-printed LLM choice JSON:\n",
              "</pre>\n"
            ],
            "text/plain": [
              "\n",
              "\u001b[1m[\u001b[0mRULER\u001b[1m]\u001b[0m Pretty-printed LLM choice JSON:\n"
            ]
          },
          "metadata": {},
          "output_type": "display_data"
        },
        {
          "data": {
            "text/html": [
              "<pre style=\"white-space:pre;overflow-x:auto;line-height:normal;font-family:Menlo,'DejaVu Sans Mono',consolas,'Courier New',monospace\"><span style=\"font-weight: bold\">{</span>\n",
              "    <span style=\"color: #008000; text-decoration-color: #008000\">'scores'</span>: <span style=\"font-weight: bold\">[</span>\n",
              "        <span style=\"font-weight: bold\">{</span>\n",
              "            <span style=\"color: #008000; text-decoration-color: #008000\">'trajectory_id'</span>: <span style=\"color: #008000; text-decoration-color: #008000\">'1'</span>,\n",
              "            <span style=\"color: #008000; text-decoration-color: #008000\">'explanation'</span>: <span style=\"color: #008000; text-decoration-color: #008000\">'Only basic keyword searches attempted, all failing, no meaningful progress toward </span>\n",
              "<span style=\"color: #008000; text-decoration-color: #008000\">retrieving or reading emails.'</span>,\n",
              "            <span style=\"color: #008000; text-decoration-color: #008000\">'score'</span>: <span style=\"color: #008080; text-decoration-color: #008080; font-weight: bold\">0.05</span>\n",
              "        <span style=\"font-weight: bold\">}</span>,\n",
              "        <span style=\"font-weight: bold\">{</span>\n",
              "            <span style=\"color: #008000; text-decoration-color: #008000\">'trajectory_id'</span>: <span style=\"color: #008000; text-decoration-color: #008000\">'2'</span>,\n",
              "            <span style=\"color: #008000; text-decoration-color: #008000\">'explanation'</span>: <span style=\"color: #008000; text-decoration-color: #008000\">'Extensive but disorganized attempts including language-switching, still no successful </span>\n",
              "<span style=\"color: #008000; text-decoration-color: #008000\">retrieval or strategy refinement to read the email content.'</span>,\n",
              "            <span style=\"color: #008000; text-decoration-color: #008000\">'score'</span>: <span style=\"color: #008080; text-decoration-color: #008080; font-weight: bold\">0.1</span>\n",
              "        <span style=\"font-weight: bold\">}</span>,\n",
              "        <span style=\"font-weight: bold\">{</span>\n",
              "            <span style=\"color: #008000; text-decoration-color: #008000\">'trajectory_id'</span>: <span style=\"color: #008000; text-decoration-color: #008000\">'3'</span>,\n",
              "            <span style=\"color: #008000; text-decoration-color: #008000\">'explanation'</span>: <span style=\"color: #008000; text-decoration-color: #008000\">'Tried varied keyword searches, date filtering, and even reading specific message </span>\n",
              "<span style=\"color: #008000; text-decoration-color: #008000\">IDs—demonstrates stronger troubleshooting and partial progress despite failing to retrieve content.'</span>,\n",
              "            <span style=\"color: #008000; text-decoration-color: #008000\">'score'</span>: <span style=\"color: #008080; text-decoration-color: #008080; font-weight: bold\">0.3</span>\n",
              "        <span style=\"font-weight: bold\">}</span>,\n",
              "        <span style=\"font-weight: bold\">{</span>\n",
              "            <span style=\"color: #008000; text-decoration-color: #008000\">'trajectory_id'</span>: <span style=\"color: #008000; text-decoration-color: #008000\">'4'</span>,\n",
              "            <span style=\"color: #008000; text-decoration-color: #008000\">'explanation'</span>: <span style=\"color: #008000; text-decoration-color: #008000\">'Multiple refined keyword search attempts but no use of reading tool or final </span>\n",
              "<span style=\"color: #008000; text-decoration-color: #008000\">answer—somewhat better than simplest retries but less progress than reading attempts.'</span>,\n",
              "            <span style=\"color: #008000; text-decoration-color: #008000\">'score'</span>: <span style=\"color: #008080; text-decoration-color: #008080; font-weight: bold\">0.2</span>\n",
              "        <span style=\"font-weight: bold\">}</span>\n",
              "    <span style=\"font-weight: bold\">]</span>\n",
              "<span style=\"font-weight: bold\">}</span>\n",
              "</pre>\n"
            ],
            "text/plain": [
              "\u001b[1m{\u001b[0m\n",
              "    \u001b[32m'scores'\u001b[0m: \u001b[1m[\u001b[0m\n",
              "        \u001b[1m{\u001b[0m\n",
              "            \u001b[32m'trajectory_id'\u001b[0m: \u001b[32m'1'\u001b[0m,\n",
              "            \u001b[32m'explanation'\u001b[0m: \u001b[32m'Only basic keyword searches attempted, all failing, no meaningful progress toward \u001b[0m\n",
              "\u001b[32mretrieving or reading emails.'\u001b[0m,\n",
              "            \u001b[32m'score'\u001b[0m: \u001b[1;36m0.05\u001b[0m\n",
              "        \u001b[1m}\u001b[0m,\n",
              "        \u001b[1m{\u001b[0m\n",
              "            \u001b[32m'trajectory_id'\u001b[0m: \u001b[32m'2'\u001b[0m,\n",
              "            \u001b[32m'explanation'\u001b[0m: \u001b[32m'Extensive but disorganized attempts including language-switching, still no successful \u001b[0m\n",
              "\u001b[32mretrieval or strategy refinement to read the email content.'\u001b[0m,\n",
              "            \u001b[32m'score'\u001b[0m: \u001b[1;36m0.1\u001b[0m\n",
              "        \u001b[1m}\u001b[0m,\n",
              "        \u001b[1m{\u001b[0m\n",
              "            \u001b[32m'trajectory_id'\u001b[0m: \u001b[32m'3'\u001b[0m,\n",
              "            \u001b[32m'explanation'\u001b[0m: \u001b[32m'Tried varied keyword searches, date filtering, and even reading specific message \u001b[0m\n",
              "\u001b[32mIDs—demonstrates stronger troubleshooting and partial progress despite failing to retrieve content.'\u001b[0m,\n",
              "            \u001b[32m'score'\u001b[0m: \u001b[1;36m0.3\u001b[0m\n",
              "        \u001b[1m}\u001b[0m,\n",
              "        \u001b[1m{\u001b[0m\n",
              "            \u001b[32m'trajectory_id'\u001b[0m: \u001b[32m'4'\u001b[0m,\n",
              "            \u001b[32m'explanation'\u001b[0m: \u001b[32m'Multiple refined keyword search attempts but no use of reading tool or final \u001b[0m\n",
              "\u001b[32manswer—somewhat better than simplest retries but less progress than reading attempts.'\u001b[0m,\n",
              "            \u001b[32m'score'\u001b[0m: \u001b[1;36m0.2\u001b[0m\n",
              "        \u001b[1m}\u001b[0m\n",
              "    \u001b[1m]\u001b[0m\n",
              "\u001b[1m}\u001b[0m\n"
            ]
          },
          "metadata": {},
          "output_type": "display_data"
        },
        {
          "data": {
            "text/html": [
              "<pre style=\"white-space:pre;overflow-x:auto;line-height:normal;font-family:Menlo,'DejaVu Sans Mono',consolas,'Courier New',monospace\">\n",
              "<span style=\"font-weight: bold\">[</span>RULER<span style=\"font-weight: bold\">]</span> Pretty-printed LLM choice JSON:\n",
              "</pre>\n"
            ],
            "text/plain": [
              "\n",
              "\u001b[1m[\u001b[0mRULER\u001b[1m]\u001b[0m Pretty-printed LLM choice JSON:\n"
            ]
          },
          "metadata": {},
          "output_type": "display_data"
        },
        {
          "data": {
            "text/html": [
              "<pre style=\"white-space:pre;overflow-x:auto;line-height:normal;font-family:Menlo,'DejaVu Sans Mono',consolas,'Courier New',monospace\"><span style=\"font-weight: bold\">{</span>\n",
              "    <span style=\"color: #008000; text-decoration-color: #008000\">'scores'</span>: <span style=\"font-weight: bold\">[</span>\n",
              "        <span style=\"font-weight: bold\">{</span>\n",
              "            <span style=\"color: #008000; text-decoration-color: #008000\">'trajectory_id'</span>: <span style=\"color: #008000; text-decoration-color: #008000\">'1'</span>,\n",
              "            <span style=\"color: #008000; text-decoration-color: #008000\">'explanation'</span>: <span style=\"color: #008000; text-decoration-color: #008000\">'Repeated search attempts but never retrieved any emails or schedule; only suggested </span>\n",
              "<span style=\"color: #008000; text-decoration-color: #008000\">manual checking. No progress toward final answer.'</span>,\n",
              "            <span style=\"color: #008000; text-decoration-color: #008000\">'score'</span>: <span style=\"color: #008080; text-decoration-color: #008080; font-weight: bold\">0.15</span>\n",
              "        <span style=\"font-weight: bold\">}</span>,\n",
              "        <span style=\"font-weight: bold\">{</span>\n",
              "            <span style=\"color: #008000; text-decoration-color: #008000\">'trajectory_id'</span>: <span style=\"color: #008000; text-decoration-color: #008000\">'2'</span>,\n",
              "            <span style=\"color: #008000; text-decoration-color: #008000\">'explanation'</span>: <span style=\"color: #008000; text-decoration-color: #008000\">'Made multiple varied search attempts but never succeeded or provided guidance; no </span>\n",
              "<span style=\"color: #008000; text-decoration-color: #008000\">useful progress.'</span>,\n",
              "            <span style=\"color: #008000; text-decoration-color: #008000\">'score'</span>: <span style=\"color: #008080; text-decoration-color: #008080; font-weight: bold\">0.1</span>\n",
              "        <span style=\"font-weight: bold\">}</span>,\n",
              "        <span style=\"font-weight: bold\">{</span>\n",
              "            <span style=\"color: #008000; text-decoration-color: #008000\">'trajectory_id'</span>: <span style=\"color: #008000; text-decoration-color: #008000\">'3'</span>,\n",
              "            <span style=\"color: #008000; text-decoration-color: #008000\">'explanation'</span>: <span style=\"color: #008000; text-decoration-color: #008000\">'Numerous redundant searches with different date formats but no results; minimal </span>\n",
              "<span style=\"color: #008000; text-decoration-color: #008000\">progress.'</span>,\n",
              "            <span style=\"color: #008000; text-decoration-color: #008000\">'score'</span>: <span style=\"color: #008080; text-decoration-color: #008080; font-weight: bold\">0.05</span>\n",
              "        <span style=\"font-weight: bold\">}</span>,\n",
              "        <span style=\"font-weight: bold\">{</span>\n",
              "            <span style=\"color: #008000; text-decoration-color: #008000\">'trajectory_id'</span>: <span style=\"color: #008000; text-decoration-color: #008000\">'4'</span>,\n",
              "            <span style=\"color: #008000; text-decoration-color: #008000\">'explanation'</span>: <span style=\"color: #008000; text-decoration-color: #008000\">'Successfully retrieved relevant schedule emails on first search and initiated reading; </span>\n",
              "<span style=\"color: #008000; text-decoration-color: #008000\">on track to obtain the schedule.'</span>,\n",
              "            <span style=\"color: #008000; text-decoration-color: #008000\">'score'</span>: <span style=\"color: #008080; text-decoration-color: #008080; font-weight: bold\">0.8</span>\n",
              "        <span style=\"font-weight: bold\">}</span>\n",
              "    <span style=\"font-weight: bold\">]</span>\n",
              "<span style=\"font-weight: bold\">}</span>\n",
              "</pre>\n"
            ],
            "text/plain": [
              "\u001b[1m{\u001b[0m\n",
              "    \u001b[32m'scores'\u001b[0m: \u001b[1m[\u001b[0m\n",
              "        \u001b[1m{\u001b[0m\n",
              "            \u001b[32m'trajectory_id'\u001b[0m: \u001b[32m'1'\u001b[0m,\n",
              "            \u001b[32m'explanation'\u001b[0m: \u001b[32m'Repeated search attempts but never retrieved any emails or schedule; only suggested \u001b[0m\n",
              "\u001b[32mmanual checking. No progress toward final answer.'\u001b[0m,\n",
              "            \u001b[32m'score'\u001b[0m: \u001b[1;36m0.15\u001b[0m\n",
              "        \u001b[1m}\u001b[0m,\n",
              "        \u001b[1m{\u001b[0m\n",
              "            \u001b[32m'trajectory_id'\u001b[0m: \u001b[32m'2'\u001b[0m,\n",
              "            \u001b[32m'explanation'\u001b[0m: \u001b[32m'Made multiple varied search attempts but never succeeded or provided guidance; no \u001b[0m\n",
              "\u001b[32museful progress.'\u001b[0m,\n",
              "            \u001b[32m'score'\u001b[0m: \u001b[1;36m0.1\u001b[0m\n",
              "        \u001b[1m}\u001b[0m,\n",
              "        \u001b[1m{\u001b[0m\n",
              "            \u001b[32m'trajectory_id'\u001b[0m: \u001b[32m'3'\u001b[0m,\n",
              "            \u001b[32m'explanation'\u001b[0m: \u001b[32m'Numerous redundant searches with different date formats but no results; minimal \u001b[0m\n",
              "\u001b[32mprogress.'\u001b[0m,\n",
              "            \u001b[32m'score'\u001b[0m: \u001b[1;36m0.05\u001b[0m\n",
              "        \u001b[1m}\u001b[0m,\n",
              "        \u001b[1m{\u001b[0m\n",
              "            \u001b[32m'trajectory_id'\u001b[0m: \u001b[32m'4'\u001b[0m,\n",
              "            \u001b[32m'explanation'\u001b[0m: \u001b[32m'Successfully retrieved relevant schedule emails on first search and initiated reading; \u001b[0m\n",
              "\u001b[32mon track to obtain the schedule.'\u001b[0m,\n",
              "            \u001b[32m'score'\u001b[0m: \u001b[1;36m0.8\u001b[0m\n",
              "        \u001b[1m}\u001b[0m\n",
              "    \u001b[1m]\u001b[0m\n",
              "\u001b[1m}\u001b[0m\n"
            ]
          },
          "metadata": {},
          "output_type": "display_data"
        },
        {
          "name": "stdout",
          "output_type": "stream",
          "text": [
            "\"./.art/email-search-agent-langgraph/models/email-agent-langgraph-001/history.jsonl\" not found\n",
            "Packed 8 trajectories into 4 sequences of length 2048\n"
          ]
        },
        {
          "name": "stderr",
          "output_type": "stream",
          "text": [
            "==((====))==  Unsloth - 2x faster free finetuning | Num GPUs used = 1\n",
            "   \\\\   /|    Num examples = 10,000,000 | Num Epochs = 3 | Total steps = 15,000,000\n",
            "O^O/ \\_/ \\    Batch size per device = 4 | Gradient accumulation steps = 1\n",
            "\\        /    Data Parallel GPUs = 1 | Total batch size (4 x 1 x 1) = 4\n",
            " \"-____-\"     Trainable parameters = 20,185,088 of 7,635,801,600 (0.26% trained)\n"
          ]
        },
        {
          "name": "stdout",
          "output_type": "stream",
          "text": [
            "Unsloth: Will smartly offload gradients to save VRAM!\n"
          ]
        },
        {
          "name": "stderr",
          "output_type": "stream",
          "text": [
            "train: 100%|██████████| 4/4 [00:29<00:00,  7.26s/it, loss=-0.085, grad_norm=0.718, policy_loss=-0.085, entropy=0.655]\n",
            "Iterating dataset:   0%|          | 1/500 [03:51<32:07:05, 231.71s/batch]"
          ]
        },
        {
          "name": "stdout",
          "output_type": "stream",
          "text": [
            "Completed training step 0\n",
            "Training step 1, epoch 0, epoch step 1\n",
            "Batch contains 2 scenarios\n",
            "<art.trajectories.TrajectoryGroup.__new__.<locals>.CoroutineWithMetadata object at 0x755cbbd80590>\n"
          ]
        },
        {
          "name": "stderr",
          "output_type": "stream",
          "text": [
            "/tmp/ipykernel_288833/1452329291.py:133: LangGraphDeprecatedSinceV10: create_react_agent has been moved to langchain.agents. Please update your import to 'from langchain.agents import create_agent'. Deprecated in LangGraph V1.0 to be removed in V2.0.\n",
            "  react_agent = create_react_agent(chat_model, tools)\n",
            "/tmp/ipykernel_288833/1452329291.py:133: LangGraphDeprecatedSinceV10: create_react_agent has been moved to langchain.agents. Please update your import to 'from langchain.agents import create_agent'. Deprecated in LangGraph V1.0 to be removed in V2.0.\n",
            "  react_agent = create_react_agent(chat_model, tools)\n",
            "/tmp/ipykernel_288833/1452329291.py:133: LangGraphDeprecatedSinceV10: create_react_agent has been moved to langchain.agents. Please update your import to 'from langchain.agents import create_agent'. Deprecated in LangGraph V1.0 to be removed in V2.0.\n",
            "  react_agent = create_react_agent(chat_model, tools)\n",
            "/tmp/ipykernel_288833/1452329291.py:133: LangGraphDeprecatedSinceV10: create_react_agent has been moved to langchain.agents. Please update your import to 'from langchain.agents import create_agent'. Deprecated in LangGraph V1.0 to be removed in V2.0.\n",
            "  react_agent = create_react_agent(chat_model, tools)\n",
            "/tmp/ipykernel_288833/1452329291.py:133: LangGraphDeprecatedSinceV10: create_react_agent has been moved to langchain.agents. Please update your import to 'from langchain.agents import create_agent'. Deprecated in LangGraph V1.0 to be removed in V2.0.\n",
            "  react_agent = create_react_agent(chat_model, tools)\n",
            "/tmp/ipykernel_288833/1452329291.py:133: LangGraphDeprecatedSinceV10: create_react_agent has been moved to langchain.agents. Please update your import to 'from langchain.agents import create_agent'. Deprecated in LangGraph V1.0 to be removed in V2.0.\n",
            "  react_agent = create_react_agent(chat_model, tools)\n",
            "/tmp/ipykernel_288833/1452329291.py:133: LangGraphDeprecatedSinceV10: create_react_agent has been moved to langchain.agents. Please update your import to 'from langchain.agents import create_agent'. Deprecated in LangGraph V1.0 to be removed in V2.0.\n",
            "  react_agent = create_react_agent(chat_model, tools)\n",
            "/tmp/ipykernel_288833/1452329291.py:133: LangGraphDeprecatedSinceV10: create_react_agent has been moved to langchain.agents. Please update your import to 'from langchain.agents import create_agent'. Deprecated in LangGraph V1.0 to be removed in V2.0.\n",
            "  react_agent = create_react_agent(chat_model, tools)\n"
          ]
        },
        {
          "name": "stdout",
          "output_type": "stream",
          "text": [
            "Loading existing database from ./enron_emails.db\n",
            "Loading existing database from ./enron_emails.db\n",
            "Loading existing database from ./enron_emails.db\n",
            "Loading existing database from ./enron_emails.db\n",
            "Loading existing database from ./enron_emails.db\n",
            "Loading existing database from ./enron_emails.dbLoading existing database from ./enron_emails.db\n",
            "\n",
            "Loading existing database from ./enron_emails.db\n",
            "Loading existing database from ./enron_emails.db\n",
            "Loading existing database from ./enron_emails.db\n",
            "Loading existing database from ./enron_emails.db\n",
            "Loading existing database from ./enron_emails.db\n",
            "Loading existing database from ./enron_emails.db\n",
            "Loading existing database from ./enron_emails.db\n",
            "Loading existing database from ./enron_emails.db\n",
            "Loading existing database from ./enron_emails.db\n",
            "Loading existing database from ./enron_emails.db\n",
            "Loading existing database from ./enron_emails.db\n",
            "Loading existing database from ./enron_emails.db\n",
            "Loading existing database from ./enron_emails.db\n",
            "Loading existing database from ./enron_emails.db\n",
            "Loading existing database from ./enron_emails.db\n",
            "Loading existing database from ./enron_emails.db\n",
            "Loading existing database from ./enron_emails.db\n",
            "Loading existing database from ./enron_emails.db\n",
            "Loading existing database from ./enron_emails.db\n",
            "Loading existing database from ./enron_emails.db\n",
            "Loading existing database from ./enron_emails.db\n",
            "Loading existing database from ./enron_emails.db\n",
            "Loading existing database from ./enron_emails.db\n",
            "Loading existing database from ./enron_emails.db\n",
            "Loading existing database from ./enron_emails.db\n",
            "Loading existing database from ./enron_emails.db\n",
            "Loading existing database from ./enron_emails.db\n",
            "Loading existing database from ./enron_emails.db\n",
            "Loading existing database from ./enron_emails.db\n",
            "Loading existing database from ./enron_emails.db\n",
            "Loading existing database from ./enron_emails.db\n",
            "Loading existing database from ./enron_emails.db\n",
            "Loading existing database from ./enron_emails.db\n",
            "Loading existing database from ./enron_emails.db\n",
            "Loading existing database from ./enron_emails.db\n",
            "Loading existing database from ./enron_emails.db\n",
            "Loading existing database from ./enron_emails.db\n",
            "Loading existing database from ./enron_emails.db\n",
            "Loading existing database from ./enron_emails.db\n",
            "Loading existing database from ./enron_emails.db\n",
            "Loading existing database from ./enron_emails.db\n"
          ]
        },
        {
          "name": "stderr",
          "output_type": "stream",
          "text": []
        },
        {
          "name": "stdout",
          "output_type": "stream",
          "text": [
            "Loading existing database from ./enron_emails.db\n",
            "Loading existing database from ./enron_emails.db\n",
            "Loading existing database from ./enron_emails.db\n",
            "Loading existing database from ./enron_emails.db\n"
          ]
        },
        {
          "name": "stderr",
          "output_type": "stream",
          "text": [
            "gather: 100%|██████████| 8/8 [01:05<00:00,  8.18s/it, reward=0, correct=0.5, completion_tokens=45.2]\n"
          ]
        },
        {
          "data": {
            "text/html": [
              "<pre style=\"white-space:pre;overflow-x:auto;line-height:normal;font-family:Menlo,'DejaVu Sans Mono',consolas,'Courier New',monospace\">\n",
              "<span style=\"font-weight: bold\">[</span>RULER<span style=\"font-weight: bold\">]</span> Pretty-printed LLM choice JSON:\n",
              "</pre>\n"
            ],
            "text/plain": [
              "\n",
              "\u001b[1m[\u001b[0mRULER\u001b[1m]\u001b[0m Pretty-printed LLM choice JSON:\n"
            ]
          },
          "metadata": {},
          "output_type": "display_data"
        },
        {
          "data": {
            "text/html": [
              "<pre style=\"white-space:pre;overflow-x:auto;line-height:normal;font-family:Menlo,'DejaVu Sans Mono',consolas,'Courier New',monospace\"><span style=\"font-weight: bold\">{</span>\n",
              "    <span style=\"color: #008000; text-decoration-color: #008000\">'scores'</span>: <span style=\"font-weight: bold\">[</span>\n",
              "        <span style=\"font-weight: bold\">{</span>\n",
              "            <span style=\"color: #008000; text-decoration-color: #008000\">'trajectory_id'</span>: <span style=\"color: #008000; text-decoration-color: #008000\">'1'</span>,\n",
              "            <span style=\"color: #008000; text-decoration-color: #008000\">'explanation'</span>: <span style=\"color: #008000; text-decoration-color: #008000\">'Never finds or returns an answer, just repeats unproductive searches.'</span>,\n",
              "            <span style=\"color: #008000; text-decoration-color: #008000\">'score'</span>: <span style=\"color: #008080; text-decoration-color: #008080; font-weight: bold\">0.0</span>\n",
              "        <span style=\"font-weight: bold\">}</span>,\n",
              "        <span style=\"font-weight: bold\">{</span>\n",
              "            <span style=\"color: #008000; text-decoration-color: #008000\">'trajectory_id'</span>: <span style=\"color: #008000; text-decoration-color: #008000\">'2'</span>,\n",
              "            <span style=\"color: #008000; text-decoration-color: #008000\">'explanation'</span>: <span style=\"color: #008000; text-decoration-color: #008000\">'Efficient single search, reads the email, and returns a correct, complete answer.'</span>,\n",
              "            <span style=\"color: #008000; text-decoration-color: #008000\">'score'</span>: <span style=\"color: #008080; text-decoration-color: #008080; font-weight: bold\">1.0</span>\n",
              "        <span style=\"font-weight: bold\">}</span>,\n",
              "        <span style=\"font-weight: bold\">{</span>\n",
              "            <span style=\"color: #008000; text-decoration-color: #008000\">'trajectory_id'</span>: <span style=\"color: #008000; text-decoration-color: #008000\">'3'</span>,\n",
              "            <span style=\"color: #008000; text-decoration-color: #008000\">'explanation'</span>: <span style=\"color: #008000; text-decoration-color: #008000\">'Performs many searches without ever finding or returning the answer.'</span>,\n",
              "            <span style=\"color: #008000; text-decoration-color: #008000\">'score'</span>: <span style=\"color: #008080; text-decoration-color: #008080; font-weight: bold\">0.0</span>\n",
              "        <span style=\"font-weight: bold\">}</span>,\n",
              "        <span style=\"font-weight: bold\">{</span>\n",
              "            <span style=\"color: #008000; text-decoration-color: #008000\">'trajectory_id'</span>: <span style=\"color: #008000; text-decoration-color: #008000\">'4'</span>,\n",
              "            <span style=\"color: #008000; text-decoration-color: #008000\">'explanation'</span>: <span style=\"color: #008000; text-decoration-color: #008000\">'Eventually finds and returns the correct answer but wastes many turns on unsuccessful </span>\n",
              "<span style=\"color: #008000; text-decoration-color: #008000\">searches.'</span>,\n",
              "            <span style=\"color: #008000; text-decoration-color: #008000\">'score'</span>: <span style=\"color: #008080; text-decoration-color: #008080; font-weight: bold\">0.2</span>\n",
              "        <span style=\"font-weight: bold\">}</span>\n",
              "    <span style=\"font-weight: bold\">]</span>\n",
              "<span style=\"font-weight: bold\">}</span>\n",
              "</pre>\n"
            ],
            "text/plain": [
              "\u001b[1m{\u001b[0m\n",
              "    \u001b[32m'scores'\u001b[0m: \u001b[1m[\u001b[0m\n",
              "        \u001b[1m{\u001b[0m\n",
              "            \u001b[32m'trajectory_id'\u001b[0m: \u001b[32m'1'\u001b[0m,\n",
              "            \u001b[32m'explanation'\u001b[0m: \u001b[32m'Never finds or returns an answer, just repeats unproductive searches.'\u001b[0m,\n",
              "            \u001b[32m'score'\u001b[0m: \u001b[1;36m0.0\u001b[0m\n",
              "        \u001b[1m}\u001b[0m,\n",
              "        \u001b[1m{\u001b[0m\n",
              "            \u001b[32m'trajectory_id'\u001b[0m: \u001b[32m'2'\u001b[0m,\n",
              "            \u001b[32m'explanation'\u001b[0m: \u001b[32m'Efficient single search, reads the email, and returns a correct, complete answer.'\u001b[0m,\n",
              "            \u001b[32m'score'\u001b[0m: \u001b[1;36m1.0\u001b[0m\n",
              "        \u001b[1m}\u001b[0m,\n",
              "        \u001b[1m{\u001b[0m\n",
              "            \u001b[32m'trajectory_id'\u001b[0m: \u001b[32m'3'\u001b[0m,\n",
              "            \u001b[32m'explanation'\u001b[0m: \u001b[32m'Performs many searches without ever finding or returning the answer.'\u001b[0m,\n",
              "            \u001b[32m'score'\u001b[0m: \u001b[1;36m0.0\u001b[0m\n",
              "        \u001b[1m}\u001b[0m,\n",
              "        \u001b[1m{\u001b[0m\n",
              "            \u001b[32m'trajectory_id'\u001b[0m: \u001b[32m'4'\u001b[0m,\n",
              "            \u001b[32m'explanation'\u001b[0m: \u001b[32m'Eventually finds and returns the correct answer but wastes many turns on unsuccessful \u001b[0m\n",
              "\u001b[32msearches.'\u001b[0m,\n",
              "            \u001b[32m'score'\u001b[0m: \u001b[1;36m0.2\u001b[0m\n",
              "        \u001b[1m}\u001b[0m\n",
              "    \u001b[1m]\u001b[0m\n",
              "\u001b[1m}\u001b[0m\n"
            ]
          },
          "metadata": {},
          "output_type": "display_data"
        },
        {
          "data": {
            "text/html": [
              "<pre style=\"white-space:pre;overflow-x:auto;line-height:normal;font-family:Menlo,'DejaVu Sans Mono',consolas,'Courier New',monospace\">\n",
              "<span style=\"font-weight: bold\">[</span>RULER<span style=\"font-weight: bold\">]</span> Pretty-printed LLM choice JSON:\n",
              "</pre>\n"
            ],
            "text/plain": [
              "\n",
              "\u001b[1m[\u001b[0mRULER\u001b[1m]\u001b[0m Pretty-printed LLM choice JSON:\n"
            ]
          },
          "metadata": {},
          "output_type": "display_data"
        },
        {
          "data": {
            "text/html": [
              "<pre style=\"white-space:pre;overflow-x:auto;line-height:normal;font-family:Menlo,'DejaVu Sans Mono',consolas,'Courier New',monospace\"><span style=\"font-weight: bold\">{</span>\n",
              "    <span style=\"color: #008000; text-decoration-color: #008000\">'scores'</span>: <span style=\"font-weight: bold\">[</span>\n",
              "        <span style=\"font-weight: bold\">{</span>\n",
              "            <span style=\"color: #008000; text-decoration-color: #008000\">'trajectory_id'</span>: <span style=\"color: #008000; text-decoration-color: #008000\">'1'</span>,\n",
              "            <span style=\"color: #008000; text-decoration-color: #008000\">'explanation'</span>: <span style=\"color: #008000; text-decoration-color: #008000\">'No use of tools or progress toward finding the successor; answer not produced.'</span>,\n",
              "            <span style=\"color: #008000; text-decoration-color: #008000\">'score'</span>: <span style=\"color: #008080; text-decoration-color: #008080; font-weight: bold\">0.0</span>\n",
              "        <span style=\"font-weight: bold\">}</span>,\n",
              "        <span style=\"font-weight: bold\">{</span>\n",
              "            <span style=\"color: #008000; text-decoration-color: #008000\">'trajectory_id'</span>: <span style=\"color: #008000; text-decoration-color: #008000\">'2'</span>,\n",
              "            <span style=\"color: #008000; text-decoration-color: #008000\">'explanation'</span>: <span style=\"color: #008000; text-decoration-color: #008000\">'Repeated tool calls with varied keywords show attempt but no result or final answer; </span>\n",
              "<span style=\"color: #008000; text-decoration-color: #008000\">minimal progress.'</span>,\n",
              "            <span style=\"color: #008000; text-decoration-color: #008000\">'score'</span>: <span style=\"color: #008080; text-decoration-color: #008080; font-weight: bold\">0.1</span>\n",
              "        <span style=\"font-weight: bold\">}</span>,\n",
              "        <span style=\"font-weight: bold\">{</span>\n",
              "            <span style=\"color: #008000; text-decoration-color: #008000\">'trajectory_id'</span>: <span style=\"color: #008000; text-decoration-color: #008000\">'3'</span>,\n",
              "            <span style=\"color: #008000; text-decoration-color: #008000\">'explanation'</span>: <span style=\"color: #008000; text-decoration-color: #008000\">'Broader set of keyword variations and synonyms tried but still no answer; slightly more</span>\n",
              "<span style=\"color: #008000; text-decoration-color: #008000\">effort than trajectory 2.'</span>,\n",
              "            <span style=\"color: #008000; text-decoration-color: #008000\">'score'</span>: <span style=\"color: #008080; text-decoration-color: #008080; font-weight: bold\">0.15</span>\n",
              "        <span style=\"font-weight: bold\">}</span>,\n",
              "        <span style=\"font-weight: bold\">{</span>\n",
              "            <span style=\"color: #008000; text-decoration-color: #008000\">'trajectory_id'</span>: <span style=\"color: #008000; text-decoration-color: #008000\">'4'</span>,\n",
              "            <span style=\"color: #008000; text-decoration-color: #008000\">'explanation'</span>: <span style=\"color: #008000; text-decoration-color: #008000\">'Multiple targeted searches attempted but no conclusive result or final answer.'</span>,\n",
              "            <span style=\"color: #008000; text-decoration-color: #008000\">'score'</span>: <span style=\"color: #008080; text-decoration-color: #008080; font-weight: bold\">0.1</span>\n",
              "        <span style=\"font-weight: bold\">}</span>\n",
              "    <span style=\"font-weight: bold\">]</span>\n",
              "<span style=\"font-weight: bold\">}</span>\n",
              "</pre>\n"
            ],
            "text/plain": [
              "\u001b[1m{\u001b[0m\n",
              "    \u001b[32m'scores'\u001b[0m: \u001b[1m[\u001b[0m\n",
              "        \u001b[1m{\u001b[0m\n",
              "            \u001b[32m'trajectory_id'\u001b[0m: \u001b[32m'1'\u001b[0m,\n",
              "            \u001b[32m'explanation'\u001b[0m: \u001b[32m'No use of tools or progress toward finding the successor; answer not produced.'\u001b[0m,\n",
              "            \u001b[32m'score'\u001b[0m: \u001b[1;36m0.0\u001b[0m\n",
              "        \u001b[1m}\u001b[0m,\n",
              "        \u001b[1m{\u001b[0m\n",
              "            \u001b[32m'trajectory_id'\u001b[0m: \u001b[32m'2'\u001b[0m,\n",
              "            \u001b[32m'explanation'\u001b[0m: \u001b[32m'Repeated tool calls with varied keywords show attempt but no result or final answer; \u001b[0m\n",
              "\u001b[32mminimal progress.'\u001b[0m,\n",
              "            \u001b[32m'score'\u001b[0m: \u001b[1;36m0.1\u001b[0m\n",
              "        \u001b[1m}\u001b[0m,\n",
              "        \u001b[1m{\u001b[0m\n",
              "            \u001b[32m'trajectory_id'\u001b[0m: \u001b[32m'3'\u001b[0m,\n",
              "            \u001b[32m'explanation'\u001b[0m: \u001b[32m'Broader set of keyword variations and synonyms tried but still no answer; slightly more\u001b[0m\n",
              "\u001b[32meffort than trajectory 2.'\u001b[0m,\n",
              "            \u001b[32m'score'\u001b[0m: \u001b[1;36m0.15\u001b[0m\n",
              "        \u001b[1m}\u001b[0m,\n",
              "        \u001b[1m{\u001b[0m\n",
              "            \u001b[32m'trajectory_id'\u001b[0m: \u001b[32m'4'\u001b[0m,\n",
              "            \u001b[32m'explanation'\u001b[0m: \u001b[32m'Multiple targeted searches attempted but no conclusive result or final answer.'\u001b[0m,\n",
              "            \u001b[32m'score'\u001b[0m: \u001b[1;36m0.1\u001b[0m\n",
              "        \u001b[1m}\u001b[0m\n",
              "    \u001b[1m]\u001b[0m\n",
              "\u001b[1m}\u001b[0m\n"
            ]
          },
          "metadata": {},
          "output_type": "display_data"
        },
        {
          "name": "stdout",
          "output_type": "stream",
          "text": [
            "No \"val/reward\" metric found in history\n",
            "Deleted checkpoint ./.art/email-search-agent-langgraph/models/email-agent-langgraph-001/checkpoints/0000\n",
            "Packed 8 trajectories into 4 sequences of length 2048\n"
          ]
        },
        {
          "name": "stderr",
          "output_type": "stream",
          "text": [
            "train: 100%|██████████| 4/4 [00:16<00:00,  4.07s/it, loss=-0.259, grad_norm=0.0924, policy_loss=-0.259, entropy=0.151]\n",
            "Iterating dataset:   0%|          | 2/500 [05:35<21:39:36, 156.58s/batch]"
          ]
        },
        {
          "name": "stdout",
          "output_type": "stream",
          "text": [
            "Completed training step 1\n",
            "Training step 2, epoch 0, epoch step 2\n",
            "Batch contains 2 scenarios\n",
            "<art.trajectories.TrajectoryGroup.__new__.<locals>.CoroutineWithMetadata object at 0x755c9c8df850>\n"
          ]
        },
        {
          "name": "stderr",
          "output_type": "stream",
          "text": [
            "/tmp/ipykernel_288833/1452329291.py:133: LangGraphDeprecatedSinceV10: create_react_agent has been moved to langchain.agents. Please update your import to 'from langchain.agents import create_agent'. Deprecated in LangGraph V1.0 to be removed in V2.0.\n",
            "  react_agent = create_react_agent(chat_model, tools)\n",
            "/tmp/ipykernel_288833/1452329291.py:133: LangGraphDeprecatedSinceV10: create_react_agent has been moved to langchain.agents. Please update your import to 'from langchain.agents import create_agent'. Deprecated in LangGraph V1.0 to be removed in V2.0.\n",
            "  react_agent = create_react_agent(chat_model, tools)\n",
            "/tmp/ipykernel_288833/1452329291.py:133: LangGraphDeprecatedSinceV10: create_react_agent has been moved to langchain.agents. Please update your import to 'from langchain.agents import create_agent'. Deprecated in LangGraph V1.0 to be removed in V2.0.\n",
            "  react_agent = create_react_agent(chat_model, tools)\n",
            "/tmp/ipykernel_288833/1452329291.py:133: LangGraphDeprecatedSinceV10: create_react_agent has been moved to langchain.agents. Please update your import to 'from langchain.agents import create_agent'. Deprecated in LangGraph V1.0 to be removed in V2.0.\n",
            "  react_agent = create_react_agent(chat_model, tools)\n",
            "/tmp/ipykernel_288833/1452329291.py:133: LangGraphDeprecatedSinceV10: create_react_agent has been moved to langchain.agents. Please update your import to 'from langchain.agents import create_agent'. Deprecated in LangGraph V1.0 to be removed in V2.0.\n",
            "  react_agent = create_react_agent(chat_model, tools)\n",
            "/tmp/ipykernel_288833/1452329291.py:133: LangGraphDeprecatedSinceV10: create_react_agent has been moved to langchain.agents. Please update your import to 'from langchain.agents import create_agent'. Deprecated in LangGraph V1.0 to be removed in V2.0.\n",
            "  react_agent = create_react_agent(chat_model, tools)\n",
            "/tmp/ipykernel_288833/1452329291.py:133: LangGraphDeprecatedSinceV10: create_react_agent has been moved to langchain.agents. Please update your import to 'from langchain.agents import create_agent'. Deprecated in LangGraph V1.0 to be removed in V2.0.\n",
            "  react_agent = create_react_agent(chat_model, tools)\n",
            "/tmp/ipykernel_288833/1452329291.py:133: LangGraphDeprecatedSinceV10: create_react_agent has been moved to langchain.agents. Please update your import to 'from langchain.agents import create_agent'. Deprecated in LangGraph V1.0 to be removed in V2.0.\n",
            "  react_agent = create_react_agent(chat_model, tools)\n"
          ]
        },
        {
          "name": "stdout",
          "output_type": "stream",
          "text": [
            "Loading existing database from ./enron_emails.dbLoading existing database from ./enron_emails.db\n",
            "\n",
            "Loading existing database from ./enron_emails.db\n",
            "Loading existing database from ./enron_emails.db\n",
            "Loading existing database from ./enron_emails.db\n",
            "Loading existing database from ./enron_emails.db\n",
            "Loading existing database from ./enron_emails.db\n",
            "Loading existing database from ./enron_emails.db\n",
            "Loading existing database from ./enron_emails.db\n",
            "Loading existing database from ./enron_emails.db\n",
            "Loading existing database from ./enron_emails.db\n",
            "Loading existing database from ./enron_emails.db\n",
            "Loading existing database from ./enron_emails.db\n",
            "Loading existing database from ./enron_emails.db\n",
            "Loading existing database from ./enron_emails.db\n",
            "Loading existing database from ./enron_emails.db\n",
            "Loading existing database from ./enron_emails.db\n",
            "Loading existing database from ./enron_emails.db\n",
            "Loading existing database from ./enron_emails.db\n",
            "Loading existing database from ./enron_emails.db\n",
            "Loading existing database from ./enron_emails.db\n",
            "Loading existing database from ./enron_emails.db\n",
            "Loading existing database from ./enron_emails.db\n",
            "Loading existing database from ./enron_emails.dbLoading existing database from ./enron_emails.db\n",
            "\n"
          ]
        },
        {
          "name": "stderr",
          "output_type": "stream",
          "text": []
        },
        {
          "name": "stdout",
          "output_type": "stream",
          "text": [
            "Loading existing database from ./enron_emails.db\n",
            "Loading existing database from ./enron_emails.db\n",
            "Loading existing database from ./enron_emails.db\n",
            "Loading existing database from ./enron_emails.dbLoading existing database from ./enron_emails.dbLoading existing database from ./enron_emails.db\n",
            "\n",
            "\n",
            "Loading existing database from ./enron_emails.db\n",
            "Loading existing database from ./enron_emails.db\n",
            "Loading existing database from ./enron_emails.db\n",
            "Loading existing database from ./enron_emails.db\n",
            "Loading existing database from ./enron_emails.db\n",
            "Loading existing database from ./enron_emails.db\n"
          ]
        },
        {
          "name": "stderr",
          "output_type": "stream",
          "text": []
        },
        {
          "name": "stdout",
          "output_type": "stream",
          "text": [
            "Loading existing database from ./enron_emails.db\n",
            "Loading existing database from ./enron_emails.db\n",
            "Loading existing database from ./enron_emails.db\n",
            "Loading existing database from ./enron_emails.db\n",
            "Loading existing database from ./enron_emails.db\n",
            "Loading existing database from ./enron_emails.db\n",
            "Loading existing database from ./enron_emails.db\n",
            "Loading existing database from ./enron_emails.db\n",
            "Loading existing database from ./enron_emails.dbLoading existing database from ./enron_emails.dbLoading existing database from ./enron_emails.db\n",
            "Loading existing database from ./enron_emails.db\n",
            "\n",
            "\n",
            "Loading existing database from ./enron_emails.db\n",
            "Loading existing database from ./enron_emails.db\n",
            "Loading existing database from ./enron_emails.db\n",
            "Loading existing database from ./enron_emails.db\n",
            "Loading existing database from ./enron_emails.db\n",
            "Loading existing database from ./enron_emails.db\n"
          ]
        },
        {
          "name": "stderr",
          "output_type": "stream",
          "text": []
        },
        {
          "name": "stdout",
          "output_type": "stream",
          "text": [
            "Loading existing database from ./enron_emails.db\n"
          ]
        },
        {
          "name": "stderr",
          "output_type": "stream",
          "text": [
            "gather: 100%|██████████| 8/8 [01:01<00:00,  7.66s/it, reward=0, completion_tokens=62.5]\n"
          ]
        },
        {
          "data": {
            "text/html": [
              "<pre style=\"white-space:pre;overflow-x:auto;line-height:normal;font-family:Menlo,'DejaVu Sans Mono',consolas,'Courier New',monospace\">\n",
              "<span style=\"font-weight: bold\">[</span>RULER<span style=\"font-weight: bold\">]</span> Pretty-printed LLM choice JSON:\n",
              "</pre>\n"
            ],
            "text/plain": [
              "\n",
              "\u001b[1m[\u001b[0mRULER\u001b[1m]\u001b[0m Pretty-printed LLM choice JSON:\n"
            ]
          },
          "metadata": {},
          "output_type": "display_data"
        },
        {
          "data": {
            "text/html": [
              "<pre style=\"white-space:pre;overflow-x:auto;line-height:normal;font-family:Menlo,'DejaVu Sans Mono',consolas,'Courier New',monospace\"><span style=\"font-weight: bold\">{</span>\n",
              "    <span style=\"color: #008000; text-decoration-color: #008000\">'scores'</span>: <span style=\"font-weight: bold\">[</span>\n",
              "        <span style=\"font-weight: bold\">{</span>\n",
              "            <span style=\"color: #008000; text-decoration-color: #008000\">'trajectory_id'</span>: <span style=\"color: #008000; text-decoration-color: #008000\">'1'</span>,\n",
              "            <span style=\"color: #008000; text-decoration-color: #008000\">'explanation'</span>: <span style=\"color: #008000; text-decoration-color: #008000\">'Repeated generic searches without any refinement or results; no progress toward an </span>\n",
              "<span style=\"color: #008000; text-decoration-color: #008000\">answer.'</span>,\n",
              "            <span style=\"color: #008000; text-decoration-color: #008000\">'score'</span>: <span style=\"color: #008080; text-decoration-color: #008080; font-weight: bold\">0.05</span>\n",
              "        <span style=\"font-weight: bold\">}</span>,\n",
              "        <span style=\"font-weight: bold\">{</span>\n",
              "            <span style=\"color: #008000; text-decoration-color: #008000\">'trajectory_id'</span>: <span style=\"color: #008000; text-decoration-color: #008000\">'2'</span>,\n",
              "            <span style=\"color: #008000; text-decoration-color: #008000\">'explanation'</span>: <span style=\"color: #008000; text-decoration-color: #008000\">'Tried multiple keyword variations including specific terms like \"meeting\" and \"appt\", </span>\n",
              "<span style=\"color: #008000; text-decoration-color: #008000\">but still no answer or tool output review.'</span>,\n",
              "            <span style=\"color: #008000; text-decoration-color: #008000\">'score'</span>: <span style=\"color: #008080; text-decoration-color: #008080; font-weight: bold\">0.1</span>\n",
              "        <span style=\"font-weight: bold\">}</span>,\n",
              "        <span style=\"font-weight: bold\">{</span>\n",
              "            <span style=\"color: #008000; text-decoration-color: #008000\">'trajectory_id'</span>: <span style=\"color: #008000; text-decoration-color: #008000\">'3'</span>,\n",
              "            <span style=\"color: #008000; text-decoration-color: #008000\">'explanation'</span>: <span style=\"color: #008000; text-decoration-color: #008000\">'Added more targeted date formats (e.g. 1999-10-25) and weekly context, showing a modest</span>\n",
              "<span style=\"color: #008000; text-decoration-color: #008000\">improvement in search strategy, but still no result.'</span>,\n",
              "            <span style=\"color: #008000; text-decoration-color: #008000\">'score'</span>: <span style=\"color: #008080; text-decoration-color: #008080; font-weight: bold\">0.15</span>\n",
              "        <span style=\"font-weight: bold\">}</span>,\n",
              "        <span style=\"font-weight: bold\">{</span>\n",
              "            <span style=\"color: #008000; text-decoration-color: #008000\">'trajectory_id'</span>: <span style=\"color: #008000; text-decoration-color: #008000\">'4'</span>,\n",
              "            <span style=\"color: #008000; text-decoration-color: #008000\">'explanation'</span>: <span style=\"color: #008000; text-decoration-color: #008000\">'At least begins with clear reasoning and a focused initial search, though it repeats </span>\n",
              "<span style=\"color: #008000; text-decoration-color: #008000\">the same call without advancing toward an answer.'</span>,\n",
              "            <span style=\"color: #008000; text-decoration-color: #008000\">'score'</span>: <span style=\"color: #008080; text-decoration-color: #008080; font-weight: bold\">0.2</span>\n",
              "        <span style=\"font-weight: bold\">}</span>\n",
              "    <span style=\"font-weight: bold\">]</span>\n",
              "<span style=\"font-weight: bold\">}</span>\n",
              "</pre>\n"
            ],
            "text/plain": [
              "\u001b[1m{\u001b[0m\n",
              "    \u001b[32m'scores'\u001b[0m: \u001b[1m[\u001b[0m\n",
              "        \u001b[1m{\u001b[0m\n",
              "            \u001b[32m'trajectory_id'\u001b[0m: \u001b[32m'1'\u001b[0m,\n",
              "            \u001b[32m'explanation'\u001b[0m: \u001b[32m'Repeated generic searches without any refinement or results; no progress toward an \u001b[0m\n",
              "\u001b[32manswer.'\u001b[0m,\n",
              "            \u001b[32m'score'\u001b[0m: \u001b[1;36m0.05\u001b[0m\n",
              "        \u001b[1m}\u001b[0m,\n",
              "        \u001b[1m{\u001b[0m\n",
              "            \u001b[32m'trajectory_id'\u001b[0m: \u001b[32m'2'\u001b[0m,\n",
              "            \u001b[32m'explanation'\u001b[0m: \u001b[32m'Tried multiple keyword variations including specific terms like \"meeting\" and \"appt\", \u001b[0m\n",
              "\u001b[32mbut still no answer or tool output review.'\u001b[0m,\n",
              "            \u001b[32m'score'\u001b[0m: \u001b[1;36m0.1\u001b[0m\n",
              "        \u001b[1m}\u001b[0m,\n",
              "        \u001b[1m{\u001b[0m\n",
              "            \u001b[32m'trajectory_id'\u001b[0m: \u001b[32m'3'\u001b[0m,\n",
              "            \u001b[32m'explanation'\u001b[0m: \u001b[32m'Added more targeted date formats \u001b[0m\u001b[32m(\u001b[0m\u001b[32me.g. 1999-10-25\u001b[0m\u001b[32m)\u001b[0m\u001b[32m and weekly context, showing a modest\u001b[0m\n",
              "\u001b[32mimprovement in search strategy, but still no result.'\u001b[0m,\n",
              "            \u001b[32m'score'\u001b[0m: \u001b[1;36m0.15\u001b[0m\n",
              "        \u001b[1m}\u001b[0m,\n",
              "        \u001b[1m{\u001b[0m\n",
              "            \u001b[32m'trajectory_id'\u001b[0m: \u001b[32m'4'\u001b[0m,\n",
              "            \u001b[32m'explanation'\u001b[0m: \u001b[32m'At least begins with clear reasoning and a focused initial search, though it repeats \u001b[0m\n",
              "\u001b[32mthe same call without advancing toward an answer.'\u001b[0m,\n",
              "            \u001b[32m'score'\u001b[0m: \u001b[1;36m0.2\u001b[0m\n",
              "        \u001b[1m}\u001b[0m\n",
              "    \u001b[1m]\u001b[0m\n",
              "\u001b[1m}\u001b[0m\n"
            ]
          },
          "metadata": {},
          "output_type": "display_data"
        },
        {
          "data": {
            "text/html": [
              "<pre style=\"white-space:pre;overflow-x:auto;line-height:normal;font-family:Menlo,'DejaVu Sans Mono',consolas,'Courier New',monospace\">\n",
              "<span style=\"font-weight: bold\">[</span>RULER<span style=\"font-weight: bold\">]</span> Pretty-printed LLM choice JSON:\n",
              "</pre>\n"
            ],
            "text/plain": [
              "\n",
              "\u001b[1m[\u001b[0mRULER\u001b[1m]\u001b[0m Pretty-printed LLM choice JSON:\n"
            ]
          },
          "metadata": {},
          "output_type": "display_data"
        },
        {
          "data": {
            "text/html": [
              "<pre style=\"white-space:pre;overflow-x:auto;line-height:normal;font-family:Menlo,'DejaVu Sans Mono',consolas,'Courier New',monospace\"><span style=\"font-weight: bold\">{</span>\n",
              "    <span style=\"color: #008000; text-decoration-color: #008000\">'scores'</span>: <span style=\"font-weight: bold\">[</span>\n",
              "        <span style=\"font-weight: bold\">{</span>\n",
              "            <span style=\"color: #008000; text-decoration-color: #008000\">'trajectory_id'</span>: <span style=\"color: #008000; text-decoration-color: #008000\">'1'</span>,\n",
              "            <span style=\"color: #008000; text-decoration-color: #008000\">'explanation'</span>: <span style=\"color: #008000; text-decoration-color: #008000\">'Extracted the correct variance (0.01) but failed to call the final answer tool and </span>\n",
              "<span style=\"color: #008000; text-decoration-color: #008000\">produced a malformed response.'</span>,\n",
              "            <span style=\"color: #008000; text-decoration-color: #008000\">'score'</span>: <span style=\"color: #008080; text-decoration-color: #008080; font-weight: bold\">0.3</span>\n",
              "        <span style=\"font-weight: bold\">}</span>,\n",
              "        <span style=\"font-weight: bold\">{</span>\n",
              "            <span style=\"color: #008000; text-decoration-color: #008000\">'trajectory_id'</span>: <span style=\"color: #008000; text-decoration-color: #008000\">'2'</span>,\n",
              "            <span style=\"color: #008000; text-decoration-color: #008000\">'explanation'</span>: <span style=\"color: #008000; text-decoration-color: #008000\">'Completed the process with a final answer call but returned an incorrect value (120 MW </span>\n",
              "<span style=\"color: #008000; text-decoration-color: #008000\">instead of the correct variance).'</span>,\n",
              "            <span style=\"color: #008000; text-decoration-color: #008000\">'score'</span>: <span style=\"color: #008080; text-decoration-color: #008080; font-weight: bold\">0.2</span>\n",
              "        <span style=\"font-weight: bold\">}</span>,\n",
              "        <span style=\"font-weight: bold\">{</span>\n",
              "            <span style=\"color: #008000; text-decoration-color: #008000\">'trajectory_id'</span>: <span style=\"color: #008000; text-decoration-color: #008000\">'3'</span>,\n",
              "            <span style=\"color: #008000; text-decoration-color: #008000\">'explanation'</span>: <span style=\"color: #008000; text-decoration-color: #008000\">'Made multiple search attempts but never successfully read the email or provided a final</span>\n",
              "<span style=\"color: #008000; text-decoration-color: #008000\">answer.'</span>,\n",
              "            <span style=\"color: #008000; text-decoration-color: #008000\">'score'</span>: <span style=\"color: #008080; text-decoration-color: #008080; font-weight: bold\">0.1</span>\n",
              "        <span style=\"font-weight: bold\">}</span>,\n",
              "        <span style=\"font-weight: bold\">{</span>\n",
              "            <span style=\"color: #008000; text-decoration-color: #008000\">'trajectory_id'</span>: <span style=\"color: #008000; text-decoration-color: #008000\">'4'</span>,\n",
              "            <span style=\"color: #008000; text-decoration-color: #008000\">'explanation'</span>: <span style=\"color: #008000; text-decoration-color: #008000\">'Repeated ineffective searches without reading any email or returning an answer.'</span>,\n",
              "            <span style=\"color: #008000; text-decoration-color: #008000\">'score'</span>: <span style=\"color: #008080; text-decoration-color: #008080; font-weight: bold\">0.0</span>\n",
              "        <span style=\"font-weight: bold\">}</span>\n",
              "    <span style=\"font-weight: bold\">]</span>\n",
              "<span style=\"font-weight: bold\">}</span>\n",
              "</pre>\n"
            ],
            "text/plain": [
              "\u001b[1m{\u001b[0m\n",
              "    \u001b[32m'scores'\u001b[0m: \u001b[1m[\u001b[0m\n",
              "        \u001b[1m{\u001b[0m\n",
              "            \u001b[32m'trajectory_id'\u001b[0m: \u001b[32m'1'\u001b[0m,\n",
              "            \u001b[32m'explanation'\u001b[0m: \u001b[32m'Extracted the correct variance \u001b[0m\u001b[32m(\u001b[0m\u001b[32m0.01\u001b[0m\u001b[32m)\u001b[0m\u001b[32m but failed to call the final answer tool and \u001b[0m\n",
              "\u001b[32mproduced a malformed response.'\u001b[0m,\n",
              "            \u001b[32m'score'\u001b[0m: \u001b[1;36m0.3\u001b[0m\n",
              "        \u001b[1m}\u001b[0m,\n",
              "        \u001b[1m{\u001b[0m\n",
              "            \u001b[32m'trajectory_id'\u001b[0m: \u001b[32m'2'\u001b[0m,\n",
              "            \u001b[32m'explanation'\u001b[0m: \u001b[32m'Completed the process with a final answer call but returned an incorrect value \u001b[0m\u001b[32m(\u001b[0m\u001b[32m120 MW \u001b[0m\n",
              "\u001b[32minstead of the correct variance\u001b[0m\u001b[32m)\u001b[0m\u001b[32m.'\u001b[0m,\n",
              "            \u001b[32m'score'\u001b[0m: \u001b[1;36m0.2\u001b[0m\n",
              "        \u001b[1m}\u001b[0m,\n",
              "        \u001b[1m{\u001b[0m\n",
              "            \u001b[32m'trajectory_id'\u001b[0m: \u001b[32m'3'\u001b[0m,\n",
              "            \u001b[32m'explanation'\u001b[0m: \u001b[32m'Made multiple search attempts but never successfully read the email or provided a final\u001b[0m\n",
              "\u001b[32manswer.'\u001b[0m,\n",
              "            \u001b[32m'score'\u001b[0m: \u001b[1;36m0.1\u001b[0m\n",
              "        \u001b[1m}\u001b[0m,\n",
              "        \u001b[1m{\u001b[0m\n",
              "            \u001b[32m'trajectory_id'\u001b[0m: \u001b[32m'4'\u001b[0m,\n",
              "            \u001b[32m'explanation'\u001b[0m: \u001b[32m'Repeated ineffective searches without reading any email or returning an answer.'\u001b[0m,\n",
              "            \u001b[32m'score'\u001b[0m: \u001b[1;36m0.0\u001b[0m\n",
              "        \u001b[1m}\u001b[0m\n",
              "    \u001b[1m]\u001b[0m\n",
              "\u001b[1m}\u001b[0m\n"
            ]
          },
          "metadata": {},
          "output_type": "display_data"
        },
        {
          "name": "stdout",
          "output_type": "stream",
          "text": [
            "No \"val/reward\" metric found in history\n",
            "Deleted checkpoint ./.art/email-search-agent-langgraph/models/email-agent-langgraph-001/checkpoints/0001\n",
            "Packed 8 trajectories into 4 sequences of length 2048\n"
          ]
        },
        {
          "name": "stderr",
          "output_type": "stream",
          "text": [
            "train: 100%|██████████| 4/4 [00:16<00:00,  4.02s/it, loss=0.0337, grad_norm=0.0906, policy_loss=0.0337, entropy=0.134]\n",
            "Iterating dataset:   1%|          | 3/500 [07:20<18:20:51, 132.90s/batch]"
          ]
        },
        {
          "name": "stdout",
          "output_type": "stream",
          "text": [
            "Completed training step 2\n",
            "Training step 3, epoch 0, epoch step 3\n",
            "Batch contains 2 scenarios\n",
            "<art.trajectories.TrajectoryGroup.__new__.<locals>.CoroutineWithMetadata object at 0x755cb624cf90>\n"
          ]
        },
        {
          "name": "stderr",
          "output_type": "stream",
          "text": [
            "/tmp/ipykernel_288833/1452329291.py:133: LangGraphDeprecatedSinceV10: create_react_agent has been moved to langchain.agents. Please update your import to 'from langchain.agents import create_agent'. Deprecated in LangGraph V1.0 to be removed in V2.0.\n",
            "  react_agent = create_react_agent(chat_model, tools)\n",
            "/tmp/ipykernel_288833/1452329291.py:133: LangGraphDeprecatedSinceV10: create_react_agent has been moved to langchain.agents. Please update your import to 'from langchain.agents import create_agent'. Deprecated in LangGraph V1.0 to be removed in V2.0.\n",
            "  react_agent = create_react_agent(chat_model, tools)\n",
            "/tmp/ipykernel_288833/1452329291.py:133: LangGraphDeprecatedSinceV10: create_react_agent has been moved to langchain.agents. Please update your import to 'from langchain.agents import create_agent'. Deprecated in LangGraph V1.0 to be removed in V2.0.\n",
            "  react_agent = create_react_agent(chat_model, tools)\n",
            "/tmp/ipykernel_288833/1452329291.py:133: LangGraphDeprecatedSinceV10: create_react_agent has been moved to langchain.agents. Please update your import to 'from langchain.agents import create_agent'. Deprecated in LangGraph V1.0 to be removed in V2.0.\n",
            "  react_agent = create_react_agent(chat_model, tools)\n",
            "/tmp/ipykernel_288833/1452329291.py:133: LangGraphDeprecatedSinceV10: create_react_agent has been moved to langchain.agents. Please update your import to 'from langchain.agents import create_agent'. Deprecated in LangGraph V1.0 to be removed in V2.0.\n",
            "  react_agent = create_react_agent(chat_model, tools)\n",
            "/tmp/ipykernel_288833/1452329291.py:133: LangGraphDeprecatedSinceV10: create_react_agent has been moved to langchain.agents. Please update your import to 'from langchain.agents import create_agent'. Deprecated in LangGraph V1.0 to be removed in V2.0.\n",
            "  react_agent = create_react_agent(chat_model, tools)\n",
            "/tmp/ipykernel_288833/1452329291.py:133: LangGraphDeprecatedSinceV10: create_react_agent has been moved to langchain.agents. Please update your import to 'from langchain.agents import create_agent'. Deprecated in LangGraph V1.0 to be removed in V2.0.\n",
            "  react_agent = create_react_agent(chat_model, tools)\n",
            "/tmp/ipykernel_288833/1452329291.py:133: LangGraphDeprecatedSinceV10: create_react_agent has been moved to langchain.agents. Please update your import to 'from langchain.agents import create_agent'. Deprecated in LangGraph V1.0 to be removed in V2.0.\n",
            "  react_agent = create_react_agent(chat_model, tools)\n"
          ]
        },
        {
          "name": "stdout",
          "output_type": "stream",
          "text": [
            "Loading existing database from ./enron_emails.db\n",
            "Loading existing database from ./enron_emails.db\n",
            "Loading existing database from ./enron_emails.db\n",
            "Loading existing database from ./enron_emails.db\n",
            "Loading existing database from ./enron_emails.db\n",
            "Loading existing database from ./enron_emails.db\n",
            "Loading existing database from ./enron_emails.db\n",
            "Loading existing database from ./enron_emails.db\n",
            "Loading existing database from ./enron_emails.db\n",
            "Loading existing database from ./enron_emails.db\n",
            "Loading existing database from ./enron_emails.db\n",
            "Loading existing database from ./enron_emails.db\n",
            "Loading existing database from ./enron_emails.db\n",
            "Loading existing database from ./enron_emails.db\n",
            "Loading existing database from ./enron_emails.db\n",
            "Loading existing database from ./enron_emails.db\n",
            "Loading existing database from ./enron_emails.db\n",
            "Loading existing database from ./enron_emails.db\n",
            "Loading existing database from ./enron_emails.db\n",
            "Loading existing database from ./enron_emails.db\n",
            "Loading existing database from ./enron_emails.db\n",
            "Loading existing database from ./enron_emails.db\n",
            "Loading existing database from ./enron_emails.db\n",
            "Loading existing database from ./enron_emails.db\n",
            "Loading existing database from ./enron_emails.db\n",
            "Loading existing database from ./enron_emails.db\n",
            "Loading existing database from ./enron_emails.db\n",
            "Loading existing database from ./enron_emails.db\n",
            "Loading existing database from ./enron_emails.db\n",
            "Loading existing database from ./enron_emails.db\n",
            "Loading existing database from ./enron_emails.db\n",
            "Loading existing database from ./enron_emails.db\n",
            "Loading existing database from ./enron_emails.dbLoading existing database from ./enron_emails.db\n",
            "\n",
            "Loading existing database from ./enron_emails.db\n",
            "Loading existing database from ./enron_emails.db\n",
            "Loading existing database from ./enron_emails.db\n",
            "Loading existing database from ./enron_emails.db\n",
            "Loading existing database from ./enron_emails.db\n",
            "Loading existing database from ./enron_emails.db\n",
            "Loading existing database from ./enron_emails.db\n",
            "Loading existing database from ./enron_emails.db\n",
            "Loading existing database from ./enron_emails.db\n",
            "Loading existing database from ./enron_emails.db\n",
            "Loading existing database from ./enron_emails.db\n",
            "Loading existing database from ./enron_emails.db\n",
            "Loading existing database from ./enron_emails.db\n",
            "Loading existing database from ./enron_emails.db\n",
            "Loading existing database from ./enron_emails.db\n",
            "Loading existing database from ./enron_emails.db\n",
            "Loading existing database from ./enron_emails.db\n",
            "Loading existing database from ./enron_emails.db\n",
            "Loading existing database from ./enron_emails.db\n",
            "Loading existing database from ./enron_emails.db\n",
            "Loading existing database from ./enron_emails.db\n",
            "Loading existing database from ./enron_emails.db\n",
            "Loading existing database from ./enron_emails.db\n",
            "Loading existing database from ./enron_emails.db\n",
            "Loading existing database from ./enron_emails.db\n",
            "Loading existing database from ./enron_emails.db\n",
            "Loading existing database from ./enron_emails.db\n",
            "Loading existing database from ./enron_emails.db\n"
          ]
        },
        {
          "name": "stderr",
          "output_type": "stream",
          "text": []
        },
        {
          "name": "stdout",
          "output_type": "stream",
          "text": [
            "Loading existing database from ./enron_emails.dbLoading existing database from ./enron_emails.db\n",
            "\n",
            "Loading existing database from ./enron_emails.db\n",
            "Loading existing database from ./enron_emails.db\n"
          ]
        },
        {
          "name": "stderr",
          "output_type": "stream",
          "text": []
        },
        {
          "name": "stdout",
          "output_type": "stream",
          "text": [
            "Loading existing database from ./enron_emails.db\n",
            "Loading existing database from ./enron_emails.db\n"
          ]
        },
        {
          "name": "stderr",
          "output_type": "stream",
          "text": []
        },
        {
          "name": "stdout",
          "output_type": "stream",
          "text": [
            "Loading existing database from ./enron_emails.db\n"
          ]
        },
        {
          "name": "stderr",
          "output_type": "stream",
          "text": [
            "gather: 100%|██████████| 8/8 [01:50<00:00, 13.76s/it, reward=0, correct=0, completion_tokens=45.7]\n"
          ]
        },
        {
          "data": {
            "text/html": [
              "<pre style=\"white-space:pre;overflow-x:auto;line-height:normal;font-family:Menlo,'DejaVu Sans Mono',consolas,'Courier New',monospace\">\n",
              "<span style=\"font-weight: bold\">[</span>RULER<span style=\"font-weight: bold\">]</span> Pretty-printed LLM choice JSON:\n",
              "</pre>\n"
            ],
            "text/plain": [
              "\n",
              "\u001b[1m[\u001b[0mRULER\u001b[1m]\u001b[0m Pretty-printed LLM choice JSON:\n"
            ]
          },
          "metadata": {},
          "output_type": "display_data"
        },
        {
          "data": {
            "text/html": [
              "<pre style=\"white-space:pre;overflow-x:auto;line-height:normal;font-family:Menlo,'DejaVu Sans Mono',consolas,'Courier New',monospace\"><span style=\"font-weight: bold\">{</span>\n",
              "    <span style=\"color: #008000; text-decoration-color: #008000\">'scores'</span>: <span style=\"font-weight: bold\">[</span>\n",
              "        <span style=\"font-weight: bold\">{</span>\n",
              "            <span style=\"color: #008000; text-decoration-color: #008000\">'trajectory_id'</span>: <span style=\"color: #008000; text-decoration-color: #008000\">'1'</span>,\n",
              "            <span style=\"color: #008000; text-decoration-color: #008000\">'explanation'</span>: <span style=\"color: #008000; text-decoration-color: #008000\">'Never found any relevant email or produced an answer.'</span>,\n",
              "            <span style=\"color: #008000; text-decoration-color: #008000\">'score'</span>: <span style=\"color: #008080; text-decoration-color: #008080; font-weight: bold\">0.0</span>\n",
              "        <span style=\"font-weight: bold\">}</span>,\n",
              "        <span style=\"font-weight: bold\">{</span>\n",
              "            <span style=\"color: #008000; text-decoration-color: #008000\">'trajectory_id'</span>: <span style=\"color: #008000; text-decoration-color: #008000\">'2'</span>,\n",
              "            <span style=\"color: #008000; text-decoration-color: #008000\">'explanation'</span>: <span style=\"color: #008000; text-decoration-color: #008000\">'Performed multiple searches but never located or returned the correct contact </span>\n",
              "<span style=\"color: #008000; text-decoration-color: #008000\">information.'</span>,\n",
              "            <span style=\"color: #008000; text-decoration-color: #008000\">'score'</span>: <span style=\"color: #008080; text-decoration-color: #008080; font-weight: bold\">0.0</span>\n",
              "        <span style=\"font-weight: bold\">}</span>,\n",
              "        <span style=\"font-weight: bold\">{</span>\n",
              "            <span style=\"color: #008000; text-decoration-color: #008000\">'trajectory_id'</span>: <span style=\"color: #008000; text-decoration-color: #008000\">'3'</span>,\n",
              "            <span style=\"color: #008000; text-decoration-color: #008000\">'explanation'</span>: <span style=\"color: #008000; text-decoration-color: #008000\">'Successfully located the relevant email, read it, and returned the correct contact </span>\n",
              "<span style=\"color: #008000; text-decoration-color: #008000\">(Patti Thompson) with the source ID.'</span>,\n",
              "            <span style=\"color: #008000; text-decoration-color: #008000\">'score'</span>: <span style=\"color: #008080; text-decoration-color: #008080; font-weight: bold\">1.0</span>\n",
              "        <span style=\"font-weight: bold\">}</span>,\n",
              "        <span style=\"font-weight: bold\">{</span>\n",
              "            <span style=\"color: #008000; text-decoration-color: #008000\">'trajectory_id'</span>: <span style=\"color: #008000; text-decoration-color: #008000\">'4'</span>,\n",
              "            <span style=\"color: #008000; text-decoration-color: #008000\">'explanation'</span>: <span style=\"color: #008000; text-decoration-color: #008000\">'Provided an answer based on a nonexistent message and failed to identify the correct </span>\n",
              "<span style=\"color: #008000; text-decoration-color: #008000\">contact.'</span>,\n",
              "            <span style=\"color: #008000; text-decoration-color: #008000\">'score'</span>: <span style=\"color: #008080; text-decoration-color: #008080; font-weight: bold\">0.1</span>\n",
              "        <span style=\"font-weight: bold\">}</span>\n",
              "    <span style=\"font-weight: bold\">]</span>\n",
              "<span style=\"font-weight: bold\">}</span>\n",
              "</pre>\n"
            ],
            "text/plain": [
              "\u001b[1m{\u001b[0m\n",
              "    \u001b[32m'scores'\u001b[0m: \u001b[1m[\u001b[0m\n",
              "        \u001b[1m{\u001b[0m\n",
              "            \u001b[32m'trajectory_id'\u001b[0m: \u001b[32m'1'\u001b[0m,\n",
              "            \u001b[32m'explanation'\u001b[0m: \u001b[32m'Never found any relevant email or produced an answer.'\u001b[0m,\n",
              "            \u001b[32m'score'\u001b[0m: \u001b[1;36m0.0\u001b[0m\n",
              "        \u001b[1m}\u001b[0m,\n",
              "        \u001b[1m{\u001b[0m\n",
              "            \u001b[32m'trajectory_id'\u001b[0m: \u001b[32m'2'\u001b[0m,\n",
              "            \u001b[32m'explanation'\u001b[0m: \u001b[32m'Performed multiple searches but never located or returned the correct contact \u001b[0m\n",
              "\u001b[32minformation.'\u001b[0m,\n",
              "            \u001b[32m'score'\u001b[0m: \u001b[1;36m0.0\u001b[0m\n",
              "        \u001b[1m}\u001b[0m,\n",
              "        \u001b[1m{\u001b[0m\n",
              "            \u001b[32m'trajectory_id'\u001b[0m: \u001b[32m'3'\u001b[0m,\n",
              "            \u001b[32m'explanation'\u001b[0m: \u001b[32m'Successfully located the relevant email, read it, and returned the correct contact \u001b[0m\n",
              "\u001b[32m(\u001b[0m\u001b[32mPatti Thompson\u001b[0m\u001b[32m)\u001b[0m\u001b[32m with the source ID.'\u001b[0m,\n",
              "            \u001b[32m'score'\u001b[0m: \u001b[1;36m1.0\u001b[0m\n",
              "        \u001b[1m}\u001b[0m,\n",
              "        \u001b[1m{\u001b[0m\n",
              "            \u001b[32m'trajectory_id'\u001b[0m: \u001b[32m'4'\u001b[0m,\n",
              "            \u001b[32m'explanation'\u001b[0m: \u001b[32m'Provided an answer based on a nonexistent message and failed to identify the correct \u001b[0m\n",
              "\u001b[32mcontact.'\u001b[0m,\n",
              "            \u001b[32m'score'\u001b[0m: \u001b[1;36m0.1\u001b[0m\n",
              "        \u001b[1m}\u001b[0m\n",
              "    \u001b[1m]\u001b[0m\n",
              "\u001b[1m}\u001b[0m\n"
            ]
          },
          "metadata": {},
          "output_type": "display_data"
        },
        {
          "data": {
            "text/html": [
              "<pre style=\"white-space:pre;overflow-x:auto;line-height:normal;font-family:Menlo,'DejaVu Sans Mono',consolas,'Courier New',monospace\">\n",
              "<span style=\"font-weight: bold\">[</span>RULER<span style=\"font-weight: bold\">]</span> Pretty-printed LLM choice JSON:\n",
              "</pre>\n"
            ],
            "text/plain": [
              "\n",
              "\u001b[1m[\u001b[0mRULER\u001b[1m]\u001b[0m Pretty-printed LLM choice JSON:\n"
            ]
          },
          "metadata": {},
          "output_type": "display_data"
        },
        {
          "data": {
            "text/html": [
              "<pre style=\"white-space:pre;overflow-x:auto;line-height:normal;font-family:Menlo,'DejaVu Sans Mono',consolas,'Courier New',monospace\"><span style=\"font-weight: bold\">{</span>\n",
              "    <span style=\"color: #008000; text-decoration-color: #008000\">'scores'</span>: <span style=\"font-weight: bold\">[</span>\n",
              "        <span style=\"font-weight: bold\">{</span>\n",
              "            <span style=\"color: #008000; text-decoration-color: #008000\">'trajectory_id'</span>: <span style=\"color: #008000; text-decoration-color: #008000\">'1'</span>,\n",
              "            <span style=\"color: #008000; text-decoration-color: #008000\">'explanation'</span>: <span style=\"color: #008000; text-decoration-color: #008000\">'The agent repeatedly calls the search tool with the same keywords but never processes </span>\n",
              "<span style=\"color: #008000; text-decoration-color: #008000\">results or produces an answer, showing no progress toward the goal.'</span>,\n",
              "            <span style=\"color: #008000; text-decoration-color: #008000\">'score'</span>: <span style=\"color: #008080; text-decoration-color: #008080; font-weight: bold\">0.0</span>\n",
              "        <span style=\"font-weight: bold\">}</span>,\n",
              "        <span style=\"font-weight: bold\">{</span>\n",
              "            <span style=\"color: #008000; text-decoration-color: #008000\">'trajectory_id'</span>: <span style=\"color: #008000; text-decoration-color: #008000\">'2'</span>,\n",
              "            <span style=\"color: #008000; text-decoration-color: #008000\">'explanation'</span>: <span style=\"color: #008000; text-decoration-color: #008000\">'Similar to trajectory 1, the agent loops on the same search without analyzing or </span>\n",
              "<span style=\"color: #008000; text-decoration-color: #008000\">reporting any findings.'</span>,\n",
              "            <span style=\"color: #008000; text-decoration-color: #008000\">'score'</span>: <span style=\"color: #008080; text-decoration-color: #008080; font-weight: bold\">0.0</span>\n",
              "        <span style=\"font-weight: bold\">}</span>,\n",
              "        <span style=\"font-weight: bold\">{</span>\n",
              "            <span style=\"color: #008000; text-decoration-color: #008000\">'trajectory_id'</span>: <span style=\"color: #008000; text-decoration-color: #008000\">'3'</span>,\n",
              "            <span style=\"color: #008000; text-decoration-color: #008000\">'explanation'</span>: <span style=\"color: #008000; text-decoration-color: #008000\">'Again, the agent endlessly repeats the search call without extracting or delivering an </span>\n",
              "<span style=\"color: #008000; text-decoration-color: #008000\">answer.'</span>,\n",
              "            <span style=\"color: #008000; text-decoration-color: #008000\">'score'</span>: <span style=\"color: #008080; text-decoration-color: #008080; font-weight: bold\">0.0</span>\n",
              "        <span style=\"font-weight: bold\">}</span>,\n",
              "        <span style=\"font-weight: bold\">{</span>\n",
              "            <span style=\"color: #008000; text-decoration-color: #008000\">'trajectory_id'</span>: <span style=\"color: #008000; text-decoration-color: #008000\">'4'</span>,\n",
              "            <span style=\"color: #008000; text-decoration-color: #008000\">'explanation'</span>: <span style=\"color: #008000; text-decoration-color: #008000\">'This trajectory makes progress by proposing a sender and message ID, but fails to </span>\n",
              "<span style=\"color: #008000; text-decoration-color: #008000\">verify the email content and does not deliver a confirmed final answer.'</span>,\n",
              "            <span style=\"color: #008000; text-decoration-color: #008000\">'score'</span>: <span style=\"color: #008080; text-decoration-color: #008080; font-weight: bold\">0.3</span>\n",
              "        <span style=\"font-weight: bold\">}</span>\n",
              "    <span style=\"font-weight: bold\">]</span>\n",
              "<span style=\"font-weight: bold\">}</span>\n",
              "</pre>\n"
            ],
            "text/plain": [
              "\u001b[1m{\u001b[0m\n",
              "    \u001b[32m'scores'\u001b[0m: \u001b[1m[\u001b[0m\n",
              "        \u001b[1m{\u001b[0m\n",
              "            \u001b[32m'trajectory_id'\u001b[0m: \u001b[32m'1'\u001b[0m,\n",
              "            \u001b[32m'explanation'\u001b[0m: \u001b[32m'The agent repeatedly calls the search tool with the same keywords but never processes \u001b[0m\n",
              "\u001b[32mresults or produces an answer, showing no progress toward the goal.'\u001b[0m,\n",
              "            \u001b[32m'score'\u001b[0m: \u001b[1;36m0.0\u001b[0m\n",
              "        \u001b[1m}\u001b[0m,\n",
              "        \u001b[1m{\u001b[0m\n",
              "            \u001b[32m'trajectory_id'\u001b[0m: \u001b[32m'2'\u001b[0m,\n",
              "            \u001b[32m'explanation'\u001b[0m: \u001b[32m'Similar to trajectory 1, the agent loops on the same search without analyzing or \u001b[0m\n",
              "\u001b[32mreporting any findings.'\u001b[0m,\n",
              "            \u001b[32m'score'\u001b[0m: \u001b[1;36m0.0\u001b[0m\n",
              "        \u001b[1m}\u001b[0m,\n",
              "        \u001b[1m{\u001b[0m\n",
              "            \u001b[32m'trajectory_id'\u001b[0m: \u001b[32m'3'\u001b[0m,\n",
              "            \u001b[32m'explanation'\u001b[0m: \u001b[32m'Again, the agent endlessly repeats the search call without extracting or delivering an \u001b[0m\n",
              "\u001b[32manswer.'\u001b[0m,\n",
              "            \u001b[32m'score'\u001b[0m: \u001b[1;36m0.0\u001b[0m\n",
              "        \u001b[1m}\u001b[0m,\n",
              "        \u001b[1m{\u001b[0m\n",
              "            \u001b[32m'trajectory_id'\u001b[0m: \u001b[32m'4'\u001b[0m,\n",
              "            \u001b[32m'explanation'\u001b[0m: \u001b[32m'This trajectory makes progress by proposing a sender and message ID, but fails to \u001b[0m\n",
              "\u001b[32mverify the email content and does not deliver a confirmed final answer.'\u001b[0m,\n",
              "            \u001b[32m'score'\u001b[0m: \u001b[1;36m0.3\u001b[0m\n",
              "        \u001b[1m}\u001b[0m\n",
              "    \u001b[1m]\u001b[0m\n",
              "\u001b[1m}\u001b[0m\n"
            ]
          },
          "metadata": {},
          "output_type": "display_data"
        },
        {
          "name": "stdout",
          "output_type": "stream",
          "text": [
            "No \"val/reward\" metric found in history\n",
            "Deleted checkpoint ./.art/email-search-agent-langgraph/models/email-agent-langgraph-001/checkpoints/0002\n",
            "Packed 8 trajectories into 5 sequences of length 2048\n"
          ]
        },
        {
          "name": "stderr",
          "output_type": "stream",
          "text": [
            "train: 100%|██████████| 5/5 [00:18<00:00,  3.60s/it, loss=-1.88, grad_norm=0.533, policy_loss=-1.88, entropy=0.118]\n",
            "Iterating dataset:   1%|          | 4/500 [09:49<19:10:29, 139.17s/batch]"
          ]
        },
        {
          "name": "stdout",
          "output_type": "stream",
          "text": [
            "Completed training step 3\n",
            "Training step 4, epoch 0, epoch step 4\n",
            "Batch contains 2 scenarios\n",
            "<art.trajectories.TrajectoryGroup.__new__.<locals>.CoroutineWithMetadata object at 0x755c9d677310>\n"
          ]
        },
        {
          "name": "stderr",
          "output_type": "stream",
          "text": [
            "/tmp/ipykernel_288833/1452329291.py:133: LangGraphDeprecatedSinceV10: create_react_agent has been moved to langchain.agents. Please update your import to 'from langchain.agents import create_agent'. Deprecated in LangGraph V1.0 to be removed in V2.0.\n",
            "  react_agent = create_react_agent(chat_model, tools)\n",
            "/tmp/ipykernel_288833/1452329291.py:133: LangGraphDeprecatedSinceV10: create_react_agent has been moved to langchain.agents. Please update your import to 'from langchain.agents import create_agent'. Deprecated in LangGraph V1.0 to be removed in V2.0.\n",
            "  react_agent = create_react_agent(chat_model, tools)\n",
            "/tmp/ipykernel_288833/1452329291.py:133: LangGraphDeprecatedSinceV10: create_react_agent has been moved to langchain.agents. Please update your import to 'from langchain.agents import create_agent'. Deprecated in LangGraph V1.0 to be removed in V2.0.\n",
            "  react_agent = create_react_agent(chat_model, tools)\n",
            "/tmp/ipykernel_288833/1452329291.py:133: LangGraphDeprecatedSinceV10: create_react_agent has been moved to langchain.agents. Please update your import to 'from langchain.agents import create_agent'. Deprecated in LangGraph V1.0 to be removed in V2.0.\n",
            "  react_agent = create_react_agent(chat_model, tools)\n",
            "/tmp/ipykernel_288833/1452329291.py:133: LangGraphDeprecatedSinceV10: create_react_agent has been moved to langchain.agents. Please update your import to 'from langchain.agents import create_agent'. Deprecated in LangGraph V1.0 to be removed in V2.0.\n",
            "  react_agent = create_react_agent(chat_model, tools)\n",
            "/tmp/ipykernel_288833/1452329291.py:133: LangGraphDeprecatedSinceV10: create_react_agent has been moved to langchain.agents. Please update your import to 'from langchain.agents import create_agent'. Deprecated in LangGraph V1.0 to be removed in V2.0.\n",
            "  react_agent = create_react_agent(chat_model, tools)\n",
            "/tmp/ipykernel_288833/1452329291.py:133: LangGraphDeprecatedSinceV10: create_react_agent has been moved to langchain.agents. Please update your import to 'from langchain.agents import create_agent'. Deprecated in LangGraph V1.0 to be removed in V2.0.\n",
            "  react_agent = create_react_agent(chat_model, tools)\n",
            "/tmp/ipykernel_288833/1452329291.py:133: LangGraphDeprecatedSinceV10: create_react_agent has been moved to langchain.agents. Please update your import to 'from langchain.agents import create_agent'. Deprecated in LangGraph V1.0 to be removed in V2.0.\n",
            "  react_agent = create_react_agent(chat_model, tools)\n"
          ]
        },
        {
          "name": "stdout",
          "output_type": "stream",
          "text": [
            "Loading existing database from ./enron_emails.db\n",
            "Loading existing database from ./enron_emails.db\n",
            "Loading existing database from ./enron_emails.dbLoading existing database from ./enron_emails.db\n",
            "\n",
            "Loading existing database from ./enron_emails.db\n",
            "Loading existing database from ./enron_emails.db\n",
            "Loading existing database from ./enron_emails.db\n",
            "Loading existing database from ./enron_emails.db\n",
            "Loading existing database from ./enron_emails.db\n",
            "Loading existing database from ./enron_emails.dbLoading existing database from ./enron_emails.db\n",
            "Loading existing database from ./enron_emails.db\n",
            "\n",
            "Loading existing database from ./enron_emails.dbLoading existing database from ./enron_emails.db\n",
            "Loading existing database from ./enron_emails.db\n",
            "\n",
            "Loading existing database from ./enron_emails.db\n",
            "Loading existing database from ./enron_emails.db\n",
            "Loading existing database from ./enron_emails.db\n",
            "Loading existing database from ./enron_emails.db\n",
            "Loading existing database from ./enron_emails.db\n",
            "Loading existing database from ./enron_emails.db\n"
          ]
        },
        {
          "name": "stderr",
          "output_type": "stream",
          "text": []
        },
        {
          "name": "stdout",
          "output_type": "stream",
          "text": [
            "Loading existing database from ./enron_emails.dbLoading existing database from ./enron_emails.db\n",
            "\n",
            "Loading existing database from ./enron_emails.dbLoading existing database from ./enron_emails.db\n",
            "\n",
            "Loading existing database from ./enron_emails.db\n",
            "Loading existing database from ./enron_emails.db\n",
            "Loading existing database from ./enron_emails.db\n",
            "Loading existing database from ./enron_emails.db\n",
            "Loading existing database from ./enron_emails.db\n",
            "Loading existing database from ./enron_emails.db\n",
            "Loading existing database from ./enron_emails.db\n",
            "Loading existing database from ./enron_emails.db\n",
            "Loading existing database from ./enron_emails.db\n",
            "Loading existing database from ./enron_emails.db\n"
          ]
        },
        {
          "name": "stderr",
          "output_type": "stream",
          "text": []
        },
        {
          "name": "stdout",
          "output_type": "stream",
          "text": [
            "Loading existing database from ./enron_emails.db\n",
            "Loading existing database from ./enron_emails.db\n",
            "Loading existing database from ./enron_emails.db\n",
            "Loading existing database from ./enron_emails.db\n"
          ]
        },
        {
          "name": "stderr",
          "output_type": "stream",
          "text": []
        },
        {
          "name": "stdout",
          "output_type": "stream",
          "text": [
            "Loading existing database from ./enron_emails.db\n",
            "Loading existing database from ./enron_emails.db\n",
            "Loading existing database from ./enron_emails.db\n",
            "Loading existing database from ./enron_emails.db\n",
            "Loading existing database from ./enron_emails.db\n",
            "Loading existing database from ./enron_emails.db\n",
            "Loading existing database from ./enron_emails.db\n"
          ]
        },
        {
          "name": "stderr",
          "output_type": "stream",
          "text": []
        },
        {
          "name": "stdout",
          "output_type": "stream",
          "text": [
            "Loading existing database from ./enron_emails.db\n",
            "Loading existing database from ./enron_emails.db\n"
          ]
        },
        {
          "name": "stderr",
          "output_type": "stream",
          "text": [
            "gather: 100%|██████████| 8/8 [01:13<00:00,  9.20s/it, reward=0, correct=1, completion_tokens=54.4]\n"
          ]
        },
        {
          "data": {
            "text/html": [
              "<pre style=\"white-space:pre;overflow-x:auto;line-height:normal;font-family:Menlo,'DejaVu Sans Mono',consolas,'Courier New',monospace\">\n",
              "<span style=\"font-weight: bold\">[</span>RULER<span style=\"font-weight: bold\">]</span> Pretty-printed LLM choice JSON:\n",
              "</pre>\n"
            ],
            "text/plain": [
              "\n",
              "\u001b[1m[\u001b[0mRULER\u001b[1m]\u001b[0m Pretty-printed LLM choice JSON:\n"
            ]
          },
          "metadata": {},
          "output_type": "display_data"
        },
        {
          "data": {
            "text/html": [
              "<pre style=\"white-space:pre;overflow-x:auto;line-height:normal;font-family:Menlo,'DejaVu Sans Mono',consolas,'Courier New',monospace\"><span style=\"font-weight: bold\">{</span>\n",
              "    <span style=\"color: #008000; text-decoration-color: #008000\">'scores'</span>: <span style=\"font-weight: bold\">[</span>\n",
              "        <span style=\"font-weight: bold\">{</span>\n",
              "            <span style=\"color: #008000; text-decoration-color: #008000\">'trajectory_id'</span>: <span style=\"color: #008000; text-decoration-color: #008000\">'1'</span>,\n",
              "            <span style=\"color: #008000; text-decoration-color: #008000\">'explanation'</span>: <span style=\"color: #008000; text-decoration-color: #008000\">'Correctly finds and reads the email and provides the answer, but fails to use the </span>\n",
              "<span style=\"color: #008000; text-decoration-color: #008000\">required return_final_answer_tool to finalize the response.'</span>,\n",
              "            <span style=\"color: #008000; text-decoration-color: #008000\">'score'</span>: <span style=\"color: #008080; text-decoration-color: #008080; font-weight: bold\">0.5</span>\n",
              "        <span style=\"font-weight: bold\">}</span>,\n",
              "        <span style=\"font-weight: bold\">{</span>\n",
              "            <span style=\"color: #008000; text-decoration-color: #008000\">'trajectory_id'</span>: <span style=\"color: #008000; text-decoration-color: #008000\">'2'</span>,\n",
              "            <span style=\"color: #008000; text-decoration-color: #008000\">'explanation'</span>: <span style=\"color: #008000; text-decoration-color: #008000\">'Efficiently searches, reads the email, uses return_final_answer_tool appropriately, and</span>\n",
              "<span style=\"color: #008000; text-decoration-color: #008000\">provides a concise accurate answer.'</span>,\n",
              "            <span style=\"color: #008000; text-decoration-color: #008000\">'score'</span>: <span style=\"color: #008080; text-decoration-color: #008080; font-weight: bold\">0.95</span>\n",
              "        <span style=\"font-weight: bold\">}</span>,\n",
              "        <span style=\"font-weight: bold\">{</span>\n",
              "            <span style=\"color: #008000; text-decoration-color: #008000\">'trajectory_id'</span>: <span style=\"color: #008000; text-decoration-color: #008000\">'3'</span>,\n",
              "            <span style=\"color: #008000; text-decoration-color: #008000\">'explanation'</span>: <span style=\"color: #008000; text-decoration-color: #008000\">'Also correctly searches, reads, and uses return_final_answer_tool, but includes </span>\n",
              "<span style=\"color: #008000; text-decoration-color: #008000\">slightly more extraneous detail in the final answer.'</span>,\n",
              "            <span style=\"color: #008000; text-decoration-color: #008000\">'score'</span>: <span style=\"color: #008080; text-decoration-color: #008080; font-weight: bold\">0.9</span>\n",
              "        <span style=\"font-weight: bold\">}</span>,\n",
              "        <span style=\"font-weight: bold\">{</span>\n",
              "            <span style=\"color: #008000; text-decoration-color: #008000\">'trajectory_id'</span>: <span style=\"color: #008000; text-decoration-color: #008000\">'4'</span>,\n",
              "            <span style=\"color: #008000; text-decoration-color: #008000\">'explanation'</span>: <span style=\"color: #008000; text-decoration-color: #008000\">'Eventually finds and reads the email and uses the return_final_answer_tool, but wastes </span>\n",
              "<span style=\"color: #008000; text-decoration-color: #008000\">many turns on ineffective searches, making it much less efficient.'</span>,\n",
              "            <span style=\"color: #008000; text-decoration-color: #008000\">'score'</span>: <span style=\"color: #008080; text-decoration-color: #008080; font-weight: bold\">0.3</span>\n",
              "        <span style=\"font-weight: bold\">}</span>\n",
              "    <span style=\"font-weight: bold\">]</span>\n",
              "<span style=\"font-weight: bold\">}</span>\n",
              "</pre>\n"
            ],
            "text/plain": [
              "\u001b[1m{\u001b[0m\n",
              "    \u001b[32m'scores'\u001b[0m: \u001b[1m[\u001b[0m\n",
              "        \u001b[1m{\u001b[0m\n",
              "            \u001b[32m'trajectory_id'\u001b[0m: \u001b[32m'1'\u001b[0m,\n",
              "            \u001b[32m'explanation'\u001b[0m: \u001b[32m'Correctly finds and reads the email and provides the answer, but fails to use the \u001b[0m\n",
              "\u001b[32mrequired return_final_answer_tool to finalize the response.'\u001b[0m,\n",
              "            \u001b[32m'score'\u001b[0m: \u001b[1;36m0.5\u001b[0m\n",
              "        \u001b[1m}\u001b[0m,\n",
              "        \u001b[1m{\u001b[0m\n",
              "            \u001b[32m'trajectory_id'\u001b[0m: \u001b[32m'2'\u001b[0m,\n",
              "            \u001b[32m'explanation'\u001b[0m: \u001b[32m'Efficiently searches, reads the email, uses return_final_answer_tool appropriately, and\u001b[0m\n",
              "\u001b[32mprovides a concise accurate answer.'\u001b[0m,\n",
              "            \u001b[32m'score'\u001b[0m: \u001b[1;36m0.95\u001b[0m\n",
              "        \u001b[1m}\u001b[0m,\n",
              "        \u001b[1m{\u001b[0m\n",
              "            \u001b[32m'trajectory_id'\u001b[0m: \u001b[32m'3'\u001b[0m,\n",
              "            \u001b[32m'explanation'\u001b[0m: \u001b[32m'Also correctly searches, reads, and uses return_final_answer_tool, but includes \u001b[0m\n",
              "\u001b[32mslightly more extraneous detail in the final answer.'\u001b[0m,\n",
              "            \u001b[32m'score'\u001b[0m: \u001b[1;36m0.9\u001b[0m\n",
              "        \u001b[1m}\u001b[0m,\n",
              "        \u001b[1m{\u001b[0m\n",
              "            \u001b[32m'trajectory_id'\u001b[0m: \u001b[32m'4'\u001b[0m,\n",
              "            \u001b[32m'explanation'\u001b[0m: \u001b[32m'Eventually finds and reads the email and uses the return_final_answer_tool, but wastes \u001b[0m\n",
              "\u001b[32mmany turns on ineffective searches, making it much less efficient.'\u001b[0m,\n",
              "            \u001b[32m'score'\u001b[0m: \u001b[1;36m0.3\u001b[0m\n",
              "        \u001b[1m}\u001b[0m\n",
              "    \u001b[1m]\u001b[0m\n",
              "\u001b[1m}\u001b[0m\n"
            ]
          },
          "metadata": {},
          "output_type": "display_data"
        },
        {
          "data": {
            "text/html": [
              "<pre style=\"white-space:pre;overflow-x:auto;line-height:normal;font-family:Menlo,'DejaVu Sans Mono',consolas,'Courier New',monospace\">\n",
              "<span style=\"font-weight: bold\">[</span>RULER<span style=\"font-weight: bold\">]</span> Pretty-printed LLM choice JSON:\n",
              "</pre>\n"
            ],
            "text/plain": [
              "\n",
              "\u001b[1m[\u001b[0mRULER\u001b[1m]\u001b[0m Pretty-printed LLM choice JSON:\n"
            ]
          },
          "metadata": {},
          "output_type": "display_data"
        },
        {
          "data": {
            "text/html": [
              "<pre style=\"white-space:pre;overflow-x:auto;line-height:normal;font-family:Menlo,'DejaVu Sans Mono',consolas,'Courier New',monospace\"><span style=\"font-weight: bold\">{</span>\n",
              "    <span style=\"color: #008000; text-decoration-color: #008000\">'scores'</span>: <span style=\"font-weight: bold\">[</span>\n",
              "        <span style=\"font-weight: bold\">{</span>\n",
              "            <span style=\"color: #008000; text-decoration-color: #008000\">'trajectory_id'</span>: <span style=\"color: #008000; text-decoration-color: #008000\">'1'</span>,\n",
              "            <span style=\"color: #008000; text-decoration-color: #008000\">'explanation'</span>: <span style=\"color: #008000; text-decoration-color: #008000\">'Repeated identical searches with slight keyword variations but never found or reported </span>\n",
              "<span style=\"color: #008000; text-decoration-color: #008000\">the answer — no meaningful progress.'</span>,\n",
              "            <span style=\"color: #008000; text-decoration-color: #008000\">'score'</span>: <span style=\"color: #008080; text-decoration-color: #008080; font-weight: bold\">0.05</span>\n",
              "        <span style=\"font-weight: bold\">}</span>,\n",
              "        <span style=\"font-weight: bold\">{</span>\n",
              "            <span style=\"color: #008000; text-decoration-color: #008000\">'trajectory_id'</span>: <span style=\"color: #008000; text-decoration-color: #008000\">'2'</span>,\n",
              "            <span style=\"color: #008000; text-decoration-color: #008000\">'explanation'</span>: <span style=\"color: #008000; text-decoration-color: #008000\">'Like trajectory 1, it loops through keyword variants without locating or returning the </span>\n",
              "<span style=\"color: #008000; text-decoration-color: #008000\">scheduled date.'</span>,\n",
              "            <span style=\"color: #008000; text-decoration-color: #008000\">'score'</span>: <span style=\"color: #008080; text-decoration-color: #008080; font-weight: bold\">0.05</span>\n",
              "        <span style=\"font-weight: bold\">}</span>,\n",
              "        <span style=\"font-weight: bold\">{</span>\n",
              "            <span style=\"color: #008000; text-decoration-color: #008000\">'trajectory_id'</span>: <span style=\"color: #008000; text-decoration-color: #008000\">'3'</span>,\n",
              "            <span style=\"color: #008000; text-decoration-color: #008000\">'explanation'</span>: <span style=\"color: #008000; text-decoration-color: #008000\">'Gets stuck in repetitive searches and even outputs gibberish, making no progress toward</span>\n",
              "<span style=\"color: #008000; text-decoration-color: #008000\">the goal.'</span>,\n",
              "            <span style=\"color: #008000; text-decoration-color: #008000\">'score'</span>: <span style=\"color: #008080; text-decoration-color: #008080; font-weight: bold\">0.0</span>\n",
              "        <span style=\"font-weight: bold\">}</span>,\n",
              "        <span style=\"font-weight: bold\">{</span>\n",
              "            <span style=\"color: #008000; text-decoration-color: #008000\">'trajectory_id'</span>: <span style=\"color: #008000; text-decoration-color: #008000\">'4'</span>,\n",
              "            <span style=\"color: #008000; text-decoration-color: #008000\">'explanation'</span>: <span style=\"color: #008000; text-decoration-color: #008000\">'Successfully retrieved emails and proposed a date (December 13, 2000), then attempted </span>\n",
              "<span style=\"color: #008000; text-decoration-color: #008000\">to confirm—partial success but didn’t complete the confirmation step.'</span>,\n",
              "            <span style=\"color: #008000; text-decoration-color: #008000\">'score'</span>: <span style=\"color: #008080; text-decoration-color: #008080; font-weight: bold\">0.5</span>\n",
              "        <span style=\"font-weight: bold\">}</span>\n",
              "    <span style=\"font-weight: bold\">]</span>\n",
              "<span style=\"font-weight: bold\">}</span>\n",
              "</pre>\n"
            ],
            "text/plain": [
              "\u001b[1m{\u001b[0m\n",
              "    \u001b[32m'scores'\u001b[0m: \u001b[1m[\u001b[0m\n",
              "        \u001b[1m{\u001b[0m\n",
              "            \u001b[32m'trajectory_id'\u001b[0m: \u001b[32m'1'\u001b[0m,\n",
              "            \u001b[32m'explanation'\u001b[0m: \u001b[32m'Repeated identical searches with slight keyword variations but never found or reported \u001b[0m\n",
              "\u001b[32mthe answer — no meaningful progress.'\u001b[0m,\n",
              "            \u001b[32m'score'\u001b[0m: \u001b[1;36m0.05\u001b[0m\n",
              "        \u001b[1m}\u001b[0m,\n",
              "        \u001b[1m{\u001b[0m\n",
              "            \u001b[32m'trajectory_id'\u001b[0m: \u001b[32m'2'\u001b[0m,\n",
              "            \u001b[32m'explanation'\u001b[0m: \u001b[32m'Like trajectory 1, it loops through keyword variants without locating or returning the \u001b[0m\n",
              "\u001b[32mscheduled date.'\u001b[0m,\n",
              "            \u001b[32m'score'\u001b[0m: \u001b[1;36m0.05\u001b[0m\n",
              "        \u001b[1m}\u001b[0m,\n",
              "        \u001b[1m{\u001b[0m\n",
              "            \u001b[32m'trajectory_id'\u001b[0m: \u001b[32m'3'\u001b[0m,\n",
              "            \u001b[32m'explanation'\u001b[0m: \u001b[32m'Gets stuck in repetitive searches and even outputs gibberish, making no progress toward\u001b[0m\n",
              "\u001b[32mthe goal.'\u001b[0m,\n",
              "            \u001b[32m'score'\u001b[0m: \u001b[1;36m0.0\u001b[0m\n",
              "        \u001b[1m}\u001b[0m,\n",
              "        \u001b[1m{\u001b[0m\n",
              "            \u001b[32m'trajectory_id'\u001b[0m: \u001b[32m'4'\u001b[0m,\n",
              "            \u001b[32m'explanation'\u001b[0m: \u001b[32m'Successfully retrieved emails and proposed a date \u001b[0m\u001b[32m(\u001b[0m\u001b[32mDecember 13, 2000\u001b[0m\u001b[32m)\u001b[0m\u001b[32m, then attempted \u001b[0m\n",
              "\u001b[32mto confirm—partial success but didn’t complete the confirmation step.'\u001b[0m,\n",
              "            \u001b[32m'score'\u001b[0m: \u001b[1;36m0.5\u001b[0m\n",
              "        \u001b[1m}\u001b[0m\n",
              "    \u001b[1m]\u001b[0m\n",
              "\u001b[1m}\u001b[0m\n"
            ]
          },
          "metadata": {},
          "output_type": "display_data"
        },
        {
          "name": "stdout",
          "output_type": "stream",
          "text": [
            "No \"val/reward\" metric found in history\n",
            "Deleted checkpoint ./.art/email-search-agent-langgraph/models/email-agent-langgraph-001/checkpoints/0003\n",
            "Packed 8 trajectories into 5 sequences of length 2048\n"
          ]
        },
        {
          "name": "stderr",
          "output_type": "stream",
          "text": [
            "train: 100%|██████████| 5/5 [00:18<00:00,  3.71s/it, loss=-0.437, grad_norm=0.49, policy_loss=-0.437, entropy=0.19]\n",
            "Iterating dataset:   1%|          | 5/500 [11:45<18:01:01, 131.03s/batch]"
          ]
        },
        {
          "name": "stdout",
          "output_type": "stream",
          "text": [
            "Completed training step 4\n",
            "Training step 5, epoch 0, epoch step 5\n",
            "Batch contains 2 scenarios\n",
            "<art.trajectories.TrajectoryGroup.__new__.<locals>.CoroutineWithMetadata object at 0x755cac443990>\n"
          ]
        },
        {
          "name": "stderr",
          "output_type": "stream",
          "text": [
            "/tmp/ipykernel_288833/1452329291.py:133: LangGraphDeprecatedSinceV10: create_react_agent has been moved to langchain.agents. Please update your import to 'from langchain.agents import create_agent'. Deprecated in LangGraph V1.0 to be removed in V2.0.\n",
            "  react_agent = create_react_agent(chat_model, tools)\n",
            "/tmp/ipykernel_288833/1452329291.py:133: LangGraphDeprecatedSinceV10: create_react_agent has been moved to langchain.agents. Please update your import to 'from langchain.agents import create_agent'. Deprecated in LangGraph V1.0 to be removed in V2.0.\n",
            "  react_agent = create_react_agent(chat_model, tools)\n",
            "/tmp/ipykernel_288833/1452329291.py:133: LangGraphDeprecatedSinceV10: create_react_agent has been moved to langchain.agents. Please update your import to 'from langchain.agents import create_agent'. Deprecated in LangGraph V1.0 to be removed in V2.0.\n",
            "  react_agent = create_react_agent(chat_model, tools)\n",
            "/tmp/ipykernel_288833/1452329291.py:133: LangGraphDeprecatedSinceV10: create_react_agent has been moved to langchain.agents. Please update your import to 'from langchain.agents import create_agent'. Deprecated in LangGraph V1.0 to be removed in V2.0.\n",
            "  react_agent = create_react_agent(chat_model, tools)\n",
            "/tmp/ipykernel_288833/1452329291.py:133: LangGraphDeprecatedSinceV10: create_react_agent has been moved to langchain.agents. Please update your import to 'from langchain.agents import create_agent'. Deprecated in LangGraph V1.0 to be removed in V2.0.\n",
            "  react_agent = create_react_agent(chat_model, tools)\n",
            "/tmp/ipykernel_288833/1452329291.py:133: LangGraphDeprecatedSinceV10: create_react_agent has been moved to langchain.agents. Please update your import to 'from langchain.agents import create_agent'. Deprecated in LangGraph V1.0 to be removed in V2.0.\n",
            "  react_agent = create_react_agent(chat_model, tools)\n",
            "/tmp/ipykernel_288833/1452329291.py:133: LangGraphDeprecatedSinceV10: create_react_agent has been moved to langchain.agents. Please update your import to 'from langchain.agents import create_agent'. Deprecated in LangGraph V1.0 to be removed in V2.0.\n",
            "  react_agent = create_react_agent(chat_model, tools)\n",
            "/tmp/ipykernel_288833/1452329291.py:133: LangGraphDeprecatedSinceV10: create_react_agent has been moved to langchain.agents. Please update your import to 'from langchain.agents import create_agent'. Deprecated in LangGraph V1.0 to be removed in V2.0.\n",
            "  react_agent = create_react_agent(chat_model, tools)\n"
          ]
        },
        {
          "name": "stdout",
          "output_type": "stream",
          "text": [
            "Loading existing database from ./enron_emails.dbLoading existing database from ./enron_emails.db\n",
            "\n",
            "Loading existing database from ./enron_emails.db\n",
            "Loading existing database from ./enron_emails.db\n",
            "Loading existing database from ./enron_emails.db\n",
            "Loading existing database from ./enron_emails.dbLoading existing database from ./enron_emails.db\n",
            "\n",
            "Loading existing database from ./enron_emails.db\n",
            "Loading existing database from ./enron_emails.db\n",
            "Loading existing database from ./enron_emails.db\n",
            "Loading existing database from ./enron_emails.db\n",
            "Loading existing database from ./enron_emails.db\n",
            "Loading existing database from ./enron_emails.db\n",
            "Loading existing database from ./enron_emails.db\n",
            "Loading existing database from ./enron_emails.db\n",
            "Loading existing database from ./enron_emails.db\n",
            "Loading existing database from ./enron_emails.db\n",
            "Loading existing database from ./enron_emails.db\n",
            "Loading existing database from ./enron_emails.db\n",
            "Loading existing database from ./enron_emails.db\n",
            "Loading existing database from ./enron_emails.db\n",
            "Loading existing database from ./enron_emails.db\n",
            "Loading existing database from ./enron_emails.db\n",
            "Loading existing database from ./enron_emails.db\n"
          ]
        },
        {
          "name": "stderr",
          "output_type": "stream",
          "text": []
        },
        {
          "name": "stdout",
          "output_type": "stream",
          "text": [
            "Loading existing database from ./enron_emails.db\n",
            "Loading existing database from ./enron_emails.db\n",
            "Loading existing database from ./enron_emails.db\n",
            "Loading existing database from ./enron_emails.db\n",
            "Loading existing database from ./enron_emails.db\n",
            "Loading existing database from ./enron_emails.db\n"
          ]
        },
        {
          "name": "stderr",
          "output_type": "stream",
          "text": []
        },
        {
          "name": "stdout",
          "output_type": "stream",
          "text": [
            "Loading existing database from ./enron_emails.dbLoading existing database from ./enron_emails.db\n",
            "\n",
            "Loading existing database from ./enron_emails.db\n",
            "Loading existing database from ./enron_emails.dbLoading existing database from ./enron_emails.db\n",
            "\n",
            "Loading existing database from ./enron_emails.db\n",
            "Loading existing database from ./enron_emails.db\n"
          ]
        },
        {
          "name": "stderr",
          "output_type": "stream",
          "text": []
        },
        {
          "name": "stdout",
          "output_type": "stream",
          "text": [
            "Loading existing database from ./enron_emails.db\n",
            "Loading existing database from ./enron_emails.db\n",
            "Loading existing database from ./enron_emails.db\n",
            "Loading existing database from ./enron_emails.db\n"
          ]
        },
        {
          "name": "stderr",
          "output_type": "stream",
          "text": []
        },
        {
          "name": "stdout",
          "output_type": "stream",
          "text": [
            "Loading existing database from ./enron_emails.db\n",
            "Loading existing database from ./enron_emails.db\n",
            "Loading existing database from ./enron_emails.db\n",
            "Loading existing database from ./enron_emails.db\n"
          ]
        },
        {
          "name": "stderr",
          "output_type": "stream",
          "text": [
            "gather: 100%|██████████| 8/8 [01:23<00:00, 10.44s/it, reward=0, correct=1, completion_tokens=78.7]\n"
          ]
        },
        {
          "data": {
            "text/html": [
              "<pre style=\"white-space:pre;overflow-x:auto;line-height:normal;font-family:Menlo,'DejaVu Sans Mono',consolas,'Courier New',monospace\">\n",
              "<span style=\"font-weight: bold\">[</span>RULER<span style=\"font-weight: bold\">]</span> Pretty-printed LLM choice JSON:\n",
              "</pre>\n"
            ],
            "text/plain": [
              "\n",
              "\u001b[1m[\u001b[0mRULER\u001b[1m]\u001b[0m Pretty-printed LLM choice JSON:\n"
            ]
          },
          "metadata": {},
          "output_type": "display_data"
        },
        {
          "data": {
            "text/html": [
              "<pre style=\"white-space:pre;overflow-x:auto;line-height:normal;font-family:Menlo,'DejaVu Sans Mono',consolas,'Courier New',monospace\"><span style=\"font-weight: bold\">{</span>\n",
              "    <span style=\"color: #008000; text-decoration-color: #008000\">'scores'</span>: <span style=\"font-weight: bold\">[</span>\n",
              "        <span style=\"font-weight: bold\">{</span>\n",
              "            <span style=\"color: #008000; text-decoration-color: #008000\">'trajectory_id'</span>: <span style=\"color: #008000; text-decoration-color: #008000\">'1'</span>,\n",
              "            <span style=\"color: #008000; text-decoration-color: #008000\">'explanation'</span>: <span style=\"color: #008000; text-decoration-color: #008000\">'Repeated identical searches without reading results or advancing toward an answer, no </span>\n",
              "<span style=\"color: #008000; text-decoration-color: #008000\">progress made.'</span>,\n",
              "            <span style=\"color: #008000; text-decoration-color: #008000\">'score'</span>: <span style=\"color: #008080; text-decoration-color: #008080; font-weight: bold\">0.0</span>\n",
              "        <span style=\"font-weight: bold\">}</span>,\n",
              "        <span style=\"font-weight: bold\">{</span>\n",
              "            <span style=\"color: #008000; text-decoration-color: #008000\">'trajectory_id'</span>: <span style=\"color: #008000; text-decoration-color: #008000\">'2'</span>,\n",
              "            <span style=\"color: #008000; text-decoration-color: #008000\">'explanation'</span>: <span style=\"color: #008000; text-decoration-color: #008000\">'Executed searches and recognized no hits, then refined keywords—some progress but still</span>\n",
              "<span style=\"color: #008000; text-decoration-color: #008000\">no answer found.'</span>,\n",
              "            <span style=\"color: #008000; text-decoration-color: #008000\">'score'</span>: <span style=\"color: #008080; text-decoration-color: #008080; font-weight: bold\">0.3</span>\n",
              "        <span style=\"font-weight: bold\">}</span>,\n",
              "        <span style=\"font-weight: bold\">{</span>\n",
              "            <span style=\"color: #008000; text-decoration-color: #008000\">'trajectory_id'</span>: <span style=\"color: #008000; text-decoration-color: #008000\">'3'</span>,\n",
              "            <span style=\"color: #008000; text-decoration-color: #008000\">'explanation'</span>: <span style=\"color: #008000; text-decoration-color: #008000\">'Performed searches but did not refine effectively or retrieve relevant content, ending </span>\n",
              "<span style=\"color: #008000; text-decoration-color: #008000\">by asking for more context—limited progress.'</span>,\n",
              "            <span style=\"color: #008000; text-decoration-color: #008000\">'score'</span>: <span style=\"color: #008080; text-decoration-color: #008080; font-weight: bold\">0.2</span>\n",
              "        <span style=\"font-weight: bold\">}</span>,\n",
              "        <span style=\"font-weight: bold\">{</span>\n",
              "            <span style=\"color: #008000; text-decoration-color: #008000\">'trajectory_id'</span>: <span style=\"color: #008000; text-decoration-color: #008000\">'4'</span>,\n",
              "            <span style=\"color: #008000; text-decoration-color: #008000\">'explanation'</span>: <span style=\"color: #008000; text-decoration-color: #008000\">'Searched successfully, identified a relevant email and attempted to read it—substantial</span>\n",
              "<span style=\"color: #008000; text-decoration-color: #008000\">progress but no final answer delivered.'</span>,\n",
              "            <span style=\"color: #008000; text-decoration-color: #008000\">'score'</span>: <span style=\"color: #008080; text-decoration-color: #008080; font-weight: bold\">0.5</span>\n",
              "        <span style=\"font-weight: bold\">}</span>\n",
              "    <span style=\"font-weight: bold\">]</span>\n",
              "<span style=\"font-weight: bold\">}</span>\n",
              "</pre>\n"
            ],
            "text/plain": [
              "\u001b[1m{\u001b[0m\n",
              "    \u001b[32m'scores'\u001b[0m: \u001b[1m[\u001b[0m\n",
              "        \u001b[1m{\u001b[0m\n",
              "            \u001b[32m'trajectory_id'\u001b[0m: \u001b[32m'1'\u001b[0m,\n",
              "            \u001b[32m'explanation'\u001b[0m: \u001b[32m'Repeated identical searches without reading results or advancing toward an answer, no \u001b[0m\n",
              "\u001b[32mprogress made.'\u001b[0m,\n",
              "            \u001b[32m'score'\u001b[0m: \u001b[1;36m0.0\u001b[0m\n",
              "        \u001b[1m}\u001b[0m,\n",
              "        \u001b[1m{\u001b[0m\n",
              "            \u001b[32m'trajectory_id'\u001b[0m: \u001b[32m'2'\u001b[0m,\n",
              "            \u001b[32m'explanation'\u001b[0m: \u001b[32m'Executed searches and recognized no hits, then refined keywords—some progress but still\u001b[0m\n",
              "\u001b[32mno answer found.'\u001b[0m,\n",
              "            \u001b[32m'score'\u001b[0m: \u001b[1;36m0.3\u001b[0m\n",
              "        \u001b[1m}\u001b[0m,\n",
              "        \u001b[1m{\u001b[0m\n",
              "            \u001b[32m'trajectory_id'\u001b[0m: \u001b[32m'3'\u001b[0m,\n",
              "            \u001b[32m'explanation'\u001b[0m: \u001b[32m'Performed searches but did not refine effectively or retrieve relevant content, ending \u001b[0m\n",
              "\u001b[32mby asking for more context—limited progress.'\u001b[0m,\n",
              "            \u001b[32m'score'\u001b[0m: \u001b[1;36m0.2\u001b[0m\n",
              "        \u001b[1m}\u001b[0m,\n",
              "        \u001b[1m{\u001b[0m\n",
              "            \u001b[32m'trajectory_id'\u001b[0m: \u001b[32m'4'\u001b[0m,\n",
              "            \u001b[32m'explanation'\u001b[0m: \u001b[32m'Searched successfully, identified a relevant email and attempted to read it—substantial\u001b[0m\n",
              "\u001b[32mprogress but no final answer delivered.'\u001b[0m,\n",
              "            \u001b[32m'score'\u001b[0m: \u001b[1;36m0.5\u001b[0m\n",
              "        \u001b[1m}\u001b[0m\n",
              "    \u001b[1m]\u001b[0m\n",
              "\u001b[1m}\u001b[0m\n"
            ]
          },
          "metadata": {},
          "output_type": "display_data"
        },
        {
          "data": {
            "text/html": [
              "<pre style=\"white-space:pre;overflow-x:auto;line-height:normal;font-family:Menlo,'DejaVu Sans Mono',consolas,'Courier New',monospace\">\n",
              "<span style=\"font-weight: bold\">[</span>RULER<span style=\"font-weight: bold\">]</span> Pretty-printed LLM choice JSON:\n",
              "</pre>\n"
            ],
            "text/plain": [
              "\n",
              "\u001b[1m[\u001b[0mRULER\u001b[1m]\u001b[0m Pretty-printed LLM choice JSON:\n"
            ]
          },
          "metadata": {},
          "output_type": "display_data"
        },
        {
          "data": {
            "text/html": [
              "<pre style=\"white-space:pre;overflow-x:auto;line-height:normal;font-family:Menlo,'DejaVu Sans Mono',consolas,'Courier New',monospace\"><span style=\"font-weight: bold\">{</span>\n",
              "    <span style=\"color: #008000; text-decoration-color: #008000\">'scores'</span>: <span style=\"font-weight: bold\">[</span>\n",
              "        <span style=\"font-weight: bold\">{</span>\n",
              "            <span style=\"color: #008000; text-decoration-color: #008000\">'trajectory_id'</span>: <span style=\"color: #008000; text-decoration-color: #008000\">'1'</span>,\n",
              "            <span style=\"color: #008000; text-decoration-color: #008000\">'explanation'</span>: <span style=\"color: #008000; text-decoration-color: #008000\">'Found relevant messages but returned a vague/incorrect answer without the actual FERC </span>\n",
              "<span style=\"color: #008000; text-decoration-color: #008000\">URL.'</span>,\n",
              "            <span style=\"color: #008000; text-decoration-color: #008000\">'score'</span>: <span style=\"color: #008080; text-decoration-color: #008080; font-weight: bold\">0.1</span>\n",
              "        <span style=\"font-weight: bold\">}</span>,\n",
              "        <span style=\"font-weight: bold\">{</span>\n",
              "            <span style=\"color: #008000; text-decoration-color: #008000\">'trajectory_id'</span>: <span style=\"color: #008000; text-decoration-color: #008000\">'2'</span>,\n",
              "            <span style=\"color: #008000; text-decoration-color: #008000\">'explanation'</span>: <span style=\"color: #008000; text-decoration-color: #008000\">'Correctly read the key email, returned the proper FERC site and link, and cited the </span>\n",
              "<span style=\"color: #008000; text-decoration-color: #008000\">source efficiently.'</span>,\n",
              "            <span style=\"color: #008000; text-decoration-color: #008000\">'score'</span>: <span style=\"color: #008080; text-decoration-color: #008080; font-weight: bold\">0.9</span>\n",
              "        <span style=\"font-weight: bold\">}</span>,\n",
              "        <span style=\"font-weight: bold\">{</span>\n",
              "            <span style=\"color: #008000; text-decoration-color: #008000\">'trajectory_id'</span>: <span style=\"color: #008000; text-decoration-color: #008000\">'3'</span>,\n",
              "            <span style=\"color: #008000; text-decoration-color: #008000\">'explanation'</span>: <span style=\"color: #008000; text-decoration-color: #008000\">'Efficiently identified and read the right email, gave the exact FERC URL and the Bulk </span>\n",
              "<span style=\"color: #008000; text-decoration-color: #008000\">Power Markets link with source reference.'</span>,\n",
              "            <span style=\"color: #008000; text-decoration-color: #008000\">'score'</span>: <span style=\"color: #008080; text-decoration-color: #008080; font-weight: bold\">0.95</span>\n",
              "        <span style=\"font-weight: bold\">}</span>,\n",
              "        <span style=\"font-weight: bold\">{</span>\n",
              "            <span style=\"color: #008000; text-decoration-color: #008000\">'trajectory_id'</span>: <span style=\"color: #008000; text-decoration-color: #008000\">'4'</span>,\n",
              "            <span style=\"color: #008000; text-decoration-color: #008000\">'explanation'</span>: <span style=\"color: #008000; text-decoration-color: #008000\">'Did multiple searches and reads but never extracted or returned the answer.'</span>,\n",
              "            <span style=\"color: #008000; text-decoration-color: #008000\">'score'</span>: <span style=\"color: #008080; text-decoration-color: #008080; font-weight: bold\">0.0</span>\n",
              "        <span style=\"font-weight: bold\">}</span>\n",
              "    <span style=\"font-weight: bold\">]</span>\n",
              "<span style=\"font-weight: bold\">}</span>\n",
              "</pre>\n"
            ],
            "text/plain": [
              "\u001b[1m{\u001b[0m\n",
              "    \u001b[32m'scores'\u001b[0m: \u001b[1m[\u001b[0m\n",
              "        \u001b[1m{\u001b[0m\n",
              "            \u001b[32m'trajectory_id'\u001b[0m: \u001b[32m'1'\u001b[0m,\n",
              "            \u001b[32m'explanation'\u001b[0m: \u001b[32m'Found relevant messages but returned a vague/incorrect answer without the actual FERC \u001b[0m\n",
              "\u001b[32mURL.'\u001b[0m,\n",
              "            \u001b[32m'score'\u001b[0m: \u001b[1;36m0.1\u001b[0m\n",
              "        \u001b[1m}\u001b[0m,\n",
              "        \u001b[1m{\u001b[0m\n",
              "            \u001b[32m'trajectory_id'\u001b[0m: \u001b[32m'2'\u001b[0m,\n",
              "            \u001b[32m'explanation'\u001b[0m: \u001b[32m'Correctly read the key email, returned the proper FERC site and link, and cited the \u001b[0m\n",
              "\u001b[32msource efficiently.'\u001b[0m,\n",
              "            \u001b[32m'score'\u001b[0m: \u001b[1;36m0.9\u001b[0m\n",
              "        \u001b[1m}\u001b[0m,\n",
              "        \u001b[1m{\u001b[0m\n",
              "            \u001b[32m'trajectory_id'\u001b[0m: \u001b[32m'3'\u001b[0m,\n",
              "            \u001b[32m'explanation'\u001b[0m: \u001b[32m'Efficiently identified and read the right email, gave the exact FERC URL and the Bulk \u001b[0m\n",
              "\u001b[32mPower Markets link with source reference.'\u001b[0m,\n",
              "            \u001b[32m'score'\u001b[0m: \u001b[1;36m0.95\u001b[0m\n",
              "        \u001b[1m}\u001b[0m,\n",
              "        \u001b[1m{\u001b[0m\n",
              "            \u001b[32m'trajectory_id'\u001b[0m: \u001b[32m'4'\u001b[0m,\n",
              "            \u001b[32m'explanation'\u001b[0m: \u001b[32m'Did multiple searches and reads but never extracted or returned the answer.'\u001b[0m,\n",
              "            \u001b[32m'score'\u001b[0m: \u001b[1;36m0.0\u001b[0m\n",
              "        \u001b[1m}\u001b[0m\n",
              "    \u001b[1m]\u001b[0m\n",
              "\u001b[1m}\u001b[0m\n"
            ]
          },
          "metadata": {},
          "output_type": "display_data"
        },
        {
          "name": "stdout",
          "output_type": "stream",
          "text": [
            "No \"val/reward\" metric found in history\n",
            "Deleted checkpoint ./.art/email-search-agent-langgraph/models/email-agent-langgraph-001/checkpoints/0004\n",
            "Packed 8 trajectories into 6 sequences of length 2048\n"
          ]
        },
        {
          "name": "stderr",
          "output_type": "stream",
          "text": [
            "train: 100%|██████████| 6/6 [00:20<00:00,  3.43s/it, loss=-1.15, grad_norm=0.459, policy_loss=-1.15, entropy=0.235]\n",
            "Iterating dataset:   1%|          | 6/500 [13:51<17:44:14, 129.26s/batch]"
          ]
        },
        {
          "name": "stdout",
          "output_type": "stream",
          "text": [
            "Completed training step 5\n",
            "Training step 6, epoch 0, epoch step 6\n",
            "Batch contains 2 scenarios\n",
            "<art.trajectories.TrajectoryGroup.__new__.<locals>.CoroutineWithMetadata object at 0x755d70116710>\n"
          ]
        },
        {
          "name": "stderr",
          "output_type": "stream",
          "text": [
            "/tmp/ipykernel_288833/1452329291.py:133: LangGraphDeprecatedSinceV10: create_react_agent has been moved to langchain.agents. Please update your import to 'from langchain.agents import create_agent'. Deprecated in LangGraph V1.0 to be removed in V2.0.\n",
            "  react_agent = create_react_agent(chat_model, tools)\n",
            "/tmp/ipykernel_288833/1452329291.py:133: LangGraphDeprecatedSinceV10: create_react_agent has been moved to langchain.agents. Please update your import to 'from langchain.agents import create_agent'. Deprecated in LangGraph V1.0 to be removed in V2.0.\n",
            "  react_agent = create_react_agent(chat_model, tools)\n",
            "/tmp/ipykernel_288833/1452329291.py:133: LangGraphDeprecatedSinceV10: create_react_agent has been moved to langchain.agents. Please update your import to 'from langchain.agents import create_agent'. Deprecated in LangGraph V1.0 to be removed in V2.0.\n",
            "  react_agent = create_react_agent(chat_model, tools)\n",
            "/tmp/ipykernel_288833/1452329291.py:133: LangGraphDeprecatedSinceV10: create_react_agent has been moved to langchain.agents. Please update your import to 'from langchain.agents import create_agent'. Deprecated in LangGraph V1.0 to be removed in V2.0.\n",
            "  react_agent = create_react_agent(chat_model, tools)\n",
            "/tmp/ipykernel_288833/1452329291.py:133: LangGraphDeprecatedSinceV10: create_react_agent has been moved to langchain.agents. Please update your import to 'from langchain.agents import create_agent'. Deprecated in LangGraph V1.0 to be removed in V2.0.\n",
            "  react_agent = create_react_agent(chat_model, tools)\n",
            "/tmp/ipykernel_288833/1452329291.py:133: LangGraphDeprecatedSinceV10: create_react_agent has been moved to langchain.agents. Please update your import to 'from langchain.agents import create_agent'. Deprecated in LangGraph V1.0 to be removed in V2.0.\n",
            "  react_agent = create_react_agent(chat_model, tools)\n",
            "/tmp/ipykernel_288833/1452329291.py:133: LangGraphDeprecatedSinceV10: create_react_agent has been moved to langchain.agents. Please update your import to 'from langchain.agents import create_agent'. Deprecated in LangGraph V1.0 to be removed in V2.0.\n",
            "  react_agent = create_react_agent(chat_model, tools)\n",
            "/tmp/ipykernel_288833/1452329291.py:133: LangGraphDeprecatedSinceV10: create_react_agent has been moved to langchain.agents. Please update your import to 'from langchain.agents import create_agent'. Deprecated in LangGraph V1.0 to be removed in V2.0.\n",
            "  react_agent = create_react_agent(chat_model, tools)\n"
          ]
        },
        {
          "name": "stdout",
          "output_type": "stream",
          "text": [
            "Loading existing database from ./enron_emails.dbLoading existing database from ./enron_emails.db\n",
            "Loading existing database from ./enron_emails.db\n",
            "Loading existing database from ./enron_emails.db\n",
            "\n",
            "Loading existing database from ./enron_emails.db\n",
            "Loading existing database from ./enron_emails.db\n",
            "Loading existing database from ./enron_emails.db\n",
            "Loading existing database from ./enron_emails.db\n",
            "Loading existing database from ./enron_emails.db\n",
            "Loading existing database from ./enron_emails.db\n",
            "Loading existing database from ./enron_emails.db\n",
            "Loading existing database from ./enron_emails.db\n",
            "Loading existing database from ./enron_emails.db\n",
            "Loading existing database from ./enron_emails.db\n",
            "Loading existing database from ./enron_emails.db\n",
            "Loading existing database from ./enron_emails.db\n",
            "Loading existing database from ./enron_emails.db\n",
            "Loading existing database from ./enron_emails.dbLoading existing database from ./enron_emails.db\n",
            "\n",
            "Loading existing database from ./enron_emails.db\n",
            "Loading existing database from ./enron_emails.db\n",
            "Loading existing database from ./enron_emails.db\n",
            "Loading existing database from ./enron_emails.db\n",
            "Loading existing database from ./enron_emails.db\n",
            "Loading existing database from ./enron_emails.db\n",
            "Loading existing database from ./enron_emails.db\n",
            "Loading existing database from ./enron_emails.db\n",
            "Loading existing database from ./enron_emails.db\n",
            "Loading existing database from ./enron_emails.db\n",
            "Loading existing database from ./enron_emails.dbLoading existing database from ./enron_emails.db\n",
            "\n",
            "Loading existing database from ./enron_emails.db\n",
            "Loading existing database from ./enron_emails.db\n",
            "Loading existing database from ./enron_emails.db\n",
            "Loading existing database from ./enron_emails.db\n",
            "Loading existing database from ./enron_emails.db\n",
            "Loading existing database from ./enron_emails.db\n",
            "Loading existing database from ./enron_emails.db\n",
            "Loading existing database from ./enron_emails.db\n",
            "Loading existing database from ./enron_emails.db\n",
            "Loading existing database from ./enron_emails.db\n",
            "Loading existing database from ./enron_emails.db\n",
            "Loading existing database from ./enron_emails.db\n",
            "Loading existing database from ./enron_emails.db\n",
            "Loading existing database from ./enron_emails.db\n",
            "Loading existing database from ./enron_emails.db\n",
            "Loading existing database from ./enron_emails.db\n",
            "Loading existing database from ./enron_emails.db\n",
            "Loading existing database from ./enron_emails.db\n"
          ]
        },
        {
          "name": "stderr",
          "output_type": "stream",
          "text": []
        },
        {
          "name": "stdout",
          "output_type": "stream",
          "text": [
            "Loading existing database from ./enron_emails.db\n",
            "Loading existing database from ./enron_emails.db\n",
            "Loading existing database from ./enron_emails.db\n",
            "Loading existing database from ./enron_emails.db\n",
            "Loading existing database from ./enron_emails.db\n"
          ]
        },
        {
          "name": "stderr",
          "output_type": "stream",
          "text": []
        },
        {
          "name": "stdout",
          "output_type": "stream",
          "text": [
            "Loading existing database from ./enron_emails.db\n",
            "Loading existing database from ./enron_emails.db\n",
            "Loading existing database from ./enron_emails.db\n",
            "Loading existing database from ./enron_emails.db\n"
          ]
        },
        {
          "name": "stderr",
          "output_type": "stream",
          "text": []
        },
        {
          "name": "stdout",
          "output_type": "stream",
          "text": [
            "Loading existing database from ./enron_emails.db\n",
            "Loading existing database from ./enron_emails.db\n"
          ]
        },
        {
          "name": "stderr",
          "output_type": "stream",
          "text": []
        },
        {
          "name": "stdout",
          "output_type": "stream",
          "text": [
            "Loading existing database from ./enron_emails.db\n"
          ]
        },
        {
          "name": "stderr",
          "output_type": "stream",
          "text": [
            "gather: 100%|██████████| 8/8 [01:26<00:00, 10.86s/it, reward=0, correct=1, completion_tokens=54]\n"
          ]
        },
        {
          "data": {
            "text/html": [
              "<pre style=\"white-space:pre;overflow-x:auto;line-height:normal;font-family:Menlo,'DejaVu Sans Mono',consolas,'Courier New',monospace\">\n",
              "<span style=\"font-weight: bold\">[</span>RULER<span style=\"font-weight: bold\">]</span> Pretty-printed LLM choice JSON:\n",
              "</pre>\n"
            ],
            "text/plain": [
              "\n",
              "\u001b[1m[\u001b[0mRULER\u001b[1m]\u001b[0m Pretty-printed LLM choice JSON:\n"
            ]
          },
          "metadata": {},
          "output_type": "display_data"
        },
        {
          "data": {
            "text/html": [
              "<pre style=\"white-space:pre;overflow-x:auto;line-height:normal;font-family:Menlo,'DejaVu Sans Mono',consolas,'Courier New',monospace\"><span style=\"font-weight: bold\">{</span>\n",
              "    <span style=\"color: #008000; text-decoration-color: #008000\">'scores'</span>: <span style=\"font-weight: bold\">[</span>\n",
              "        <span style=\"font-weight: bold\">{</span>\n",
              "            <span style=\"color: #008000; text-decoration-color: #008000\">'trajectory_id'</span>: <span style=\"color: #008000; text-decoration-color: #008000\">'1'</span>,\n",
              "            <span style=\"color: #008000; text-decoration-color: #008000\">'explanation'</span>: <span style=\"color: #008000; text-decoration-color: #008000\">'Repeatedly tries different keyword combinations but never finds or presents any result </span>\n",
              "<span style=\"color: #008000; text-decoration-color: #008000\">or answer—no real progress.'</span>,\n",
              "            <span style=\"color: #008000; text-decoration-color: #008000\">'score'</span>: <span style=\"color: #008080; text-decoration-color: #008080; font-weight: bold\">0.1</span>\n",
              "        <span style=\"font-weight: bold\">}</span>,\n",
              "        <span style=\"font-weight: bold\">{</span>\n",
              "            <span style=\"color: #008000; text-decoration-color: #008000\">'trajectory_id'</span>: <span style=\"color: #008000; text-decoration-color: #008000\">'2'</span>,\n",
              "            <span style=\"color: #008000; text-decoration-color: #008000\">'explanation'</span>: <span style=\"color: #008000; text-decoration-color: #008000\">'Blindly repeats the exact same search over and over with no variation and no result or </span>\n",
              "<span style=\"color: #008000; text-decoration-color: #008000\">answer—no progress.'</span>,\n",
              "            <span style=\"color: #008000; text-decoration-color: #008000\">'score'</span>: <span style=\"color: #008080; text-decoration-color: #008080; font-weight: bold\">0.0</span>\n",
              "        <span style=\"font-weight: bold\">}</span>,\n",
              "        <span style=\"font-weight: bold\">{</span>\n",
              "            <span style=\"color: #008000; text-decoration-color: #008000\">'trajectory_id'</span>: <span style=\"color: #008000; text-decoration-color: #008000\">'3'</span>,\n",
              "            <span style=\"color: #008000; text-decoration-color: #008000\">'explanation'</span>: <span style=\"color: #008000; text-decoration-color: #008000\">'Same as trajectory 2: repeated identical searches, no discovery or summarization of </span>\n",
              "<span style=\"color: #008000; text-decoration-color: #008000\">content—no progress.'</span>,\n",
              "            <span style=\"color: #008000; text-decoration-color: #008000\">'score'</span>: <span style=\"color: #008080; text-decoration-color: #008080; font-weight: bold\">0.0</span>\n",
              "        <span style=\"font-weight: bold\">}</span>,\n",
              "        <span style=\"font-weight: bold\">{</span>\n",
              "            <span style=\"color: #008000; text-decoration-color: #008000\">'trajectory_id'</span>: <span style=\"color: #008000; text-decoration-color: #008000\">'4'</span>,\n",
              "            <span style=\"color: #008000; text-decoration-color: #008000\">'explanation'</span>: <span style=\"color: #008000; text-decoration-color: #008000\">'Successfully located a relevant email and summarized Barry’s comment about the </span>\n",
              "<span style=\"color: #008000; text-decoration-color: #008000\">Australian/Pacific role, though it didn’t finish by returning the final answer via the specified tool.'</span>,\n",
              "            <span style=\"color: #008000; text-decoration-color: #008000\">'score'</span>: <span style=\"color: #008080; text-decoration-color: #008080; font-weight: bold\">0.7</span>\n",
              "        <span style=\"font-weight: bold\">}</span>\n",
              "    <span style=\"font-weight: bold\">]</span>\n",
              "<span style=\"font-weight: bold\">}</span>\n",
              "</pre>\n"
            ],
            "text/plain": [
              "\u001b[1m{\u001b[0m\n",
              "    \u001b[32m'scores'\u001b[0m: \u001b[1m[\u001b[0m\n",
              "        \u001b[1m{\u001b[0m\n",
              "            \u001b[32m'trajectory_id'\u001b[0m: \u001b[32m'1'\u001b[0m,\n",
              "            \u001b[32m'explanation'\u001b[0m: \u001b[32m'Repeatedly tries different keyword combinations but never finds or presents any result \u001b[0m\n",
              "\u001b[32mor answer—no real progress.'\u001b[0m,\n",
              "            \u001b[32m'score'\u001b[0m: \u001b[1;36m0.1\u001b[0m\n",
              "        \u001b[1m}\u001b[0m,\n",
              "        \u001b[1m{\u001b[0m\n",
              "            \u001b[32m'trajectory_id'\u001b[0m: \u001b[32m'2'\u001b[0m,\n",
              "            \u001b[32m'explanation'\u001b[0m: \u001b[32m'Blindly repeats the exact same search over and over with no variation and no result or \u001b[0m\n",
              "\u001b[32manswer—no progress.'\u001b[0m,\n",
              "            \u001b[32m'score'\u001b[0m: \u001b[1;36m0.0\u001b[0m\n",
              "        \u001b[1m}\u001b[0m,\n",
              "        \u001b[1m{\u001b[0m\n",
              "            \u001b[32m'trajectory_id'\u001b[0m: \u001b[32m'3'\u001b[0m,\n",
              "            \u001b[32m'explanation'\u001b[0m: \u001b[32m'Same as trajectory 2: repeated identical searches, no discovery or summarization of \u001b[0m\n",
              "\u001b[32mcontent—no progress.'\u001b[0m,\n",
              "            \u001b[32m'score'\u001b[0m: \u001b[1;36m0.0\u001b[0m\n",
              "        \u001b[1m}\u001b[0m,\n",
              "        \u001b[1m{\u001b[0m\n",
              "            \u001b[32m'trajectory_id'\u001b[0m: \u001b[32m'4'\u001b[0m,\n",
              "            \u001b[32m'explanation'\u001b[0m: \u001b[32m'Successfully located a relevant email and summarized Barry’s comment about the \u001b[0m\n",
              "\u001b[32mAustralian/Pacific role, though it didn’t finish by returning the final answer via the specified tool.'\u001b[0m,\n",
              "            \u001b[32m'score'\u001b[0m: \u001b[1;36m0.7\u001b[0m\n",
              "        \u001b[1m}\u001b[0m\n",
              "    \u001b[1m]\u001b[0m\n",
              "\u001b[1m}\u001b[0m\n"
            ]
          },
          "metadata": {},
          "output_type": "display_data"
        },
        {
          "data": {
            "text/html": [
              "<pre style=\"white-space:pre;overflow-x:auto;line-height:normal;font-family:Menlo,'DejaVu Sans Mono',consolas,'Courier New',monospace\">\n",
              "<span style=\"font-weight: bold\">[</span>RULER<span style=\"font-weight: bold\">]</span> Pretty-printed LLM choice JSON:\n",
              "</pre>\n"
            ],
            "text/plain": [
              "\n",
              "\u001b[1m[\u001b[0mRULER\u001b[1m]\u001b[0m Pretty-printed LLM choice JSON:\n"
            ]
          },
          "metadata": {},
          "output_type": "display_data"
        },
        {
          "data": {
            "text/html": [
              "<pre style=\"white-space:pre;overflow-x:auto;line-height:normal;font-family:Menlo,'DejaVu Sans Mono',consolas,'Courier New',monospace\"><span style=\"font-weight: bold\">{</span>\n",
              "    <span style=\"color: #008000; text-decoration-color: #008000\">'scores'</span>: <span style=\"font-weight: bold\">[</span>\n",
              "        <span style=\"font-weight: bold\">{</span>\n",
              "            <span style=\"color: #008000; text-decoration-color: #008000\">'trajectory_id'</span>: <span style=\"color: #008000; text-decoration-color: #008000\">'1'</span>,\n",
              "            <span style=\"color: #008000; text-decoration-color: #008000\">'explanation'</span>: <span style=\"color: #008000; text-decoration-color: #008000\">'Correctly found the relevant snippet indicating no variances for hour 3 on 3/5/01 and </span>\n",
              "<span style=\"color: #008000; text-decoration-color: #008000\">gave the final answer efficiently.'</span>,\n",
              "            <span style=\"color: #008000; text-decoration-color: #008000\">'score'</span>: <span style=\"color: #008080; text-decoration-color: #008080; font-weight: bold\">0.9</span>\n",
              "        <span style=\"font-weight: bold\">}</span>,\n",
              "        <span style=\"font-weight: bold\">{</span>\n",
              "            <span style=\"color: #008000; text-decoration-color: #008000\">'trajectory_id'</span>: <span style=\"color: #008000; text-decoration-color: #008000\">'2'</span>,\n",
              "            <span style=\"color: #008000; text-decoration-color: #008000\">'explanation'</span>: <span style=\"color: #008000; text-decoration-color: #008000\">'Repeated unproductive searches and never reached a conclusion; failed to answer the </span>\n",
              "<span style=\"color: #008000; text-decoration-color: #008000\">query.'</span>,\n",
              "            <span style=\"color: #008000; text-decoration-color: #008000\">'score'</span>: <span style=\"color: #008080; text-decoration-color: #008080; font-weight: bold\">0.1</span>\n",
              "        <span style=\"font-weight: bold\">}</span>,\n",
              "        <span style=\"font-weight: bold\">{</span>\n",
              "            <span style=\"color: #008000; text-decoration-color: #008000\">'trajectory_id'</span>: <span style=\"color: #008000; text-decoration-color: #008000\">'3'</span>,\n",
              "            <span style=\"color: #008000; text-decoration-color: #008000\">'explanation'</span>: <span style=\"color: #008000; text-decoration-color: #008000\">'Incorrectly concluded variances for hour 3 based on wrong snippets and ultimately </span>\n",
              "<span style=\"color: #008000; text-decoration-color: #008000\">provided the wrong answer.'</span>,\n",
              "            <span style=\"color: #008000; text-decoration-color: #008000\">'score'</span>: <span style=\"color: #008080; text-decoration-color: #008080; font-weight: bold\">0.0</span>\n",
              "        <span style=\"font-weight: bold\">}</span>,\n",
              "        <span style=\"font-weight: bold\">{</span>\n",
              "            <span style=\"color: #008000; text-decoration-color: #008000\">'trajectory_id'</span>: <span style=\"color: #008000; text-decoration-color: #008000\">'4'</span>,\n",
              "            <span style=\"color: #008000; text-decoration-color: #008000\">'explanation'</span>: <span style=\"color: #008000; text-decoration-color: #008000\">'Tried multiple searches but never clearly identified the date or returned a final </span>\n",
              "<span style=\"color: #008000; text-decoration-color: #008000\">answer, only partial progress.'</span>,\n",
              "            <span style=\"color: #008000; text-decoration-color: #008000\">'score'</span>: <span style=\"color: #008080; text-decoration-color: #008080; font-weight: bold\">0.2</span>\n",
              "        <span style=\"font-weight: bold\">}</span>\n",
              "    <span style=\"font-weight: bold\">]</span>\n",
              "<span style=\"font-weight: bold\">}</span>\n",
              "</pre>\n"
            ],
            "text/plain": [
              "\u001b[1m{\u001b[0m\n",
              "    \u001b[32m'scores'\u001b[0m: \u001b[1m[\u001b[0m\n",
              "        \u001b[1m{\u001b[0m\n",
              "            \u001b[32m'trajectory_id'\u001b[0m: \u001b[32m'1'\u001b[0m,\n",
              "            \u001b[32m'explanation'\u001b[0m: \u001b[32m'Correctly found the relevant snippet indicating no variances for hour 3 on 3/5/01 and \u001b[0m\n",
              "\u001b[32mgave the final answer efficiently.'\u001b[0m,\n",
              "            \u001b[32m'score'\u001b[0m: \u001b[1;36m0.9\u001b[0m\n",
              "        \u001b[1m}\u001b[0m,\n",
              "        \u001b[1m{\u001b[0m\n",
              "            \u001b[32m'trajectory_id'\u001b[0m: \u001b[32m'2'\u001b[0m,\n",
              "            \u001b[32m'explanation'\u001b[0m: \u001b[32m'Repeated unproductive searches and never reached a conclusion; failed to answer the \u001b[0m\n",
              "\u001b[32mquery.'\u001b[0m,\n",
              "            \u001b[32m'score'\u001b[0m: \u001b[1;36m0.1\u001b[0m\n",
              "        \u001b[1m}\u001b[0m,\n",
              "        \u001b[1m{\u001b[0m\n",
              "            \u001b[32m'trajectory_id'\u001b[0m: \u001b[32m'3'\u001b[0m,\n",
              "            \u001b[32m'explanation'\u001b[0m: \u001b[32m'Incorrectly concluded variances for hour 3 based on wrong snippets and ultimately \u001b[0m\n",
              "\u001b[32mprovided the wrong answer.'\u001b[0m,\n",
              "            \u001b[32m'score'\u001b[0m: \u001b[1;36m0.0\u001b[0m\n",
              "        \u001b[1m}\u001b[0m,\n",
              "        \u001b[1m{\u001b[0m\n",
              "            \u001b[32m'trajectory_id'\u001b[0m: \u001b[32m'4'\u001b[0m,\n",
              "            \u001b[32m'explanation'\u001b[0m: \u001b[32m'Tried multiple searches but never clearly identified the date or returned a final \u001b[0m\n",
              "\u001b[32manswer, only partial progress.'\u001b[0m,\n",
              "            \u001b[32m'score'\u001b[0m: \u001b[1;36m0.2\u001b[0m\n",
              "        \u001b[1m}\u001b[0m\n",
              "    \u001b[1m]\u001b[0m\n",
              "\u001b[1m}\u001b[0m\n"
            ]
          },
          "metadata": {},
          "output_type": "display_data"
        },
        {
          "name": "stdout",
          "output_type": "stream",
          "text": [
            "No \"val/reward\" metric found in history\n",
            "Deleted checkpoint ./.art/email-search-agent-langgraph/models/email-agent-langgraph-001/checkpoints/0005\n",
            "Packed 8 trajectories into 3 sequences of length 4096\n"
          ]
        },
        {
          "name": "stderr",
          "output_type": "stream",
          "text": [
            "train: 100%|██████████| 3/3 [00:20<00:00,  6.96s/it, loss=0.424, grad_norm=0.0816, policy_loss=0.424, entropy=0.161]\n",
            "Iterating dataset:   1%|▏         | 7/500 [16:00<17:41:01, 129.13s/batch]"
          ]
        },
        {
          "name": "stdout",
          "output_type": "stream",
          "text": [
            "Completed training step 6\n",
            "Training step 7, epoch 0, epoch step 7\n",
            "Batch contains 2 scenarios\n",
            "<art.trajectories.TrajectoryGroup.__new__.<locals>.CoroutineWithMetadata object at 0x755c2cfd43d0>\n"
          ]
        },
        {
          "name": "stderr",
          "output_type": "stream",
          "text": [
            "/tmp/ipykernel_288833/1452329291.py:133: LangGraphDeprecatedSinceV10: create_react_agent has been moved to langchain.agents. Please update your import to 'from langchain.agents import create_agent'. Deprecated in LangGraph V1.0 to be removed in V2.0.\n",
            "  react_agent = create_react_agent(chat_model, tools)\n",
            "/tmp/ipykernel_288833/1452329291.py:133: LangGraphDeprecatedSinceV10: create_react_agent has been moved to langchain.agents. Please update your import to 'from langchain.agents import create_agent'. Deprecated in LangGraph V1.0 to be removed in V2.0.\n",
            "  react_agent = create_react_agent(chat_model, tools)\n",
            "/tmp/ipykernel_288833/1452329291.py:133: LangGraphDeprecatedSinceV10: create_react_agent has been moved to langchain.agents. Please update your import to 'from langchain.agents import create_agent'. Deprecated in LangGraph V1.0 to be removed in V2.0.\n",
            "  react_agent = create_react_agent(chat_model, tools)\n",
            "/tmp/ipykernel_288833/1452329291.py:133: LangGraphDeprecatedSinceV10: create_react_agent has been moved to langchain.agents. Please update your import to 'from langchain.agents import create_agent'. Deprecated in LangGraph V1.0 to be removed in V2.0.\n",
            "  react_agent = create_react_agent(chat_model, tools)\n",
            "/tmp/ipykernel_288833/1452329291.py:133: LangGraphDeprecatedSinceV10: create_react_agent has been moved to langchain.agents. Please update your import to 'from langchain.agents import create_agent'. Deprecated in LangGraph V1.0 to be removed in V2.0.\n",
            "  react_agent = create_react_agent(chat_model, tools)\n",
            "/tmp/ipykernel_288833/1452329291.py:133: LangGraphDeprecatedSinceV10: create_react_agent has been moved to langchain.agents. Please update your import to 'from langchain.agents import create_agent'. Deprecated in LangGraph V1.0 to be removed in V2.0.\n",
            "  react_agent = create_react_agent(chat_model, tools)\n",
            "/tmp/ipykernel_288833/1452329291.py:133: LangGraphDeprecatedSinceV10: create_react_agent has been moved to langchain.agents. Please update your import to 'from langchain.agents import create_agent'. Deprecated in LangGraph V1.0 to be removed in V2.0.\n",
            "  react_agent = create_react_agent(chat_model, tools)\n",
            "/tmp/ipykernel_288833/1452329291.py:133: LangGraphDeprecatedSinceV10: create_react_agent has been moved to langchain.agents. Please update your import to 'from langchain.agents import create_agent'. Deprecated in LangGraph V1.0 to be removed in V2.0.\n",
            "  react_agent = create_react_agent(chat_model, tools)\n"
          ]
        },
        {
          "name": "stdout",
          "output_type": "stream",
          "text": [
            "Loading existing database from ./enron_emails.db\n",
            "Loading existing database from ./enron_emails.db\n",
            "Loading existing database from ./enron_emails.db\n",
            "Loading existing database from ./enron_emails.db\n",
            "Loading existing database from ./enron_emails.db\n",
            "Loading existing database from ./enron_emails.db\n",
            "Loading existing database from ./enron_emails.db\n",
            "Loading existing database from ./enron_emails.db\n",
            "Loading existing database from ./enron_emails.db\n",
            "Loading existing database from ./enron_emails.db\n",
            "Loading existing database from ./enron_emails.db\n",
            "Loading existing database from ./enron_emails.db\n",
            "Loading existing database from ./enron_emails.db\n",
            "Loading existing database from ./enron_emails.db\n",
            "Loading existing database from ./enron_emails.db\n",
            "Loading existing database from ./enron_emails.db\n",
            "Loading existing database from ./enron_emails.db\n",
            "Loading existing database from ./enron_emails.db\n",
            "Loading existing database from ./enron_emails.db\n",
            "Loading existing database from ./enron_emails.db\n",
            "Loading existing database from ./enron_emails.db\n",
            "Loading existing database from ./enron_emails.db\n",
            "Loading existing database from ./enron_emails.db\n",
            "Loading existing database from ./enron_emails.db\n",
            "Loading existing database from ./enron_emails.db\n"
          ]
        },
        {
          "name": "stderr",
          "output_type": "stream",
          "text": []
        },
        {
          "name": "stdout",
          "output_type": "stream",
          "text": [
            "Loading existing database from ./enron_emails.db\n",
            "Loading existing database from ./enron_emails.db\n",
            "Loading existing database from ./enron_emails.db\n"
          ]
        },
        {
          "name": "stderr",
          "output_type": "stream",
          "text": []
        },
        {
          "name": "stdout",
          "output_type": "stream",
          "text": [
            "Loading existing database from ./enron_emails.db\n",
            "Loading existing database from ./enron_emails.db\n",
            "Loading existing database from ./enron_emails.db\n",
            "Loading existing database from ./enron_emails.db\n",
            "Loading existing database from ./enron_emails.db\n",
            "Loading existing database from ./enron_emails.db\n",
            "Loading existing database from ./enron_emails.db\n",
            "Loading existing database from ./enron_emails.db\n",
            "Loading existing database from ./enron_emails.db\n"
          ]
        },
        {
          "name": "stderr",
          "output_type": "stream",
          "text": [
            "gather: 100%|██████████| 8/8 [01:05<00:00,  8.19s/it, reward=0, correct=1, completion_tokens=61.5]\n"
          ]
        },
        {
          "data": {
            "text/html": [
              "<pre style=\"white-space:pre;overflow-x:auto;line-height:normal;font-family:Menlo,'DejaVu Sans Mono',consolas,'Courier New',monospace\">\n",
              "<span style=\"font-weight: bold\">[</span>RULER<span style=\"font-weight: bold\">]</span> Pretty-printed LLM choice JSON:\n",
              "</pre>\n"
            ],
            "text/plain": [
              "\n",
              "\u001b[1m[\u001b[0mRULER\u001b[1m]\u001b[0m Pretty-printed LLM choice JSON:\n"
            ]
          },
          "metadata": {},
          "output_type": "display_data"
        },
        {
          "data": {
            "text/html": [
              "<pre style=\"white-space:pre;overflow-x:auto;line-height:normal;font-family:Menlo,'DejaVu Sans Mono',consolas,'Courier New',monospace\"><span style=\"font-weight: bold\">{</span>\n",
              "    <span style=\"color: #008000; text-decoration-color: #008000\">'scores'</span>: <span style=\"font-weight: bold\">[</span>\n",
              "        <span style=\"font-weight: bold\">{</span>\n",
              "            <span style=\"color: #008000; text-decoration-color: #008000\">'trajectory_id'</span>: <span style=\"color: #008000; text-decoration-color: #008000\">'1'</span>,\n",
              "            <span style=\"color: #008000; text-decoration-color: #008000\">'explanation'</span>: <span style=\"color: #008000; text-decoration-color: #008000\">'Correctly found and returned the final value in two tool calls with minimal extra </span>\n",
              "<span style=\"color: #008000; text-decoration-color: #008000\">steps.'</span>,\n",
              "            <span style=\"color: #008000; text-decoration-color: #008000\">'score'</span>: <span style=\"color: #008080; text-decoration-color: #008080; font-weight: bold\">1.0</span>\n",
              "        <span style=\"font-weight: bold\">}</span>,\n",
              "        <span style=\"font-weight: bold\">{</span>\n",
              "            <span style=\"color: #008000; text-decoration-color: #008000\">'trajectory_id'</span>: <span style=\"color: #008000; text-decoration-color: #008000\">'2'</span>,\n",
              "            <span style=\"color: #008000; text-decoration-color: #008000\">'explanation'</span>: <span style=\"color: #008000; text-decoration-color: #008000\">'Also correctly found and returned the final value in two tool calls, same efficiency as</span>\n",
              "<span style=\"color: #008000; text-decoration-color: #008000\">trajectory 1.'</span>,\n",
              "            <span style=\"color: #008000; text-decoration-color: #008000\">'score'</span>: <span style=\"color: #008080; text-decoration-color: #008080; font-weight: bold\">1.0</span>\n",
              "        <span style=\"font-weight: bold\">}</span>,\n",
              "        <span style=\"font-weight: bold\">{</span>\n",
              "            <span style=\"color: #008000; text-decoration-color: #008000\">'trajectory_id'</span>: <span style=\"color: #008000; text-decoration-color: #008000\">'3'</span>,\n",
              "            <span style=\"color: #008000; text-decoration-color: #008000\">'explanation'</span>: <span style=\"color: #008000; text-decoration-color: #008000\">'Same as the above: correct, minimal, efficient retrieval and answer.'</span>,\n",
              "            <span style=\"color: #008000; text-decoration-color: #008000\">'score'</span>: <span style=\"color: #008080; text-decoration-color: #008080; font-weight: bold\">1.0</span>\n",
              "        <span style=\"font-weight: bold\">}</span>,\n",
              "        <span style=\"font-weight: bold\">{</span>\n",
              "            <span style=\"color: #008000; text-decoration-color: #008000\">'trajectory_id'</span>: <span style=\"color: #008000; text-decoration-color: #008000\">'4'</span>,\n",
              "            <span style=\"color: #008000; text-decoration-color: #008000\">'explanation'</span>: <span style=\"color: #008000; text-decoration-color: #008000\">'Correct and efficient; includes source mention in the final answer but still minimal in</span>\n",
              "<span style=\"color: #008000; text-decoration-color: #008000\">steps.'</span>,\n",
              "            <span style=\"color: #008000; text-decoration-color: #008000\">'score'</span>: <span style=\"color: #008080; text-decoration-color: #008080; font-weight: bold\">1.0</span>\n",
              "        <span style=\"font-weight: bold\">}</span>\n",
              "    <span style=\"font-weight: bold\">]</span>\n",
              "<span style=\"font-weight: bold\">}</span>\n",
              "</pre>\n"
            ],
            "text/plain": [
              "\u001b[1m{\u001b[0m\n",
              "    \u001b[32m'scores'\u001b[0m: \u001b[1m[\u001b[0m\n",
              "        \u001b[1m{\u001b[0m\n",
              "            \u001b[32m'trajectory_id'\u001b[0m: \u001b[32m'1'\u001b[0m,\n",
              "            \u001b[32m'explanation'\u001b[0m: \u001b[32m'Correctly found and returned the final value in two tool calls with minimal extra \u001b[0m\n",
              "\u001b[32msteps.'\u001b[0m,\n",
              "            \u001b[32m'score'\u001b[0m: \u001b[1;36m1.0\u001b[0m\n",
              "        \u001b[1m}\u001b[0m,\n",
              "        \u001b[1m{\u001b[0m\n",
              "            \u001b[32m'trajectory_id'\u001b[0m: \u001b[32m'2'\u001b[0m,\n",
              "            \u001b[32m'explanation'\u001b[0m: \u001b[32m'Also correctly found and returned the final value in two tool calls, same efficiency as\u001b[0m\n",
              "\u001b[32mtrajectory 1.'\u001b[0m,\n",
              "            \u001b[32m'score'\u001b[0m: \u001b[1;36m1.0\u001b[0m\n",
              "        \u001b[1m}\u001b[0m,\n",
              "        \u001b[1m{\u001b[0m\n",
              "            \u001b[32m'trajectory_id'\u001b[0m: \u001b[32m'3'\u001b[0m,\n",
              "            \u001b[32m'explanation'\u001b[0m: \u001b[32m'Same as the above: correct, minimal, efficient retrieval and answer.'\u001b[0m,\n",
              "            \u001b[32m'score'\u001b[0m: \u001b[1;36m1.0\u001b[0m\n",
              "        \u001b[1m}\u001b[0m,\n",
              "        \u001b[1m{\u001b[0m\n",
              "            \u001b[32m'trajectory_id'\u001b[0m: \u001b[32m'4'\u001b[0m,\n",
              "            \u001b[32m'explanation'\u001b[0m: \u001b[32m'Correct and efficient; includes source mention in the final answer but still minimal in\u001b[0m\n",
              "\u001b[32msteps.'\u001b[0m,\n",
              "            \u001b[32m'score'\u001b[0m: \u001b[1;36m1.0\u001b[0m\n",
              "        \u001b[1m}\u001b[0m\n",
              "    \u001b[1m]\u001b[0m\n",
              "\u001b[1m}\u001b[0m\n"
            ]
          },
          "metadata": {},
          "output_type": "display_data"
        },
        {
          "data": {
            "text/html": [
              "<pre style=\"white-space:pre;overflow-x:auto;line-height:normal;font-family:Menlo,'DejaVu Sans Mono',consolas,'Courier New',monospace\">\n",
              "<span style=\"font-weight: bold\">[</span>RULER<span style=\"font-weight: bold\">]</span> Pretty-printed LLM choice JSON:\n",
              "</pre>\n"
            ],
            "text/plain": [
              "\n",
              "\u001b[1m[\u001b[0mRULER\u001b[1m]\u001b[0m Pretty-printed LLM choice JSON:\n"
            ]
          },
          "metadata": {},
          "output_type": "display_data"
        },
        {
          "data": {
            "text/html": [
              "<pre style=\"white-space:pre;overflow-x:auto;line-height:normal;font-family:Menlo,'DejaVu Sans Mono',consolas,'Courier New',monospace\"><span style=\"font-weight: bold\">{</span>\n",
              "    <span style=\"color: #008000; text-decoration-color: #008000\">'scores'</span>: <span style=\"font-weight: bold\">[</span>\n",
              "        <span style=\"font-weight: bold\">{</span>\n",
              "            <span style=\"color: #008000; text-decoration-color: #008000\">'trajectory_id'</span>: <span style=\"color: #008000; text-decoration-color: #008000\">'1'</span>,\n",
              "            <span style=\"color: #008000; text-decoration-color: #008000\">'explanation'</span>: <span style=\"color: #008000; text-decoration-color: #008000\">'Correctly found and cited the email, answered the question efficiently.'</span>,\n",
              "            <span style=\"color: #008000; text-decoration-color: #008000\">'score'</span>: <span style=\"color: #008080; text-decoration-color: #008080; font-weight: bold\">1.0</span>\n",
              "        <span style=\"font-weight: bold\">}</span>,\n",
              "        <span style=\"font-weight: bold\">{</span>\n",
              "            <span style=\"color: #008000; text-decoration-color: #008000\">'trajectory_id'</span>: <span style=\"color: #008000; text-decoration-color: #008000\">'2'</span>,\n",
              "            <span style=\"color: #008000; text-decoration-color: #008000\">'explanation'</span>: <span style=\"color: #008000; text-decoration-color: #008000\">'Repeated fruitless searches and never provided an answer.'</span>,\n",
              "            <span style=\"color: #008000; text-decoration-color: #008000\">'score'</span>: <span style=\"color: #008080; text-decoration-color: #008080; font-weight: bold\">0.0</span>\n",
              "        <span style=\"font-weight: bold\">}</span>,\n",
              "        <span style=\"font-weight: bold\">{</span>\n",
              "            <span style=\"color: #008000; text-decoration-color: #008000\">'trajectory_id'</span>: <span style=\"color: #008000; text-decoration-color: #008000\">'3'</span>,\n",
              "            <span style=\"color: #008000; text-decoration-color: #008000\">'explanation'</span>: <span style=\"color: #008000; text-decoration-color: #008000\">'Made many searches without retrieving any result or giving an answer.'</span>,\n",
              "            <span style=\"color: #008000; text-decoration-color: #008000\">'score'</span>: <span style=\"color: #008080; text-decoration-color: #008080; font-weight: bold\">0.0</span>\n",
              "        <span style=\"font-weight: bold\">}</span>,\n",
              "        <span style=\"font-weight: bold\">{</span>\n",
              "            <span style=\"color: #008000; text-decoration-color: #008000\">'trajectory_id'</span>: <span style=\"color: #008000; text-decoration-color: #008000\">'4'</span>,\n",
              "            <span style=\"color: #008000; text-decoration-color: #008000\">'explanation'</span>: <span style=\"color: #008000; text-decoration-color: #008000\">'Only repeated the same search calls and did not provide an answer.'</span>,\n",
              "            <span style=\"color: #008000; text-decoration-color: #008000\">'score'</span>: <span style=\"color: #008080; text-decoration-color: #008080; font-weight: bold\">0.0</span>\n",
              "        <span style=\"font-weight: bold\">}</span>\n",
              "    <span style=\"font-weight: bold\">]</span>\n",
              "<span style=\"font-weight: bold\">}</span>\n",
              "</pre>\n"
            ],
            "text/plain": [
              "\u001b[1m{\u001b[0m\n",
              "    \u001b[32m'scores'\u001b[0m: \u001b[1m[\u001b[0m\n",
              "        \u001b[1m{\u001b[0m\n",
              "            \u001b[32m'trajectory_id'\u001b[0m: \u001b[32m'1'\u001b[0m,\n",
              "            \u001b[32m'explanation'\u001b[0m: \u001b[32m'Correctly found and cited the email, answered the question efficiently.'\u001b[0m,\n",
              "            \u001b[32m'score'\u001b[0m: \u001b[1;36m1.0\u001b[0m\n",
              "        \u001b[1m}\u001b[0m,\n",
              "        \u001b[1m{\u001b[0m\n",
              "            \u001b[32m'trajectory_id'\u001b[0m: \u001b[32m'2'\u001b[0m,\n",
              "            \u001b[32m'explanation'\u001b[0m: \u001b[32m'Repeated fruitless searches and never provided an answer.'\u001b[0m,\n",
              "            \u001b[32m'score'\u001b[0m: \u001b[1;36m0.0\u001b[0m\n",
              "        \u001b[1m}\u001b[0m,\n",
              "        \u001b[1m{\u001b[0m\n",
              "            \u001b[32m'trajectory_id'\u001b[0m: \u001b[32m'3'\u001b[0m,\n",
              "            \u001b[32m'explanation'\u001b[0m: \u001b[32m'Made many searches without retrieving any result or giving an answer.'\u001b[0m,\n",
              "            \u001b[32m'score'\u001b[0m: \u001b[1;36m0.0\u001b[0m\n",
              "        \u001b[1m}\u001b[0m,\n",
              "        \u001b[1m{\u001b[0m\n",
              "            \u001b[32m'trajectory_id'\u001b[0m: \u001b[32m'4'\u001b[0m,\n",
              "            \u001b[32m'explanation'\u001b[0m: \u001b[32m'Only repeated the same search calls and did not provide an answer.'\u001b[0m,\n",
              "            \u001b[32m'score'\u001b[0m: \u001b[1;36m0.0\u001b[0m\n",
              "        \u001b[1m}\u001b[0m\n",
              "    \u001b[1m]\u001b[0m\n",
              "\u001b[1m}\u001b[0m\n"
            ]
          },
          "metadata": {},
          "output_type": "display_data"
        },
        {
          "name": "stdout",
          "output_type": "stream",
          "text": [
            "No \"val/reward\" metric found in history\n",
            "Deleted checkpoint ./.art/email-search-agent-langgraph/models/email-agent-langgraph-001/checkpoints/0006\n",
            "Packed 4 trajectories into 2 sequences of length 2048\n"
          ]
        },
        {
          "name": "stderr",
          "output_type": "stream",
          "text": [
            "train: 100%|██████████| 2/2 [00:12<00:00,  6.41s/it, loss=0.621, grad_norm=0.0955, policy_loss=0.621, entropy=0.08]\n",
            "Iterating dataset:   2%|▏         | 8/500 [17:33<16:03:37, 117.51s/batch]"
          ]
        },
        {
          "name": "stdout",
          "output_type": "stream",
          "text": [
            "Completed training step 7\n",
            "Training step 8, epoch 0, epoch step 8\n",
            "Batch contains 2 scenarios\n",
            "<art.trajectories.TrajectoryGroup.__new__.<locals>.CoroutineWithMetadata object at 0x755cbbe7cfd0>\n"
          ]
        },
        {
          "name": "stderr",
          "output_type": "stream",
          "text": [
            "/tmp/ipykernel_288833/1452329291.py:133: LangGraphDeprecatedSinceV10: create_react_agent has been moved to langchain.agents. Please update your import to 'from langchain.agents import create_agent'. Deprecated in LangGraph V1.0 to be removed in V2.0.\n",
            "  react_agent = create_react_agent(chat_model, tools)\n",
            "/tmp/ipykernel_288833/1452329291.py:133: LangGraphDeprecatedSinceV10: create_react_agent has been moved to langchain.agents. Please update your import to 'from langchain.agents import create_agent'. Deprecated in LangGraph V1.0 to be removed in V2.0.\n",
            "  react_agent = create_react_agent(chat_model, tools)\n",
            "/tmp/ipykernel_288833/1452329291.py:133: LangGraphDeprecatedSinceV10: create_react_agent has been moved to langchain.agents. Please update your import to 'from langchain.agents import create_agent'. Deprecated in LangGraph V1.0 to be removed in V2.0.\n",
            "  react_agent = create_react_agent(chat_model, tools)\n",
            "/tmp/ipykernel_288833/1452329291.py:133: LangGraphDeprecatedSinceV10: create_react_agent has been moved to langchain.agents. Please update your import to 'from langchain.agents import create_agent'. Deprecated in LangGraph V1.0 to be removed in V2.0.\n",
            "  react_agent = create_react_agent(chat_model, tools)\n",
            "/tmp/ipykernel_288833/1452329291.py:133: LangGraphDeprecatedSinceV10: create_react_agent has been moved to langchain.agents. Please update your import to 'from langchain.agents import create_agent'. Deprecated in LangGraph V1.0 to be removed in V2.0.\n",
            "  react_agent = create_react_agent(chat_model, tools)\n",
            "/tmp/ipykernel_288833/1452329291.py:133: LangGraphDeprecatedSinceV10: create_react_agent has been moved to langchain.agents. Please update your import to 'from langchain.agents import create_agent'. Deprecated in LangGraph V1.0 to be removed in V2.0.\n",
            "  react_agent = create_react_agent(chat_model, tools)\n",
            "/tmp/ipykernel_288833/1452329291.py:133: LangGraphDeprecatedSinceV10: create_react_agent has been moved to langchain.agents. Please update your import to 'from langchain.agents import create_agent'. Deprecated in LangGraph V1.0 to be removed in V2.0.\n",
            "  react_agent = create_react_agent(chat_model, tools)\n",
            "/tmp/ipykernel_288833/1452329291.py:133: LangGraphDeprecatedSinceV10: create_react_agent has been moved to langchain.agents. Please update your import to 'from langchain.agents import create_agent'. Deprecated in LangGraph V1.0 to be removed in V2.0.\n",
            "  react_agent = create_react_agent(chat_model, tools)\n"
          ]
        },
        {
          "name": "stdout",
          "output_type": "stream",
          "text": [
            "Loading existing database from ./enron_emails.db\n",
            "Loading existing database from ./enron_emails.db\n",
            "Loading existing database from ./enron_emails.db\n",
            "Loading existing database from ./enron_emails.db\n",
            "Loading existing database from ./enron_emails.db\n",
            "Loading existing database from ./enron_emails.db\n",
            "Loading existing database from ./enron_emails.db\n",
            "Loading existing database from ./enron_emails.db\n",
            "Loading existing database from ./enron_emails.dbLoading existing database from ./enron_emails.db\n",
            "\n",
            "Loading existing database from ./enron_emails.db\n"
          ]
        },
        {
          "name": "stderr",
          "output_type": "stream",
          "text": []
        },
        {
          "name": "stdout",
          "output_type": "stream",
          "text": [
            "Loading existing database from ./enron_emails.db\n",
            "Loading existing database from ./enron_emails.db\n",
            "Loading existing database from ./enron_emails.db\n",
            "Loading existing database from ./enron_emails.db\n"
          ]
        },
        {
          "name": "stderr",
          "output_type": "stream",
          "text": []
        },
        {
          "name": "stdout",
          "output_type": "stream",
          "text": [
            "Loading existing database from ./enron_emails.db\n"
          ]
        },
        {
          "name": "stderr",
          "output_type": "stream",
          "text": []
        },
        {
          "name": "stdout",
          "output_type": "stream",
          "text": [
            "Loading existing database from ./enron_emails.db\n"
          ]
        },
        {
          "name": "stderr",
          "output_type": "stream",
          "text": []
        },
        {
          "name": "stdout",
          "output_type": "stream",
          "text": [
            "Loading existing database from ./enron_emails.db\n",
            "Loading existing database from ./enron_emails.db\n",
            "Loading existing database from ./enron_emails.db\n",
            "Loading existing database from ./enron_emails.db\n",
            "Loading existing database from ./enron_emails.db\n",
            "Loading existing database from ./enron_emails.db\n",
            "Loading existing database from ./enron_emails.db\n"
          ]
        },
        {
          "name": "stderr",
          "output_type": "stream",
          "text": []
        },
        {
          "name": "stdout",
          "output_type": "stream",
          "text": [
            "Loading existing database from ./enron_emails.db\n"
          ]
        },
        {
          "name": "stderr",
          "output_type": "stream",
          "text": [
            "gather: 100%|██████████| 8/8 [00:59<00:00,  7.38s/it, reward=0, correct=0, completion_tokens=59.5]\n"
          ]
        },
        {
          "data": {
            "text/html": [
              "<pre style=\"white-space:pre;overflow-x:auto;line-height:normal;font-family:Menlo,'DejaVu Sans Mono',consolas,'Courier New',monospace\">\n",
              "<span style=\"font-weight: bold\">[</span>RULER<span style=\"font-weight: bold\">]</span> Pretty-printed LLM choice JSON:\n",
              "</pre>\n"
            ],
            "text/plain": [
              "\n",
              "\u001b[1m[\u001b[0mRULER\u001b[1m]\u001b[0m Pretty-printed LLM choice JSON:\n"
            ]
          },
          "metadata": {},
          "output_type": "display_data"
        },
        {
          "data": {
            "text/html": [
              "<pre style=\"white-space:pre;overflow-x:auto;line-height:normal;font-family:Menlo,'DejaVu Sans Mono',consolas,'Courier New',monospace\"><span style=\"font-weight: bold\">{</span>\n",
              "    <span style=\"color: #008000; text-decoration-color: #008000\">'scores'</span>: <span style=\"font-weight: bold\">[</span>\n",
              "        <span style=\"font-weight: bold\">{</span>\n",
              "            <span style=\"color: #008000; text-decoration-color: #008000\">'trajectory_id'</span>: <span style=\"color: #008000; text-decoration-color: #008000\">'1'</span>,\n",
              "            <span style=\"color: #008000; text-decoration-color: #008000\">'explanation'</span>: <span style=\"color: #008000; text-decoration-color: #008000\">'Never returns a final answer, so the goal is not met.'</span>,\n",
              "            <span style=\"color: #008000; text-decoration-color: #008000\">'score'</span>: <span style=\"color: #008080; text-decoration-color: #008080; font-weight: bold\">0.0</span>\n",
              "        <span style=\"font-weight: bold\">}</span>,\n",
              "        <span style=\"font-weight: bold\">{</span>\n",
              "            <span style=\"color: #008000; text-decoration-color: #008000\">'trajectory_id'</span>: <span style=\"color: #008000; text-decoration-color: #008000\">'2'</span>,\n",
              "            <span style=\"color: #008000; text-decoration-color: #008000\">'explanation'</span>: <span style=\"color: #008000; text-decoration-color: #008000\">'Provides a correct but simplified final answer efficiently, though with minimal detail </span>\n",
              "<span style=\"color: #008000; text-decoration-color: #008000\">and without a read_email step.'</span>,\n",
              "            <span style=\"color: #008000; text-decoration-color: #008000\">'score'</span>: <span style=\"color: #008080; text-decoration-color: #008080; font-weight: bold\">0.75</span>\n",
              "        <span style=\"font-weight: bold\">}</span>,\n",
              "        <span style=\"font-weight: bold\">{</span>\n",
              "            <span style=\"color: #008000; text-decoration-color: #008000\">'trajectory_id'</span>: <span style=\"color: #008000; text-decoration-color: #008000\">'3'</span>,\n",
              "            <span style=\"color: #008000; text-decoration-color: #008000\">'explanation'</span>: <span style=\"color: #008000; text-decoration-color: #008000\">'Reads and extracts the correct status but the response is messy, contains extraneous </span>\n",
              "<span style=\"color: #008000; text-decoration-color: #008000\">text, and does not properly use the final answer tool.'</span>,\n",
              "            <span style=\"color: #008000; text-decoration-color: #008000\">'score'</span>: <span style=\"color: #008080; text-decoration-color: #008080; font-weight: bold\">0.35</span>\n",
              "        <span style=\"font-weight: bold\">}</span>,\n",
              "        <span style=\"font-weight: bold\">{</span>\n",
              "            <span style=\"color: #008000; text-decoration-color: #008000\">'trajectory_id'</span>: <span style=\"color: #008000; text-decoration-color: #008000\">'4'</span>,\n",
              "            <span style=\"color: #008000; text-decoration-color: #008000\">'explanation'</span>: <span style=\"color: #008000; text-decoration-color: #008000\">'Correct, clean final answer delivered via the return_final_answer_tool, with proper </span>\n",
              "<span style=\"color: #008000; text-decoration-color: #008000\">reference to the source message.'</span>,\n",
              "            <span style=\"color: #008000; text-decoration-color: #008000\">'score'</span>: <span style=\"color: #008080; text-decoration-color: #008080; font-weight: bold\">0.95</span>\n",
              "        <span style=\"font-weight: bold\">}</span>\n",
              "    <span style=\"font-weight: bold\">]</span>\n",
              "<span style=\"font-weight: bold\">}</span>\n",
              "</pre>\n"
            ],
            "text/plain": [
              "\u001b[1m{\u001b[0m\n",
              "    \u001b[32m'scores'\u001b[0m: \u001b[1m[\u001b[0m\n",
              "        \u001b[1m{\u001b[0m\n",
              "            \u001b[32m'trajectory_id'\u001b[0m: \u001b[32m'1'\u001b[0m,\n",
              "            \u001b[32m'explanation'\u001b[0m: \u001b[32m'Never returns a final answer, so the goal is not met.'\u001b[0m,\n",
              "            \u001b[32m'score'\u001b[0m: \u001b[1;36m0.0\u001b[0m\n",
              "        \u001b[1m}\u001b[0m,\n",
              "        \u001b[1m{\u001b[0m\n",
              "            \u001b[32m'trajectory_id'\u001b[0m: \u001b[32m'2'\u001b[0m,\n",
              "            \u001b[32m'explanation'\u001b[0m: \u001b[32m'Provides a correct but simplified final answer efficiently, though with minimal detail \u001b[0m\n",
              "\u001b[32mand without a read_email step.'\u001b[0m,\n",
              "            \u001b[32m'score'\u001b[0m: \u001b[1;36m0.75\u001b[0m\n",
              "        \u001b[1m}\u001b[0m,\n",
              "        \u001b[1m{\u001b[0m\n",
              "            \u001b[32m'trajectory_id'\u001b[0m: \u001b[32m'3'\u001b[0m,\n",
              "            \u001b[32m'explanation'\u001b[0m: \u001b[32m'Reads and extracts the correct status but the response is messy, contains extraneous \u001b[0m\n",
              "\u001b[32mtext, and does not properly use the final answer tool.'\u001b[0m,\n",
              "            \u001b[32m'score'\u001b[0m: \u001b[1;36m0.35\u001b[0m\n",
              "        \u001b[1m}\u001b[0m,\n",
              "        \u001b[1m{\u001b[0m\n",
              "            \u001b[32m'trajectory_id'\u001b[0m: \u001b[32m'4'\u001b[0m,\n",
              "            \u001b[32m'explanation'\u001b[0m: \u001b[32m'Correct, clean final answer delivered via the return_final_answer_tool, with proper \u001b[0m\n",
              "\u001b[32mreference to the source message.'\u001b[0m,\n",
              "            \u001b[32m'score'\u001b[0m: \u001b[1;36m0.95\u001b[0m\n",
              "        \u001b[1m}\u001b[0m\n",
              "    \u001b[1m]\u001b[0m\n",
              "\u001b[1m}\u001b[0m\n"
            ]
          },
          "metadata": {},
          "output_type": "display_data"
        },
        {
          "data": {
            "text/html": [
              "<pre style=\"white-space:pre;overflow-x:auto;line-height:normal;font-family:Menlo,'DejaVu Sans Mono',consolas,'Courier New',monospace\">\n",
              "<span style=\"font-weight: bold\">[</span>RULER<span style=\"font-weight: bold\">]</span> Pretty-printed LLM choice JSON:\n",
              "</pre>\n"
            ],
            "text/plain": [
              "\n",
              "\u001b[1m[\u001b[0mRULER\u001b[1m]\u001b[0m Pretty-printed LLM choice JSON:\n"
            ]
          },
          "metadata": {},
          "output_type": "display_data"
        },
        {
          "data": {
            "text/html": [
              "<pre style=\"white-space:pre;overflow-x:auto;line-height:normal;font-family:Menlo,'DejaVu Sans Mono',consolas,'Courier New',monospace\"><span style=\"font-weight: bold\">{</span>\n",
              "    <span style=\"color: #008000; text-decoration-color: #008000\">'scores'</span>: <span style=\"font-weight: bold\">[</span>\n",
              "        <span style=\"font-weight: bold\">{</span>\n",
              "            <span style=\"color: #008000; text-decoration-color: #008000\">'trajectory_id'</span>: <span style=\"color: #008000; text-decoration-color: #008000\">'1'</span>,\n",
              "            <span style=\"color: #008000; text-decoration-color: #008000\">'explanation'</span>: <span style=\"color: #008000; text-decoration-color: #008000\">'Accurately found and returned the correct answer with minimal, efficient tool calls.'</span>,\n",
              "            <span style=\"color: #008000; text-decoration-color: #008000\">'score'</span>: <span style=\"color: #008080; text-decoration-color: #008080; font-weight: bold\">0.95</span>\n",
              "        <span style=\"font-weight: bold\">}</span>,\n",
              "        <span style=\"font-weight: bold\">{</span>\n",
              "            <span style=\"color: #008000; text-decoration-color: #008000\">'trajectory_id'</span>: <span style=\"color: #008000; text-decoration-color: #008000\">'2'</span>,\n",
              "            <span style=\"color: #008000; text-decoration-color: #008000\">'explanation'</span>: <span style=\"color: #008000; text-decoration-color: #008000\">'Never returned a final answer despite searches and read attempts.'</span>,\n",
              "            <span style=\"color: #008000; text-decoration-color: #008000\">'score'</span>: <span style=\"color: #008080; text-decoration-color: #008080; font-weight: bold\">0.0</span>\n",
              "        <span style=\"font-weight: bold\">}</span>,\n",
              "        <span style=\"font-weight: bold\">{</span>\n",
              "            <span style=\"color: #008000; text-decoration-color: #008000\">'trajectory_id'</span>: <span style=\"color: #008000; text-decoration-color: #008000\">'3'</span>,\n",
              "            <span style=\"color: #008000; text-decoration-color: #008000\">'explanation'</span>: <span style=\"color: #008000; text-decoration-color: #008000\">'Did find and return the correct answer but was highly inefficient with many redundant </span>\n",
              "<span style=\"color: #008000; text-decoration-color: #008000\">searches.'</span>,\n",
              "            <span style=\"color: #008000; text-decoration-color: #008000\">'score'</span>: <span style=\"color: #008080; text-decoration-color: #008080; font-weight: bold\">0.6</span>\n",
              "        <span style=\"font-weight: bold\">}</span>,\n",
              "        <span style=\"font-weight: bold\">{</span>\n",
              "            <span style=\"color: #008000; text-decoration-color: #008000\">'trajectory_id'</span>: <span style=\"color: #008000; text-decoration-color: #008000\">'4'</span>,\n",
              "            <span style=\"color: #008000; text-decoration-color: #008000\">'explanation'</span>: <span style=\"color: #008000; text-decoration-color: #008000\">'Did not locate the relevant email or return a final answer.'</span>,\n",
              "            <span style=\"color: #008000; text-decoration-color: #008000\">'score'</span>: <span style=\"color: #008080; text-decoration-color: #008080; font-weight: bold\">0.0</span>\n",
              "        <span style=\"font-weight: bold\">}</span>\n",
              "    <span style=\"font-weight: bold\">]</span>\n",
              "<span style=\"font-weight: bold\">}</span>\n",
              "</pre>\n"
            ],
            "text/plain": [
              "\u001b[1m{\u001b[0m\n",
              "    \u001b[32m'scores'\u001b[0m: \u001b[1m[\u001b[0m\n",
              "        \u001b[1m{\u001b[0m\n",
              "            \u001b[32m'trajectory_id'\u001b[0m: \u001b[32m'1'\u001b[0m,\n",
              "            \u001b[32m'explanation'\u001b[0m: \u001b[32m'Accurately found and returned the correct answer with minimal, efficient tool calls.'\u001b[0m,\n",
              "            \u001b[32m'score'\u001b[0m: \u001b[1;36m0.95\u001b[0m\n",
              "        \u001b[1m}\u001b[0m,\n",
              "        \u001b[1m{\u001b[0m\n",
              "            \u001b[32m'trajectory_id'\u001b[0m: \u001b[32m'2'\u001b[0m,\n",
              "            \u001b[32m'explanation'\u001b[0m: \u001b[32m'Never returned a final answer despite searches and read attempts.'\u001b[0m,\n",
              "            \u001b[32m'score'\u001b[0m: \u001b[1;36m0.0\u001b[0m\n",
              "        \u001b[1m}\u001b[0m,\n",
              "        \u001b[1m{\u001b[0m\n",
              "            \u001b[32m'trajectory_id'\u001b[0m: \u001b[32m'3'\u001b[0m,\n",
              "            \u001b[32m'explanation'\u001b[0m: \u001b[32m'Did find and return the correct answer but was highly inefficient with many redundant \u001b[0m\n",
              "\u001b[32msearches.'\u001b[0m,\n",
              "            \u001b[32m'score'\u001b[0m: \u001b[1;36m0.6\u001b[0m\n",
              "        \u001b[1m}\u001b[0m,\n",
              "        \u001b[1m{\u001b[0m\n",
              "            \u001b[32m'trajectory_id'\u001b[0m: \u001b[32m'4'\u001b[0m,\n",
              "            \u001b[32m'explanation'\u001b[0m: \u001b[32m'Did not locate the relevant email or return a final answer.'\u001b[0m,\n",
              "            \u001b[32m'score'\u001b[0m: \u001b[1;36m0.0\u001b[0m\n",
              "        \u001b[1m}\u001b[0m\n",
              "    \u001b[1m]\u001b[0m\n",
              "\u001b[1m}\u001b[0m\n"
            ]
          },
          "metadata": {},
          "output_type": "display_data"
        },
        {
          "name": "stdout",
          "output_type": "stream",
          "text": [
            "No \"val/reward\" metric found in history\n",
            "Deleted checkpoint ./.art/email-search-agent-langgraph/models/email-agent-langgraph-001/checkpoints/0007\n",
            "Packed 8 trajectories into 4 sequences of length 2048\n"
          ]
        },
        {
          "name": "stderr",
          "output_type": "stream",
          "text": [
            "train: 100%|██████████| 4/4 [00:16<00:00,  4.14s/it, loss=-1.06, grad_norm=0.375, policy_loss=-1.06, entropy=0.0525]\n",
            "Iterating dataset:   2%|▏         | 9/500 [19:03<14:52:51, 109.11s/batch]"
          ]
        },
        {
          "name": "stdout",
          "output_type": "stream",
          "text": [
            "Completed training step 8\n",
            "Training step 9, epoch 0, epoch step 9\n",
            "Batch contains 2 scenarios\n",
            "<art.trajectories.TrajectoryGroup.__new__.<locals>.CoroutineWithMetadata object at 0x755c2e478310>\n"
          ]
        },
        {
          "name": "stderr",
          "output_type": "stream",
          "text": [
            "/tmp/ipykernel_288833/1452329291.py:133: LangGraphDeprecatedSinceV10: create_react_agent has been moved to langchain.agents. Please update your import to 'from langchain.agents import create_agent'. Deprecated in LangGraph V1.0 to be removed in V2.0.\n",
            "  react_agent = create_react_agent(chat_model, tools)\n",
            "/tmp/ipykernel_288833/1452329291.py:133: LangGraphDeprecatedSinceV10: create_react_agent has been moved to langchain.agents. Please update your import to 'from langchain.agents import create_agent'. Deprecated in LangGraph V1.0 to be removed in V2.0.\n",
            "  react_agent = create_react_agent(chat_model, tools)\n",
            "/tmp/ipykernel_288833/1452329291.py:133: LangGraphDeprecatedSinceV10: create_react_agent has been moved to langchain.agents. Please update your import to 'from langchain.agents import create_agent'. Deprecated in LangGraph V1.0 to be removed in V2.0.\n",
            "  react_agent = create_react_agent(chat_model, tools)\n",
            "/tmp/ipykernel_288833/1452329291.py:133: LangGraphDeprecatedSinceV10: create_react_agent has been moved to langchain.agents. Please update your import to 'from langchain.agents import create_agent'. Deprecated in LangGraph V1.0 to be removed in V2.0.\n",
            "  react_agent = create_react_agent(chat_model, tools)\n",
            "/tmp/ipykernel_288833/1452329291.py:133: LangGraphDeprecatedSinceV10: create_react_agent has been moved to langchain.agents. Please update your import to 'from langchain.agents import create_agent'. Deprecated in LangGraph V1.0 to be removed in V2.0.\n",
            "  react_agent = create_react_agent(chat_model, tools)\n",
            "/tmp/ipykernel_288833/1452329291.py:133: LangGraphDeprecatedSinceV10: create_react_agent has been moved to langchain.agents. Please update your import to 'from langchain.agents import create_agent'. Deprecated in LangGraph V1.0 to be removed in V2.0.\n",
            "  react_agent = create_react_agent(chat_model, tools)\n",
            "/tmp/ipykernel_288833/1452329291.py:133: LangGraphDeprecatedSinceV10: create_react_agent has been moved to langchain.agents. Please update your import to 'from langchain.agents import create_agent'. Deprecated in LangGraph V1.0 to be removed in V2.0.\n",
            "  react_agent = create_react_agent(chat_model, tools)\n",
            "/tmp/ipykernel_288833/1452329291.py:133: LangGraphDeprecatedSinceV10: create_react_agent has been moved to langchain.agents. Please update your import to 'from langchain.agents import create_agent'. Deprecated in LangGraph V1.0 to be removed in V2.0.\n",
            "  react_agent = create_react_agent(chat_model, tools)\n"
          ]
        },
        {
          "name": "stdout",
          "output_type": "stream",
          "text": [
            "Loading existing database from ./enron_emails.db\n",
            "Loading existing database from ./enron_emails.db\n",
            "Loading existing database from ./enron_emails.db\n",
            "Loading existing database from ./enron_emails.db\n",
            "Loading existing database from ./enron_emails.db\n",
            "Loading existing database from ./enron_emails.db\n",
            "Loading existing database from ./enron_emails.db\n",
            "Loading existing database from ./enron_emails.dbLoading existing database from ./enron_emails.db\n",
            "\n",
            "Loading existing database from ./enron_emails.db\n",
            "Loading existing database from ./enron_emails.db\n",
            "Loading existing database from ./enron_emails.db\n",
            "Loading existing database from ./enron_emails.db\n",
            "Loading existing database from ./enron_emails.db\n"
          ]
        },
        {
          "name": "stderr",
          "output_type": "stream",
          "text": []
        },
        {
          "name": "stdout",
          "output_type": "stream",
          "text": [
            "Loading existing database from ./enron_emails.dbLoading existing database from ./enron_emails.db\n",
            "\n"
          ]
        },
        {
          "name": "stderr",
          "output_type": "stream",
          "text": []
        },
        {
          "name": "stdout",
          "output_type": "stream",
          "text": [
            "Loading existing database from ./enron_emails.db\n",
            "Loading existing database from ./enron_emails.db\n",
            "Loading existing database from ./enron_emails.db\n",
            "Loading existing database from ./enron_emails.db\n",
            "Loading existing database from ./enron_emails.db\n",
            "Loading existing database from ./enron_emails.db\n",
            "Loading existing database from ./enron_emails.db\n",
            "Loading existing database from ./enron_emails.db\n",
            "Loading existing database from ./enron_emails.db\n",
            "Loading existing database from ./enron_emails.db\n"
          ]
        },
        {
          "name": "stderr",
          "output_type": "stream",
          "text": []
        },
        {
          "name": "stdout",
          "output_type": "stream",
          "text": [
            "Loading existing database from ./enron_emails.db\n"
          ]
        },
        {
          "name": "stderr",
          "output_type": "stream",
          "text": [
            "gather: 100%|██████████| 8/8 [01:26<00:00, 10.85s/it, reward=0, correct=1, completion_tokens=92.7]\n"
          ]
        },
        {
          "data": {
            "text/html": [
              "<pre style=\"white-space:pre;overflow-x:auto;line-height:normal;font-family:Menlo,'DejaVu Sans Mono',consolas,'Courier New',monospace\">\n",
              "<span style=\"font-weight: bold\">[</span>RULER<span style=\"font-weight: bold\">]</span> Pretty-printed LLM choice JSON:\n",
              "</pre>\n"
            ],
            "text/plain": [
              "\n",
              "\u001b[1m[\u001b[0mRULER\u001b[1m]\u001b[0m Pretty-printed LLM choice JSON:\n"
            ]
          },
          "metadata": {},
          "output_type": "display_data"
        },
        {
          "data": {
            "text/html": [
              "<pre style=\"white-space:pre;overflow-x:auto;line-height:normal;font-family:Menlo,'DejaVu Sans Mono',consolas,'Courier New',monospace\"><span style=\"font-weight: bold\">{</span>\n",
              "    <span style=\"color: #008000; text-decoration-color: #008000\">'scores'</span>: <span style=\"font-weight: bold\">[</span>\n",
              "        <span style=\"font-weight: bold\">{</span>\n",
              "            <span style=\"color: #008000; text-decoration-color: #008000\">'trajectory_id'</span>: <span style=\"color: #008000; text-decoration-color: #008000\">'1'</span>,\n",
              "            <span style=\"color: #008000; text-decoration-color: #008000\">'explanation'</span>: <span style=\"color: #008000; text-decoration-color: #008000\">'Made a single incorrect tool call with no meaningful progress or final answer.'</span>,\n",
              "            <span style=\"color: #008000; text-decoration-color: #008000\">'score'</span>: <span style=\"color: #008080; text-decoration-color: #008080; font-weight: bold\">0.0</span>\n",
              "        <span style=\"font-weight: bold\">}</span>,\n",
              "        <span style=\"font-weight: bold\">{</span>\n",
              "            <span style=\"color: #008000; text-decoration-color: #008000\">'trajectory_id'</span>: <span style=\"color: #008000; text-decoration-color: #008000\">'2'</span>,\n",
              "            <span style=\"color: #008000; text-decoration-color: #008000\">'explanation'</span>: <span style=\"color: #008000; text-decoration-color: #008000\">'Endlessly repeated searches without extracting or returning any answer.'</span>,\n",
              "            <span style=\"color: #008000; text-decoration-color: #008000\">'score'</span>: <span style=\"color: #008080; text-decoration-color: #008080; font-weight: bold\">0.0</span>\n",
              "        <span style=\"font-weight: bold\">}</span>,\n",
              "        <span style=\"font-weight: bold\">{</span>\n",
              "            <span style=\"color: #008000; text-decoration-color: #008000\">'trajectory_id'</span>: <span style=\"color: #008000; text-decoration-color: #008000\">'3'</span>,\n",
              "            <span style=\"color: #008000; text-decoration-color: #008000\">'explanation'</span>: <span style=\"color: #008000; text-decoration-color: #008000\">'Tried multiple searches and keyword variations but failed to locate or return the </span>\n",
              "<span style=\"color: #008000; text-decoration-color: #008000\">answer.'</span>,\n",
              "            <span style=\"color: #008000; text-decoration-color: #008000\">'score'</span>: <span style=\"color: #008080; text-decoration-color: #008080; font-weight: bold\">0.1</span>\n",
              "        <span style=\"font-weight: bold\">}</span>,\n",
              "        <span style=\"font-weight: bold\">{</span>\n",
              "            <span style=\"color: #008000; text-decoration-color: #008000\">'trajectory_id'</span>: <span style=\"color: #008000; text-decoration-color: #008000\">'4'</span>,\n",
              "            <span style=\"color: #008000; text-decoration-color: #008000\">'explanation'</span>: <span style=\"color: #008000; text-decoration-color: #008000\">'Efficiently found and read the relevant email, extracted the correct notification </span>\n",
              "<span style=\"color: #008000; text-decoration-color: #008000\">contact, and returned a clear final answer.'</span>,\n",
              "            <span style=\"color: #008000; text-decoration-color: #008000\">'score'</span>: <span style=\"color: #008080; text-decoration-color: #008080; font-weight: bold\">0.9</span>\n",
              "        <span style=\"font-weight: bold\">}</span>\n",
              "    <span style=\"font-weight: bold\">]</span>\n",
              "<span style=\"font-weight: bold\">}</span>\n",
              "</pre>\n"
            ],
            "text/plain": [
              "\u001b[1m{\u001b[0m\n",
              "    \u001b[32m'scores'\u001b[0m: \u001b[1m[\u001b[0m\n",
              "        \u001b[1m{\u001b[0m\n",
              "            \u001b[32m'trajectory_id'\u001b[0m: \u001b[32m'1'\u001b[0m,\n",
              "            \u001b[32m'explanation'\u001b[0m: \u001b[32m'Made a single incorrect tool call with no meaningful progress or final answer.'\u001b[0m,\n",
              "            \u001b[32m'score'\u001b[0m: \u001b[1;36m0.0\u001b[0m\n",
              "        \u001b[1m}\u001b[0m,\n",
              "        \u001b[1m{\u001b[0m\n",
              "            \u001b[32m'trajectory_id'\u001b[0m: \u001b[32m'2'\u001b[0m,\n",
              "            \u001b[32m'explanation'\u001b[0m: \u001b[32m'Endlessly repeated searches without extracting or returning any answer.'\u001b[0m,\n",
              "            \u001b[32m'score'\u001b[0m: \u001b[1;36m0.0\u001b[0m\n",
              "        \u001b[1m}\u001b[0m,\n",
              "        \u001b[1m{\u001b[0m\n",
              "            \u001b[32m'trajectory_id'\u001b[0m: \u001b[32m'3'\u001b[0m,\n",
              "            \u001b[32m'explanation'\u001b[0m: \u001b[32m'Tried multiple searches and keyword variations but failed to locate or return the \u001b[0m\n",
              "\u001b[32manswer.'\u001b[0m,\n",
              "            \u001b[32m'score'\u001b[0m: \u001b[1;36m0.1\u001b[0m\n",
              "        \u001b[1m}\u001b[0m,\n",
              "        \u001b[1m{\u001b[0m\n",
              "            \u001b[32m'trajectory_id'\u001b[0m: \u001b[32m'4'\u001b[0m,\n",
              "            \u001b[32m'explanation'\u001b[0m: \u001b[32m'Efficiently found and read the relevant email, extracted the correct notification \u001b[0m\n",
              "\u001b[32mcontact, and returned a clear final answer.'\u001b[0m,\n",
              "            \u001b[32m'score'\u001b[0m: \u001b[1;36m0.9\u001b[0m\n",
              "        \u001b[1m}\u001b[0m\n",
              "    \u001b[1m]\u001b[0m\n",
              "\u001b[1m}\u001b[0m\n"
            ]
          },
          "metadata": {},
          "output_type": "display_data"
        },
        {
          "data": {
            "text/html": [
              "<pre style=\"white-space:pre;overflow-x:auto;line-height:normal;font-family:Menlo,'DejaVu Sans Mono',consolas,'Courier New',monospace\">\n",
              "<span style=\"font-weight: bold\">[</span>RULER<span style=\"font-weight: bold\">]</span> Pretty-printed LLM choice JSON:\n",
              "</pre>\n"
            ],
            "text/plain": [
              "\n",
              "\u001b[1m[\u001b[0mRULER\u001b[1m]\u001b[0m Pretty-printed LLM choice JSON:\n"
            ]
          },
          "metadata": {},
          "output_type": "display_data"
        },
        {
          "data": {
            "text/html": [
              "<pre style=\"white-space:pre;overflow-x:auto;line-height:normal;font-family:Menlo,'DejaVu Sans Mono',consolas,'Courier New',monospace\"><span style=\"font-weight: bold\">{</span>\n",
              "    <span style=\"color: #008000; text-decoration-color: #008000\">'scores'</span>: <span style=\"font-weight: bold\">[</span>\n",
              "        <span style=\"font-weight: bold\">{</span>\n",
              "            <span style=\"color: #008000; text-decoration-color: #008000\">'trajectory_id'</span>: <span style=\"color: #008000; text-decoration-color: #008000\">'1'</span>,\n",
              "            <span style=\"color: #008000; text-decoration-color: #008000\">'explanation'</span>: <span style=\"color: #008000; text-decoration-color: #008000\">'Incomplete extraction and vague summary; did not actually read the email to obtain full</span>\n",
              "<span style=\"color: #008000; text-decoration-color: #008000\">details.'</span>,\n",
              "            <span style=\"color: #008000; text-decoration-color: #008000\">'score'</span>: <span style=\"color: #008080; text-decoration-color: #008080; font-weight: bold\">0.2</span>\n",
              "        <span style=\"font-weight: bold\">}</span>,\n",
              "        <span style=\"font-weight: bold\">{</span>\n",
              "            <span style=\"color: #008000; text-decoration-color: #008000\">'trajectory_id'</span>: <span style=\"color: #008000; text-decoration-color: #008000\">'2'</span>,\n",
              "            <span style=\"color: #008000; text-decoration-color: #008000\">'explanation'</span>: <span style=\"color: #008000; text-decoration-color: #008000\">'Invented email content, never provided a final answer; fails to address the question.'</span>,\n",
              "            <span style=\"color: #008000; text-decoration-color: #008000\">'score'</span>: <span style=\"color: #008080; text-decoration-color: #008080; font-weight: bold\">0.0</span>\n",
              "        <span style=\"font-weight: bold\">}</span>,\n",
              "        <span style=\"font-weight: bold\">{</span>\n",
              "            <span style=\"color: #008000; text-decoration-color: #008000\">'trajectory_id'</span>: <span style=\"color: #008000; text-decoration-color: #008000\">'3'</span>,\n",
              "            <span style=\"color: #008000; text-decoration-color: #008000\">'explanation'</span>: <span style=\"color: #008000; text-decoration-color: #008000\">\"Correctly located, read, and succinctly summarized the EPA's advance notice to initiate</span>\n",
              "<span style=\"color: #008000; text-decoration-color: #008000\">TSCA rulemaking on MTBE, including key details.\"</span>,\n",
              "            <span style=\"color: #008000; text-decoration-color: #008000\">'score'</span>: <span style=\"color: #008080; text-decoration-color: #008080; font-weight: bold\">0.9</span>\n",
              "        <span style=\"font-weight: bold\">}</span>,\n",
              "        <span style=\"font-weight: bold\">{</span>\n",
              "            <span style=\"color: #008000; text-decoration-color: #008000\">'trajectory_id'</span>: <span style=\"color: #008000; text-decoration-color: #008000\">'4'</span>,\n",
              "            <span style=\"color: #008000; text-decoration-color: #008000\">'explanation'</span>: <span style=\"color: #008000; text-decoration-color: #008000\">'Accurate summary of the EPA action but includes some extraneous context; slightly less </span>\n",
              "<span style=\"color: #008000; text-decoration-color: #008000\">focused than Trajectory 3.'</span>,\n",
              "            <span style=\"color: #008000; text-decoration-color: #008000\">'score'</span>: <span style=\"color: #008080; text-decoration-color: #008080; font-weight: bold\">0.85</span>\n",
              "        <span style=\"font-weight: bold\">}</span>\n",
              "    <span style=\"font-weight: bold\">]</span>\n",
              "<span style=\"font-weight: bold\">}</span>\n",
              "</pre>\n"
            ],
            "text/plain": [
              "\u001b[1m{\u001b[0m\n",
              "    \u001b[32m'scores'\u001b[0m: \u001b[1m[\u001b[0m\n",
              "        \u001b[1m{\u001b[0m\n",
              "            \u001b[32m'trajectory_id'\u001b[0m: \u001b[32m'1'\u001b[0m,\n",
              "            \u001b[32m'explanation'\u001b[0m: \u001b[32m'Incomplete extraction and vague summary; did not actually read the email to obtain full\u001b[0m\n",
              "\u001b[32mdetails.'\u001b[0m,\n",
              "            \u001b[32m'score'\u001b[0m: \u001b[1;36m0.2\u001b[0m\n",
              "        \u001b[1m}\u001b[0m,\n",
              "        \u001b[1m{\u001b[0m\n",
              "            \u001b[32m'trajectory_id'\u001b[0m: \u001b[32m'2'\u001b[0m,\n",
              "            \u001b[32m'explanation'\u001b[0m: \u001b[32m'Invented email content, never provided a final answer; fails to address the question.'\u001b[0m,\n",
              "            \u001b[32m'score'\u001b[0m: \u001b[1;36m0.0\u001b[0m\n",
              "        \u001b[1m}\u001b[0m,\n",
              "        \u001b[1m{\u001b[0m\n",
              "            \u001b[32m'trajectory_id'\u001b[0m: \u001b[32m'3'\u001b[0m,\n",
              "            \u001b[32m'explanation'\u001b[0m: \u001b[32m\"Correctly located, read, and succinctly summarized the EPA's advance notice to initiate\u001b[0m\n",
              "\u001b[32mTSCA rulemaking on MTBE, including key details.\"\u001b[0m,\n",
              "            \u001b[32m'score'\u001b[0m: \u001b[1;36m0.9\u001b[0m\n",
              "        \u001b[1m}\u001b[0m,\n",
              "        \u001b[1m{\u001b[0m\n",
              "            \u001b[32m'trajectory_id'\u001b[0m: \u001b[32m'4'\u001b[0m,\n",
              "            \u001b[32m'explanation'\u001b[0m: \u001b[32m'Accurate summary of the EPA action but includes some extraneous context; slightly less \u001b[0m\n",
              "\u001b[32mfocused than Trajectory 3.'\u001b[0m,\n",
              "            \u001b[32m'score'\u001b[0m: \u001b[1;36m0.85\u001b[0m\n",
              "        \u001b[1m}\u001b[0m\n",
              "    \u001b[1m]\u001b[0m\n",
              "\u001b[1m}\u001b[0m\n"
            ]
          },
          "metadata": {},
          "output_type": "display_data"
        },
        {
          "name": "stdout",
          "output_type": "stream",
          "text": [
            "No \"val/reward\" metric found in history\n",
            "Deleted checkpoint ./.art/email-search-agent-langgraph/models/email-agent-langgraph-001/checkpoints/0008\n",
            "Packed 8 trajectories into 3 sequences of length 4096\n"
          ]
        },
        {
          "name": "stderr",
          "output_type": "stream",
          "text": [
            "train: 100%|██████████| 3/3 [00:20<00:00,  6.77s/it, loss=0.379, grad_norm=0.237, policy_loss=0.379, entropy=0.303]\n",
            "Iterating dataset:   2%|▏         | 10/500 [21:12<15:39:49, 115.08s/batch]"
          ]
        },
        {
          "name": "stdout",
          "output_type": "stream",
          "text": [
            "Completed training step 9\n",
            "Training step 10, epoch 0, epoch step 10\n",
            "Batch contains 2 scenarios\n",
            "<art.trajectories.TrajectoryGroup.__new__.<locals>.CoroutineWithMetadata object at 0x755c33186c50>\n"
          ]
        },
        {
          "name": "stderr",
          "output_type": "stream",
          "text": [
            "/tmp/ipykernel_288833/1452329291.py:133: LangGraphDeprecatedSinceV10: create_react_agent has been moved to langchain.agents. Please update your import to 'from langchain.agents import create_agent'. Deprecated in LangGraph V1.0 to be removed in V2.0.\n",
            "  react_agent = create_react_agent(chat_model, tools)\n",
            "/tmp/ipykernel_288833/1452329291.py:133: LangGraphDeprecatedSinceV10: create_react_agent has been moved to langchain.agents. Please update your import to 'from langchain.agents import create_agent'. Deprecated in LangGraph V1.0 to be removed in V2.0.\n",
            "  react_agent = create_react_agent(chat_model, tools)\n",
            "/tmp/ipykernel_288833/1452329291.py:133: LangGraphDeprecatedSinceV10: create_react_agent has been moved to langchain.agents. Please update your import to 'from langchain.agents import create_agent'. Deprecated in LangGraph V1.0 to be removed in V2.0.\n",
            "  react_agent = create_react_agent(chat_model, tools)\n",
            "/tmp/ipykernel_288833/1452329291.py:133: LangGraphDeprecatedSinceV10: create_react_agent has been moved to langchain.agents. Please update your import to 'from langchain.agents import create_agent'. Deprecated in LangGraph V1.0 to be removed in V2.0.\n",
            "  react_agent = create_react_agent(chat_model, tools)\n",
            "/tmp/ipykernel_288833/1452329291.py:133: LangGraphDeprecatedSinceV10: create_react_agent has been moved to langchain.agents. Please update your import to 'from langchain.agents import create_agent'. Deprecated in LangGraph V1.0 to be removed in V2.0.\n",
            "  react_agent = create_react_agent(chat_model, tools)\n",
            "/tmp/ipykernel_288833/1452329291.py:133: LangGraphDeprecatedSinceV10: create_react_agent has been moved to langchain.agents. Please update your import to 'from langchain.agents import create_agent'. Deprecated in LangGraph V1.0 to be removed in V2.0.\n",
            "  react_agent = create_react_agent(chat_model, tools)\n",
            "/tmp/ipykernel_288833/1452329291.py:133: LangGraphDeprecatedSinceV10: create_react_agent has been moved to langchain.agents. Please update your import to 'from langchain.agents import create_agent'. Deprecated in LangGraph V1.0 to be removed in V2.0.\n",
            "  react_agent = create_react_agent(chat_model, tools)\n",
            "/tmp/ipykernel_288833/1452329291.py:133: LangGraphDeprecatedSinceV10: create_react_agent has been moved to langchain.agents. Please update your import to 'from langchain.agents import create_agent'. Deprecated in LangGraph V1.0 to be removed in V2.0.\n",
            "  react_agent = create_react_agent(chat_model, tools)\n"
          ]
        },
        {
          "name": "stdout",
          "output_type": "stream",
          "text": [
            "Loading existing database from ./enron_emails.db\n",
            "Loading existing database from ./enron_emails.db\n",
            "Loading existing database from ./enron_emails.db\n",
            "Loading existing database from ./enron_emails.db\n",
            "Loading existing database from ./enron_emails.dbLoading existing database from ./enron_emails.db\n",
            "\n",
            "Loading existing database from ./enron_emails.db\n",
            "Loading existing database from ./enron_emails.db\n",
            "Loading existing database from ./enron_emails.db\n"
          ]
        },
        {
          "name": "stderr",
          "output_type": "stream",
          "text": []
        },
        {
          "name": "stdout",
          "output_type": "stream",
          "text": [
            "Loading existing database from ./enron_emails.db\n",
            "Loading existing database from ./enron_emails.db\n",
            "Loading existing database from ./enron_emails.db\n",
            "Loading existing database from ./enron_emails.db\n",
            "Loading existing database from ./enron_emails.db\n",
            "Loading existing database from ./enron_emails.db\n",
            "Loading existing database from ./enron_emails.db\n",
            "Loading existing database from ./enron_emails.db\n",
            "Loading existing database from ./enron_emails.db\n",
            "Loading existing database from ./enron_emails.db\n",
            "Loading existing database from ./enron_emails.db\n",
            "Loading existing database from ./enron_emails.db\n",
            "Loading existing database from ./enron_emails.db\n",
            "Loading existing database from ./enron_emails.db\n"
          ]
        },
        {
          "name": "stderr",
          "output_type": "stream",
          "text": []
        },
        {
          "name": "stdout",
          "output_type": "stream",
          "text": [
            "Loading existing database from ./enron_emails.db\n",
            "Loading existing database from ./enron_emails.db\n",
            "Loading existing database from ./enron_emails.db\n"
          ]
        },
        {
          "name": "stderr",
          "output_type": "stream",
          "text": [
            "gather: 100%|██████████| 8/8 [01:20<00:00, 10.05s/it, reward=0, correct=1, completion_tokens=55.1]\n"
          ]
        },
        {
          "data": {
            "text/html": [
              "<pre style=\"white-space:pre;overflow-x:auto;line-height:normal;font-family:Menlo,'DejaVu Sans Mono',consolas,'Courier New',monospace\">\n",
              "<span style=\"font-weight: bold\">[</span>RULER<span style=\"font-weight: bold\">]</span> Pretty-printed LLM choice JSON:\n",
              "</pre>\n"
            ],
            "text/plain": [
              "\n",
              "\u001b[1m[\u001b[0mRULER\u001b[1m]\u001b[0m Pretty-printed LLM choice JSON:\n"
            ]
          },
          "metadata": {},
          "output_type": "display_data"
        },
        {
          "data": {
            "text/html": [
              "<pre style=\"white-space:pre;overflow-x:auto;line-height:normal;font-family:Menlo,'DejaVu Sans Mono',consolas,'Courier New',monospace\"><span style=\"font-weight: bold\">{</span>\n",
              "    <span style=\"color: #008000; text-decoration-color: #008000\">'scores'</span>: <span style=\"font-weight: bold\">[</span>\n",
              "        <span style=\"font-weight: bold\">{</span>\n",
              "            <span style=\"color: #008000; text-decoration-color: #008000\">'trajectory_id'</span>: <span style=\"color: #008000; text-decoration-color: #008000\">'1'</span>,\n",
              "            <span style=\"color: #008000; text-decoration-color: #008000\">'explanation'</span>: <span style=\"color: #008000; text-decoration-color: #008000\">'Performs a search but never returns an answer; only partial progress.'</span>,\n",
              "            <span style=\"color: #008000; text-decoration-color: #008000\">'score'</span>: <span style=\"color: #008080; text-decoration-color: #008080; font-weight: bold\">0.1</span>\n",
              "        <span style=\"font-weight: bold\">}</span>,\n",
              "        <span style=\"font-weight: bold\">{</span>\n",
              "            <span style=\"color: #008000; text-decoration-color: #008000\">'trajectory_id'</span>: <span style=\"color: #008000; text-decoration-color: #008000\">'2'</span>,\n",
              "            <span style=\"color: #008000; text-decoration-color: #008000\">'explanation'</span>: <span style=\"color: #008000; text-decoration-color: #008000\">'Also finds a snippet but never delivers a final answer; minimal progress.'</span>,\n",
              "            <span style=\"color: #008000; text-decoration-color: #008000\">'score'</span>: <span style=\"color: #008080; text-decoration-color: #008080; font-weight: bold\">0.1</span>\n",
              "        <span style=\"font-weight: bold\">}</span>,\n",
              "        <span style=\"font-weight: bold\">{</span>\n",
              "            <span style=\"color: #008000; text-decoration-color: #008000\">'trajectory_id'</span>: <span style=\"color: #008000; text-decoration-color: #008000\">'3'</span>,\n",
              "            <span style=\"color: #008000; text-decoration-color: #008000\">'explanation'</span>: <span style=\"color: #008000; text-decoration-color: #008000\">'Correctly searches, reads the email, and returns the right contact with source; </span>\n",
              "<span style=\"color: #008000; text-decoration-color: #008000\">efficient and complete.'</span>,\n",
              "            <span style=\"color: #008000; text-decoration-color: #008000\">'score'</span>: <span style=\"color: #008080; text-decoration-color: #008080; font-weight: bold\">0.9</span>\n",
              "        <span style=\"font-weight: bold\">}</span>,\n",
              "        <span style=\"font-weight: bold\">{</span>\n",
              "            <span style=\"color: #008000; text-decoration-color: #008000\">'trajectory_id'</span>: <span style=\"color: #008000; text-decoration-color: #008000\">'4'</span>,\n",
              "            <span style=\"color: #008000; text-decoration-color: #008000\">'explanation'</span>: <span style=\"color: #008000; text-decoration-color: #008000\">'Also correctly finds and cites the email and returns the correct answer; similar </span>\n",
              "<span style=\"color: #008000; text-decoration-color: #008000\">performance to trajectory 3.'</span>,\n",
              "            <span style=\"color: #008000; text-decoration-color: #008000\">'score'</span>: <span style=\"color: #008080; text-decoration-color: #008080; font-weight: bold\">0.9</span>\n",
              "        <span style=\"font-weight: bold\">}</span>\n",
              "    <span style=\"font-weight: bold\">]</span>\n",
              "<span style=\"font-weight: bold\">}</span>\n",
              "</pre>\n"
            ],
            "text/plain": [
              "\u001b[1m{\u001b[0m\n",
              "    \u001b[32m'scores'\u001b[0m: \u001b[1m[\u001b[0m\n",
              "        \u001b[1m{\u001b[0m\n",
              "            \u001b[32m'trajectory_id'\u001b[0m: \u001b[32m'1'\u001b[0m,\n",
              "            \u001b[32m'explanation'\u001b[0m: \u001b[32m'Performs a search but never returns an answer; only partial progress.'\u001b[0m,\n",
              "            \u001b[32m'score'\u001b[0m: \u001b[1;36m0.1\u001b[0m\n",
              "        \u001b[1m}\u001b[0m,\n",
              "        \u001b[1m{\u001b[0m\n",
              "            \u001b[32m'trajectory_id'\u001b[0m: \u001b[32m'2'\u001b[0m,\n",
              "            \u001b[32m'explanation'\u001b[0m: \u001b[32m'Also finds a snippet but never delivers a final answer; minimal progress.'\u001b[0m,\n",
              "            \u001b[32m'score'\u001b[0m: \u001b[1;36m0.1\u001b[0m\n",
              "        \u001b[1m}\u001b[0m,\n",
              "        \u001b[1m{\u001b[0m\n",
              "            \u001b[32m'trajectory_id'\u001b[0m: \u001b[32m'3'\u001b[0m,\n",
              "            \u001b[32m'explanation'\u001b[0m: \u001b[32m'Correctly searches, reads the email, and returns the right contact with source; \u001b[0m\n",
              "\u001b[32mefficient and complete.'\u001b[0m,\n",
              "            \u001b[32m'score'\u001b[0m: \u001b[1;36m0.9\u001b[0m\n",
              "        \u001b[1m}\u001b[0m,\n",
              "        \u001b[1m{\u001b[0m\n",
              "            \u001b[32m'trajectory_id'\u001b[0m: \u001b[32m'4'\u001b[0m,\n",
              "            \u001b[32m'explanation'\u001b[0m: \u001b[32m'Also correctly finds and cites the email and returns the correct answer; similar \u001b[0m\n",
              "\u001b[32mperformance to trajectory 3.'\u001b[0m,\n",
              "            \u001b[32m'score'\u001b[0m: \u001b[1;36m0.9\u001b[0m\n",
              "        \u001b[1m}\u001b[0m\n",
              "    \u001b[1m]\u001b[0m\n",
              "\u001b[1m}\u001b[0m\n"
            ]
          },
          "metadata": {},
          "output_type": "display_data"
        },
        {
          "data": {
            "text/html": [
              "<pre style=\"white-space:pre;overflow-x:auto;line-height:normal;font-family:Menlo,'DejaVu Sans Mono',consolas,'Courier New',monospace\">\n",
              "<span style=\"font-weight: bold\">[</span>RULER<span style=\"font-weight: bold\">]</span> Pretty-printed LLM choice JSON:\n",
              "</pre>\n"
            ],
            "text/plain": [
              "\n",
              "\u001b[1m[\u001b[0mRULER\u001b[1m]\u001b[0m Pretty-printed LLM choice JSON:\n"
            ]
          },
          "metadata": {},
          "output_type": "display_data"
        },
        {
          "data": {
            "text/html": [
              "<pre style=\"white-space:pre;overflow-x:auto;line-height:normal;font-family:Menlo,'DejaVu Sans Mono',consolas,'Courier New',monospace\"><span style=\"font-weight: bold\">{</span>\n",
              "    <span style=\"color: #008000; text-decoration-color: #008000\">'scores'</span>: <span style=\"font-weight: bold\">[</span>\n",
              "        <span style=\"font-weight: bold\">{</span>\n",
              "            <span style=\"color: #008000; text-decoration-color: #008000\">'trajectory_id'</span>: <span style=\"color: #008000; text-decoration-color: #008000\">'1'</span>,\n",
              "            <span style=\"color: #008000; text-decoration-color: #008000\">'explanation'</span>: <span style=\"color: #008000; text-decoration-color: #008000\">'Found a relevant email but never read its content or returned any answer.'</span>,\n",
              "            <span style=\"color: #008000; text-decoration-color: #008000\">'score'</span>: <span style=\"color: #008080; text-decoration-color: #008080; font-weight: bold\">0.1</span>\n",
              "        <span style=\"font-weight: bold\">}</span>,\n",
              "        <span style=\"font-weight: bold\">{</span>\n",
              "            <span style=\"color: #008000; text-decoration-color: #008000\">'trajectory_id'</span>: <span style=\"color: #008000; text-decoration-color: #008000\">'2'</span>,\n",
              "            <span style=\"color: #008000; text-decoration-color: #008000\">'explanation'</span>: <span style=\"color: #008000; text-decoration-color: #008000\">'Like trajectory 1, it performed a search and read call but failed to extract or return </span>\n",
              "<span style=\"color: #008000; text-decoration-color: #008000\">the answer.'</span>,\n",
              "            <span style=\"color: #008000; text-decoration-color: #008000\">'score'</span>: <span style=\"color: #008080; text-decoration-color: #008080; font-weight: bold\">0.1</span>\n",
              "        <span style=\"font-weight: bold\">}</span>,\n",
              "        <span style=\"font-weight: bold\">{</span>\n",
              "            <span style=\"color: #008000; text-decoration-color: #008000\">'trajectory_id'</span>: <span style=\"color: #008000; text-decoration-color: #008000\">'3'</span>,\n",
              "            <span style=\"color: #008000; text-decoration-color: #008000\">'explanation'</span>: <span style=\"color: #008000; text-decoration-color: #008000\">'Eventually located the correct message after many wasted searches, but still did not </span>\n",
              "<span style=\"color: #008000; text-decoration-color: #008000\">parse or return the answer.'</span>,\n",
              "            <span style=\"color: #008000; text-decoration-color: #008000\">'score'</span>: <span style=\"color: #008080; text-decoration-color: #008080; font-weight: bold\">0.2</span>\n",
              "        <span style=\"font-weight: bold\">}</span>,\n",
              "        <span style=\"font-weight: bold\">{</span>\n",
              "            <span style=\"color: #008000; text-decoration-color: #008000\">'trajectory_id'</span>: <span style=\"color: #008000; text-decoration-color: #008000\">'4'</span>,\n",
              "            <span style=\"color: #008000; text-decoration-color: #008000\">'explanation'</span>: <span style=\"color: #008000; text-decoration-color: #008000\">'Multiple searches and reasoning steps but never found or returned the required </span>\n",
              "<span style=\"color: #008000; text-decoration-color: #008000\">information.'</span>,\n",
              "            <span style=\"color: #008000; text-decoration-color: #008000\">'score'</span>: <span style=\"color: #008080; text-decoration-color: #008080; font-weight: bold\">0.05</span>\n",
              "        <span style=\"font-weight: bold\">}</span>\n",
              "    <span style=\"font-weight: bold\">]</span>\n",
              "<span style=\"font-weight: bold\">}</span>\n",
              "</pre>\n"
            ],
            "text/plain": [
              "\u001b[1m{\u001b[0m\n",
              "    \u001b[32m'scores'\u001b[0m: \u001b[1m[\u001b[0m\n",
              "        \u001b[1m{\u001b[0m\n",
              "            \u001b[32m'trajectory_id'\u001b[0m: \u001b[32m'1'\u001b[0m,\n",
              "            \u001b[32m'explanation'\u001b[0m: \u001b[32m'Found a relevant email but never read its content or returned any answer.'\u001b[0m,\n",
              "            \u001b[32m'score'\u001b[0m: \u001b[1;36m0.1\u001b[0m\n",
              "        \u001b[1m}\u001b[0m,\n",
              "        \u001b[1m{\u001b[0m\n",
              "            \u001b[32m'trajectory_id'\u001b[0m: \u001b[32m'2'\u001b[0m,\n",
              "            \u001b[32m'explanation'\u001b[0m: \u001b[32m'Like trajectory 1, it performed a search and read call but failed to extract or return \u001b[0m\n",
              "\u001b[32mthe answer.'\u001b[0m,\n",
              "            \u001b[32m'score'\u001b[0m: \u001b[1;36m0.1\u001b[0m\n",
              "        \u001b[1m}\u001b[0m,\n",
              "        \u001b[1m{\u001b[0m\n",
              "            \u001b[32m'trajectory_id'\u001b[0m: \u001b[32m'3'\u001b[0m,\n",
              "            \u001b[32m'explanation'\u001b[0m: \u001b[32m'Eventually located the correct message after many wasted searches, but still did not \u001b[0m\n",
              "\u001b[32mparse or return the answer.'\u001b[0m,\n",
              "            \u001b[32m'score'\u001b[0m: \u001b[1;36m0.2\u001b[0m\n",
              "        \u001b[1m}\u001b[0m,\n",
              "        \u001b[1m{\u001b[0m\n",
              "            \u001b[32m'trajectory_id'\u001b[0m: \u001b[32m'4'\u001b[0m,\n",
              "            \u001b[32m'explanation'\u001b[0m: \u001b[32m'Multiple searches and reasoning steps but never found or returned the required \u001b[0m\n",
              "\u001b[32minformation.'\u001b[0m,\n",
              "            \u001b[32m'score'\u001b[0m: \u001b[1;36m0.05\u001b[0m\n",
              "        \u001b[1m}\u001b[0m\n",
              "    \u001b[1m]\u001b[0m\n",
              "\u001b[1m}\u001b[0m\n"
            ]
          },
          "metadata": {},
          "output_type": "display_data"
        },
        {
          "name": "stdout",
          "output_type": "stream",
          "text": [
            "No \"val/reward\" metric found in history\n",
            "Deleted checkpoint ./.art/email-search-agent-langgraph/models/email-agent-langgraph-001/checkpoints/0009\n",
            "Packed 8 trajectories into 4 sequences of length 2048\n"
          ]
        },
        {
          "name": "stderr",
          "output_type": "stream",
          "text": [
            "train: 100%|██████████| 4/4 [00:16<00:00,  4.13s/it, loss=-0.788, grad_norm=0.341, policy_loss=-0.788, entropy=0.0932]\n",
            "Iterating dataset:   2%|▏         | 11/500 [23:09<15:42:29, 115.64s/batch]"
          ]
        },
        {
          "name": "stdout",
          "output_type": "stream",
          "text": [
            "Completed training step 10\n",
            "Training step 11, epoch 0, epoch step 11\n",
            "Batch contains 2 scenarios\n",
            "<art.trajectories.TrajectoryGroup.__new__.<locals>.CoroutineWithMetadata object at 0x755c2d622c50>\n"
          ]
        },
        {
          "name": "stderr",
          "output_type": "stream",
          "text": [
            "/tmp/ipykernel_288833/1452329291.py:133: LangGraphDeprecatedSinceV10: create_react_agent has been moved to langchain.agents. Please update your import to 'from langchain.agents import create_agent'. Deprecated in LangGraph V1.0 to be removed in V2.0.\n",
            "  react_agent = create_react_agent(chat_model, tools)\n",
            "/tmp/ipykernel_288833/1452329291.py:133: LangGraphDeprecatedSinceV10: create_react_agent has been moved to langchain.agents. Please update your import to 'from langchain.agents import create_agent'. Deprecated in LangGraph V1.0 to be removed in V2.0.\n",
            "  react_agent = create_react_agent(chat_model, tools)\n",
            "/tmp/ipykernel_288833/1452329291.py:133: LangGraphDeprecatedSinceV10: create_react_agent has been moved to langchain.agents. Please update your import to 'from langchain.agents import create_agent'. Deprecated in LangGraph V1.0 to be removed in V2.0.\n",
            "  react_agent = create_react_agent(chat_model, tools)\n",
            "/tmp/ipykernel_288833/1452329291.py:133: LangGraphDeprecatedSinceV10: create_react_agent has been moved to langchain.agents. Please update your import to 'from langchain.agents import create_agent'. Deprecated in LangGraph V1.0 to be removed in V2.0.\n",
            "  react_agent = create_react_agent(chat_model, tools)\n",
            "/tmp/ipykernel_288833/1452329291.py:133: LangGraphDeprecatedSinceV10: create_react_agent has been moved to langchain.agents. Please update your import to 'from langchain.agents import create_agent'. Deprecated in LangGraph V1.0 to be removed in V2.0.\n",
            "  react_agent = create_react_agent(chat_model, tools)\n",
            "/tmp/ipykernel_288833/1452329291.py:133: LangGraphDeprecatedSinceV10: create_react_agent has been moved to langchain.agents. Please update your import to 'from langchain.agents import create_agent'. Deprecated in LangGraph V1.0 to be removed in V2.0.\n",
            "  react_agent = create_react_agent(chat_model, tools)\n",
            "/tmp/ipykernel_288833/1452329291.py:133: LangGraphDeprecatedSinceV10: create_react_agent has been moved to langchain.agents. Please update your import to 'from langchain.agents import create_agent'. Deprecated in LangGraph V1.0 to be removed in V2.0.\n",
            "  react_agent = create_react_agent(chat_model, tools)\n",
            "/tmp/ipykernel_288833/1452329291.py:133: LangGraphDeprecatedSinceV10: create_react_agent has been moved to langchain.agents. Please update your import to 'from langchain.agents import create_agent'. Deprecated in LangGraph V1.0 to be removed in V2.0.\n",
            "  react_agent = create_react_agent(chat_model, tools)\n"
          ]
        },
        {
          "name": "stdout",
          "output_type": "stream",
          "text": [
            "Loading existing database from ./enron_emails.db\n",
            "Loading existing database from ./enron_emails.db\n",
            "Loading existing database from ./enron_emails.db\n",
            "Loading existing database from ./enron_emails.dbLoading existing database from ./enron_emails.dbLoading existing database from ./enron_emails.db\n",
            "\n",
            "Loading existing database from ./enron_emails.db\n",
            "\n",
            "Loading existing database from ./enron_emails.db\n",
            "Loading existing database from ./enron_emails.db\n",
            "Loading existing database from ./enron_emails.db\n",
            "Loading existing database from ./enron_emails.db\n",
            "Loading existing database from ./enron_emails.db\n",
            "Loading existing database from ./enron_emails.db\n",
            "Loading existing database from ./enron_emails.db\n",
            "Loading existing database from ./enron_emails.db\n",
            "Loading existing database from ./enron_emails.db\n",
            "Loading existing database from ./enron_emails.db\n",
            "Loading existing database from ./enron_emails.db\n",
            "Loading existing database from ./enron_emails.db\n",
            "Loading existing database from ./enron_emails.db\n",
            "Loading existing database from ./enron_emails.db\n",
            "Loading existing database from ./enron_emails.db\n",
            "Loading existing database from ./enron_emails.db\n"
          ]
        },
        {
          "name": "stderr",
          "output_type": "stream",
          "text": []
        },
        {
          "name": "stdout",
          "output_type": "stream",
          "text": [
            "Loading existing database from ./enron_emails.db\n",
            "Loading existing database from ./enron_emails.db\n",
            "Loading existing database from ./enron_emails.db\n"
          ]
        },
        {
          "name": "stderr",
          "output_type": "stream",
          "text": []
        },
        {
          "name": "stdout",
          "output_type": "stream",
          "text": [
            "Loading existing database from ./enron_emails.db\n"
          ]
        },
        {
          "name": "stderr",
          "output_type": "stream",
          "text": []
        },
        {
          "name": "stdout",
          "output_type": "stream",
          "text": [
            "Loading existing database from ./enron_emails.db\n"
          ]
        },
        {
          "name": "stderr",
          "output_type": "stream",
          "text": []
        },
        {
          "name": "stdout",
          "output_type": "stream",
          "text": [
            "Loading existing database from ./enron_emails.db\n",
            "Loading existing database from ./enron_emails.db\n"
          ]
        },
        {
          "name": "stderr",
          "output_type": "stream",
          "text": []
        },
        {
          "name": "stdout",
          "output_type": "stream",
          "text": [
            "Loading existing database from ./enron_emails.db\n"
          ]
        },
        {
          "name": "stderr",
          "output_type": "stream",
          "text": [
            "gather: 100%|██████████| 8/8 [00:56<00:00,  7.09s/it, reward=0, correct=1, completion_tokens=57.4]\n"
          ]
        },
        {
          "data": {
            "text/html": [
              "<pre style=\"white-space:pre;overflow-x:auto;line-height:normal;font-family:Menlo,'DejaVu Sans Mono',consolas,'Courier New',monospace\">\n",
              "<span style=\"font-weight: bold\">[</span>RULER<span style=\"font-weight: bold\">]</span> Pretty-printed LLM choice JSON:\n",
              "</pre>\n"
            ],
            "text/plain": [
              "\n",
              "\u001b[1m[\u001b[0mRULER\u001b[1m]\u001b[0m Pretty-printed LLM choice JSON:\n"
            ]
          },
          "metadata": {},
          "output_type": "display_data"
        },
        {
          "data": {
            "text/html": [
              "<pre style=\"white-space:pre;overflow-x:auto;line-height:normal;font-family:Menlo,'DejaVu Sans Mono',consolas,'Courier New',monospace\"><span style=\"font-weight: bold\">{</span>\n",
              "    <span style=\"color: #008000; text-decoration-color: #008000\">'scores'</span>: <span style=\"font-weight: bold\">[</span>\n",
              "        <span style=\"font-weight: bold\">{</span>\n",
              "            <span style=\"color: #008000; text-decoration-color: #008000\">'trajectory_id'</span>: <span style=\"color: #008000; text-decoration-color: #008000\">'1'</span>,\n",
              "            <span style=\"color: #008000; text-decoration-color: #008000\">'explanation'</span>: <span style=\"color: #008000; text-decoration-color: #008000\">'Correctly found and read the relevant email, provided a concise accurate answer with </span>\n",
              "<span style=\"color: #008000; text-decoration-color: #008000\">minimal steps.'</span>,\n",
              "            <span style=\"color: #008000; text-decoration-color: #008000\">'score'</span>: <span style=\"color: #008080; text-decoration-color: #008080; font-weight: bold\">0.9</span>\n",
              "        <span style=\"font-weight: bold\">}</span>,\n",
              "        <span style=\"font-weight: bold\">{</span>\n",
              "            <span style=\"color: #008000; text-decoration-color: #008000\">'trajectory_id'</span>: <span style=\"color: #008000; text-decoration-color: #008000\">'2'</span>,\n",
              "            <span style=\"color: #008000; text-decoration-color: #008000\">'explanation'</span>: <span style=\"color: #008000; text-decoration-color: #008000\">'Essentially identical to trajectory 1 in efficiency and correctness—found the email and</span>\n",
              "<span style=\"color: #008000; text-decoration-color: #008000\">gave the right answer.'</span>,\n",
              "            <span style=\"color: #008000; text-decoration-color: #008000\">'score'</span>: <span style=\"color: #008080; text-decoration-color: #008080; font-weight: bold\">0.9</span>\n",
              "        <span style=\"font-weight: bold\">}</span>,\n",
              "        <span style=\"font-weight: bold\">{</span>\n",
              "            <span style=\"color: #008000; text-decoration-color: #008000\">'trajectory_id'</span>: <span style=\"color: #008000; text-decoration-color: #008000\">'3'</span>,\n",
              "            <span style=\"color: #008000; text-decoration-color: #008000\">'explanation'</span>: <span style=\"color: #008000; text-decoration-color: #008000\">'Repeated searches without successfully reading the email or producing an answer—no </span>\n",
              "<span style=\"color: #008000; text-decoration-color: #008000\">progress to final answer.'</span>,\n",
              "            <span style=\"color: #008000; text-decoration-color: #008000\">'score'</span>: <span style=\"color: #008080; text-decoration-color: #008080; font-weight: bold\">0.0</span>\n",
              "        <span style=\"font-weight: bold\">}</span>,\n",
              "        <span style=\"font-weight: bold\">{</span>\n",
              "            <span style=\"color: #008000; text-decoration-color: #008000\">'trajectory_id'</span>: <span style=\"color: #008000; text-decoration-color: #008000\">'4'</span>,\n",
              "            <span style=\"color: #008000; text-decoration-color: #008000\">'explanation'</span>: <span style=\"color: #008000; text-decoration-color: #008000\">'Never located or read the relevant email and did not produce an answer.'</span>,\n",
              "            <span style=\"color: #008000; text-decoration-color: #008000\">'score'</span>: <span style=\"color: #008080; text-decoration-color: #008080; font-weight: bold\">0.0</span>\n",
              "        <span style=\"font-weight: bold\">}</span>\n",
              "    <span style=\"font-weight: bold\">]</span>\n",
              "<span style=\"font-weight: bold\">}</span>\n",
              "</pre>\n"
            ],
            "text/plain": [
              "\u001b[1m{\u001b[0m\n",
              "    \u001b[32m'scores'\u001b[0m: \u001b[1m[\u001b[0m\n",
              "        \u001b[1m{\u001b[0m\n",
              "            \u001b[32m'trajectory_id'\u001b[0m: \u001b[32m'1'\u001b[0m,\n",
              "            \u001b[32m'explanation'\u001b[0m: \u001b[32m'Correctly found and read the relevant email, provided a concise accurate answer with \u001b[0m\n",
              "\u001b[32mminimal steps.'\u001b[0m,\n",
              "            \u001b[32m'score'\u001b[0m: \u001b[1;36m0.9\u001b[0m\n",
              "        \u001b[1m}\u001b[0m,\n",
              "        \u001b[1m{\u001b[0m\n",
              "            \u001b[32m'trajectory_id'\u001b[0m: \u001b[32m'2'\u001b[0m,\n",
              "            \u001b[32m'explanation'\u001b[0m: \u001b[32m'Essentially identical to trajectory 1 in efficiency and correctness—found the email and\u001b[0m\n",
              "\u001b[32mgave the right answer.'\u001b[0m,\n",
              "            \u001b[32m'score'\u001b[0m: \u001b[1;36m0.9\u001b[0m\n",
              "        \u001b[1m}\u001b[0m,\n",
              "        \u001b[1m{\u001b[0m\n",
              "            \u001b[32m'trajectory_id'\u001b[0m: \u001b[32m'3'\u001b[0m,\n",
              "            \u001b[32m'explanation'\u001b[0m: \u001b[32m'Repeated searches without successfully reading the email or producing an answer—no \u001b[0m\n",
              "\u001b[32mprogress to final answer.'\u001b[0m,\n",
              "            \u001b[32m'score'\u001b[0m: \u001b[1;36m0.0\u001b[0m\n",
              "        \u001b[1m}\u001b[0m,\n",
              "        \u001b[1m{\u001b[0m\n",
              "            \u001b[32m'trajectory_id'\u001b[0m: \u001b[32m'4'\u001b[0m,\n",
              "            \u001b[32m'explanation'\u001b[0m: \u001b[32m'Never located or read the relevant email and did not produce an answer.'\u001b[0m,\n",
              "            \u001b[32m'score'\u001b[0m: \u001b[1;36m0.0\u001b[0m\n",
              "        \u001b[1m}\u001b[0m\n",
              "    \u001b[1m]\u001b[0m\n",
              "\u001b[1m}\u001b[0m\n"
            ]
          },
          "metadata": {},
          "output_type": "display_data"
        },
        {
          "data": {
            "text/html": [
              "<pre style=\"white-space:pre;overflow-x:auto;line-height:normal;font-family:Menlo,'DejaVu Sans Mono',consolas,'Courier New',monospace\">\n",
              "<span style=\"font-weight: bold\">[</span>RULER<span style=\"font-weight: bold\">]</span> Pretty-printed LLM choice JSON:\n",
              "</pre>\n"
            ],
            "text/plain": [
              "\n",
              "\u001b[1m[\u001b[0mRULER\u001b[1m]\u001b[0m Pretty-printed LLM choice JSON:\n"
            ]
          },
          "metadata": {},
          "output_type": "display_data"
        },
        {
          "data": {
            "text/html": [
              "<pre style=\"white-space:pre;overflow-x:auto;line-height:normal;font-family:Menlo,'DejaVu Sans Mono',consolas,'Courier New',monospace\"><span style=\"font-weight: bold\">{</span>\n",
              "    <span style=\"color: #008000; text-decoration-color: #008000\">'scores'</span>: <span style=\"font-weight: bold\">[</span>\n",
              "        <span style=\"font-weight: bold\">{</span>\n",
              "            <span style=\"color: #008000; text-decoration-color: #008000\">'trajectory_id'</span>: <span style=\"color: #008000; text-decoration-color: #008000\">'1'</span>,\n",
              "            <span style=\"color: #008000; text-decoration-color: #008000\">'explanation'</span>: <span style=\"color: #008000; text-decoration-color: #008000\">'Achieved the goal correctly in one search without unnecessary reads—most efficient.'</span>,\n",
              "            <span style=\"color: #008000; text-decoration-color: #008000\">'score'</span>: <span style=\"color: #008080; text-decoration-color: #008080; font-weight: bold\">1.0</span>\n",
              "        <span style=\"font-weight: bold\">}</span>,\n",
              "        <span style=\"font-weight: bold\">{</span>\n",
              "            <span style=\"color: #008000; text-decoration-color: #008000\">'trajectory_id'</span>: <span style=\"color: #008000; text-decoration-color: #008000\">'2'</span>,\n",
              "            <span style=\"color: #008000; text-decoration-color: #008000\">'explanation'</span>: <span style=\"color: #008000; text-decoration-color: #008000\">'Achieved the goal correctly but required an extra read_email call—slightly less </span>\n",
              "<span style=\"color: #008000; text-decoration-color: #008000\">efficient.'</span>,\n",
              "            <span style=\"color: #008000; text-decoration-color: #008000\">'score'</span>: <span style=\"color: #008080; text-decoration-color: #008080; font-weight: bold\">0.9</span>\n",
              "        <span style=\"font-weight: bold\">}</span>,\n",
              "        <span style=\"font-weight: bold\">{</span>\n",
              "            <span style=\"color: #008000; text-decoration-color: #008000\">'trajectory_id'</span>: <span style=\"color: #008000; text-decoration-color: #008000\">'3'</span>,\n",
              "            <span style=\"color: #008000; text-decoration-color: #008000\">'explanation'</span>: <span style=\"color: #008000; text-decoration-color: #008000\">'Same as trajectory 2: correct answer with search + read, similar efficiency.'</span>,\n",
              "            <span style=\"color: #008000; text-decoration-color: #008000\">'score'</span>: <span style=\"color: #008080; text-decoration-color: #008080; font-weight: bold\">0.9</span>\n",
              "        <span style=\"font-weight: bold\">}</span>,\n",
              "        <span style=\"font-weight: bold\">{</span>\n",
              "            <span style=\"color: #008000; text-decoration-color: #008000\">'trajectory_id'</span>: <span style=\"color: #008000; text-decoration-color: #008000\">'4'</span>,\n",
              "            <span style=\"color: #008000; text-decoration-color: #008000\">'explanation'</span>: <span style=\"color: #008000; text-decoration-color: #008000\">'Achieved the goal but needed multiple searches before finding the result—least </span>\n",
              "<span style=\"color: #008000; text-decoration-color: #008000\">efficient.'</span>,\n",
              "            <span style=\"color: #008000; text-decoration-color: #008000\">'score'</span>: <span style=\"color: #008080; text-decoration-color: #008080; font-weight: bold\">0.7</span>\n",
              "        <span style=\"font-weight: bold\">}</span>\n",
              "    <span style=\"font-weight: bold\">]</span>\n",
              "<span style=\"font-weight: bold\">}</span>\n",
              "</pre>\n"
            ],
            "text/plain": [
              "\u001b[1m{\u001b[0m\n",
              "    \u001b[32m'scores'\u001b[0m: \u001b[1m[\u001b[0m\n",
              "        \u001b[1m{\u001b[0m\n",
              "            \u001b[32m'trajectory_id'\u001b[0m: \u001b[32m'1'\u001b[0m,\n",
              "            \u001b[32m'explanation'\u001b[0m: \u001b[32m'Achieved the goal correctly in one search without unnecessary reads—most efficient.'\u001b[0m,\n",
              "            \u001b[32m'score'\u001b[0m: \u001b[1;36m1.0\u001b[0m\n",
              "        \u001b[1m}\u001b[0m,\n",
              "        \u001b[1m{\u001b[0m\n",
              "            \u001b[32m'trajectory_id'\u001b[0m: \u001b[32m'2'\u001b[0m,\n",
              "            \u001b[32m'explanation'\u001b[0m: \u001b[32m'Achieved the goal correctly but required an extra read_email call—slightly less \u001b[0m\n",
              "\u001b[32mefficient.'\u001b[0m,\n",
              "            \u001b[32m'score'\u001b[0m: \u001b[1;36m0.9\u001b[0m\n",
              "        \u001b[1m}\u001b[0m,\n",
              "        \u001b[1m{\u001b[0m\n",
              "            \u001b[32m'trajectory_id'\u001b[0m: \u001b[32m'3'\u001b[0m,\n",
              "            \u001b[32m'explanation'\u001b[0m: \u001b[32m'Same as trajectory 2: correct answer with search + read, similar efficiency.'\u001b[0m,\n",
              "            \u001b[32m'score'\u001b[0m: \u001b[1;36m0.9\u001b[0m\n",
              "        \u001b[1m}\u001b[0m,\n",
              "        \u001b[1m{\u001b[0m\n",
              "            \u001b[32m'trajectory_id'\u001b[0m: \u001b[32m'4'\u001b[0m,\n",
              "            \u001b[32m'explanation'\u001b[0m: \u001b[32m'Achieved the goal but needed multiple searches before finding the result—least \u001b[0m\n",
              "\u001b[32mefficient.'\u001b[0m,\n",
              "            \u001b[32m'score'\u001b[0m: \u001b[1;36m0.7\u001b[0m\n",
              "        \u001b[1m}\u001b[0m\n",
              "    \u001b[1m]\u001b[0m\n",
              "\u001b[1m}\u001b[0m\n"
            ]
          },
          "metadata": {},
          "output_type": "display_data"
        },
        {
          "name": "stdout",
          "output_type": "stream",
          "text": [
            "No \"val/reward\" metric found in history\n",
            "Deleted checkpoint ./.art/email-search-agent-langgraph/models/email-agent-langgraph-001/checkpoints/0010\n",
            "Packed 8 trajectories into 5 sequences of length 2048\n"
          ]
        },
        {
          "name": "stderr",
          "output_type": "stream",
          "text": [
            "train: 100%|██████████| 5/5 [00:18<00:00,  3.73s/it, loss=-0.272, grad_norm=0.0973, policy_loss=-0.272, entropy=0.0836]\n",
            "Iterating dataset:   2%|▏         | 12/500 [24:47<14:57:52, 110.40s/batch]"
          ]
        },
        {
          "name": "stdout",
          "output_type": "stream",
          "text": [
            "Completed training step 11\n",
            "Training step 12, epoch 0, epoch step 12\n",
            "Batch contains 2 scenarios\n",
            "<art.trajectories.TrajectoryGroup.__new__.<locals>.CoroutineWithMetadata object at 0x755d1032f0d0>\n"
          ]
        },
        {
          "name": "stderr",
          "output_type": "stream",
          "text": [
            "/tmp/ipykernel_288833/1452329291.py:133: LangGraphDeprecatedSinceV10: create_react_agent has been moved to langchain.agents. Please update your import to 'from langchain.agents import create_agent'. Deprecated in LangGraph V1.0 to be removed in V2.0.\n",
            "  react_agent = create_react_agent(chat_model, tools)\n",
            "/tmp/ipykernel_288833/1452329291.py:133: LangGraphDeprecatedSinceV10: create_react_agent has been moved to langchain.agents. Please update your import to 'from langchain.agents import create_agent'. Deprecated in LangGraph V1.0 to be removed in V2.0.\n",
            "  react_agent = create_react_agent(chat_model, tools)\n",
            "/tmp/ipykernel_288833/1452329291.py:133: LangGraphDeprecatedSinceV10: create_react_agent has been moved to langchain.agents. Please update your import to 'from langchain.agents import create_agent'. Deprecated in LangGraph V1.0 to be removed in V2.0.\n",
            "  react_agent = create_react_agent(chat_model, tools)\n",
            "/tmp/ipykernel_288833/1452329291.py:133: LangGraphDeprecatedSinceV10: create_react_agent has been moved to langchain.agents. Please update your import to 'from langchain.agents import create_agent'. Deprecated in LangGraph V1.0 to be removed in V2.0.\n",
            "  react_agent = create_react_agent(chat_model, tools)\n",
            "/tmp/ipykernel_288833/1452329291.py:133: LangGraphDeprecatedSinceV10: create_react_agent has been moved to langchain.agents. Please update your import to 'from langchain.agents import create_agent'. Deprecated in LangGraph V1.0 to be removed in V2.0.\n",
            "  react_agent = create_react_agent(chat_model, tools)\n",
            "/tmp/ipykernel_288833/1452329291.py:133: LangGraphDeprecatedSinceV10: create_react_agent has been moved to langchain.agents. Please update your import to 'from langchain.agents import create_agent'. Deprecated in LangGraph V1.0 to be removed in V2.0.\n",
            "  react_agent = create_react_agent(chat_model, tools)\n",
            "/tmp/ipykernel_288833/1452329291.py:133: LangGraphDeprecatedSinceV10: create_react_agent has been moved to langchain.agents. Please update your import to 'from langchain.agents import create_agent'. Deprecated in LangGraph V1.0 to be removed in V2.0.\n",
            "  react_agent = create_react_agent(chat_model, tools)\n",
            "/tmp/ipykernel_288833/1452329291.py:133: LangGraphDeprecatedSinceV10: create_react_agent has been moved to langchain.agents. Please update your import to 'from langchain.agents import create_agent'. Deprecated in LangGraph V1.0 to be removed in V2.0.\n",
            "  react_agent = create_react_agent(chat_model, tools)\n"
          ]
        },
        {
          "name": "stdout",
          "output_type": "stream",
          "text": [
            "Loading existing database from ./enron_emails.db\n",
            "Loading existing database from ./enron_emails.db\n",
            "Loading existing database from ./enron_emails.dbLoading existing database from ./enron_emails.db\n",
            "\n",
            "Loading existing database from ./enron_emails.db\n",
            "Loading existing database from ./enron_emails.db\n",
            "Loading existing database from ./enron_emails.db\n",
            "Loading existing database from ./enron_emails.db\n",
            "Loading existing database from ./enron_emails.db\n",
            "Loading existing database from ./enron_emails.db\n",
            "Loading existing database from ./enron_emails.db\n",
            "Loading existing database from ./enron_emails.db\n",
            "Loading existing database from ./enron_emails.db\n",
            "Loading existing database from ./enron_emails.db\n",
            "Loading existing database from ./enron_emails.db\n",
            "Loading existing database from ./enron_emails.db\n",
            "Loading existing database from ./enron_emails.db\n",
            "Loading existing database from ./enron_emails.db\n",
            "Loading existing database from ./enron_emails.db\n",
            "Loading existing database from ./enron_emails.db\n",
            "Loading existing database from ./enron_emails.db\n",
            "Loading existing database from ./enron_emails.db\n",
            "Loading existing database from ./enron_emails.db\n",
            "Loading existing database from ./enron_emails.db\n",
            "Loading existing database from ./enron_emails.db\n",
            "Loading existing database from ./enron_emails.db\n",
            "Loading existing database from ./enron_emails.db\n"
          ]
        },
        {
          "name": "stderr",
          "output_type": "stream",
          "text": []
        },
        {
          "name": "stdout",
          "output_type": "stream",
          "text": [
            "Loading existing database from ./enron_emails.db\n",
            "Loading existing database from ./enron_emails.db\n"
          ]
        },
        {
          "name": "stderr",
          "output_type": "stream",
          "text": []
        },
        {
          "name": "stdout",
          "output_type": "stream",
          "text": [
            "Loading existing database from ./enron_emails.db\n",
            "Loading existing database from ./enron_emails.db\n"
          ]
        },
        {
          "name": "stderr",
          "output_type": "stream",
          "text": []
        },
        {
          "name": "stdout",
          "output_type": "stream",
          "text": [
            "Loading existing database from ./enron_emails.db\n"
          ]
        },
        {
          "name": "stderr",
          "output_type": "stream",
          "text": []
        },
        {
          "name": "stdout",
          "output_type": "stream",
          "text": [
            "Loading existing database from ./enron_emails.dbLoading existing database from ./enron_emails.db\n",
            "\n",
            "Loading existing database from ./enron_emails.db\n",
            "Loading existing database from ./enron_emails.db\n",
            "Loading existing database from ./enron_emails.db\n",
            "Loading existing database from ./enron_emails.db\n",
            "Loading existing database from ./enron_emails.db\n",
            "Loading existing database from ./enron_emails.db\n",
            "Loading existing database from ./enron_emails.db\n"
          ]
        },
        {
          "name": "stderr",
          "output_type": "stream",
          "text": []
        },
        {
          "name": "stdout",
          "output_type": "stream",
          "text": [
            "Loading existing database from ./enron_emails.db\n"
          ]
        },
        {
          "name": "stderr",
          "output_type": "stream",
          "text": [
            "gather: 100%|██████████| 8/8 [01:20<00:00, 10.09s/it, reward=0, correct=1, completion_tokens=58.7]\n"
          ]
        },
        {
          "data": {
            "text/html": [
              "<pre style=\"white-space:pre;overflow-x:auto;line-height:normal;font-family:Menlo,'DejaVu Sans Mono',consolas,'Courier New',monospace\">\n",
              "<span style=\"font-weight: bold\">[</span>RULER<span style=\"font-weight: bold\">]</span> Pretty-printed LLM choice JSON:\n",
              "</pre>\n"
            ],
            "text/plain": [
              "\n",
              "\u001b[1m[\u001b[0mRULER\u001b[1m]\u001b[0m Pretty-printed LLM choice JSON:\n"
            ]
          },
          "metadata": {},
          "output_type": "display_data"
        },
        {
          "data": {
            "text/html": [
              "<pre style=\"white-space:pre;overflow-x:auto;line-height:normal;font-family:Menlo,'DejaVu Sans Mono',consolas,'Courier New',monospace\"><span style=\"font-weight: bold\">{</span>\n",
              "    <span style=\"color: #008000; text-decoration-color: #008000\">'scores'</span>: <span style=\"font-weight: bold\">[</span>\n",
              "        <span style=\"font-weight: bold\">{</span>\n",
              "            <span style=\"color: #008000; text-decoration-color: #008000\">'trajectory_id'</span>: <span style=\"color: #008000; text-decoration-color: #008000\">'1'</span>,\n",
              "            <span style=\"color: #008000; text-decoration-color: #008000\">'explanation'</span>: <span style=\"color: #008000; text-decoration-color: #008000\">'Efficiently located the correct email, extracted the hot-button issue, and returned the</span>\n",
              "<span style=\"color: #008000; text-decoration-color: #008000\">final answer accurately.'</span>,\n",
              "            <span style=\"color: #008000; text-decoration-color: #008000\">'score'</span>: <span style=\"color: #008080; text-decoration-color: #008080; font-weight: bold\">0.95</span>\n",
              "        <span style=\"font-weight: bold\">}</span>,\n",
              "        <span style=\"font-weight: bold\">{</span>\n",
              "            <span style=\"color: #008000; text-decoration-color: #008000\">'trajectory_id'</span>: <span style=\"color: #008000; text-decoration-color: #008000\">'2'</span>,\n",
              "            <span style=\"color: #008000; text-decoration-color: #008000\">'explanation'</span>: <span style=\"color: #008000; text-decoration-color: #008000\">'Also efficiently found and read the correct email and returned the answer accurately.'</span>,\n",
              "            <span style=\"color: #008000; text-decoration-color: #008000\">'score'</span>: <span style=\"color: #008080; text-decoration-color: #008080; font-weight: bold\">0.95</span>\n",
              "        <span style=\"font-weight: bold\">}</span>,\n",
              "        <span style=\"font-weight: bold\">{</span>\n",
              "            <span style=\"color: #008000; text-decoration-color: #008000\">'trajectory_id'</span>: <span style=\"color: #008000; text-decoration-color: #008000\">'3'</span>,\n",
              "            <span style=\"color: #008000; text-decoration-color: #008000\">'explanation'</span>: <span style=\"color: #008000; text-decoration-color: #008000\">'Correctly answered but made several redundant searches before reading the email, </span>\n",
              "<span style=\"color: #008000; text-decoration-color: #008000\">reducing efficiency.'</span>,\n",
              "            <span style=\"color: #008000; text-decoration-color: #008000\">'score'</span>: <span style=\"color: #008080; text-decoration-color: #008080; font-weight: bold\">0.75</span>\n",
              "        <span style=\"font-weight: bold\">}</span>,\n",
              "        <span style=\"font-weight: bold\">{</span>\n",
              "            <span style=\"color: #008000; text-decoration-color: #008000\">'trajectory_id'</span>: <span style=\"color: #008000; text-decoration-color: #008000\">'4'</span>,\n",
              "            <span style=\"color: #008000; text-decoration-color: #008000\">'explanation'</span>: <span style=\"color: #008000; text-decoration-color: #008000\">'Failed to retrieve or present the relevant information; did not answer the query.'</span>,\n",
              "            <span style=\"color: #008000; text-decoration-color: #008000\">'score'</span>: <span style=\"color: #008080; text-decoration-color: #008080; font-weight: bold\">0.0</span>\n",
              "        <span style=\"font-weight: bold\">}</span>\n",
              "    <span style=\"font-weight: bold\">]</span>\n",
              "<span style=\"font-weight: bold\">}</span>\n",
              "</pre>\n"
            ],
            "text/plain": [
              "\u001b[1m{\u001b[0m\n",
              "    \u001b[32m'scores'\u001b[0m: \u001b[1m[\u001b[0m\n",
              "        \u001b[1m{\u001b[0m\n",
              "            \u001b[32m'trajectory_id'\u001b[0m: \u001b[32m'1'\u001b[0m,\n",
              "            \u001b[32m'explanation'\u001b[0m: \u001b[32m'Efficiently located the correct email, extracted the hot-button issue, and returned the\u001b[0m\n",
              "\u001b[32mfinal answer accurately.'\u001b[0m,\n",
              "            \u001b[32m'score'\u001b[0m: \u001b[1;36m0.95\u001b[0m\n",
              "        \u001b[1m}\u001b[0m,\n",
              "        \u001b[1m{\u001b[0m\n",
              "            \u001b[32m'trajectory_id'\u001b[0m: \u001b[32m'2'\u001b[0m,\n",
              "            \u001b[32m'explanation'\u001b[0m: \u001b[32m'Also efficiently found and read the correct email and returned the answer accurately.'\u001b[0m,\n",
              "            \u001b[32m'score'\u001b[0m: \u001b[1;36m0.95\u001b[0m\n",
              "        \u001b[1m}\u001b[0m,\n",
              "        \u001b[1m{\u001b[0m\n",
              "            \u001b[32m'trajectory_id'\u001b[0m: \u001b[32m'3'\u001b[0m,\n",
              "            \u001b[32m'explanation'\u001b[0m: \u001b[32m'Correctly answered but made several redundant searches before reading the email, \u001b[0m\n",
              "\u001b[32mreducing efficiency.'\u001b[0m,\n",
              "            \u001b[32m'score'\u001b[0m: \u001b[1;36m0.75\u001b[0m\n",
              "        \u001b[1m}\u001b[0m,\n",
              "        \u001b[1m{\u001b[0m\n",
              "            \u001b[32m'trajectory_id'\u001b[0m: \u001b[32m'4'\u001b[0m,\n",
              "            \u001b[32m'explanation'\u001b[0m: \u001b[32m'Failed to retrieve or present the relevant information; did not answer the query.'\u001b[0m,\n",
              "            \u001b[32m'score'\u001b[0m: \u001b[1;36m0.0\u001b[0m\n",
              "        \u001b[1m}\u001b[0m\n",
              "    \u001b[1m]\u001b[0m\n",
              "\u001b[1m}\u001b[0m\n"
            ]
          },
          "metadata": {},
          "output_type": "display_data"
        },
        {
          "data": {
            "text/html": [
              "<pre style=\"white-space:pre;overflow-x:auto;line-height:normal;font-family:Menlo,'DejaVu Sans Mono',consolas,'Courier New',monospace\">\n",
              "<span style=\"font-weight: bold\">[</span>RULER<span style=\"font-weight: bold\">]</span> Pretty-printed LLM choice JSON:\n",
              "</pre>\n"
            ],
            "text/plain": [
              "\n",
              "\u001b[1m[\u001b[0mRULER\u001b[1m]\u001b[0m Pretty-printed LLM choice JSON:\n"
            ]
          },
          "metadata": {},
          "output_type": "display_data"
        },
        {
          "data": {
            "text/html": [
              "<pre style=\"white-space:pre;overflow-x:auto;line-height:normal;font-family:Menlo,'DejaVu Sans Mono',consolas,'Courier New',monospace\"><span style=\"font-weight: bold\">{</span>\n",
              "    <span style=\"color: #008000; text-decoration-color: #008000\">'scores'</span>: <span style=\"font-weight: bold\">[</span>\n",
              "        <span style=\"font-weight: bold\">{</span>\n",
              "            <span style=\"color: #008000; text-decoration-color: #008000\">'trajectory_id'</span>: <span style=\"color: #008000; text-decoration-color: #008000\">'1'</span>,\n",
              "            <span style=\"color: #008000; text-decoration-color: #008000\">'explanation'</span>: <span style=\"color: #008000; text-decoration-color: #008000\">'Efficiently found and read the relevant email, extracted the exact date/time, and </span>\n",
              "<span style=\"color: #008000; text-decoration-color: #008000\">returned the final answer with source.'</span>,\n",
              "            <span style=\"color: #008000; text-decoration-color: #008000\">'score'</span>: <span style=\"color: #008080; text-decoration-color: #008080; font-weight: bold\">0.95</span>\n",
              "        <span style=\"font-weight: bold\">}</span>,\n",
              "        <span style=\"font-weight: bold\">{</span>\n",
              "            <span style=\"color: #008000; text-decoration-color: #008000\">'trajectory_id'</span>: <span style=\"color: #008000; text-decoration-color: #008000\">'2'</span>,\n",
              "            <span style=\"color: #008000; text-decoration-color: #008000\">'explanation'</span>: <span style=\"color: #008000; text-decoration-color: #008000\">'Repeated identical searches without any results or progress; never found the answer.'</span>,\n",
              "            <span style=\"color: #008000; text-decoration-color: #008000\">'score'</span>: <span style=\"color: #008080; text-decoration-color: #008080; font-weight: bold\">0.0</span>\n",
              "        <span style=\"font-weight: bold\">}</span>,\n",
              "        <span style=\"font-weight: bold\">{</span>\n",
              "            <span style=\"color: #008000; text-decoration-color: #008000\">'trajectory_id'</span>: <span style=\"color: #008000; text-decoration-color: #008000\">'3'</span>,\n",
              "            <span style=\"color: #008000; text-decoration-color: #008000\">'explanation'</span>: <span style=\"color: #008000; text-decoration-color: #008000\">'Attempted various searches and broadened scope but never located or returned the </span>\n",
              "<span style=\"color: #008000; text-decoration-color: #008000\">meeting information.'</span>,\n",
              "            <span style=\"color: #008000; text-decoration-color: #008000\">'score'</span>: <span style=\"color: #008080; text-decoration-color: #008080; font-weight: bold\">0.0</span>\n",
              "        <span style=\"font-weight: bold\">}</span>,\n",
              "        <span style=\"font-weight: bold\">{</span>\n",
              "            <span style=\"color: #008000; text-decoration-color: #008000\">'trajectory_id'</span>: <span style=\"color: #008000; text-decoration-color: #008000\">'4'</span>,\n",
              "            <span style=\"color: #008000; text-decoration-color: #008000\">'explanation'</span>: <span style=\"color: #008000; text-decoration-color: #008000\">'Found a snippet mentioning the June meeting but failed to extract the date/time and </span>\n",
              "<span style=\"color: #008000; text-decoration-color: #008000\">wandered through additional unsuccessful searches.'</span>,\n",
              "            <span style=\"color: #008000; text-decoration-color: #008000\">'score'</span>: <span style=\"color: #008080; text-decoration-color: #008080; font-weight: bold\">0.1</span>\n",
              "        <span style=\"font-weight: bold\">}</span>\n",
              "    <span style=\"font-weight: bold\">]</span>\n",
              "<span style=\"font-weight: bold\">}</span>\n",
              "</pre>\n"
            ],
            "text/plain": [
              "\u001b[1m{\u001b[0m\n",
              "    \u001b[32m'scores'\u001b[0m: \u001b[1m[\u001b[0m\n",
              "        \u001b[1m{\u001b[0m\n",
              "            \u001b[32m'trajectory_id'\u001b[0m: \u001b[32m'1'\u001b[0m,\n",
              "            \u001b[32m'explanation'\u001b[0m: \u001b[32m'Efficiently found and read the relevant email, extracted the exact date/time, and \u001b[0m\n",
              "\u001b[32mreturned the final answer with source.'\u001b[0m,\n",
              "            \u001b[32m'score'\u001b[0m: \u001b[1;36m0.95\u001b[0m\n",
              "        \u001b[1m}\u001b[0m,\n",
              "        \u001b[1m{\u001b[0m\n",
              "            \u001b[32m'trajectory_id'\u001b[0m: \u001b[32m'2'\u001b[0m,\n",
              "            \u001b[32m'explanation'\u001b[0m: \u001b[32m'Repeated identical searches without any results or progress; never found the answer.'\u001b[0m,\n",
              "            \u001b[32m'score'\u001b[0m: \u001b[1;36m0.0\u001b[0m\n",
              "        \u001b[1m}\u001b[0m,\n",
              "        \u001b[1m{\u001b[0m\n",
              "            \u001b[32m'trajectory_id'\u001b[0m: \u001b[32m'3'\u001b[0m,\n",
              "            \u001b[32m'explanation'\u001b[0m: \u001b[32m'Attempted various searches and broadened scope but never located or returned the \u001b[0m\n",
              "\u001b[32mmeeting information.'\u001b[0m,\n",
              "            \u001b[32m'score'\u001b[0m: \u001b[1;36m0.0\u001b[0m\n",
              "        \u001b[1m}\u001b[0m,\n",
              "        \u001b[1m{\u001b[0m\n",
              "            \u001b[32m'trajectory_id'\u001b[0m: \u001b[32m'4'\u001b[0m,\n",
              "            \u001b[32m'explanation'\u001b[0m: \u001b[32m'Found a snippet mentioning the June meeting but failed to extract the date/time and \u001b[0m\n",
              "\u001b[32mwandered through additional unsuccessful searches.'\u001b[0m,\n",
              "            \u001b[32m'score'\u001b[0m: \u001b[1;36m0.1\u001b[0m\n",
              "        \u001b[1m}\u001b[0m\n",
              "    \u001b[1m]\u001b[0m\n",
              "\u001b[1m}\u001b[0m\n"
            ]
          },
          "metadata": {},
          "output_type": "display_data"
        },
        {
          "name": "stdout",
          "output_type": "stream",
          "text": [
            "No \"val/reward\" metric found in history\n",
            "Deleted checkpoint ./.art/email-search-agent-langgraph/models/email-agent-langgraph-001/checkpoints/0011\n",
            "Packed 8 trajectories into 7 sequences of length 2048\n"
          ]
        },
        {
          "name": "stderr",
          "output_type": "stream",
          "text": [
            "train: 100%|██████████| 7/7 [00:22<00:00,  3.27s/it, loss=0.812, grad_norm=0.147, policy_loss=0.812, entropy=0.0177]\n",
            "Iterating dataset:   3%|▎         | 13/500 [26:52<15:30:44, 114.67s/batch]"
          ]
        },
        {
          "name": "stdout",
          "output_type": "stream",
          "text": [
            "Completed training step 12\n",
            "Training step 13, epoch 0, epoch step 13\n",
            "Batch contains 2 scenarios\n",
            "<art.trajectories.TrajectoryGroup.__new__.<locals>.CoroutineWithMetadata object at 0x755cac25a6d0>\n"
          ]
        },
        {
          "name": "stderr",
          "output_type": "stream",
          "text": [
            "/tmp/ipykernel_288833/1452329291.py:133: LangGraphDeprecatedSinceV10: create_react_agent has been moved to langchain.agents. Please update your import to 'from langchain.agents import create_agent'. Deprecated in LangGraph V1.0 to be removed in V2.0.\n",
            "  react_agent = create_react_agent(chat_model, tools)\n",
            "/tmp/ipykernel_288833/1452329291.py:133: LangGraphDeprecatedSinceV10: create_react_agent has been moved to langchain.agents. Please update your import to 'from langchain.agents import create_agent'. Deprecated in LangGraph V1.0 to be removed in V2.0.\n",
            "  react_agent = create_react_agent(chat_model, tools)\n",
            "/tmp/ipykernel_288833/1452329291.py:133: LangGraphDeprecatedSinceV10: create_react_agent has been moved to langchain.agents. Please update your import to 'from langchain.agents import create_agent'. Deprecated in LangGraph V1.0 to be removed in V2.0.\n",
            "  react_agent = create_react_agent(chat_model, tools)\n",
            "/tmp/ipykernel_288833/1452329291.py:133: LangGraphDeprecatedSinceV10: create_react_agent has been moved to langchain.agents. Please update your import to 'from langchain.agents import create_agent'. Deprecated in LangGraph V1.0 to be removed in V2.0.\n",
            "  react_agent = create_react_agent(chat_model, tools)\n",
            "/tmp/ipykernel_288833/1452329291.py:133: LangGraphDeprecatedSinceV10: create_react_agent has been moved to langchain.agents. Please update your import to 'from langchain.agents import create_agent'. Deprecated in LangGraph V1.0 to be removed in V2.0.\n",
            "  react_agent = create_react_agent(chat_model, tools)\n",
            "/tmp/ipykernel_288833/1452329291.py:133: LangGraphDeprecatedSinceV10: create_react_agent has been moved to langchain.agents. Please update your import to 'from langchain.agents import create_agent'. Deprecated in LangGraph V1.0 to be removed in V2.0.\n",
            "  react_agent = create_react_agent(chat_model, tools)\n",
            "/tmp/ipykernel_288833/1452329291.py:133: LangGraphDeprecatedSinceV10: create_react_agent has been moved to langchain.agents. Please update your import to 'from langchain.agents import create_agent'. Deprecated in LangGraph V1.0 to be removed in V2.0.\n",
            "  react_agent = create_react_agent(chat_model, tools)\n",
            "/tmp/ipykernel_288833/1452329291.py:133: LangGraphDeprecatedSinceV10: create_react_agent has been moved to langchain.agents. Please update your import to 'from langchain.agents import create_agent'. Deprecated in LangGraph V1.0 to be removed in V2.0.\n",
            "  react_agent = create_react_agent(chat_model, tools)\n"
          ]
        },
        {
          "name": "stdout",
          "output_type": "stream",
          "text": [
            "Loading existing database from ./enron_emails.db\n",
            "Loading existing database from ./enron_emails.db\n",
            "Loading existing database from ./enron_emails.db\n",
            "Loading existing database from ./enron_emails.db\n",
            "Loading existing database from ./enron_emails.db\n",
            "Loading existing database from ./enron_emails.db\n",
            "Loading existing database from ./enron_emails.db\n",
            "Loading existing database from ./enron_emails.db\n",
            "Loading existing database from ./enron_emails.db\n",
            "Loading existing database from ./enron_emails.db\n",
            "Loading existing database from ./enron_emails.db\n",
            "Loading existing database from ./enron_emails.db\n",
            "Loading existing database from ./enron_emails.db\n",
            "Loading existing database from ./enron_emails.db\n",
            "Loading existing database from ./enron_emails.db\n",
            "Loading existing database from ./enron_emails.db\n",
            "Loading existing database from ./enron_emails.db\n",
            "Loading existing database from ./enron_emails.db\n",
            "Loading existing database from ./enron_emails.db\n",
            "Loading existing database from ./enron_emails.db\n"
          ]
        },
        {
          "name": "stderr",
          "output_type": "stream",
          "text": []
        },
        {
          "name": "stdout",
          "output_type": "stream",
          "text": [
            "Loading existing database from ./enron_emails.db\n",
            "Loading existing database from ./enron_emails.db\n",
            "Loading existing database from ./enron_emails.db\n",
            "Loading existing database from ./enron_emails.db\n"
          ]
        },
        {
          "name": "stderr",
          "output_type": "stream",
          "text": []
        },
        {
          "name": "stdout",
          "output_type": "stream",
          "text": [
            "Loading existing database from ./enron_emails.db\n",
            "Loading existing database from ./enron_emails.db\n",
            "Loading existing database from ./enron_emails.db\n",
            "Loading existing database from ./enron_emails.db\n",
            "Loading existing database from ./enron_emails.db\n",
            "Loading existing database from ./enron_emails.db\n",
            "Loading existing database from ./enron_emails.db\n",
            "Loading existing database from ./enron_emails.db\n",
            "Loading existing database from ./enron_emails.db\n",
            "Loading existing database from ./enron_emails.db\n",
            "Loading existing database from ./enron_emails.db\n",
            "Loading existing database from ./enron_emails.db\n",
            "Loading existing database from ./enron_emails.db\n"
          ]
        },
        {
          "name": "stderr",
          "output_type": "stream",
          "text": []
        },
        {
          "name": "stdout",
          "output_type": "stream",
          "text": [
            "Loading existing database from ./enron_emails.db\n",
            "Loading existing database from ./enron_emails.db\n",
            "Loading existing database from ./enron_emails.db\n",
            "Loading existing database from ./enron_emails.db\n"
          ]
        },
        {
          "name": "stderr",
          "output_type": "stream",
          "text": []
        },
        {
          "name": "stdout",
          "output_type": "stream",
          "text": [
            "Loading existing database from ./enron_emails.db\n",
            "Loading existing database from ./enron_emails.db\n"
          ]
        },
        {
          "name": "stderr",
          "output_type": "stream",
          "text": [
            "gather: 100%|██████████| 8/8 [01:31<00:00, 11.49s/it, reward=0, correct=0.5, completion_tokens=64.9]\n"
          ]
        },
        {
          "data": {
            "text/html": [
              "<pre style=\"white-space:pre;overflow-x:auto;line-height:normal;font-family:Menlo,'DejaVu Sans Mono',consolas,'Courier New',monospace\">\n",
              "<span style=\"font-weight: bold\">[</span>RULER<span style=\"font-weight: bold\">]</span> Pretty-printed LLM choice JSON:\n",
              "</pre>\n"
            ],
            "text/plain": [
              "\n",
              "\u001b[1m[\u001b[0mRULER\u001b[1m]\u001b[0m Pretty-printed LLM choice JSON:\n"
            ]
          },
          "metadata": {},
          "output_type": "display_data"
        },
        {
          "data": {
            "text/html": [
              "<pre style=\"white-space:pre;overflow-x:auto;line-height:normal;font-family:Menlo,'DejaVu Sans Mono',consolas,'Courier New',monospace\"><span style=\"font-weight: bold\">{</span>\n",
              "    <span style=\"color: #008000; text-decoration-color: #008000\">'scores'</span>: <span style=\"font-weight: bold\">[</span>\n",
              "        <span style=\"font-weight: bold\">{</span>\n",
              "            <span style=\"color: #008000; text-decoration-color: #008000\">'trajectory_id'</span>: <span style=\"color: #008000; text-decoration-color: #008000\">'1'</span>,\n",
              "            <span style=\"color: #008000; text-decoration-color: #008000\">'explanation'</span>: <span style=\"color: #008000; text-decoration-color: #008000\">'Finds the correct email and extracts relevant content, but never uses the required </span>\n",
              "<span style=\"color: #008000; text-decoration-color: #008000\">final answer tool or provide a proper final answer format.'</span>,\n",
              "            <span style=\"color: #008000; text-decoration-color: #008000\">'score'</span>: <span style=\"color: #008080; text-decoration-color: #008080; font-weight: bold\">0.2</span>\n",
              "        <span style=\"font-weight: bold\">}</span>,\n",
              "        <span style=\"font-weight: bold\">{</span>\n",
              "            <span style=\"color: #008000; text-decoration-color: #008000\">'trajectory_id'</span>: <span style=\"color: #008000; text-decoration-color: #008000\">'2'</span>,\n",
              "            <span style=\"color: #008000; text-decoration-color: #008000\">'explanation'</span>: <span style=\"color: #008000; text-decoration-color: #008000\">'Also retrieves the correct snippet and explanation but fails to invoke the final answer</span>\n",
              "<span style=\"color: #008000; text-decoration-color: #008000\">tool and does not give a formal final answer.'</span>,\n",
              "            <span style=\"color: #008000; text-decoration-color: #008000\">'score'</span>: <span style=\"color: #008080; text-decoration-color: #008080; font-weight: bold\">0.2</span>\n",
              "        <span style=\"font-weight: bold\">}</span>,\n",
              "        <span style=\"font-weight: bold\">{</span>\n",
              "            <span style=\"color: #008000; text-decoration-color: #008000\">'trajectory_id'</span>: <span style=\"color: #008000; text-decoration-color: #008000\">'3'</span>,\n",
              "            <span style=\"color: #008000; text-decoration-color: #008000\">'explanation'</span>: <span style=\"color: #008000; text-decoration-color: #008000\">'Invokes the return_final_answer_tool correctly, but misinterprets the question by </span>\n",
              "<span style=\"color: #008000; text-decoration-color: #008000\">saying Cara did not explicitly state the position was balanced.'</span>,\n",
              "            <span style=\"color: #008000; text-decoration-color: #008000\">'score'</span>: <span style=\"color: #008080; text-decoration-color: #008080; font-weight: bold\">0.5</span>\n",
              "        <span style=\"font-weight: bold\">}</span>,\n",
              "        <span style=\"font-weight: bold\">{</span>\n",
              "            <span style=\"color: #008000; text-decoration-color: #008000\">'trajectory_id'</span>: <span style=\"color: #008000; text-decoration-color: #008000\">'4'</span>,\n",
              "            <span style=\"color: #008000; text-decoration-color: #008000\">'explanation'</span>: <span style=\"color: #008000; text-decoration-color: #008000\">'Ultimately gives the correct answer in the proper format with the required tool call, </span>\n",
              "<span style=\"color: #008000; text-decoration-color: #008000\">though incurs inefficiency with extra redundant searches.'</span>,\n",
              "            <span style=\"color: #008000; text-decoration-color: #008000\">'score'</span>: <span style=\"color: #008080; text-decoration-color: #008080; font-weight: bold\">0.8</span>\n",
              "        <span style=\"font-weight: bold\">}</span>\n",
              "    <span style=\"font-weight: bold\">]</span>\n",
              "<span style=\"font-weight: bold\">}</span>\n",
              "</pre>\n"
            ],
            "text/plain": [
              "\u001b[1m{\u001b[0m\n",
              "    \u001b[32m'scores'\u001b[0m: \u001b[1m[\u001b[0m\n",
              "        \u001b[1m{\u001b[0m\n",
              "            \u001b[32m'trajectory_id'\u001b[0m: \u001b[32m'1'\u001b[0m,\n",
              "            \u001b[32m'explanation'\u001b[0m: \u001b[32m'Finds the correct email and extracts relevant content, but never uses the required \u001b[0m\n",
              "\u001b[32mfinal answer tool or provide a proper final answer format.'\u001b[0m,\n",
              "            \u001b[32m'score'\u001b[0m: \u001b[1;36m0.2\u001b[0m\n",
              "        \u001b[1m}\u001b[0m,\n",
              "        \u001b[1m{\u001b[0m\n",
              "            \u001b[32m'trajectory_id'\u001b[0m: \u001b[32m'2'\u001b[0m,\n",
              "            \u001b[32m'explanation'\u001b[0m: \u001b[32m'Also retrieves the correct snippet and explanation but fails to invoke the final answer\u001b[0m\n",
              "\u001b[32mtool and does not give a formal final answer.'\u001b[0m,\n",
              "            \u001b[32m'score'\u001b[0m: \u001b[1;36m0.2\u001b[0m\n",
              "        \u001b[1m}\u001b[0m,\n",
              "        \u001b[1m{\u001b[0m\n",
              "            \u001b[32m'trajectory_id'\u001b[0m: \u001b[32m'3'\u001b[0m,\n",
              "            \u001b[32m'explanation'\u001b[0m: \u001b[32m'Invokes the return_final_answer_tool correctly, but misinterprets the question by \u001b[0m\n",
              "\u001b[32msaying Cara did not explicitly state the position was balanced.'\u001b[0m,\n",
              "            \u001b[32m'score'\u001b[0m: \u001b[1;36m0.5\u001b[0m\n",
              "        \u001b[1m}\u001b[0m,\n",
              "        \u001b[1m{\u001b[0m\n",
              "            \u001b[32m'trajectory_id'\u001b[0m: \u001b[32m'4'\u001b[0m,\n",
              "            \u001b[32m'explanation'\u001b[0m: \u001b[32m'Ultimately gives the correct answer in the proper format with the required tool call, \u001b[0m\n",
              "\u001b[32mthough incurs inefficiency with extra redundant searches.'\u001b[0m,\n",
              "            \u001b[32m'score'\u001b[0m: \u001b[1;36m0.8\u001b[0m\n",
              "        \u001b[1m}\u001b[0m\n",
              "    \u001b[1m]\u001b[0m\n",
              "\u001b[1m}\u001b[0m\n"
            ]
          },
          "metadata": {},
          "output_type": "display_data"
        },
        {
          "data": {
            "text/html": [
              "<pre style=\"white-space:pre;overflow-x:auto;line-height:normal;font-family:Menlo,'DejaVu Sans Mono',consolas,'Courier New',monospace\">\n",
              "<span style=\"font-weight: bold\">[</span>RULER<span style=\"font-weight: bold\">]</span> Pretty-printed LLM choice JSON:\n",
              "</pre>\n"
            ],
            "text/plain": [
              "\n",
              "\u001b[1m[\u001b[0mRULER\u001b[1m]\u001b[0m Pretty-printed LLM choice JSON:\n"
            ]
          },
          "metadata": {},
          "output_type": "display_data"
        },
        {
          "data": {
            "text/html": [
              "<pre style=\"white-space:pre;overflow-x:auto;line-height:normal;font-family:Menlo,'DejaVu Sans Mono',consolas,'Courier New',monospace\"><span style=\"font-weight: bold\">{</span>\n",
              "    <span style=\"color: #008000; text-decoration-color: #008000\">'scores'</span>: <span style=\"font-weight: bold\">[</span>\n",
              "        <span style=\"font-weight: bold\">{</span>\n",
              "            <span style=\"color: #008000; text-decoration-color: #008000\">'trajectory_id'</span>: <span style=\"color: #008000; text-decoration-color: #008000\">'1'</span>,\n",
              "            <span style=\"color: #008000; text-decoration-color: #008000\">'explanation'</span>: <span style=\"color: #008000; text-decoration-color: #008000\">'Agent made multiple search calls but never found or returned an answer.'</span>,\n",
              "            <span style=\"color: #008000; text-decoration-color: #008000\">'score'</span>: <span style=\"color: #008080; text-decoration-color: #008080; font-weight: bold\">0.0</span>\n",
              "        <span style=\"font-weight: bold\">}</span>,\n",
              "        <span style=\"font-weight: bold\">{</span>\n",
              "            <span style=\"color: #008000; text-decoration-color: #008000\">'trajectory_id'</span>: <span style=\"color: #008000; text-decoration-color: #008000\">'2'</span>,\n",
              "            <span style=\"color: #008000; text-decoration-color: #008000\">'explanation'</span>: <span style=\"color: #008000; text-decoration-color: #008000\">'Repeated the same search without progress or any final answer.'</span>,\n",
              "            <span style=\"color: #008000; text-decoration-color: #008000\">'score'</span>: <span style=\"color: #008080; text-decoration-color: #008080; font-weight: bold\">0.0</span>\n",
              "        <span style=\"font-weight: bold\">}</span>,\n",
              "        <span style=\"font-weight: bold\">{</span>\n",
              "            <span style=\"color: #008000; text-decoration-color: #008000\">'trajectory_id'</span>: <span style=\"color: #008000; text-decoration-color: #008000\">'3'</span>,\n",
              "            <span style=\"color: #008000; text-decoration-color: #008000\">'explanation'</span>: <span style=\"color: #008000; text-decoration-color: #008000\">'Tried varied keyword combinations but did not locate or report the change.'</span>,\n",
              "            <span style=\"color: #008000; text-decoration-color: #008000\">'score'</span>: <span style=\"color: #008080; text-decoration-color: #008080; font-weight: bold\">0.0</span>\n",
              "        <span style=\"font-weight: bold\">}</span>,\n",
              "        <span style=\"font-weight: bold\">{</span>\n",
              "            <span style=\"color: #008000; text-decoration-color: #008000\">'trajectory_id'</span>: <span style=\"color: #008000; text-decoration-color: #008000\">'4'</span>,\n",
              "            <span style=\"color: #008000; text-decoration-color: #008000\">'explanation'</span>: <span style=\"color: #008000; text-decoration-color: #008000\">'Performed numerous searches without retrieving or returning the requested </span>\n",
              "<span style=\"color: #008000; text-decoration-color: #008000\">information.'</span>,\n",
              "            <span style=\"color: #008000; text-decoration-color: #008000\">'score'</span>: <span style=\"color: #008080; text-decoration-color: #008080; font-weight: bold\">0.0</span>\n",
              "        <span style=\"font-weight: bold\">}</span>\n",
              "    <span style=\"font-weight: bold\">]</span>\n",
              "<span style=\"font-weight: bold\">}</span>\n",
              "</pre>\n"
            ],
            "text/plain": [
              "\u001b[1m{\u001b[0m\n",
              "    \u001b[32m'scores'\u001b[0m: \u001b[1m[\u001b[0m\n",
              "        \u001b[1m{\u001b[0m\n",
              "            \u001b[32m'trajectory_id'\u001b[0m: \u001b[32m'1'\u001b[0m,\n",
              "            \u001b[32m'explanation'\u001b[0m: \u001b[32m'Agent made multiple search calls but never found or returned an answer.'\u001b[0m,\n",
              "            \u001b[32m'score'\u001b[0m: \u001b[1;36m0.0\u001b[0m\n",
              "        \u001b[1m}\u001b[0m,\n",
              "        \u001b[1m{\u001b[0m\n",
              "            \u001b[32m'trajectory_id'\u001b[0m: \u001b[32m'2'\u001b[0m,\n",
              "            \u001b[32m'explanation'\u001b[0m: \u001b[32m'Repeated the same search without progress or any final answer.'\u001b[0m,\n",
              "            \u001b[32m'score'\u001b[0m: \u001b[1;36m0.0\u001b[0m\n",
              "        \u001b[1m}\u001b[0m,\n",
              "        \u001b[1m{\u001b[0m\n",
              "            \u001b[32m'trajectory_id'\u001b[0m: \u001b[32m'3'\u001b[0m,\n",
              "            \u001b[32m'explanation'\u001b[0m: \u001b[32m'Tried varied keyword combinations but did not locate or report the change.'\u001b[0m,\n",
              "            \u001b[32m'score'\u001b[0m: \u001b[1;36m0.0\u001b[0m\n",
              "        \u001b[1m}\u001b[0m,\n",
              "        \u001b[1m{\u001b[0m\n",
              "            \u001b[32m'trajectory_id'\u001b[0m: \u001b[32m'4'\u001b[0m,\n",
              "            \u001b[32m'explanation'\u001b[0m: \u001b[32m'Performed numerous searches without retrieving or returning the requested \u001b[0m\n",
              "\u001b[32minformation.'\u001b[0m,\n",
              "            \u001b[32m'score'\u001b[0m: \u001b[1;36m0.0\u001b[0m\n",
              "        \u001b[1m}\u001b[0m\n",
              "    \u001b[1m]\u001b[0m\n",
              "\u001b[1m}\u001b[0m\n"
            ]
          },
          "metadata": {},
          "output_type": "display_data"
        },
        {
          "name": "stdout",
          "output_type": "stream",
          "text": [
            "No \"val/reward\" metric found in history\n",
            "Deleted checkpoint ./.art/email-search-agent-langgraph/models/email-agent-langgraph-001/checkpoints/0012\n",
            "Packed 4 trajectories into 1 sequences of length 4096\n"
          ]
        },
        {
          "name": "stderr",
          "output_type": "stream",
          "text": [
            "train: 100%|██████████| 1/1 [00:12<00:00, 12.69s/it, loss=-0.17, grad_norm=0.392, policy_loss=-0.17, entropy=0.397]\n",
            "Iterating dataset:   3%|▎         | 14/500 [29:03<16:08:45, 119.60s/batch]"
          ]
        },
        {
          "name": "stdout",
          "output_type": "stream",
          "text": [
            "Completed training step 13\n",
            "Training step 14, epoch 0, epoch step 14\n",
            "Batch contains 2 scenarios\n",
            "<art.trajectories.TrajectoryGroup.__new__.<locals>.CoroutineWithMetadata object at 0x755c78524510>\n"
          ]
        },
        {
          "name": "stderr",
          "output_type": "stream",
          "text": [
            "/tmp/ipykernel_288833/1452329291.py:133: LangGraphDeprecatedSinceV10: create_react_agent has been moved to langchain.agents. Please update your import to 'from langchain.agents import create_agent'. Deprecated in LangGraph V1.0 to be removed in V2.0.\n",
            "  react_agent = create_react_agent(chat_model, tools)\n",
            "/tmp/ipykernel_288833/1452329291.py:133: LangGraphDeprecatedSinceV10: create_react_agent has been moved to langchain.agents. Please update your import to 'from langchain.agents import create_agent'. Deprecated in LangGraph V1.0 to be removed in V2.0.\n",
            "  react_agent = create_react_agent(chat_model, tools)\n",
            "/tmp/ipykernel_288833/1452329291.py:133: LangGraphDeprecatedSinceV10: create_react_agent has been moved to langchain.agents. Please update your import to 'from langchain.agents import create_agent'. Deprecated in LangGraph V1.0 to be removed in V2.0.\n",
            "  react_agent = create_react_agent(chat_model, tools)\n",
            "/tmp/ipykernel_288833/1452329291.py:133: LangGraphDeprecatedSinceV10: create_react_agent has been moved to langchain.agents. Please update your import to 'from langchain.agents import create_agent'. Deprecated in LangGraph V1.0 to be removed in V2.0.\n",
            "  react_agent = create_react_agent(chat_model, tools)\n",
            "/tmp/ipykernel_288833/1452329291.py:133: LangGraphDeprecatedSinceV10: create_react_agent has been moved to langchain.agents. Please update your import to 'from langchain.agents import create_agent'. Deprecated in LangGraph V1.0 to be removed in V2.0.\n",
            "  react_agent = create_react_agent(chat_model, tools)\n",
            "/tmp/ipykernel_288833/1452329291.py:133: LangGraphDeprecatedSinceV10: create_react_agent has been moved to langchain.agents. Please update your import to 'from langchain.agents import create_agent'. Deprecated in LangGraph V1.0 to be removed in V2.0.\n",
            "  react_agent = create_react_agent(chat_model, tools)\n",
            "/tmp/ipykernel_288833/1452329291.py:133: LangGraphDeprecatedSinceV10: create_react_agent has been moved to langchain.agents. Please update your import to 'from langchain.agents import create_agent'. Deprecated in LangGraph V1.0 to be removed in V2.0.\n",
            "  react_agent = create_react_agent(chat_model, tools)\n",
            "/tmp/ipykernel_288833/1452329291.py:133: LangGraphDeprecatedSinceV10: create_react_agent has been moved to langchain.agents. Please update your import to 'from langchain.agents import create_agent'. Deprecated in LangGraph V1.0 to be removed in V2.0.\n",
            "  react_agent = create_react_agent(chat_model, tools)\n"
          ]
        },
        {
          "name": "stdout",
          "output_type": "stream",
          "text": [
            "Loading existing database from ./enron_emails.db\n",
            "Loading existing database from ./enron_emails.db\n",
            "Loading existing database from ./enron_emails.db\n",
            "Loading existing database from ./enron_emails.db\n",
            "Loading existing database from ./enron_emails.db\n",
            "Loading existing database from ./enron_emails.db\n"
          ]
        },
        {
          "name": "stderr",
          "output_type": "stream",
          "text": []
        },
        {
          "name": "stdout",
          "output_type": "stream",
          "text": [
            "Loading existing database from ./enron_emails.db\n",
            "Loading existing database from ./enron_emails.db\n",
            "Loading existing database from ./enron_emails.db\n",
            "Loading existing database from ./enron_emails.db\n",
            "Loading existing database from ./enron_emails.db\n",
            "Loading existing database from ./enron_emails.db\n",
            "Loading existing database from ./enron_emails.db\n",
            "Loading existing database from ./enron_emails.db\n",
            "Loading existing database from ./enron_emails.db\n",
            "Loading existing database from ./enron_emails.db\n",
            "Loading existing database from ./enron_emails.db\n",
            "Loading existing database from ./enron_emails.db\n",
            "Loading existing database from ./enron_emails.db\n",
            "Loading existing database from ./enron_emails.db\n",
            "Loading existing database from ./enron_emails.db\n",
            "Loading existing database from ./enron_emails.db\n",
            "Loading existing database from ./enron_emails.db\n",
            "Loading existing database from ./enron_emails.db\n",
            "Loading existing database from ./enron_emails.db\n",
            "Loading existing database from ./enron_emails.db\n",
            "Loading existing database from ./enron_emails.db\n",
            "Loading existing database from ./enron_emails.db\n",
            "Loading existing database from ./enron_emails.db\n",
            "Loading existing database from ./enron_emails.db\n",
            "Loading existing database from ./enron_emails.db\n",
            "Loading existing database from ./enron_emails.db\n",
            "Loading existing database from ./enron_emails.db\n",
            "Loading existing database from ./enron_emails.db\n",
            "Loading existing database from ./enron_emails.db\n",
            "Loading existing database from ./enron_emails.db\n",
            "Loading existing database from ./enron_emails.db\n",
            "Loading existing database from ./enron_emails.db\n"
          ]
        },
        {
          "name": "stderr",
          "output_type": "stream",
          "text": []
        },
        {
          "name": "stdout",
          "output_type": "stream",
          "text": [
            "Loading existing database from ./enron_emails.db\n",
            "Loading existing database from ./enron_emails.db\n",
            "Loading existing database from ./enron_emails.db\n",
            "Loading existing database from ./enron_emails.db\n",
            "Loading existing database from ./enron_emails.db\n",
            "Loading existing database from ./enron_emails.db\n",
            "Loading existing database from ./enron_emails.db\n",
            "Loading existing database from ./enron_emails.db\n",
            "Loading existing database from ./enron_emails.db\n",
            "Loading existing database from ./enron_emails.db\n"
          ]
        },
        {
          "name": "stderr",
          "output_type": "stream",
          "text": []
        },
        {
          "name": "stdout",
          "output_type": "stream",
          "text": [
            "Loading existing database from ./enron_emails.db\n",
            "Loading existing database from ./enron_emails.db\n"
          ]
        },
        {
          "name": "stderr",
          "output_type": "stream",
          "text": [
            "gather: 100%|██████████| 8/8 [01:03<00:00,  7.93s/it, reward=0, completion_tokens=40]\n"
          ]
        },
        {
          "data": {
            "text/html": [
              "<pre style=\"white-space:pre;overflow-x:auto;line-height:normal;font-family:Menlo,'DejaVu Sans Mono',consolas,'Courier New',monospace\">\n",
              "<span style=\"font-weight: bold\">[</span>RULER<span style=\"font-weight: bold\">]</span> Pretty-printed LLM choice JSON:\n",
              "</pre>\n"
            ],
            "text/plain": [
              "\n",
              "\u001b[1m[\u001b[0mRULER\u001b[1m]\u001b[0m Pretty-printed LLM choice JSON:\n"
            ]
          },
          "metadata": {},
          "output_type": "display_data"
        },
        {
          "data": {
            "text/html": [
              "<pre style=\"white-space:pre;overflow-x:auto;line-height:normal;font-family:Menlo,'DejaVu Sans Mono',consolas,'Courier New',monospace\"><span style=\"font-weight: bold\">{</span>\n",
              "    <span style=\"color: #008000; text-decoration-color: #008000\">'scores'</span>: <span style=\"font-weight: bold\">[</span>\n",
              "        <span style=\"font-weight: bold\">{</span>\n",
              "            <span style=\"color: #008000; text-decoration-color: #008000\">'trajectory_id'</span>: <span style=\"color: #008000; text-decoration-color: #008000\">'1'</span>,\n",
              "            <span style=\"color: #008000; text-decoration-color: #008000\">'explanation'</span>: <span style=\"color: #008000; text-decoration-color: #008000\">'Makes a single malformed tool call with no clear context or reasoning, minimal </span>\n",
              "<span style=\"color: #008000; text-decoration-color: #008000\">progress.'</span>,\n",
              "            <span style=\"color: #008000; text-decoration-color: #008000\">'score'</span>: <span style=\"color: #008080; text-decoration-color: #008080; font-weight: bold\">0.2</span>\n",
              "        <span style=\"font-weight: bold\">}</span>,\n",
              "        <span style=\"font-weight: bold\">{</span>\n",
              "            <span style=\"color: #008000; text-decoration-color: #008000\">'trajectory_id'</span>: <span style=\"color: #008000; text-decoration-color: #008000\">'2'</span>,\n",
              "            <span style=\"color: #008000; text-decoration-color: #008000\">'explanation'</span>: <span style=\"color: #008000; text-decoration-color: #008000\">'Provides clear reasoning for keywords then makes a valid search tool call, good first </span>\n",
              "<span style=\"color: #008000; text-decoration-color: #008000\">step.'</span>,\n",
              "            <span style=\"color: #008000; text-decoration-color: #008000\">'score'</span>: <span style=\"color: #008080; text-decoration-color: #008080; font-weight: bold\">0.7</span>\n",
              "        <span style=\"font-weight: bold\">}</span>,\n",
              "        <span style=\"font-weight: bold\">{</span>\n",
              "            <span style=\"color: #008000; text-decoration-color: #008000\">'trajectory_id'</span>: <span style=\"color: #008000; text-decoration-color: #008000\">'3'</span>,\n",
              "            <span style=\"color: #008000; text-decoration-color: #008000\">'explanation'</span>: <span style=\"color: #008000; text-decoration-color: #008000\">'Repeats the same search tool call many times without adjusting keywords or progressing </span>\n",
              "<span style=\"color: #008000; text-decoration-color: #008000\">towards an answer, very inefficient.'</span>,\n",
              "            <span style=\"color: #008000; text-decoration-color: #008000\">'score'</span>: <span style=\"color: #008080; text-decoration-color: #008080; font-weight: bold\">0.1</span>\n",
              "        <span style=\"font-weight: bold\">}</span>,\n",
              "        <span style=\"font-weight: bold\">{</span>\n",
              "            <span style=\"color: #008000; text-decoration-color: #008000\">'trajectory_id'</span>: <span style=\"color: #008000; text-decoration-color: #008000\">'4'</span>,\n",
              "            <span style=\"color: #008000; text-decoration-color: #008000\">'explanation'</span>: <span style=\"color: #008000; text-decoration-color: #008000\">'Relentlessly repeats identical search calls with no reasoning or variation, essentially</span>\n",
              "<span style=\"color: #008000; text-decoration-color: #008000\">no progress.'</span>,\n",
              "            <span style=\"color: #008000; text-decoration-color: #008000\">'score'</span>: <span style=\"color: #008080; text-decoration-color: #008080; font-weight: bold\">0.05</span>\n",
              "        <span style=\"font-weight: bold\">}</span>\n",
              "    <span style=\"font-weight: bold\">]</span>\n",
              "<span style=\"font-weight: bold\">}</span>\n",
              "</pre>\n"
            ],
            "text/plain": [
              "\u001b[1m{\u001b[0m\n",
              "    \u001b[32m'scores'\u001b[0m: \u001b[1m[\u001b[0m\n",
              "        \u001b[1m{\u001b[0m\n",
              "            \u001b[32m'trajectory_id'\u001b[0m: \u001b[32m'1'\u001b[0m,\n",
              "            \u001b[32m'explanation'\u001b[0m: \u001b[32m'Makes a single malformed tool call with no clear context or reasoning, minimal \u001b[0m\n",
              "\u001b[32mprogress.'\u001b[0m,\n",
              "            \u001b[32m'score'\u001b[0m: \u001b[1;36m0.2\u001b[0m\n",
              "        \u001b[1m}\u001b[0m,\n",
              "        \u001b[1m{\u001b[0m\n",
              "            \u001b[32m'trajectory_id'\u001b[0m: \u001b[32m'2'\u001b[0m,\n",
              "            \u001b[32m'explanation'\u001b[0m: \u001b[32m'Provides clear reasoning for keywords then makes a valid search tool call, good first \u001b[0m\n",
              "\u001b[32mstep.'\u001b[0m,\n",
              "            \u001b[32m'score'\u001b[0m: \u001b[1;36m0.7\u001b[0m\n",
              "        \u001b[1m}\u001b[0m,\n",
              "        \u001b[1m{\u001b[0m\n",
              "            \u001b[32m'trajectory_id'\u001b[0m: \u001b[32m'3'\u001b[0m,\n",
              "            \u001b[32m'explanation'\u001b[0m: \u001b[32m'Repeats the same search tool call many times without adjusting keywords or progressing \u001b[0m\n",
              "\u001b[32mtowards an answer, very inefficient.'\u001b[0m,\n",
              "            \u001b[32m'score'\u001b[0m: \u001b[1;36m0.1\u001b[0m\n",
              "        \u001b[1m}\u001b[0m,\n",
              "        \u001b[1m{\u001b[0m\n",
              "            \u001b[32m'trajectory_id'\u001b[0m: \u001b[32m'4'\u001b[0m,\n",
              "            \u001b[32m'explanation'\u001b[0m: \u001b[32m'Relentlessly repeats identical search calls with no reasoning or variation, essentially\u001b[0m\n",
              "\u001b[32mno progress.'\u001b[0m,\n",
              "            \u001b[32m'score'\u001b[0m: \u001b[1;36m0.05\u001b[0m\n",
              "        \u001b[1m}\u001b[0m\n",
              "    \u001b[1m]\u001b[0m\n",
              "\u001b[1m}\u001b[0m\n"
            ]
          },
          "metadata": {},
          "output_type": "display_data"
        },
        {
          "data": {
            "text/html": [
              "<pre style=\"white-space:pre;overflow-x:auto;line-height:normal;font-family:Menlo,'DejaVu Sans Mono',consolas,'Courier New',monospace\">\n",
              "<span style=\"font-weight: bold\">[</span>RULER<span style=\"font-weight: bold\">]</span> Pretty-printed LLM choice JSON:\n",
              "</pre>\n"
            ],
            "text/plain": [
              "\n",
              "\u001b[1m[\u001b[0mRULER\u001b[1m]\u001b[0m Pretty-printed LLM choice JSON:\n"
            ]
          },
          "metadata": {},
          "output_type": "display_data"
        },
        {
          "data": {
            "text/html": [
              "<pre style=\"white-space:pre;overflow-x:auto;line-height:normal;font-family:Menlo,'DejaVu Sans Mono',consolas,'Courier New',monospace\"><span style=\"font-weight: bold\">{</span>\n",
              "    <span style=\"color: #008000; text-decoration-color: #008000\">'scores'</span>: <span style=\"font-weight: bold\">[</span>\n",
              "        <span style=\"font-weight: bold\">{</span>\n",
              "            <span style=\"color: #008000; text-decoration-color: #008000\">'trajectory_id'</span>: <span style=\"color: #008000; text-decoration-color: #008000\">'1'</span>,\n",
              "            <span style=\"color: #008000; text-decoration-color: #008000\">'explanation'</span>: <span style=\"color: #008000; text-decoration-color: #008000\">'Repeated identical searches without refinement or results; no progress toward the </span>\n",
              "<span style=\"color: #008000; text-decoration-color: #008000\">goal.'</span>,\n",
              "            <span style=\"color: #008000; text-decoration-color: #008000\">'score'</span>: <span style=\"color: #008080; text-decoration-color: #008080; font-weight: bold\">0.0</span>\n",
              "        <span style=\"font-weight: bold\">}</span>,\n",
              "        <span style=\"font-weight: bold\">{</span>\n",
              "            <span style=\"color: #008000; text-decoration-color: #008000\">'trajectory_id'</span>: <span style=\"color: #008000; text-decoration-color: #008000\">'2'</span>,\n",
              "            <span style=\"color: #008000; text-decoration-color: #008000\">'explanation'</span>: <span style=\"color: #008000; text-decoration-color: #008000\">'Similar to trajectory 1: endless repeated searches with no refinement or findings.'</span>,\n",
              "            <span style=\"color: #008000; text-decoration-color: #008000\">'score'</span>: <span style=\"color: #008080; text-decoration-color: #008080; font-weight: bold\">0.0</span>\n",
              "        <span style=\"font-weight: bold\">}</span>,\n",
              "        <span style=\"font-weight: bold\">{</span>\n",
              "            <span style=\"color: #008000; text-decoration-color: #008000\">'trajectory_id'</span>: <span style=\"color: #008000; text-decoration-color: #008000\">'3'</span>,\n",
              "            <span style=\"color: #008000; text-decoration-color: #008000\">'explanation'</span>: <span style=\"color: #008000; text-decoration-color: #008000\">'Also stuck in repetitive searches and ends with nonsensical output; no progress.'</span>,\n",
              "            <span style=\"color: #008000; text-decoration-color: #008000\">'score'</span>: <span style=\"color: #008080; text-decoration-color: #008080; font-weight: bold\">0.0</span>\n",
              "        <span style=\"font-weight: bold\">}</span>,\n",
              "        <span style=\"font-weight: bold\">{</span>\n",
              "            <span style=\"color: #008000; text-decoration-color: #008000\">'trajectory_id'</span>: <span style=\"color: #008000; text-decoration-color: #008000\">'4'</span>,\n",
              "            <span style=\"color: #008000; text-decoration-color: #008000\">'explanation'</span>: <span style=\"color: #008000; text-decoration-color: #008000\">'Makes reasonable attempts at refining search terms and rationale but still fails to </span>\n",
              "<span style=\"color: #008000; text-decoration-color: #008000\">produce a final answer.'</span>,\n",
              "            <span style=\"color: #008000; text-decoration-color: #008000\">'score'</span>: <span style=\"color: #008080; text-decoration-color: #008080; font-weight: bold\">0.2</span>\n",
              "        <span style=\"font-weight: bold\">}</span>\n",
              "    <span style=\"font-weight: bold\">]</span>\n",
              "<span style=\"font-weight: bold\">}</span>\n",
              "</pre>\n"
            ],
            "text/plain": [
              "\u001b[1m{\u001b[0m\n",
              "    \u001b[32m'scores'\u001b[0m: \u001b[1m[\u001b[0m\n",
              "        \u001b[1m{\u001b[0m\n",
              "            \u001b[32m'trajectory_id'\u001b[0m: \u001b[32m'1'\u001b[0m,\n",
              "            \u001b[32m'explanation'\u001b[0m: \u001b[32m'Repeated identical searches without refinement or results; no progress toward the \u001b[0m\n",
              "\u001b[32mgoal.'\u001b[0m,\n",
              "            \u001b[32m'score'\u001b[0m: \u001b[1;36m0.0\u001b[0m\n",
              "        \u001b[1m}\u001b[0m,\n",
              "        \u001b[1m{\u001b[0m\n",
              "            \u001b[32m'trajectory_id'\u001b[0m: \u001b[32m'2'\u001b[0m,\n",
              "            \u001b[32m'explanation'\u001b[0m: \u001b[32m'Similar to trajectory 1: endless repeated searches with no refinement or findings.'\u001b[0m,\n",
              "            \u001b[32m'score'\u001b[0m: \u001b[1;36m0.0\u001b[0m\n",
              "        \u001b[1m}\u001b[0m,\n",
              "        \u001b[1m{\u001b[0m\n",
              "            \u001b[32m'trajectory_id'\u001b[0m: \u001b[32m'3'\u001b[0m,\n",
              "            \u001b[32m'explanation'\u001b[0m: \u001b[32m'Also stuck in repetitive searches and ends with nonsensical output; no progress.'\u001b[0m,\n",
              "            \u001b[32m'score'\u001b[0m: \u001b[1;36m0.0\u001b[0m\n",
              "        \u001b[1m}\u001b[0m,\n",
              "        \u001b[1m{\u001b[0m\n",
              "            \u001b[32m'trajectory_id'\u001b[0m: \u001b[32m'4'\u001b[0m,\n",
              "            \u001b[32m'explanation'\u001b[0m: \u001b[32m'Makes reasonable attempts at refining search terms and rationale but still fails to \u001b[0m\n",
              "\u001b[32mproduce a final answer.'\u001b[0m,\n",
              "            \u001b[32m'score'\u001b[0m: \u001b[1;36m0.2\u001b[0m\n",
              "        \u001b[1m}\u001b[0m\n",
              "    \u001b[1m]\u001b[0m\n",
              "\u001b[1m}\u001b[0m\n"
            ]
          },
          "metadata": {},
          "output_type": "display_data"
        },
        {
          "name": "stdout",
          "output_type": "stream",
          "text": [
            "No \"val/reward\" metric found in history\n",
            "Deleted checkpoint ./.art/email-search-agent-langgraph/models/email-agent-langgraph-001/checkpoints/0013\n",
            "Packed 8 trajectories into 3 sequences of length 2048\n"
          ]
        },
        {
          "name": "stderr",
          "output_type": "stream",
          "text": [
            "train: 100%|██████████| 3/3 [00:14<00:00,  4.95s/it, loss=0.545, grad_norm=0.0579, policy_loss=0.545, entropy=0.0374]\n",
            "Iterating dataset:   3%|▎         | 15/500 [30:45<15:23:53, 114.29s/batch]"
          ]
        },
        {
          "name": "stdout",
          "output_type": "stream",
          "text": [
            "Completed training step 14\n",
            "Training step 15, epoch 0, epoch step 15\n",
            "Batch contains 2 scenarios\n",
            "<art.trajectories.TrajectoryGroup.__new__.<locals>.CoroutineWithMetadata object at 0x755c30ba6fd0>\n"
          ]
        },
        {
          "name": "stderr",
          "output_type": "stream",
          "text": [
            "/tmp/ipykernel_288833/1452329291.py:133: LangGraphDeprecatedSinceV10: create_react_agent has been moved to langchain.agents. Please update your import to 'from langchain.agents import create_agent'. Deprecated in LangGraph V1.0 to be removed in V2.0.\n",
            "  react_agent = create_react_agent(chat_model, tools)\n",
            "/tmp/ipykernel_288833/1452329291.py:133: LangGraphDeprecatedSinceV10: create_react_agent has been moved to langchain.agents. Please update your import to 'from langchain.agents import create_agent'. Deprecated in LangGraph V1.0 to be removed in V2.0.\n",
            "  react_agent = create_react_agent(chat_model, tools)\n",
            "/tmp/ipykernel_288833/1452329291.py:133: LangGraphDeprecatedSinceV10: create_react_agent has been moved to langchain.agents. Please update your import to 'from langchain.agents import create_agent'. Deprecated in LangGraph V1.0 to be removed in V2.0.\n",
            "  react_agent = create_react_agent(chat_model, tools)\n",
            "/tmp/ipykernel_288833/1452329291.py:133: LangGraphDeprecatedSinceV10: create_react_agent has been moved to langchain.agents. Please update your import to 'from langchain.agents import create_agent'. Deprecated in LangGraph V1.0 to be removed in V2.0.\n",
            "  react_agent = create_react_agent(chat_model, tools)\n",
            "/tmp/ipykernel_288833/1452329291.py:133: LangGraphDeprecatedSinceV10: create_react_agent has been moved to langchain.agents. Please update your import to 'from langchain.agents import create_agent'. Deprecated in LangGraph V1.0 to be removed in V2.0.\n",
            "  react_agent = create_react_agent(chat_model, tools)\n",
            "/tmp/ipykernel_288833/1452329291.py:133: LangGraphDeprecatedSinceV10: create_react_agent has been moved to langchain.agents. Please update your import to 'from langchain.agents import create_agent'. Deprecated in LangGraph V1.0 to be removed in V2.0.\n",
            "  react_agent = create_react_agent(chat_model, tools)\n",
            "/tmp/ipykernel_288833/1452329291.py:133: LangGraphDeprecatedSinceV10: create_react_agent has been moved to langchain.agents. Please update your import to 'from langchain.agents import create_agent'. Deprecated in LangGraph V1.0 to be removed in V2.0.\n",
            "  react_agent = create_react_agent(chat_model, tools)\n",
            "/tmp/ipykernel_288833/1452329291.py:133: LangGraphDeprecatedSinceV10: create_react_agent has been moved to langchain.agents. Please update your import to 'from langchain.agents import create_agent'. Deprecated in LangGraph V1.0 to be removed in V2.0.\n",
            "  react_agent = create_react_agent(chat_model, tools)\n"
          ]
        },
        {
          "name": "stdout",
          "output_type": "stream",
          "text": [
            "Loading existing database from ./enron_emails.db\n",
            "Loading existing database from ./enron_emails.db\n",
            "Loading existing database from ./enron_emails.db\n",
            "Loading existing database from ./enron_emails.db\n",
            "Loading existing database from ./enron_emails.db\n",
            "Loading existing database from ./enron_emails.db\n",
            "Loading existing database from ./enron_emails.db\n",
            "Loading existing database from ./enron_emails.db\n",
            "Loading existing database from ./enron_emails.db\n",
            "Loading existing database from ./enron_emails.db\n",
            "Loading existing database from ./enron_emails.db\n",
            "Loading existing database from ./enron_emails.db\n",
            "Loading existing database from ./enron_emails.db\n",
            "Loading existing database from ./enron_emails.db\n",
            "Loading existing database from ./enron_emails.db\n",
            "Loading existing database from ./enron_emails.db\n",
            "Loading existing database from ./enron_emails.db\n"
          ]
        },
        {
          "name": "stderr",
          "output_type": "stream",
          "text": []
        },
        {
          "name": "stdout",
          "output_type": "stream",
          "text": [
            "Loading existing database from ./enron_emails.db\n",
            "Loading existing database from ./enron_emails.db\n",
            "Loading existing database from ./enron_emails.db\n",
            "Loading existing database from ./enron_emails.db\n",
            "Loading existing database from ./enron_emails.dbLoading existing database from ./enron_emails.db\n",
            "\n",
            "Loading existing database from ./enron_emails.db\n",
            "Loading existing database from ./enron_emails.db\n",
            "Loading existing database from ./enron_emails.db\n"
          ]
        },
        {
          "name": "stderr",
          "output_type": "stream",
          "text": []
        },
        {
          "name": "stdout",
          "output_type": "stream",
          "text": [
            "Loading existing database from ./enron_emails.db\n"
          ]
        },
        {
          "name": "stderr",
          "output_type": "stream",
          "text": []
        },
        {
          "name": "stdout",
          "output_type": "stream",
          "text": [
            "Loading existing database from ./enron_emails.db\n"
          ]
        },
        {
          "name": "stderr",
          "output_type": "stream",
          "text": []
        },
        {
          "name": "stdout",
          "output_type": "stream",
          "text": [
            "Loading existing database from ./enron_emails.db\n"
          ]
        },
        {
          "name": "stderr",
          "output_type": "stream",
          "text": [
            "gather: 100%|██████████| 8/8 [00:57<00:00,  7.15s/it, reward=0, correct=1, completion_tokens=64.5]\n"
          ]
        },
        {
          "data": {
            "text/html": [
              "<pre style=\"white-space:pre;overflow-x:auto;line-height:normal;font-family:Menlo,'DejaVu Sans Mono',consolas,'Courier New',monospace\">\n",
              "<span style=\"font-weight: bold\">[</span>RULER<span style=\"font-weight: bold\">]</span> Pretty-printed LLM choice JSON:\n",
              "</pre>\n"
            ],
            "text/plain": [
              "\n",
              "\u001b[1m[\u001b[0mRULER\u001b[1m]\u001b[0m Pretty-printed LLM choice JSON:\n"
            ]
          },
          "metadata": {},
          "output_type": "display_data"
        },
        {
          "data": {
            "text/html": [
              "<pre style=\"white-space:pre;overflow-x:auto;line-height:normal;font-family:Menlo,'DejaVu Sans Mono',consolas,'Courier New',monospace\"><span style=\"font-weight: bold\">{</span>\n",
              "    <span style=\"color: #008000; text-decoration-color: #008000\">'scores'</span>: <span style=\"font-weight: bold\">[</span>\n",
              "        <span style=\"font-weight: bold\">{</span>\n",
              "            <span style=\"color: #008000; text-decoration-color: #008000\">'trajectory_id'</span>: <span style=\"color: #008000; text-decoration-color: #008000\">'1'</span>,\n",
              "            <span style=\"color: #008000; text-decoration-color: #008000\">'explanation'</span>: <span style=\"color: #008000; text-decoration-color: #008000\">'Correct answer, efficient and clear, but omits the year.'</span>,\n",
              "            <span style=\"color: #008000; text-decoration-color: #008000\">'score'</span>: <span style=\"color: #008080; text-decoration-color: #008080; font-weight: bold\">0.85</span>\n",
              "        <span style=\"font-weight: bold\">}</span>,\n",
              "        <span style=\"font-weight: bold\">{</span>\n",
              "            <span style=\"color: #008000; text-decoration-color: #008000\">'trajectory_id'</span>: <span style=\"color: #008000; text-decoration-color: #008000\">'2'</span>,\n",
              "            <span style=\"color: #008000; text-decoration-color: #008000\">'explanation'</span>: <span style=\"color: #008000; text-decoration-color: #008000\">'Correct answer with year but contains extraneous garbled text.'</span>,\n",
              "            <span style=\"color: #008000; text-decoration-color: #008000\">'score'</span>: <span style=\"color: #008080; text-decoration-color: #008080; font-weight: bold\">0.7</span>\n",
              "        <span style=\"font-weight: bold\">}</span>,\n",
              "        <span style=\"font-weight: bold\">{</span>\n",
              "            <span style=\"color: #008000; text-decoration-color: #008000\">'trajectory_id'</span>: <span style=\"color: #008000; text-decoration-color: #008000\">'3'</span>,\n",
              "            <span style=\"color: #008000; text-decoration-color: #008000\">'explanation'</span>: <span style=\"color: #008000; text-decoration-color: #008000\">'Correct date but the trajectory is messy and includes irrelevant characters.'</span>,\n",
              "            <span style=\"color: #008000; text-decoration-color: #008000\">'score'</span>: <span style=\"color: #008080; text-decoration-color: #008080; font-weight: bold\">0.65</span>\n",
              "        <span style=\"font-weight: bold\">}</span>,\n",
              "        <span style=\"font-weight: bold\">{</span>\n",
              "            <span style=\"color: #008000; text-decoration-color: #008000\">'trajectory_id'</span>: <span style=\"color: #008000; text-decoration-color: #008000\">'4'</span>,\n",
              "            <span style=\"color: #008000; text-decoration-color: #008000\">'explanation'</span>: <span style=\"color: #008000; text-decoration-color: #008000\">'Clean, precise, and includes the year; efficient use of tools.'</span>,\n",
              "            <span style=\"color: #008000; text-decoration-color: #008000\">'score'</span>: <span style=\"color: #008080; text-decoration-color: #008080; font-weight: bold\">0.9</span>\n",
              "        <span style=\"font-weight: bold\">}</span>\n",
              "    <span style=\"font-weight: bold\">]</span>\n",
              "<span style=\"font-weight: bold\">}</span>\n",
              "</pre>\n"
            ],
            "text/plain": [
              "\u001b[1m{\u001b[0m\n",
              "    \u001b[32m'scores'\u001b[0m: \u001b[1m[\u001b[0m\n",
              "        \u001b[1m{\u001b[0m\n",
              "            \u001b[32m'trajectory_id'\u001b[0m: \u001b[32m'1'\u001b[0m,\n",
              "            \u001b[32m'explanation'\u001b[0m: \u001b[32m'Correct answer, efficient and clear, but omits the year.'\u001b[0m,\n",
              "            \u001b[32m'score'\u001b[0m: \u001b[1;36m0.85\u001b[0m\n",
              "        \u001b[1m}\u001b[0m,\n",
              "        \u001b[1m{\u001b[0m\n",
              "            \u001b[32m'trajectory_id'\u001b[0m: \u001b[32m'2'\u001b[0m,\n",
              "            \u001b[32m'explanation'\u001b[0m: \u001b[32m'Correct answer with year but contains extraneous garbled text.'\u001b[0m,\n",
              "            \u001b[32m'score'\u001b[0m: \u001b[1;36m0.7\u001b[0m\n",
              "        \u001b[1m}\u001b[0m,\n",
              "        \u001b[1m{\u001b[0m\n",
              "            \u001b[32m'trajectory_id'\u001b[0m: \u001b[32m'3'\u001b[0m,\n",
              "            \u001b[32m'explanation'\u001b[0m: \u001b[32m'Correct date but the trajectory is messy and includes irrelevant characters.'\u001b[0m,\n",
              "            \u001b[32m'score'\u001b[0m: \u001b[1;36m0.65\u001b[0m\n",
              "        \u001b[1m}\u001b[0m,\n",
              "        \u001b[1m{\u001b[0m\n",
              "            \u001b[32m'trajectory_id'\u001b[0m: \u001b[32m'4'\u001b[0m,\n",
              "            \u001b[32m'explanation'\u001b[0m: \u001b[32m'Clean, precise, and includes the year; efficient use of tools.'\u001b[0m,\n",
              "            \u001b[32m'score'\u001b[0m: \u001b[1;36m0.9\u001b[0m\n",
              "        \u001b[1m}\u001b[0m\n",
              "    \u001b[1m]\u001b[0m\n",
              "\u001b[1m}\u001b[0m\n"
            ]
          },
          "metadata": {},
          "output_type": "display_data"
        },
        {
          "data": {
            "text/html": [
              "<pre style=\"white-space:pre;overflow-x:auto;line-height:normal;font-family:Menlo,'DejaVu Sans Mono',consolas,'Courier New',monospace\">\n",
              "<span style=\"font-weight: bold\">[</span>RULER<span style=\"font-weight: bold\">]</span> Pretty-printed LLM choice JSON:\n",
              "</pre>\n"
            ],
            "text/plain": [
              "\n",
              "\u001b[1m[\u001b[0mRULER\u001b[1m]\u001b[0m Pretty-printed LLM choice JSON:\n"
            ]
          },
          "metadata": {},
          "output_type": "display_data"
        },
        {
          "data": {
            "text/html": [
              "<pre style=\"white-space:pre;overflow-x:auto;line-height:normal;font-family:Menlo,'DejaVu Sans Mono',consolas,'Courier New',monospace\"><span style=\"font-weight: bold\">{</span>\n",
              "    <span style=\"color: #008000; text-decoration-color: #008000\">'scores'</span>: <span style=\"font-weight: bold\">[</span>\n",
              "        <span style=\"font-weight: bold\">{</span>\n",
              "            <span style=\"color: #008000; text-decoration-color: #008000\">'trajectory_id'</span>: <span style=\"color: #008000; text-decoration-color: #008000\">'1'</span>,\n",
              "            <span style=\"color: #008000; text-decoration-color: #008000\">'explanation'</span>: <span style=\"color: #008000; text-decoration-color: #008000\">'Correctly located and read the email, identified the quoted person efficiently.'</span>,\n",
              "            <span style=\"color: #008000; text-decoration-color: #008000\">'score'</span>: <span style=\"color: #008080; text-decoration-color: #008080; font-weight: bold\">1.0</span>\n",
              "        <span style=\"font-weight: bold\">}</span>,\n",
              "        <span style=\"font-weight: bold\">{</span>\n",
              "            <span style=\"color: #008000; text-decoration-color: #008000\">'trajectory_id'</span>: <span style=\"color: #008000; text-decoration-color: #008000\">'2'</span>,\n",
              "            <span style=\"color: #008000; text-decoration-color: #008000\">'explanation'</span>: <span style=\"color: #008000; text-decoration-color: #008000\">'Attempted searches and a read but never provided the identified quote or final </span>\n",
              "<span style=\"color: #008000; text-decoration-color: #008000\">answer.'</span>,\n",
              "            <span style=\"color: #008000; text-decoration-color: #008000\">'score'</span>: <span style=\"color: #008080; text-decoration-color: #008080; font-weight: bold\">0.0</span>\n",
              "        <span style=\"font-weight: bold\">}</span>,\n",
              "        <span style=\"font-weight: bold\">{</span>\n",
              "            <span style=\"color: #008000; text-decoration-color: #008000\">'trajectory_id'</span>: <span style=\"color: #008000; text-decoration-color: #008000\">'3'</span>,\n",
              "            <span style=\"color: #008000; text-decoration-color: #008000\">'explanation'</span>: <span style=\"color: #008000; text-decoration-color: #008000\">'Repeated unsuccessful searches and failed to find or report the quote.'</span>,\n",
              "            <span style=\"color: #008000; text-decoration-color: #008000\">'score'</span>: <span style=\"color: #008080; text-decoration-color: #008080; font-weight: bold\">0.0</span>\n",
              "        <span style=\"font-weight: bold\">}</span>,\n",
              "        <span style=\"font-weight: bold\">{</span>\n",
              "            <span style=\"color: #008000; text-decoration-color: #008000\">'trajectory_id'</span>: <span style=\"color: #008000; text-decoration-color: #008000\">'4'</span>,\n",
              "            <span style=\"color: #008000; text-decoration-color: #008000\">'explanation'</span>: <span style=\"color: #008000; text-decoration-color: #008000\">'Ran multiple unproductive searches without finding or answering the query.'</span>,\n",
              "            <span style=\"color: #008000; text-decoration-color: #008000\">'score'</span>: <span style=\"color: #008080; text-decoration-color: #008080; font-weight: bold\">0.0</span>\n",
              "        <span style=\"font-weight: bold\">}</span>\n",
              "    <span style=\"font-weight: bold\">]</span>\n",
              "<span style=\"font-weight: bold\">}</span>\n",
              "</pre>\n"
            ],
            "text/plain": [
              "\u001b[1m{\u001b[0m\n",
              "    \u001b[32m'scores'\u001b[0m: \u001b[1m[\u001b[0m\n",
              "        \u001b[1m{\u001b[0m\n",
              "            \u001b[32m'trajectory_id'\u001b[0m: \u001b[32m'1'\u001b[0m,\n",
              "            \u001b[32m'explanation'\u001b[0m: \u001b[32m'Correctly located and read the email, identified the quoted person efficiently.'\u001b[0m,\n",
              "            \u001b[32m'score'\u001b[0m: \u001b[1;36m1.0\u001b[0m\n",
              "        \u001b[1m}\u001b[0m,\n",
              "        \u001b[1m{\u001b[0m\n",
              "            \u001b[32m'trajectory_id'\u001b[0m: \u001b[32m'2'\u001b[0m,\n",
              "            \u001b[32m'explanation'\u001b[0m: \u001b[32m'Attempted searches and a read but never provided the identified quote or final \u001b[0m\n",
              "\u001b[32manswer.'\u001b[0m,\n",
              "            \u001b[32m'score'\u001b[0m: \u001b[1;36m0.0\u001b[0m\n",
              "        \u001b[1m}\u001b[0m,\n",
              "        \u001b[1m{\u001b[0m\n",
              "            \u001b[32m'trajectory_id'\u001b[0m: \u001b[32m'3'\u001b[0m,\n",
              "            \u001b[32m'explanation'\u001b[0m: \u001b[32m'Repeated unsuccessful searches and failed to find or report the quote.'\u001b[0m,\n",
              "            \u001b[32m'score'\u001b[0m: \u001b[1;36m0.0\u001b[0m\n",
              "        \u001b[1m}\u001b[0m,\n",
              "        \u001b[1m{\u001b[0m\n",
              "            \u001b[32m'trajectory_id'\u001b[0m: \u001b[32m'4'\u001b[0m,\n",
              "            \u001b[32m'explanation'\u001b[0m: \u001b[32m'Ran multiple unproductive searches without finding or answering the query.'\u001b[0m,\n",
              "            \u001b[32m'score'\u001b[0m: \u001b[1;36m0.0\u001b[0m\n",
              "        \u001b[1m}\u001b[0m\n",
              "    \u001b[1m]\u001b[0m\n",
              "\u001b[1m}\u001b[0m\n"
            ]
          },
          "metadata": {},
          "output_type": "display_data"
        },
        {
          "name": "stdout",
          "output_type": "stream",
          "text": [
            "No \"val/reward\" metric found in history\n",
            "Deleted checkpoint ./.art/email-search-agent-langgraph/models/email-agent-langgraph-001/checkpoints/0014\n",
            "Packed 8 trajectories into 6 sequences of length 2048\n"
          ]
        },
        {
          "name": "stderr",
          "output_type": "stream",
          "text": [
            "train: 100%|██████████| 6/6 [00:20<00:00,  3.43s/it, loss=-0.879, grad_norm=0.261, policy_loss=-0.879, entropy=0.0396]\n",
            "Iterating dataset:   3%|▎         | 16/500 [32:19<14:34:44, 108.44s/batch]"
          ]
        },
        {
          "name": "stdout",
          "output_type": "stream",
          "text": [
            "Completed training step 15\n",
            "Training step 16, epoch 0, epoch step 16\n",
            "Batch contains 2 scenarios\n",
            "<art.trajectories.TrajectoryGroup.__new__.<locals>.CoroutineWithMetadata object at 0x755c2dff7690>\n"
          ]
        },
        {
          "name": "stderr",
          "output_type": "stream",
          "text": [
            "/tmp/ipykernel_288833/1452329291.py:133: LangGraphDeprecatedSinceV10: create_react_agent has been moved to langchain.agents. Please update your import to 'from langchain.agents import create_agent'. Deprecated in LangGraph V1.0 to be removed in V2.0.\n",
            "  react_agent = create_react_agent(chat_model, tools)\n",
            "/tmp/ipykernel_288833/1452329291.py:133: LangGraphDeprecatedSinceV10: create_react_agent has been moved to langchain.agents. Please update your import to 'from langchain.agents import create_agent'. Deprecated in LangGraph V1.0 to be removed in V2.0.\n",
            "  react_agent = create_react_agent(chat_model, tools)\n",
            "/tmp/ipykernel_288833/1452329291.py:133: LangGraphDeprecatedSinceV10: create_react_agent has been moved to langchain.agents. Please update your import to 'from langchain.agents import create_agent'. Deprecated in LangGraph V1.0 to be removed in V2.0.\n",
            "  react_agent = create_react_agent(chat_model, tools)\n",
            "/tmp/ipykernel_288833/1452329291.py:133: LangGraphDeprecatedSinceV10: create_react_agent has been moved to langchain.agents. Please update your import to 'from langchain.agents import create_agent'. Deprecated in LangGraph V1.0 to be removed in V2.0.\n",
            "  react_agent = create_react_agent(chat_model, tools)\n",
            "/tmp/ipykernel_288833/1452329291.py:133: LangGraphDeprecatedSinceV10: create_react_agent has been moved to langchain.agents. Please update your import to 'from langchain.agents import create_agent'. Deprecated in LangGraph V1.0 to be removed in V2.0.\n",
            "  react_agent = create_react_agent(chat_model, tools)\n",
            "/tmp/ipykernel_288833/1452329291.py:133: LangGraphDeprecatedSinceV10: create_react_agent has been moved to langchain.agents. Please update your import to 'from langchain.agents import create_agent'. Deprecated in LangGraph V1.0 to be removed in V2.0.\n",
            "  react_agent = create_react_agent(chat_model, tools)\n",
            "/tmp/ipykernel_288833/1452329291.py:133: LangGraphDeprecatedSinceV10: create_react_agent has been moved to langchain.agents. Please update your import to 'from langchain.agents import create_agent'. Deprecated in LangGraph V1.0 to be removed in V2.0.\n",
            "  react_agent = create_react_agent(chat_model, tools)\n",
            "/tmp/ipykernel_288833/1452329291.py:133: LangGraphDeprecatedSinceV10: create_react_agent has been moved to langchain.agents. Please update your import to 'from langchain.agents import create_agent'. Deprecated in LangGraph V1.0 to be removed in V2.0.\n",
            "  react_agent = create_react_agent(chat_model, tools)\n"
          ]
        },
        {
          "name": "stdout",
          "output_type": "stream",
          "text": [
            "Loading existing database from ./enron_emails.db\n",
            "Loading existing database from ./enron_emails.db\n",
            "Loading existing database from ./enron_emails.db\n",
            "Loading existing database from ./enron_emails.db\n",
            "Loading existing database from ./enron_emails.db\n",
            "Loading existing database from ./enron_emails.db\n",
            "Loading existing database from ./enron_emails.db\n",
            "Loading existing database from ./enron_emails.db\n",
            "Loading existing database from ./enron_emails.db\n",
            "Loading existing database from ./enron_emails.db\n",
            "Loading existing database from ./enron_emails.db\n",
            "Loading existing database from ./enron_emails.db\n",
            "Loading existing database from ./enron_emails.db\n",
            "Loading existing database from ./enron_emails.db\n",
            "Loading existing database from ./enron_emails.db\n",
            "Loading existing database from ./enron_emails.db\n",
            "Loading existing database from ./enron_emails.db\n",
            "Loading existing database from ./enron_emails.db\n",
            "Loading existing database from ./enron_emails.db\n",
            "Loading existing database from ./enron_emails.db\n",
            "Loading existing database from ./enron_emails.db\n",
            "Loading existing database from ./enron_emails.db\n",
            "Loading existing database from ./enron_emails.db\n",
            "Loading existing database from ./enron_emails.db\n",
            "Loading existing database from ./enron_emails.db\n",
            "Loading existing database from ./enron_emails.dbLoading existing database from ./enron_emails.db\n",
            "\n",
            "Loading existing database from ./enron_emails.db\n",
            "Loading existing database from ./enron_emails.db\n",
            "Loading existing database from ./enron_emails.db\n",
            "Loading existing database from ./enron_emails.db\n",
            "Loading existing database from ./enron_emails.db\n",
            "Loading existing database from ./enron_emails.db\n"
          ]
        },
        {
          "name": "stderr",
          "output_type": "stream",
          "text": []
        },
        {
          "name": "stdout",
          "output_type": "stream",
          "text": [
            "Loading existing database from ./enron_emails.db\n",
            "Loading existing database from ./enron_emails.db\n",
            "Loading existing database from ./enron_emails.db\n",
            "Loading existing database from ./enron_emails.db\n",
            "Loading existing database from ./enron_emails.db\n"
          ]
        },
        {
          "name": "stderr",
          "output_type": "stream",
          "text": []
        },
        {
          "name": "stdout",
          "output_type": "stream",
          "text": [
            "Loading existing database from ./enron_emails.db\n",
            "Loading existing database from ./enron_emails.dbLoading existing database from ./enron_emails.db\n",
            "\n",
            "Loading existing database from ./enron_emails.db\n",
            "Loading existing database from ./enron_emails.db\n",
            "Loading existing database from ./enron_emails.db\n",
            "Loading existing database from ./enron_emails.db\n",
            "Loading existing database from ./enron_emails.db\n",
            "Loading existing database from ./enron_emails.db\n"
          ]
        },
        {
          "name": "stderr",
          "output_type": "stream",
          "text": []
        },
        {
          "name": "stdout",
          "output_type": "stream",
          "text": [
            "Loading existing database from ./enron_emails.dbLoading existing database from ./enron_emails.db\n",
            "\n",
            "Loading existing database from ./enron_emails.db\n"
          ]
        },
        {
          "name": "stderr",
          "output_type": "stream",
          "text": []
        },
        {
          "name": "stdout",
          "output_type": "stream",
          "text": [
            "Loading existing database from ./enron_emails.db\n"
          ]
        },
        {
          "name": "stderr",
          "output_type": "stream",
          "text": [
            "gather: 100%|██████████| 8/8 [01:10<00:00,  8.85s/it, reward=0, correct=0.667, completion_tokens=53.5]\n"
          ]
        },
        {
          "data": {
            "text/html": [
              "<pre style=\"white-space:pre;overflow-x:auto;line-height:normal;font-family:Menlo,'DejaVu Sans Mono',consolas,'Courier New',monospace\">\n",
              "<span style=\"font-weight: bold\">[</span>RULER<span style=\"font-weight: bold\">]</span> Pretty-printed LLM choice JSON:\n",
              "</pre>\n"
            ],
            "text/plain": [
              "\n",
              "\u001b[1m[\u001b[0mRULER\u001b[1m]\u001b[0m Pretty-printed LLM choice JSON:\n"
            ]
          },
          "metadata": {},
          "output_type": "display_data"
        },
        {
          "data": {
            "text/html": [
              "<pre style=\"white-space:pre;overflow-x:auto;line-height:normal;font-family:Menlo,'DejaVu Sans Mono',consolas,'Courier New',monospace\"><span style=\"font-weight: bold\">{</span>\n",
              "    <span style=\"color: #008000; text-decoration-color: #008000\">'scores'</span>: <span style=\"font-weight: bold\">[</span>\n",
              "        <span style=\"font-weight: bold\">{</span>\n",
              "            <span style=\"color: #008000; text-decoration-color: #008000\">'trajectory_id'</span>: <span style=\"color: #008000; text-decoration-color: #008000\">'1'</span>,\n",
              "            <span style=\"color: #008000; text-decoration-color: #008000\">'explanation'</span>: <span style=\"color: #008000; text-decoration-color: #008000\">'Multiple repeated tool calls but never found or returned an answer; some partial effort</span>\n",
              "<span style=\"color: #008000; text-decoration-color: #008000\">but ultimately failed.'</span>,\n",
              "            <span style=\"color: #008000; text-decoration-color: #008000\">'score'</span>: <span style=\"color: #008080; text-decoration-color: #008080; font-weight: bold\">0.2</span>\n",
              "        <span style=\"font-weight: bold\">}</span>,\n",
              "        <span style=\"font-weight: bold\">{</span>\n",
              "            <span style=\"color: #008000; text-decoration-color: #008000\">'trajectory_id'</span>: <span style=\"color: #008000; text-decoration-color: #008000\">'2'</span>,\n",
              "            <span style=\"color: #008000; text-decoration-color: #008000\">'explanation'</span>: <span style=\"color: #008000; text-decoration-color: #008000\">'Repeated identical searches with no refinement or answer; very low progress toward the </span>\n",
              "<span style=\"color: #008000; text-decoration-color: #008000\">goal.'</span>,\n",
              "            <span style=\"color: #008000; text-decoration-color: #008000\">'score'</span>: <span style=\"color: #008080; text-decoration-color: #008080; font-weight: bold\">0.05</span>\n",
              "        <span style=\"font-weight: bold\">}</span>,\n",
              "        <span style=\"font-weight: bold\">{</span>\n",
              "            <span style=\"color: #008000; text-decoration-color: #008000\">'trajectory_id'</span>: <span style=\"color: #008000; text-decoration-color: #008000\">'3'</span>,\n",
              "            <span style=\"color: #008000; text-decoration-color: #008000\">'explanation'</span>: <span style=\"color: #008000; text-decoration-color: #008000\">'Tried varied keywords and made more systematic attempts but still did not find the </span>\n",
              "<span style=\"color: #008000; text-decoration-color: #008000\">answer.'</span>,\n",
              "            <span style=\"color: #008000; text-decoration-color: #008000\">'score'</span>: <span style=\"color: #008080; text-decoration-color: #008080; font-weight: bold\">0.3</span>\n",
              "        <span style=\"font-weight: bold\">}</span>,\n",
              "        <span style=\"font-weight: bold\">{</span>\n",
              "            <span style=\"color: #008000; text-decoration-color: #008000\">'trajectory_id'</span>: <span style=\"color: #008000; text-decoration-color: #008000\">'4'</span>,\n",
              "            <span style=\"color: #008000; text-decoration-color: #008000\">'explanation'</span>: <span style=\"color: #008000; text-decoration-color: #008000\">'Performed many identical searches without refinement or success; little progress.'</span>,\n",
              "            <span style=\"color: #008000; text-decoration-color: #008000\">'score'</span>: <span style=\"color: #008080; text-decoration-color: #008080; font-weight: bold\">0.1</span>\n",
              "        <span style=\"font-weight: bold\">}</span>\n",
              "    <span style=\"font-weight: bold\">]</span>\n",
              "<span style=\"font-weight: bold\">}</span>\n",
              "</pre>\n"
            ],
            "text/plain": [
              "\u001b[1m{\u001b[0m\n",
              "    \u001b[32m'scores'\u001b[0m: \u001b[1m[\u001b[0m\n",
              "        \u001b[1m{\u001b[0m\n",
              "            \u001b[32m'trajectory_id'\u001b[0m: \u001b[32m'1'\u001b[0m,\n",
              "            \u001b[32m'explanation'\u001b[0m: \u001b[32m'Multiple repeated tool calls but never found or returned an answer; some partial effort\u001b[0m\n",
              "\u001b[32mbut ultimately failed.'\u001b[0m,\n",
              "            \u001b[32m'score'\u001b[0m: \u001b[1;36m0.2\u001b[0m\n",
              "        \u001b[1m}\u001b[0m,\n",
              "        \u001b[1m{\u001b[0m\n",
              "            \u001b[32m'trajectory_id'\u001b[0m: \u001b[32m'2'\u001b[0m,\n",
              "            \u001b[32m'explanation'\u001b[0m: \u001b[32m'Repeated identical searches with no refinement or answer; very low progress toward the \u001b[0m\n",
              "\u001b[32mgoal.'\u001b[0m,\n",
              "            \u001b[32m'score'\u001b[0m: \u001b[1;36m0.05\u001b[0m\n",
              "        \u001b[1m}\u001b[0m,\n",
              "        \u001b[1m{\u001b[0m\n",
              "            \u001b[32m'trajectory_id'\u001b[0m: \u001b[32m'3'\u001b[0m,\n",
              "            \u001b[32m'explanation'\u001b[0m: \u001b[32m'Tried varied keywords and made more systematic attempts but still did not find the \u001b[0m\n",
              "\u001b[32manswer.'\u001b[0m,\n",
              "            \u001b[32m'score'\u001b[0m: \u001b[1;36m0.3\u001b[0m\n",
              "        \u001b[1m}\u001b[0m,\n",
              "        \u001b[1m{\u001b[0m\n",
              "            \u001b[32m'trajectory_id'\u001b[0m: \u001b[32m'4'\u001b[0m,\n",
              "            \u001b[32m'explanation'\u001b[0m: \u001b[32m'Performed many identical searches without refinement or success; little progress.'\u001b[0m,\n",
              "            \u001b[32m'score'\u001b[0m: \u001b[1;36m0.1\u001b[0m\n",
              "        \u001b[1m}\u001b[0m\n",
              "    \u001b[1m]\u001b[0m\n",
              "\u001b[1m}\u001b[0m\n"
            ]
          },
          "metadata": {},
          "output_type": "display_data"
        },
        {
          "data": {
            "text/html": [
              "<pre style=\"white-space:pre;overflow-x:auto;line-height:normal;font-family:Menlo,'DejaVu Sans Mono',consolas,'Courier New',monospace\">\n",
              "<span style=\"font-weight: bold\">[</span>RULER<span style=\"font-weight: bold\">]</span> Pretty-printed LLM choice JSON:\n",
              "</pre>\n"
            ],
            "text/plain": [
              "\n",
              "\u001b[1m[\u001b[0mRULER\u001b[1m]\u001b[0m Pretty-printed LLM choice JSON:\n"
            ]
          },
          "metadata": {},
          "output_type": "display_data"
        },
        {
          "data": {
            "text/html": [
              "<pre style=\"white-space:pre;overflow-x:auto;line-height:normal;font-family:Menlo,'DejaVu Sans Mono',consolas,'Courier New',monospace\"><span style=\"font-weight: bold\">{</span>\n",
              "    <span style=\"color: #008000; text-decoration-color: #008000\">'scores'</span>: <span style=\"font-weight: bold\">[</span>\n",
              "        <span style=\"font-weight: bold\">{</span>\n",
              "            <span style=\"color: #008000; text-decoration-color: #008000\">'trajectory_id'</span>: <span style=\"color: #008000; text-decoration-color: #008000\">'1'</span>,\n",
              "            <span style=\"color: #008000; text-decoration-color: #008000\">'explanation'</span>: <span style=\"color: #008000; text-decoration-color: #008000\">'Correctly identified Leslie Hansen as the contact and efficiently provided the </span>\n",
              "<span style=\"color: #008000; text-decoration-color: #008000\">answer.'</span>,\n",
              "            <span style=\"color: #008000; text-decoration-color: #008000\">'score'</span>: <span style=\"color: #008080; text-decoration-color: #008080; font-weight: bold\">0.95</span>\n",
              "        <span style=\"font-weight: bold\">}</span>,\n",
              "        <span style=\"font-weight: bold\">{</span>\n",
              "            <span style=\"color: #008000; text-decoration-color: #008000\">'trajectory_id'</span>: <span style=\"color: #008000; text-decoration-color: #008000\">'2'</span>,\n",
              "            <span style=\"color: #008000; text-decoration-color: #008000\">'explanation'</span>: <span style=\"color: #008000; text-decoration-color: #008000\">'Located the correct email but wrongly added Tana Jones as a contact.'</span>,\n",
              "            <span style=\"color: #008000; text-decoration-color: #008000\">'score'</span>: <span style=\"color: #008080; text-decoration-color: #008080; font-weight: bold\">0.4</span>\n",
              "        <span style=\"font-weight: bold\">}</span>,\n",
              "        <span style=\"font-weight: bold\">{</span>\n",
              "            <span style=\"color: #008000; text-decoration-color: #008000\">'trajectory_id'</span>: <span style=\"color: #008000; text-decoration-color: #008000\">'3'</span>,\n",
              "            <span style=\"color: #008000; text-decoration-color: #008000\">'explanation'</span>: <span style=\"color: #008000; text-decoration-color: #008000\">'Misunderstood the question—gave policy details about access rather than identifying who</span>\n",
              "<span style=\"color: #008000; text-decoration-color: #008000\">to contact.'</span>,\n",
              "            <span style=\"color: #008000; text-decoration-color: #008000\">'score'</span>: <span style=\"color: #008080; text-decoration-color: #008080; font-weight: bold\">0.1</span>\n",
              "        <span style=\"font-weight: bold\">}</span>,\n",
              "        <span style=\"font-weight: bold\">{</span>\n",
              "            <span style=\"color: #008000; text-decoration-color: #008000\">'trajectory_id'</span>: <span style=\"color: #008000; text-decoration-color: #008000\">'4'</span>,\n",
              "            <span style=\"color: #008000; text-decoration-color: #008000\">'explanation'</span>: <span style=\"color: #008000; text-decoration-color: #008000\">'Made multiple searches but did not retrieve the relevant email or produce an answer.'</span>,\n",
              "            <span style=\"color: #008000; text-decoration-color: #008000\">'score'</span>: <span style=\"color: #008080; text-decoration-color: #008080; font-weight: bold\">0.0</span>\n",
              "        <span style=\"font-weight: bold\">}</span>\n",
              "    <span style=\"font-weight: bold\">]</span>\n",
              "<span style=\"font-weight: bold\">}</span>\n",
              "</pre>\n"
            ],
            "text/plain": [
              "\u001b[1m{\u001b[0m\n",
              "    \u001b[32m'scores'\u001b[0m: \u001b[1m[\u001b[0m\n",
              "        \u001b[1m{\u001b[0m\n",
              "            \u001b[32m'trajectory_id'\u001b[0m: \u001b[32m'1'\u001b[0m,\n",
              "            \u001b[32m'explanation'\u001b[0m: \u001b[32m'Correctly identified Leslie Hansen as the contact and efficiently provided the \u001b[0m\n",
              "\u001b[32manswer.'\u001b[0m,\n",
              "            \u001b[32m'score'\u001b[0m: \u001b[1;36m0.95\u001b[0m\n",
              "        \u001b[1m}\u001b[0m,\n",
              "        \u001b[1m{\u001b[0m\n",
              "            \u001b[32m'trajectory_id'\u001b[0m: \u001b[32m'2'\u001b[0m,\n",
              "            \u001b[32m'explanation'\u001b[0m: \u001b[32m'Located the correct email but wrongly added Tana Jones as a contact.'\u001b[0m,\n",
              "            \u001b[32m'score'\u001b[0m: \u001b[1;36m0.4\u001b[0m\n",
              "        \u001b[1m}\u001b[0m,\n",
              "        \u001b[1m{\u001b[0m\n",
              "            \u001b[32m'trajectory_id'\u001b[0m: \u001b[32m'3'\u001b[0m,\n",
              "            \u001b[32m'explanation'\u001b[0m: \u001b[32m'Misunderstood the question—gave policy details about access rather than identifying who\u001b[0m\n",
              "\u001b[32mto contact.'\u001b[0m,\n",
              "            \u001b[32m'score'\u001b[0m: \u001b[1;36m0.1\u001b[0m\n",
              "        \u001b[1m}\u001b[0m,\n",
              "        \u001b[1m{\u001b[0m\n",
              "            \u001b[32m'trajectory_id'\u001b[0m: \u001b[32m'4'\u001b[0m,\n",
              "            \u001b[32m'explanation'\u001b[0m: \u001b[32m'Made multiple searches but did not retrieve the relevant email or produce an answer.'\u001b[0m,\n",
              "            \u001b[32m'score'\u001b[0m: \u001b[1;36m0.0\u001b[0m\n",
              "        \u001b[1m}\u001b[0m\n",
              "    \u001b[1m]\u001b[0m\n",
              "\u001b[1m}\u001b[0m\n"
            ]
          },
          "metadata": {},
          "output_type": "display_data"
        },
        {
          "name": "stdout",
          "output_type": "stream",
          "text": [
            "No \"val/reward\" metric found in history\n",
            "Deleted checkpoint ./.art/email-search-agent-langgraph/models/email-agent-langgraph-001/checkpoints/0015\n",
            "Packed 8 trajectories into 3 sequences of length 4096\n"
          ]
        },
        {
          "name": "stderr",
          "output_type": "stream",
          "text": [
            "train: 100%|██████████| 3/3 [00:20<00:00,  6.86s/it, loss=0.25, grad_norm=0.136, policy_loss=0.25, entropy=0.132]\n",
            "Iterating dataset:   3%|▎         | 17/500 [34:11<14:40:53, 109.43s/batch]"
          ]
        },
        {
          "name": "stdout",
          "output_type": "stream",
          "text": [
            "Completed training step 16\n",
            "Training step 17, epoch 0, epoch step 17\n",
            "Batch contains 2 scenarios\n",
            "<art.trajectories.TrajectoryGroup.__new__.<locals>.CoroutineWithMetadata object at 0x755ced445590>\n"
          ]
        },
        {
          "name": "stderr",
          "output_type": "stream",
          "text": [
            "/tmp/ipykernel_288833/1452329291.py:133: LangGraphDeprecatedSinceV10: create_react_agent has been moved to langchain.agents. Please update your import to 'from langchain.agents import create_agent'. Deprecated in LangGraph V1.0 to be removed in V2.0.\n",
            "  react_agent = create_react_agent(chat_model, tools)\n",
            "/tmp/ipykernel_288833/1452329291.py:133: LangGraphDeprecatedSinceV10: create_react_agent has been moved to langchain.agents. Please update your import to 'from langchain.agents import create_agent'. Deprecated in LangGraph V1.0 to be removed in V2.0.\n",
            "  react_agent = create_react_agent(chat_model, tools)\n",
            "/tmp/ipykernel_288833/1452329291.py:133: LangGraphDeprecatedSinceV10: create_react_agent has been moved to langchain.agents. Please update your import to 'from langchain.agents import create_agent'. Deprecated in LangGraph V1.0 to be removed in V2.0.\n",
            "  react_agent = create_react_agent(chat_model, tools)\n",
            "/tmp/ipykernel_288833/1452329291.py:133: LangGraphDeprecatedSinceV10: create_react_agent has been moved to langchain.agents. Please update your import to 'from langchain.agents import create_agent'. Deprecated in LangGraph V1.0 to be removed in V2.0.\n",
            "  react_agent = create_react_agent(chat_model, tools)\n",
            "/tmp/ipykernel_288833/1452329291.py:133: LangGraphDeprecatedSinceV10: create_react_agent has been moved to langchain.agents. Please update your import to 'from langchain.agents import create_agent'. Deprecated in LangGraph V1.0 to be removed in V2.0.\n",
            "  react_agent = create_react_agent(chat_model, tools)\n",
            "/tmp/ipykernel_288833/1452329291.py:133: LangGraphDeprecatedSinceV10: create_react_agent has been moved to langchain.agents. Please update your import to 'from langchain.agents import create_agent'. Deprecated in LangGraph V1.0 to be removed in V2.0.\n",
            "  react_agent = create_react_agent(chat_model, tools)\n",
            "/tmp/ipykernel_288833/1452329291.py:133: LangGraphDeprecatedSinceV10: create_react_agent has been moved to langchain.agents. Please update your import to 'from langchain.agents import create_agent'. Deprecated in LangGraph V1.0 to be removed in V2.0.\n",
            "  react_agent = create_react_agent(chat_model, tools)\n",
            "/tmp/ipykernel_288833/1452329291.py:133: LangGraphDeprecatedSinceV10: create_react_agent has been moved to langchain.agents. Please update your import to 'from langchain.agents import create_agent'. Deprecated in LangGraph V1.0 to be removed in V2.0.\n",
            "  react_agent = create_react_agent(chat_model, tools)\n"
          ]
        },
        {
          "name": "stdout",
          "output_type": "stream",
          "text": [
            "Loading existing database from ./enron_emails.dbLoading existing database from ./enron_emails.db\n",
            "\n",
            "Loading existing database from ./enron_emails.dbLoading existing database from ./enron_emails.db\n",
            "\n",
            "Loading existing database from ./enron_emails.db\n",
            "Loading existing database from ./enron_emails.db\n",
            "Loading existing database from ./enron_emails.db\n",
            "Loading existing database from ./enron_emails.db\n",
            "Loading existing database from ./enron_emails.db\n",
            "Loading existing database from ./enron_emails.db\n",
            "Loading existing database from ./enron_emails.db\n",
            "Loading existing database from ./enron_emails.db\n",
            "Loading existing database from ./enron_emails.db\n",
            "Loading existing database from ./enron_emails.db\n"
          ]
        },
        {
          "name": "stderr",
          "output_type": "stream",
          "text": []
        },
        {
          "name": "stdout",
          "output_type": "stream",
          "text": [
            "Loading existing database from ./enron_emails.db\n",
            "Loading existing database from ./enron_emails.db\n",
            "Loading existing database from ./enron_emails.db\n",
            "Loading existing database from ./enron_emails.db\n",
            "Loading existing database from ./enron_emails.db\n"
          ]
        },
        {
          "name": "stderr",
          "output_type": "stream",
          "text": []
        },
        {
          "name": "stdout",
          "output_type": "stream",
          "text": [
            "Loading existing database from ./enron_emails.db\n"
          ]
        },
        {
          "name": "stderr",
          "output_type": "stream",
          "text": [
            "gather: 100%|██████████| 8/8 [01:31<00:00, 11.44s/it, reward=0, correct=0.5, completion_tokens=121]\n"
          ]
        },
        {
          "data": {
            "text/html": [
              "<pre style=\"white-space:pre;overflow-x:auto;line-height:normal;font-family:Menlo,'DejaVu Sans Mono',consolas,'Courier New',monospace\">\n",
              "<span style=\"font-weight: bold\">[</span>RULER<span style=\"font-weight: bold\">]</span> Pretty-printed LLM choice JSON:\n",
              "</pre>\n"
            ],
            "text/plain": [
              "\n",
              "\u001b[1m[\u001b[0mRULER\u001b[1m]\u001b[0m Pretty-printed LLM choice JSON:\n"
            ]
          },
          "metadata": {},
          "output_type": "display_data"
        },
        {
          "data": {
            "text/html": [
              "<pre style=\"white-space:pre;overflow-x:auto;line-height:normal;font-family:Menlo,'DejaVu Sans Mono',consolas,'Courier New',monospace\"><span style=\"font-weight: bold\">{</span>\n",
              "    <span style=\"color: #008000; text-decoration-color: #008000\">'scores'</span>: <span style=\"font-weight: bold\">[</span>\n",
              "        <span style=\"font-weight: bold\">{</span>\n",
              "            <span style=\"color: #008000; text-decoration-color: #008000\">'trajectory_id'</span>: <span style=\"color: #008000; text-decoration-color: #008000\">'1'</span>,\n",
              "            <span style=\"color: #008000; text-decoration-color: #008000\">'explanation'</span>: <span style=\"color: #008000; text-decoration-color: #008000\">'Misreads the email and returns the wrong deal number for Bob.'</span>,\n",
              "            <span style=\"color: #008000; text-decoration-color: #008000\">'score'</span>: <span style=\"color: #008080; text-decoration-color: #008080; font-weight: bold\">0.1</span>\n",
              "        <span style=\"font-weight: bold\">}</span>,\n",
              "        <span style=\"font-weight: bold\">{</span>\n",
              "            <span style=\"color: #008000; text-decoration-color: #008000\">'trajectory_id'</span>: <span style=\"color: #008000; text-decoration-color: #008000\">'2'</span>,\n",
              "            <span style=\"color: #008000; text-decoration-color: #008000\">'explanation'</span>: <span style=\"color: #008000; text-decoration-color: #008000\">'Correctly locates and reads the email with the exact deal numbers and details for Bob’s</span>\n",
              "<span style=\"color: #008000; text-decoration-color: #008000\">TFS deals.'</span>,\n",
              "            <span style=\"color: #008000; text-decoration-color: #008000\">'score'</span>: <span style=\"color: #008080; text-decoration-color: #008080; font-weight: bold\">0.9</span>\n",
              "        <span style=\"font-weight: bold\">}</span>,\n",
              "        <span style=\"font-weight: bold\">{</span>\n",
              "            <span style=\"color: #008000; text-decoration-color: #008000\">'trajectory_id'</span>: <span style=\"color: #008000; text-decoration-color: #008000\">'3'</span>,\n",
              "            <span style=\"color: #008000; text-decoration-color: #008000\">'explanation'</span>: <span style=\"color: #008000; text-decoration-color: #008000\">'Makes multiple searches but fails to find the key email with the specific deal details,</span>\n",
              "<span style=\"color: #008000; text-decoration-color: #008000\">so does not answer the question.'</span>,\n",
              "            <span style=\"color: #008000; text-decoration-color: #008000\">'score'</span>: <span style=\"color: #008080; text-decoration-color: #008080; font-weight: bold\">0.25</span>\n",
              "        <span style=\"font-weight: bold\">}</span>,\n",
              "        <span style=\"font-weight: bold\">{</span>\n",
              "            <span style=\"color: #008000; text-decoration-color: #008000\">'trajectory_id'</span>: <span style=\"color: #008000; text-decoration-color: #008000\">'4'</span>,\n",
              "            <span style=\"color: #008000; text-decoration-color: #008000\">'explanation'</span>: <span style=\"color: #008000; text-decoration-color: #008000\">'Finds only the initial note that the deals are entered but never locates the email with</span>\n",
              "<span style=\"color: #008000; text-decoration-color: #008000\">the actual deal details.'</span>,\n",
              "            <span style=\"color: #008000; text-decoration-color: #008000\">'score'</span>: <span style=\"color: #008080; text-decoration-color: #008080; font-weight: bold\">0.15</span>\n",
              "        <span style=\"font-weight: bold\">}</span>\n",
              "    <span style=\"font-weight: bold\">]</span>\n",
              "<span style=\"font-weight: bold\">}</span>\n",
              "</pre>\n"
            ],
            "text/plain": [
              "\u001b[1m{\u001b[0m\n",
              "    \u001b[32m'scores'\u001b[0m: \u001b[1m[\u001b[0m\n",
              "        \u001b[1m{\u001b[0m\n",
              "            \u001b[32m'trajectory_id'\u001b[0m: \u001b[32m'1'\u001b[0m,\n",
              "            \u001b[32m'explanation'\u001b[0m: \u001b[32m'Misreads the email and returns the wrong deal number for Bob.'\u001b[0m,\n",
              "            \u001b[32m'score'\u001b[0m: \u001b[1;36m0.1\u001b[0m\n",
              "        \u001b[1m}\u001b[0m,\n",
              "        \u001b[1m{\u001b[0m\n",
              "            \u001b[32m'trajectory_id'\u001b[0m: \u001b[32m'2'\u001b[0m,\n",
              "            \u001b[32m'explanation'\u001b[0m: \u001b[32m'Correctly locates and reads the email with the exact deal numbers and details for Bob’s\u001b[0m\n",
              "\u001b[32mTFS deals.'\u001b[0m,\n",
              "            \u001b[32m'score'\u001b[0m: \u001b[1;36m0.9\u001b[0m\n",
              "        \u001b[1m}\u001b[0m,\n",
              "        \u001b[1m{\u001b[0m\n",
              "            \u001b[32m'trajectory_id'\u001b[0m: \u001b[32m'3'\u001b[0m,\n",
              "            \u001b[32m'explanation'\u001b[0m: \u001b[32m'Makes multiple searches but fails to find the key email with the specific deal details,\u001b[0m\n",
              "\u001b[32mso does not answer the question.'\u001b[0m,\n",
              "            \u001b[32m'score'\u001b[0m: \u001b[1;36m0.25\u001b[0m\n",
              "        \u001b[1m}\u001b[0m,\n",
              "        \u001b[1m{\u001b[0m\n",
              "            \u001b[32m'trajectory_id'\u001b[0m: \u001b[32m'4'\u001b[0m,\n",
              "            \u001b[32m'explanation'\u001b[0m: \u001b[32m'Finds only the initial note that the deals are entered but never locates the email with\u001b[0m\n",
              "\u001b[32mthe actual deal details.'\u001b[0m,\n",
              "            \u001b[32m'score'\u001b[0m: \u001b[1;36m0.15\u001b[0m\n",
              "        \u001b[1m}\u001b[0m\n",
              "    \u001b[1m]\u001b[0m\n",
              "\u001b[1m}\u001b[0m\n"
            ]
          },
          "metadata": {},
          "output_type": "display_data"
        },
        {
          "data": {
            "text/html": [
              "<pre style=\"white-space:pre;overflow-x:auto;line-height:normal;font-family:Menlo,'DejaVu Sans Mono',consolas,'Courier New',monospace\">\n",
              "<span style=\"font-weight: bold\">[</span>RULER<span style=\"font-weight: bold\">]</span> Pretty-printed LLM choice JSON:\n",
              "</pre>\n"
            ],
            "text/plain": [
              "\n",
              "\u001b[1m[\u001b[0mRULER\u001b[1m]\u001b[0m Pretty-printed LLM choice JSON:\n"
            ]
          },
          "metadata": {},
          "output_type": "display_data"
        },
        {
          "data": {
            "text/html": [
              "<pre style=\"white-space:pre;overflow-x:auto;line-height:normal;font-family:Menlo,'DejaVu Sans Mono',consolas,'Courier New',monospace\"><span style=\"font-weight: bold\">{</span>\n",
              "    <span style=\"color: #008000; text-decoration-color: #008000\">'scores'</span>: <span style=\"font-weight: bold\">[</span>\n",
              "        <span style=\"font-weight: bold\">{</span>\n",
              "            <span style=\"color: #008000; text-decoration-color: #008000\">'trajectory_id'</span>: <span style=\"color: #008000; text-decoration-color: #008000\">'1'</span>,\n",
              "            <span style=\"color: #008000; text-decoration-color: #008000\">'explanation'</span>: <span style=\"color: #008000; text-decoration-color: #008000\">'The agent invoked search and read tools but never provided a final answer or used the </span>\n",
              "<span style=\"color: #008000; text-decoration-color: #008000\">return_final_answer_tool. Task incomplete.'</span>,\n",
              "            <span style=\"color: #008000; text-decoration-color: #008000\">'score'</span>: <span style=\"color: #008080; text-decoration-color: #008080; font-weight: bold\">0.1</span>\n",
              "        <span style=\"font-weight: bold\">}</span>,\n",
              "        <span style=\"font-weight: bold\">{</span>\n",
              "            <span style=\"color: #008000; text-decoration-color: #008000\">'trajectory_id'</span>: <span style=\"color: #008000; text-decoration-color: #008000\">'2'</span>,\n",
              "            <span style=\"color: #008000; text-decoration-color: #008000\">'explanation'</span>: <span style=\"color: #008000; text-decoration-color: #008000\">'Correctly found the relevant email, extracted that Steve Kean is attending, and used </span>\n",
              "<span style=\"color: #008000; text-decoration-color: #008000\">return_final_answer_tool. Efficient and complete.'</span>,\n",
              "            <span style=\"color: #008000; text-decoration-color: #008000\">'score'</span>: <span style=\"color: #008080; text-decoration-color: #008080; font-weight: bold\">1.0</span>\n",
              "        <span style=\"font-weight: bold\">}</span>,\n",
              "        <span style=\"font-weight: bold\">{</span>\n",
              "            <span style=\"color: #008000; text-decoration-color: #008000\">'trajectory_id'</span>: <span style=\"color: #008000; text-decoration-color: #008000\">'3'</span>,\n",
              "            <span style=\"color: #008000; text-decoration-color: #008000\">'explanation'</span>: <span style=\"color: #008000; text-decoration-color: #008000\">'Hallucinated attendees and produced an incorrect answer without using the tools </span>\n",
              "<span style=\"color: #008000; text-decoration-color: #008000\">properly.'</span>,\n",
              "            <span style=\"color: #008000; text-decoration-color: #008000\">'score'</span>: <span style=\"color: #008080; text-decoration-color: #008080; font-weight: bold\">0.0</span>\n",
              "        <span style=\"font-weight: bold\">}</span>,\n",
              "        <span style=\"font-weight: bold\">{</span>\n",
              "            <span style=\"color: #008000; text-decoration-color: #008000\">'trajectory_id'</span>: <span style=\"color: #008000; text-decoration-color: #008000\">'4'</span>,\n",
              "            <span style=\"color: #008000; text-decoration-color: #008000\">'explanation'</span>: <span style=\"color: #008000; text-decoration-color: #008000\">'Arrived at the correct conclusion that Steve Kean is attending, and returned a final </span>\n",
              "<span style=\"color: #008000; text-decoration-color: #008000\">answer, but performed extra, unnecessary searches and added unneeded nuance.'</span>,\n",
              "            <span style=\"color: #008000; text-decoration-color: #008000\">'score'</span>: <span style=\"color: #008080; text-decoration-color: #008080; font-weight: bold\">0.8</span>\n",
              "        <span style=\"font-weight: bold\">}</span>\n",
              "    <span style=\"font-weight: bold\">]</span>\n",
              "<span style=\"font-weight: bold\">}</span>\n",
              "</pre>\n"
            ],
            "text/plain": [
              "\u001b[1m{\u001b[0m\n",
              "    \u001b[32m'scores'\u001b[0m: \u001b[1m[\u001b[0m\n",
              "        \u001b[1m{\u001b[0m\n",
              "            \u001b[32m'trajectory_id'\u001b[0m: \u001b[32m'1'\u001b[0m,\n",
              "            \u001b[32m'explanation'\u001b[0m: \u001b[32m'The agent invoked search and read tools but never provided a final answer or used the \u001b[0m\n",
              "\u001b[32mreturn_final_answer_tool. Task incomplete.'\u001b[0m,\n",
              "            \u001b[32m'score'\u001b[0m: \u001b[1;36m0.1\u001b[0m\n",
              "        \u001b[1m}\u001b[0m,\n",
              "        \u001b[1m{\u001b[0m\n",
              "            \u001b[32m'trajectory_id'\u001b[0m: \u001b[32m'2'\u001b[0m,\n",
              "            \u001b[32m'explanation'\u001b[0m: \u001b[32m'Correctly found the relevant email, extracted that Steve Kean is attending, and used \u001b[0m\n",
              "\u001b[32mreturn_final_answer_tool. Efficient and complete.'\u001b[0m,\n",
              "            \u001b[32m'score'\u001b[0m: \u001b[1;36m1.0\u001b[0m\n",
              "        \u001b[1m}\u001b[0m,\n",
              "        \u001b[1m{\u001b[0m\n",
              "            \u001b[32m'trajectory_id'\u001b[0m: \u001b[32m'3'\u001b[0m,\n",
              "            \u001b[32m'explanation'\u001b[0m: \u001b[32m'Hallucinated attendees and produced an incorrect answer without using the tools \u001b[0m\n",
              "\u001b[32mproperly.'\u001b[0m,\n",
              "            \u001b[32m'score'\u001b[0m: \u001b[1;36m0.0\u001b[0m\n",
              "        \u001b[1m}\u001b[0m,\n",
              "        \u001b[1m{\u001b[0m\n",
              "            \u001b[32m'trajectory_id'\u001b[0m: \u001b[32m'4'\u001b[0m,\n",
              "            \u001b[32m'explanation'\u001b[0m: \u001b[32m'Arrived at the correct conclusion that Steve Kean is attending, and returned a final \u001b[0m\n",
              "\u001b[32manswer, but performed extra, unnecessary searches and added unneeded nuance.'\u001b[0m,\n",
              "            \u001b[32m'score'\u001b[0m: \u001b[1;36m0.8\u001b[0m\n",
              "        \u001b[1m}\u001b[0m\n",
              "    \u001b[1m]\u001b[0m\n",
              "\u001b[1m}\u001b[0m\n"
            ]
          },
          "metadata": {},
          "output_type": "display_data"
        },
        {
          "name": "stdout",
          "output_type": "stream",
          "text": [
            "No \"val/reward\" metric found in history\n",
            "Deleted checkpoint ./.art/email-search-agent-langgraph/models/email-agent-langgraph-001/checkpoints/0016\n",
            "Packed 8 trajectories into 4 sequences of length 4096\n"
          ]
        },
        {
          "name": "stderr",
          "output_type": "stream",
          "text": [
            "train: 100%|██████████| 4/4 [00:24<00:00,  6.12s/it, loss=-0.0458, grad_norm=0.782, policy_loss=-0.0458, entropy=0.263]\n",
            "Iterating dataset:   4%|▎         | 18/500 [36:31<15:51:59, 118.50s/batch]"
          ]
        },
        {
          "name": "stdout",
          "output_type": "stream",
          "text": [
            "Completed training step 17\n",
            "Training step 18, epoch 0, epoch step 18\n",
            "Batch contains 2 scenarios\n",
            "<art.trajectories.TrajectoryGroup.__new__.<locals>.CoroutineWithMetadata object at 0x755c30609cd0>\n"
          ]
        },
        {
          "name": "stderr",
          "output_type": "stream",
          "text": [
            "/tmp/ipykernel_288833/1452329291.py:133: LangGraphDeprecatedSinceV10: create_react_agent has been moved to langchain.agents. Please update your import to 'from langchain.agents import create_agent'. Deprecated in LangGraph V1.0 to be removed in V2.0.\n",
            "  react_agent = create_react_agent(chat_model, tools)\n",
            "/tmp/ipykernel_288833/1452329291.py:133: LangGraphDeprecatedSinceV10: create_react_agent has been moved to langchain.agents. Please update your import to 'from langchain.agents import create_agent'. Deprecated in LangGraph V1.0 to be removed in V2.0.\n",
            "  react_agent = create_react_agent(chat_model, tools)\n",
            "/tmp/ipykernel_288833/1452329291.py:133: LangGraphDeprecatedSinceV10: create_react_agent has been moved to langchain.agents. Please update your import to 'from langchain.agents import create_agent'. Deprecated in LangGraph V1.0 to be removed in V2.0.\n",
            "  react_agent = create_react_agent(chat_model, tools)\n",
            "/tmp/ipykernel_288833/1452329291.py:133: LangGraphDeprecatedSinceV10: create_react_agent has been moved to langchain.agents. Please update your import to 'from langchain.agents import create_agent'. Deprecated in LangGraph V1.0 to be removed in V2.0.\n",
            "  react_agent = create_react_agent(chat_model, tools)\n",
            "/tmp/ipykernel_288833/1452329291.py:133: LangGraphDeprecatedSinceV10: create_react_agent has been moved to langchain.agents. Please update your import to 'from langchain.agents import create_agent'. Deprecated in LangGraph V1.0 to be removed in V2.0.\n",
            "  react_agent = create_react_agent(chat_model, tools)\n",
            "/tmp/ipykernel_288833/1452329291.py:133: LangGraphDeprecatedSinceV10: create_react_agent has been moved to langchain.agents. Please update your import to 'from langchain.agents import create_agent'. Deprecated in LangGraph V1.0 to be removed in V2.0.\n",
            "  react_agent = create_react_agent(chat_model, tools)\n",
            "/tmp/ipykernel_288833/1452329291.py:133: LangGraphDeprecatedSinceV10: create_react_agent has been moved to langchain.agents. Please update your import to 'from langchain.agents import create_agent'. Deprecated in LangGraph V1.0 to be removed in V2.0.\n",
            "  react_agent = create_react_agent(chat_model, tools)\n",
            "/tmp/ipykernel_288833/1452329291.py:133: LangGraphDeprecatedSinceV10: create_react_agent has been moved to langchain.agents. Please update your import to 'from langchain.agents import create_agent'. Deprecated in LangGraph V1.0 to be removed in V2.0.\n",
            "  react_agent = create_react_agent(chat_model, tools)\n"
          ]
        },
        {
          "name": "stdout",
          "output_type": "stream",
          "text": [
            "Loading existing database from ./enron_emails.db\n",
            "Loading existing database from ./enron_emails.db\n",
            "Loading existing database from ./enron_emails.db\n",
            "Loading existing database from ./enron_emails.db\n",
            "Loading existing database from ./enron_emails.db\n",
            "Loading existing database from ./enron_emails.db\n",
            "Loading existing database from ./enron_emails.db\n",
            "Loading existing database from ./enron_emails.db\n",
            "Loading existing database from ./enron_emails.db\n",
            "Loading existing database from ./enron_emails.db\n",
            "Loading existing database from ./enron_emails.db\n",
            "Loading existing database from ./enron_emails.db\n",
            "Loading existing database from ./enron_emails.db\n",
            "Loading existing database from ./enron_emails.db\n",
            "Loading existing database from ./enron_emails.db\n",
            "Loading existing database from ./enron_emails.db\n",
            "Loading existing database from ./enron_emails.db\n",
            "Loading existing database from ./enron_emails.db\n",
            "Loading existing database from ./enron_emails.db\n",
            "Loading existing database from ./enron_emails.db\n",
            "Loading existing database from ./enron_emails.db\n",
            "Loading existing database from ./enron_emails.db\n",
            "Loading existing database from ./enron_emails.db\n",
            "Loading existing database from ./enron_emails.dbLoading existing database from ./enron_emails.db\n",
            "\n",
            "Loading existing database from ./enron_emails.db\n",
            "Loading existing database from ./enron_emails.db\n",
            "Loading existing database from ./enron_emails.db\n",
            "Loading existing database from ./enron_emails.db\n",
            "Loading existing database from ./enron_emails.db\n",
            "Loading existing database from ./enron_emails.db\n",
            "Loading existing database from ./enron_emails.db\n",
            "Loading existing database from ./enron_emails.db\n",
            "Loading existing database from ./enron_emails.db\n",
            "Loading existing database from ./enron_emails.db\n",
            "Loading existing database from ./enron_emails.db\n",
            "Loading existing database from ./enron_emails.db\n",
            "Loading existing database from ./enron_emails.db\n",
            "Loading existing database from ./enron_emails.db\n",
            "Loading existing database from ./enron_emails.db\n",
            "Loading existing database from ./enron_emails.db\n",
            "Loading existing database from ./enron_emails.db\n",
            "Loading existing database from ./enron_emails.db\n",
            "Loading existing database from ./enron_emails.db\n",
            "Loading existing database from ./enron_emails.db\n",
            "Loading existing database from ./enron_emails.db\n"
          ]
        },
        {
          "name": "stderr",
          "output_type": "stream",
          "text": []
        },
        {
          "name": "stdout",
          "output_type": "stream",
          "text": [
            "Loading existing database from ./enron_emails.db\n",
            "Loading existing database from ./enron_emails.db\n",
            "Loading existing database from ./enron_emails.db\n",
            "Loading existing database from ./enron_emails.db\n",
            "Loading existing database from ./enron_emails.db\n",
            "Loading existing database from ./enron_emails.db\n",
            "Loading existing database from ./enron_emails.db\n",
            "Loading existing database from ./enron_emails.db\n",
            "Loading existing database from ./enron_emails.db\n"
          ]
        },
        {
          "name": "stderr",
          "output_type": "stream",
          "text": []
        },
        {
          "name": "stdout",
          "output_type": "stream",
          "text": [
            "Loading existing database from ./enron_emails.db\n"
          ]
        },
        {
          "name": "stderr",
          "output_type": "stream",
          "text": []
        },
        {
          "name": "stdout",
          "output_type": "stream",
          "text": [
            "Loading existing database from ./enron_emails.db\n",
            "Loading existing database from ./enron_emails.db\n"
          ]
        },
        {
          "name": "stderr",
          "output_type": "stream",
          "text": []
        },
        {
          "name": "stdout",
          "output_type": "stream",
          "text": [
            "Loading existing database from ./enron_emails.db\n"
          ]
        },
        {
          "name": "stderr",
          "output_type": "stream",
          "text": [
            "gather: 100%|██████████| 8/8 [01:06<00:00,  8.27s/it, reward=0, correct=1, completion_tokens=45.8]\n"
          ]
        },
        {
          "data": {
            "text/html": [
              "<pre style=\"white-space:pre;overflow-x:auto;line-height:normal;font-family:Menlo,'DejaVu Sans Mono',consolas,'Courier New',monospace\">\n",
              "<span style=\"font-weight: bold\">[</span>RULER<span style=\"font-weight: bold\">]</span> Pretty-printed LLM choice JSON:\n",
              "</pre>\n"
            ],
            "text/plain": [
              "\n",
              "\u001b[1m[\u001b[0mRULER\u001b[1m]\u001b[0m Pretty-printed LLM choice JSON:\n"
            ]
          },
          "metadata": {},
          "output_type": "display_data"
        },
        {
          "data": {
            "text/html": [
              "<pre style=\"white-space:pre;overflow-x:auto;line-height:normal;font-family:Menlo,'DejaVu Sans Mono',consolas,'Courier New',monospace\"><span style=\"font-weight: bold\">{</span>\n",
              "    <span style=\"color: #008000; text-decoration-color: #008000\">'scores'</span>: <span style=\"font-weight: bold\">[</span>\n",
              "        <span style=\"font-weight: bold\">{</span>\n",
              "            <span style=\"color: #008000; text-decoration-color: #008000\">'trajectory_id'</span>: <span style=\"color: #008000; text-decoration-color: #008000\">'1'</span>,\n",
              "            <span style=\"color: #008000; text-decoration-color: #008000\">'explanation'</span>: <span style=\"color: #008000; text-decoration-color: #008000\">'Repeated keyword searches without any reading or progression toward a final answer. Did</span>\n",
              "<span style=\"color: #008000; text-decoration-color: #008000\">not retrieve or present any relevant content.'</span>,\n",
              "            <span style=\"color: #008000; text-decoration-color: #008000\">'score'</span>: <span style=\"color: #008080; text-decoration-color: #008080; font-weight: bold\">0.0</span>\n",
              "        <span style=\"font-weight: bold\">}</span>,\n",
              "        <span style=\"font-weight: bold\">{</span>\n",
              "            <span style=\"color: #008000; text-decoration-color: #008000\">'trajectory_id'</span>: <span style=\"color: #008000; text-decoration-color: #008000\">'2'</span>,\n",
              "            <span style=\"color: #008000; text-decoration-color: #008000\">'explanation'</span>: <span style=\"color: #008000; text-decoration-color: #008000\">'Performed multiple searches and even attempted to read an email, but used incorrect </span>\n",
              "<span style=\"color: #008000; text-decoration-color: #008000\">keywords (EWS instead of EBS) and never presented a final answer.'</span>,\n",
              "            <span style=\"color: #008000; text-decoration-color: #008000\">'score'</span>: <span style=\"color: #008080; text-decoration-color: #008080; font-weight: bold\">0.2</span>\n",
              "        <span style=\"font-weight: bold\">}</span>,\n",
              "        <span style=\"font-weight: bold\">{</span>\n",
              "            <span style=\"color: #008000; text-decoration-color: #008000\">'trajectory_id'</span>: <span style=\"color: #008000; text-decoration-color: #008000\">'3'</span>,\n",
              "            <span style=\"color: #008000; text-decoration-color: #008000\">'explanation'</span>: <span style=\"color: #008000; text-decoration-color: #008000\">'Excessively repeated the same search without variation or progress and never attempted </span>\n",
              "<span style=\"color: #008000; text-decoration-color: #008000\">to read any messages or provide a final answer.'</span>,\n",
              "            <span style=\"color: #008000; text-decoration-color: #008000\">'score'</span>: <span style=\"color: #008080; text-decoration-color: #008080; font-weight: bold\">0.05</span>\n",
              "        <span style=\"font-weight: bold\">}</span>,\n",
              "        <span style=\"font-weight: bold\">{</span>\n",
              "            <span style=\"color: #008000; text-decoration-color: #008000\">'trajectory_id'</span>: <span style=\"color: #008000; text-decoration-color: #008000\">'4'</span>,\n",
              "            <span style=\"color: #008000; text-decoration-color: #008000\">'explanation'</span>: <span style=\"color: #008000; text-decoration-color: #008000\">'Systematically broadened searches, attempted to read a message, and explored synonyms, </span>\n",
              "<span style=\"color: #008000; text-decoration-color: #008000\">but still failed to locate or present the requested list.'</span>,\n",
              "            <span style=\"color: #008000; text-decoration-color: #008000\">'score'</span>: <span style=\"color: #008080; text-decoration-color: #008080; font-weight: bold\">0.3</span>\n",
              "        <span style=\"font-weight: bold\">}</span>\n",
              "    <span style=\"font-weight: bold\">]</span>\n",
              "<span style=\"font-weight: bold\">}</span>\n",
              "</pre>\n"
            ],
            "text/plain": [
              "\u001b[1m{\u001b[0m\n",
              "    \u001b[32m'scores'\u001b[0m: \u001b[1m[\u001b[0m\n",
              "        \u001b[1m{\u001b[0m\n",
              "            \u001b[32m'trajectory_id'\u001b[0m: \u001b[32m'1'\u001b[0m,\n",
              "            \u001b[32m'explanation'\u001b[0m: \u001b[32m'Repeated keyword searches without any reading or progression toward a final answer. Did\u001b[0m\n",
              "\u001b[32mnot retrieve or present any relevant content.'\u001b[0m,\n",
              "            \u001b[32m'score'\u001b[0m: \u001b[1;36m0.0\u001b[0m\n",
              "        \u001b[1m}\u001b[0m,\n",
              "        \u001b[1m{\u001b[0m\n",
              "            \u001b[32m'trajectory_id'\u001b[0m: \u001b[32m'2'\u001b[0m,\n",
              "            \u001b[32m'explanation'\u001b[0m: \u001b[32m'Performed multiple searches and even attempted to read an email, but used incorrect \u001b[0m\n",
              "\u001b[32mkeywords \u001b[0m\u001b[32m(\u001b[0m\u001b[32mEWS instead of EBS\u001b[0m\u001b[32m)\u001b[0m\u001b[32m and never presented a final answer.'\u001b[0m,\n",
              "            \u001b[32m'score'\u001b[0m: \u001b[1;36m0.2\u001b[0m\n",
              "        \u001b[1m}\u001b[0m,\n",
              "        \u001b[1m{\u001b[0m\n",
              "            \u001b[32m'trajectory_id'\u001b[0m: \u001b[32m'3'\u001b[0m,\n",
              "            \u001b[32m'explanation'\u001b[0m: \u001b[32m'Excessively repeated the same search without variation or progress and never attempted \u001b[0m\n",
              "\u001b[32mto read any messages or provide a final answer.'\u001b[0m,\n",
              "            \u001b[32m'score'\u001b[0m: \u001b[1;36m0.05\u001b[0m\n",
              "        \u001b[1m}\u001b[0m,\n",
              "        \u001b[1m{\u001b[0m\n",
              "            \u001b[32m'trajectory_id'\u001b[0m: \u001b[32m'4'\u001b[0m,\n",
              "            \u001b[32m'explanation'\u001b[0m: \u001b[32m'Systematically broadened searches, attempted to read a message, and explored synonyms, \u001b[0m\n",
              "\u001b[32mbut still failed to locate or present the requested list.'\u001b[0m,\n",
              "            \u001b[32m'score'\u001b[0m: \u001b[1;36m0.3\u001b[0m\n",
              "        \u001b[1m}\u001b[0m\n",
              "    \u001b[1m]\u001b[0m\n",
              "\u001b[1m}\u001b[0m\n"
            ]
          },
          "metadata": {},
          "output_type": "display_data"
        },
        {
          "data": {
            "text/html": [
              "<pre style=\"white-space:pre;overflow-x:auto;line-height:normal;font-family:Menlo,'DejaVu Sans Mono',consolas,'Courier New',monospace\">\n",
              "<span style=\"font-weight: bold\">[</span>RULER<span style=\"font-weight: bold\">]</span> Pretty-printed LLM choice JSON:\n",
              "</pre>\n"
            ],
            "text/plain": [
              "\n",
              "\u001b[1m[\u001b[0mRULER\u001b[1m]\u001b[0m Pretty-printed LLM choice JSON:\n"
            ]
          },
          "metadata": {},
          "output_type": "display_data"
        },
        {
          "data": {
            "text/html": [
              "<pre style=\"white-space:pre;overflow-x:auto;line-height:normal;font-family:Menlo,'DejaVu Sans Mono',consolas,'Courier New',monospace\"><span style=\"font-weight: bold\">{</span>\n",
              "    <span style=\"color: #008000; text-decoration-color: #008000\">'scores'</span>: <span style=\"font-weight: bold\">[</span>\n",
              "        <span style=\"font-weight: bold\">{</span>\n",
              "            <span style=\"color: #008000; text-decoration-color: #008000\">'trajectory_id'</span>: <span style=\"color: #008000; text-decoration-color: #008000\">'1'</span>,\n",
              "            <span style=\"color: #008000; text-decoration-color: #008000\">'explanation'</span>: <span style=\"color: #008000; text-decoration-color: #008000\">'Correctly finds and reports the three-year recovery proposal, with minimal unnecessary </span>\n",
              "<span style=\"color: #008000; text-decoration-color: #008000\">steps.'</span>,\n",
              "            <span style=\"color: #008000; text-decoration-color: #008000\">'score'</span>: <span style=\"color: #008080; text-decoration-color: #008080; font-weight: bold\">0.8</span>\n",
              "        <span style=\"font-weight: bold\">}</span>,\n",
              "        <span style=\"font-weight: bold\">{</span>\n",
              "            <span style=\"color: #008000; text-decoration-color: #008000\">'trajectory_id'</span>: <span style=\"color: #008000; text-decoration-color: #008000\">'2'</span>,\n",
              "            <span style=\"color: #008000; text-decoration-color: #008000\">'explanation'</span>: <span style=\"color: #008000; text-decoration-color: #008000\">'Never finds any relevant email or provides an answer, repeating empty searches.'</span>,\n",
              "            <span style=\"color: #008000; text-decoration-color: #008000\">'score'</span>: <span style=\"color: #008080; text-decoration-color: #008080; font-weight: bold\">0.0</span>\n",
              "        <span style=\"font-weight: bold\">}</span>,\n",
              "        <span style=\"font-weight: bold\">{</span>\n",
              "            <span style=\"color: #008000; text-decoration-color: #008000\">'trajectory_id'</span>: <span style=\"color: #008000; text-decoration-color: #008000\">'3'</span>,\n",
              "            <span style=\"color: #008000; text-decoration-color: #008000\">'explanation'</span>: <span style=\"color: #008000; text-decoration-color: #008000\">'Also loops through searches without retrieving or reporting any information.'</span>,\n",
              "            <span style=\"color: #008000; text-decoration-color: #008000\">'score'</span>: <span style=\"color: #008080; text-decoration-color: #008080; font-weight: bold\">0.0</span>\n",
              "        <span style=\"font-weight: bold\">}</span>,\n",
              "        <span style=\"font-weight: bold\">{</span>\n",
              "            <span style=\"color: #008000; text-decoration-color: #008000\">'trajectory_id'</span>: <span style=\"color: #008000; text-decoration-color: #008000\">'4'</span>,\n",
              "            <span style=\"color: #008000; text-decoration-color: #008000\">'explanation'</span>: <span style=\"color: #008000; text-decoration-color: #008000\">'Efficiently uses a targeted search, reads the relevant email, and returns the final </span>\n",
              "<span style=\"color: #008000; text-decoration-color: #008000\">answer cleanly.'</span>,\n",
              "            <span style=\"color: #008000; text-decoration-color: #008000\">'score'</span>: <span style=\"color: #008080; text-decoration-color: #008080; font-weight: bold\">0.9</span>\n",
              "        <span style=\"font-weight: bold\">}</span>\n",
              "    <span style=\"font-weight: bold\">]</span>\n",
              "<span style=\"font-weight: bold\">}</span>\n",
              "</pre>\n"
            ],
            "text/plain": [
              "\u001b[1m{\u001b[0m\n",
              "    \u001b[32m'scores'\u001b[0m: \u001b[1m[\u001b[0m\n",
              "        \u001b[1m{\u001b[0m\n",
              "            \u001b[32m'trajectory_id'\u001b[0m: \u001b[32m'1'\u001b[0m,\n",
              "            \u001b[32m'explanation'\u001b[0m: \u001b[32m'Correctly finds and reports the three-year recovery proposal, with minimal unnecessary \u001b[0m\n",
              "\u001b[32msteps.'\u001b[0m,\n",
              "            \u001b[32m'score'\u001b[0m: \u001b[1;36m0.8\u001b[0m\n",
              "        \u001b[1m}\u001b[0m,\n",
              "        \u001b[1m{\u001b[0m\n",
              "            \u001b[32m'trajectory_id'\u001b[0m: \u001b[32m'2'\u001b[0m,\n",
              "            \u001b[32m'explanation'\u001b[0m: \u001b[32m'Never finds any relevant email or provides an answer, repeating empty searches.'\u001b[0m,\n",
              "            \u001b[32m'score'\u001b[0m: \u001b[1;36m0.0\u001b[0m\n",
              "        \u001b[1m}\u001b[0m,\n",
              "        \u001b[1m{\u001b[0m\n",
              "            \u001b[32m'trajectory_id'\u001b[0m: \u001b[32m'3'\u001b[0m,\n",
              "            \u001b[32m'explanation'\u001b[0m: \u001b[32m'Also loops through searches without retrieving or reporting any information.'\u001b[0m,\n",
              "            \u001b[32m'score'\u001b[0m: \u001b[1;36m0.0\u001b[0m\n",
              "        \u001b[1m}\u001b[0m,\n",
              "        \u001b[1m{\u001b[0m\n",
              "            \u001b[32m'trajectory_id'\u001b[0m: \u001b[32m'4'\u001b[0m,\n",
              "            \u001b[32m'explanation'\u001b[0m: \u001b[32m'Efficiently uses a targeted search, reads the relevant email, and returns the final \u001b[0m\n",
              "\u001b[32manswer cleanly.'\u001b[0m,\n",
              "            \u001b[32m'score'\u001b[0m: \u001b[1;36m0.9\u001b[0m\n",
              "        \u001b[1m}\u001b[0m\n",
              "    \u001b[1m]\u001b[0m\n",
              "\u001b[1m}\u001b[0m\n"
            ]
          },
          "metadata": {},
          "output_type": "display_data"
        },
        {
          "name": "stdout",
          "output_type": "stream",
          "text": [
            "No \"val/reward\" metric found in history\n",
            "Deleted checkpoint ./.art/email-search-agent-langgraph/models/email-agent-langgraph-001/checkpoints/0017\n",
            "Packed 8 trajectories into 5 sequences of length 2048\n"
          ]
        },
        {
          "name": "stderr",
          "output_type": "stream",
          "text": [
            "train: 100%|██████████| 5/5 [00:18<00:00,  3.72s/it, loss=0.975, grad_norm=0.297, policy_loss=0.975, entropy=0.102]\n",
            "Iterating dataset:   4%|▍         | 19/500 [38:15<15:15:15, 114.17s/batch]"
          ]
        },
        {
          "name": "stdout",
          "output_type": "stream",
          "text": [
            "Completed training step 18\n",
            "Training step 19, epoch 0, epoch step 19\n",
            "Batch contains 2 scenarios\n",
            "<art.trajectories.TrajectoryGroup.__new__.<locals>.CoroutineWithMetadata object at 0x755c2e0984d0>\n"
          ]
        },
        {
          "name": "stderr",
          "output_type": "stream",
          "text": [
            "/tmp/ipykernel_288833/1452329291.py:133: LangGraphDeprecatedSinceV10: create_react_agent has been moved to langchain.agents. Please update your import to 'from langchain.agents import create_agent'. Deprecated in LangGraph V1.0 to be removed in V2.0.\n",
            "  react_agent = create_react_agent(chat_model, tools)\n",
            "/tmp/ipykernel_288833/1452329291.py:133: LangGraphDeprecatedSinceV10: create_react_agent has been moved to langchain.agents. Please update your import to 'from langchain.agents import create_agent'. Deprecated in LangGraph V1.0 to be removed in V2.0.\n",
            "  react_agent = create_react_agent(chat_model, tools)\n",
            "/tmp/ipykernel_288833/1452329291.py:133: LangGraphDeprecatedSinceV10: create_react_agent has been moved to langchain.agents. Please update your import to 'from langchain.agents import create_agent'. Deprecated in LangGraph V1.0 to be removed in V2.0.\n",
            "  react_agent = create_react_agent(chat_model, tools)\n",
            "/tmp/ipykernel_288833/1452329291.py:133: LangGraphDeprecatedSinceV10: create_react_agent has been moved to langchain.agents. Please update your import to 'from langchain.agents import create_agent'. Deprecated in LangGraph V1.0 to be removed in V2.0.\n",
            "  react_agent = create_react_agent(chat_model, tools)\n",
            "/tmp/ipykernel_288833/1452329291.py:133: LangGraphDeprecatedSinceV10: create_react_agent has been moved to langchain.agents. Please update your import to 'from langchain.agents import create_agent'. Deprecated in LangGraph V1.0 to be removed in V2.0.\n",
            "  react_agent = create_react_agent(chat_model, tools)\n",
            "/tmp/ipykernel_288833/1452329291.py:133: LangGraphDeprecatedSinceV10: create_react_agent has been moved to langchain.agents. Please update your import to 'from langchain.agents import create_agent'. Deprecated in LangGraph V1.0 to be removed in V2.0.\n",
            "  react_agent = create_react_agent(chat_model, tools)\n",
            "/tmp/ipykernel_288833/1452329291.py:133: LangGraphDeprecatedSinceV10: create_react_agent has been moved to langchain.agents. Please update your import to 'from langchain.agents import create_agent'. Deprecated in LangGraph V1.0 to be removed in V2.0.\n",
            "  react_agent = create_react_agent(chat_model, tools)\n",
            "/tmp/ipykernel_288833/1452329291.py:133: LangGraphDeprecatedSinceV10: create_react_agent has been moved to langchain.agents. Please update your import to 'from langchain.agents import create_agent'. Deprecated in LangGraph V1.0 to be removed in V2.0.\n",
            "  react_agent = create_react_agent(chat_model, tools)\n"
          ]
        },
        {
          "name": "stdout",
          "output_type": "stream",
          "text": [
            "Loading existing database from ./enron_emails.db\n",
            "Loading existing database from ./enron_emails.db\n",
            "Loading existing database from ./enron_emails.db\n",
            "Loading existing database from ./enron_emails.db\n",
            "Loading existing database from ./enron_emails.db\n",
            "Loading existing database from ./enron_emails.db\n",
            "Loading existing database from ./enron_emails.db\n",
            "Loading existing database from ./enron_emails.db\n",
            "Loading existing database from ./enron_emails.db\n",
            "Loading existing database from ./enron_emails.db\n",
            "Loading existing database from ./enron_emails.db\n",
            "Loading existing database from ./enron_emails.db\n",
            "Loading existing database from ./enron_emails.db\n",
            "Loading existing database from ./enron_emails.db\n",
            "Loading existing database from ./enron_emails.db\n",
            "Loading existing database from ./enron_emails.db\n",
            "Loading existing database from ./enron_emails.db\n",
            "Loading existing database from ./enron_emails.db\n",
            "Loading existing database from ./enron_emails.dbLoading existing database from ./enron_emails.db\n",
            "\n",
            "Loading existing database from ./enron_emails.db\n",
            "Loading existing database from ./enron_emails.dbLoading existing database from ./enron_emails.db\n",
            "Loading existing database from ./enron_emails.db\n",
            "\n",
            "Loading existing database from ./enron_emails.db\n",
            "Loading existing database from ./enron_emails.db\n",
            "Loading existing database from ./enron_emails.db\n",
            "Loading existing database from ./enron_emails.db\n",
            "Loading existing database from ./enron_emails.db\n"
          ]
        },
        {
          "name": "stderr",
          "output_type": "stream",
          "text": []
        },
        {
          "name": "stdout",
          "output_type": "stream",
          "text": [
            "Loading existing database from ./enron_emails.db\n",
            "Loading existing database from ./enron_emails.db\n"
          ]
        },
        {
          "name": "stderr",
          "output_type": "stream",
          "text": []
        },
        {
          "name": "stdout",
          "output_type": "stream",
          "text": [
            "Loading existing database from ./enron_emails.db\n"
          ]
        },
        {
          "name": "stderr",
          "output_type": "stream",
          "text": []
        },
        {
          "name": "stdout",
          "output_type": "stream",
          "text": [
            "Loading existing database from ./enron_emails.db\n",
            "Loading existing database from ./enron_emails.db\n",
            "Loading existing database from ./enron_emails.db\n",
            "Loading existing database from ./enron_emails.db\n",
            "Loading existing database from ./enron_emails.db\n",
            "Loading existing database from ./enron_emails.db\n",
            "Loading existing database from ./enron_emails.db\n",
            "Loading existing database from ./enron_emails.db\n",
            "Loading existing database from ./enron_emails.db\n"
          ]
        },
        {
          "name": "stderr",
          "output_type": "stream",
          "text": [
            "gather: 100%|██████████| 8/8 [01:06<00:00,  8.28s/it, reward=0, correct=1, completion_tokens=55.2]\n"
          ]
        },
        {
          "data": {
            "text/html": [
              "<pre style=\"white-space:pre;overflow-x:auto;line-height:normal;font-family:Menlo,'DejaVu Sans Mono',consolas,'Courier New',monospace\">\n",
              "<span style=\"font-weight: bold\">[</span>RULER<span style=\"font-weight: bold\">]</span> Pretty-printed LLM choice JSON:\n",
              "</pre>\n"
            ],
            "text/plain": [
              "\n",
              "\u001b[1m[\u001b[0mRULER\u001b[1m]\u001b[0m Pretty-printed LLM choice JSON:\n"
            ]
          },
          "metadata": {},
          "output_type": "display_data"
        },
        {
          "data": {
            "text/html": [
              "<pre style=\"white-space:pre;overflow-x:auto;line-height:normal;font-family:Menlo,'DejaVu Sans Mono',consolas,'Courier New',monospace\"><span style=\"font-weight: bold\">{</span>\n",
              "    <span style=\"color: #008000; text-decoration-color: #008000\">'scores'</span>: <span style=\"font-weight: bold\">[</span>\n",
              "        <span style=\"font-weight: bold\">{</span>\n",
              "            <span style=\"color: #008000; text-decoration-color: #008000\">'trajectory_id'</span>: <span style=\"color: #008000; text-decoration-color: #008000\">'1'</span>,\n",
              "            <span style=\"color: #008000; text-decoration-color: #008000\">'explanation'</span>: <span style=\"color: #008000; text-decoration-color: #008000\">'Correctly finds and returns the meeting date and location efficiently.'</span>,\n",
              "            <span style=\"color: #008000; text-decoration-color: #008000\">'score'</span>: <span style=\"color: #008080; text-decoration-color: #008080; font-weight: bold\">0.9</span>\n",
              "        <span style=\"font-weight: bold\">}</span>,\n",
              "        <span style=\"font-weight: bold\">{</span>\n",
              "            <span style=\"color: #008000; text-decoration-color: #008000\">'trajectory_id'</span>: <span style=\"color: #008000; text-decoration-color: #008000\">'2'</span>,\n",
              "            <span style=\"color: #008000; text-decoration-color: #008000\">'explanation'</span>: <span style=\"color: #008000; text-decoration-color: #008000\">'Also correctly finds and returns the meeting date and location with similar efficiency </span>\n",
              "<span style=\"color: #008000; text-decoration-color: #008000\">to trajectory 1.'</span>,\n",
              "            <span style=\"color: #008000; text-decoration-color: #008000\">'score'</span>: <span style=\"color: #008080; text-decoration-color: #008080; font-weight: bold\">0.9</span>\n",
              "        <span style=\"font-weight: bold\">}</span>,\n",
              "        <span style=\"font-weight: bold\">{</span>\n",
              "            <span style=\"color: #008000; text-decoration-color: #008000\">'trajectory_id'</span>: <span style=\"color: #008000; text-decoration-color: #008000\">'3'</span>,\n",
              "            <span style=\"color: #008000; text-decoration-color: #008000\">'explanation'</span>: <span style=\"color: #008000; text-decoration-color: #008000\">'Correctly finds and returns the meeting date and location, adding the year for extra </span>\n",
              "<span style=\"color: #008000; text-decoration-color: #008000\">precision.'</span>,\n",
              "            <span style=\"color: #008000; text-decoration-color: #008000\">'score'</span>: <span style=\"color: #008080; text-decoration-color: #008080; font-weight: bold\">0.95</span>\n",
              "        <span style=\"font-weight: bold\">}</span>,\n",
              "        <span style=\"font-weight: bold\">{</span>\n",
              "            <span style=\"color: #008000; text-decoration-color: #008000\">'trajectory_id'</span>: <span style=\"color: #008000; text-decoration-color: #008000\">'4'</span>,\n",
              "            <span style=\"color: #008000; text-decoration-color: #008000\">'explanation'</span>: <span style=\"color: #008000; text-decoration-color: #008000\">'Fails to retrieve any relevant information or provide an answer.'</span>,\n",
              "            <span style=\"color: #008000; text-decoration-color: #008000\">'score'</span>: <span style=\"color: #008080; text-decoration-color: #008080; font-weight: bold\">0.0</span>\n",
              "        <span style=\"font-weight: bold\">}</span>\n",
              "    <span style=\"font-weight: bold\">]</span>\n",
              "<span style=\"font-weight: bold\">}</span>\n",
              "</pre>\n"
            ],
            "text/plain": [
              "\u001b[1m{\u001b[0m\n",
              "    \u001b[32m'scores'\u001b[0m: \u001b[1m[\u001b[0m\n",
              "        \u001b[1m{\u001b[0m\n",
              "            \u001b[32m'trajectory_id'\u001b[0m: \u001b[32m'1'\u001b[0m,\n",
              "            \u001b[32m'explanation'\u001b[0m: \u001b[32m'Correctly finds and returns the meeting date and location efficiently.'\u001b[0m,\n",
              "            \u001b[32m'score'\u001b[0m: \u001b[1;36m0.9\u001b[0m\n",
              "        \u001b[1m}\u001b[0m,\n",
              "        \u001b[1m{\u001b[0m\n",
              "            \u001b[32m'trajectory_id'\u001b[0m: \u001b[32m'2'\u001b[0m,\n",
              "            \u001b[32m'explanation'\u001b[0m: \u001b[32m'Also correctly finds and returns the meeting date and location with similar efficiency \u001b[0m\n",
              "\u001b[32mto trajectory 1.'\u001b[0m,\n",
              "            \u001b[32m'score'\u001b[0m: \u001b[1;36m0.9\u001b[0m\n",
              "        \u001b[1m}\u001b[0m,\n",
              "        \u001b[1m{\u001b[0m\n",
              "            \u001b[32m'trajectory_id'\u001b[0m: \u001b[32m'3'\u001b[0m,\n",
              "            \u001b[32m'explanation'\u001b[0m: \u001b[32m'Correctly finds and returns the meeting date and location, adding the year for extra \u001b[0m\n",
              "\u001b[32mprecision.'\u001b[0m,\n",
              "            \u001b[32m'score'\u001b[0m: \u001b[1;36m0.95\u001b[0m\n",
              "        \u001b[1m}\u001b[0m,\n",
              "        \u001b[1m{\u001b[0m\n",
              "            \u001b[32m'trajectory_id'\u001b[0m: \u001b[32m'4'\u001b[0m,\n",
              "            \u001b[32m'explanation'\u001b[0m: \u001b[32m'Fails to retrieve any relevant information or provide an answer.'\u001b[0m,\n",
              "            \u001b[32m'score'\u001b[0m: \u001b[1;36m0.0\u001b[0m\n",
              "        \u001b[1m}\u001b[0m\n",
              "    \u001b[1m]\u001b[0m\n",
              "\u001b[1m}\u001b[0m\n"
            ]
          },
          "metadata": {},
          "output_type": "display_data"
        },
        {
          "data": {
            "text/html": [
              "<pre style=\"white-space:pre;overflow-x:auto;line-height:normal;font-family:Menlo,'DejaVu Sans Mono',consolas,'Courier New',monospace\">\n",
              "<span style=\"font-weight: bold\">[</span>RULER<span style=\"font-weight: bold\">]</span> Pretty-printed LLM choice JSON:\n",
              "</pre>\n"
            ],
            "text/plain": [
              "\n",
              "\u001b[1m[\u001b[0mRULER\u001b[1m]\u001b[0m Pretty-printed LLM choice JSON:\n"
            ]
          },
          "metadata": {},
          "output_type": "display_data"
        },
        {
          "data": {
            "text/html": [
              "<pre style=\"white-space:pre;overflow-x:auto;line-height:normal;font-family:Menlo,'DejaVu Sans Mono',consolas,'Courier New',monospace\"><span style=\"font-weight: bold\">{</span>\n",
              "    <span style=\"color: #008000; text-decoration-color: #008000\">'scores'</span>: <span style=\"font-weight: bold\">[</span>\n",
              "        <span style=\"font-weight: bold\">{</span>\n",
              "            <span style=\"color: #008000; text-decoration-color: #008000\">'trajectory_id'</span>: <span style=\"color: #008000; text-decoration-color: #008000\">'1'</span>,\n",
              "            <span style=\"color: #008000; text-decoration-color: #008000\">'explanation'</span>: <span style=\"color: #008000; text-decoration-color: #008000\">'Accurately searched, retrieved, and read the relevant email, then returned the correct </span>\n",
              "<span style=\"color: #008000; text-decoration-color: #008000\">dates with source.'</span>,\n",
              "            <span style=\"color: #008000; text-decoration-color: #008000\">'score'</span>: <span style=\"color: #008080; text-decoration-color: #008080; font-weight: bold\">0.95</span>\n",
              "        <span style=\"font-weight: bold\">}</span>,\n",
              "        <span style=\"font-weight: bold\">{</span>\n",
              "            <span style=\"color: #008000; text-decoration-color: #008000\">'trajectory_id'</span>: <span style=\"color: #008000; text-decoration-color: #008000\">'2'</span>,\n",
              "            <span style=\"color: #008000; text-decoration-color: #008000\">'explanation'</span>: <span style=\"color: #008000; text-decoration-color: #008000\">'Repeated searches without finding or reading any email and never provided an answer.'</span>,\n",
              "            <span style=\"color: #008000; text-decoration-color: #008000\">'score'</span>: <span style=\"color: #008080; text-decoration-color: #008080; font-weight: bold\">0.0</span>\n",
              "        <span style=\"font-weight: bold\">}</span>,\n",
              "        <span style=\"font-weight: bold\">{</span>\n",
              "            <span style=\"color: #008000; text-decoration-color: #008000\">'trajectory_id'</span>: <span style=\"color: #008000; text-decoration-color: #008000\">'3'</span>,\n",
              "            <span style=\"color: #008000; text-decoration-color: #008000\">'explanation'</span>: <span style=\"color: #008000; text-decoration-color: #008000\">'Stuck in repeated search calls without retrieving or returning any information.'</span>,\n",
              "            <span style=\"color: #008000; text-decoration-color: #008000\">'score'</span>: <span style=\"color: #008080; text-decoration-color: #008080; font-weight: bold\">0.0</span>\n",
              "        <span style=\"font-weight: bold\">}</span>,\n",
              "        <span style=\"font-weight: bold\">{</span>\n",
              "            <span style=\"color: #008000; text-decoration-color: #008000\">'trajectory_id'</span>: <span style=\"color: #008000; text-decoration-color: #008000\">'4'</span>,\n",
              "            <span style=\"color: #008000; text-decoration-color: #008000\">'explanation'</span>: <span style=\"color: #008000; text-decoration-color: #008000\">'Constructed pseudo-code instead of executing tool calls and failed to return a valid </span>\n",
              "<span style=\"color: #008000; text-decoration-color: #008000\">answer.'</span>,\n",
              "            <span style=\"color: #008000; text-decoration-color: #008000\">'score'</span>: <span style=\"color: #008080; text-decoration-color: #008080; font-weight: bold\">0.0</span>\n",
              "        <span style=\"font-weight: bold\">}</span>\n",
              "    <span style=\"font-weight: bold\">]</span>\n",
              "<span style=\"font-weight: bold\">}</span>\n",
              "</pre>\n"
            ],
            "text/plain": [
              "\u001b[1m{\u001b[0m\n",
              "    \u001b[32m'scores'\u001b[0m: \u001b[1m[\u001b[0m\n",
              "        \u001b[1m{\u001b[0m\n",
              "            \u001b[32m'trajectory_id'\u001b[0m: \u001b[32m'1'\u001b[0m,\n",
              "            \u001b[32m'explanation'\u001b[0m: \u001b[32m'Accurately searched, retrieved, and read the relevant email, then returned the correct \u001b[0m\n",
              "\u001b[32mdates with source.'\u001b[0m,\n",
              "            \u001b[32m'score'\u001b[0m: \u001b[1;36m0.95\u001b[0m\n",
              "        \u001b[1m}\u001b[0m,\n",
              "        \u001b[1m{\u001b[0m\n",
              "            \u001b[32m'trajectory_id'\u001b[0m: \u001b[32m'2'\u001b[0m,\n",
              "            \u001b[32m'explanation'\u001b[0m: \u001b[32m'Repeated searches without finding or reading any email and never provided an answer.'\u001b[0m,\n",
              "            \u001b[32m'score'\u001b[0m: \u001b[1;36m0.0\u001b[0m\n",
              "        \u001b[1m}\u001b[0m,\n",
              "        \u001b[1m{\u001b[0m\n",
              "            \u001b[32m'trajectory_id'\u001b[0m: \u001b[32m'3'\u001b[0m,\n",
              "            \u001b[32m'explanation'\u001b[0m: \u001b[32m'Stuck in repeated search calls without retrieving or returning any information.'\u001b[0m,\n",
              "            \u001b[32m'score'\u001b[0m: \u001b[1;36m0.0\u001b[0m\n",
              "        \u001b[1m}\u001b[0m,\n",
              "        \u001b[1m{\u001b[0m\n",
              "            \u001b[32m'trajectory_id'\u001b[0m: \u001b[32m'4'\u001b[0m,\n",
              "            \u001b[32m'explanation'\u001b[0m: \u001b[32m'Constructed pseudo-code instead of executing tool calls and failed to return a valid \u001b[0m\n",
              "\u001b[32manswer.'\u001b[0m,\n",
              "            \u001b[32m'score'\u001b[0m: \u001b[1;36m0.0\u001b[0m\n",
              "        \u001b[1m}\u001b[0m\n",
              "    \u001b[1m]\u001b[0m\n",
              "\u001b[1m}\u001b[0m\n"
            ]
          },
          "metadata": {},
          "output_type": "display_data"
        },
        {
          "name": "stdout",
          "output_type": "stream",
          "text": [
            "No \"val/reward\" metric found in history\n",
            "Deleted checkpoint ./.art/email-search-agent-langgraph/models/email-agent-langgraph-001/checkpoints/0018\n",
            "Packed 8 trajectories into 5 sequences of length 2048\n"
          ]
        },
        {
          "name": "stderr",
          "output_type": "stream",
          "text": [
            "train: 100%|██████████| 5/5 [00:18<00:00,  3.78s/it, loss=-0.7, grad_norm=0.499, policy_loss=-0.7, entropy=0.145]\n",
            "Iterating dataset:   4%|▍         | 20/500 [39:56<14:41:16, 110.16s/batch]"
          ]
        },
        {
          "name": "stdout",
          "output_type": "stream",
          "text": [
            "Completed training step 19\n",
            "Training step 20, epoch 0, epoch step 20\n",
            "Batch contains 2 scenarios\n",
            "<art.trajectories.TrajectoryGroup.__new__.<locals>.CoroutineWithMetadata object at 0x755c2d992f90>\n"
          ]
        },
        {
          "name": "stderr",
          "output_type": "stream",
          "text": [
            "/tmp/ipykernel_288833/1452329291.py:133: LangGraphDeprecatedSinceV10: create_react_agent has been moved to langchain.agents. Please update your import to 'from langchain.agents import create_agent'. Deprecated in LangGraph V1.0 to be removed in V2.0.\n",
            "  react_agent = create_react_agent(chat_model, tools)\n",
            "/tmp/ipykernel_288833/1452329291.py:133: LangGraphDeprecatedSinceV10: create_react_agent has been moved to langchain.agents. Please update your import to 'from langchain.agents import create_agent'. Deprecated in LangGraph V1.0 to be removed in V2.0.\n",
            "  react_agent = create_react_agent(chat_model, tools)\n",
            "/tmp/ipykernel_288833/1452329291.py:133: LangGraphDeprecatedSinceV10: create_react_agent has been moved to langchain.agents. Please update your import to 'from langchain.agents import create_agent'. Deprecated in LangGraph V1.0 to be removed in V2.0.\n",
            "  react_agent = create_react_agent(chat_model, tools)\n",
            "/tmp/ipykernel_288833/1452329291.py:133: LangGraphDeprecatedSinceV10: create_react_agent has been moved to langchain.agents. Please update your import to 'from langchain.agents import create_agent'. Deprecated in LangGraph V1.0 to be removed in V2.0.\n",
            "  react_agent = create_react_agent(chat_model, tools)\n",
            "/tmp/ipykernel_288833/1452329291.py:133: LangGraphDeprecatedSinceV10: create_react_agent has been moved to langchain.agents. Please update your import to 'from langchain.agents import create_agent'. Deprecated in LangGraph V1.0 to be removed in V2.0.\n",
            "  react_agent = create_react_agent(chat_model, tools)\n",
            "/tmp/ipykernel_288833/1452329291.py:133: LangGraphDeprecatedSinceV10: create_react_agent has been moved to langchain.agents. Please update your import to 'from langchain.agents import create_agent'. Deprecated in LangGraph V1.0 to be removed in V2.0.\n",
            "  react_agent = create_react_agent(chat_model, tools)\n",
            "/tmp/ipykernel_288833/1452329291.py:133: LangGraphDeprecatedSinceV10: create_react_agent has been moved to langchain.agents. Please update your import to 'from langchain.agents import create_agent'. Deprecated in LangGraph V1.0 to be removed in V2.0.\n",
            "  react_agent = create_react_agent(chat_model, tools)\n",
            "/tmp/ipykernel_288833/1452329291.py:133: LangGraphDeprecatedSinceV10: create_react_agent has been moved to langchain.agents. Please update your import to 'from langchain.agents import create_agent'. Deprecated in LangGraph V1.0 to be removed in V2.0.\n",
            "  react_agent = create_react_agent(chat_model, tools)\n"
          ]
        },
        {
          "name": "stdout",
          "output_type": "stream",
          "text": [
            "Loading existing database from ./enron_emails.db\n",
            "Loading existing database from ./enron_emails.db\n",
            "Loading existing database from ./enron_emails.db\n",
            "Loading existing database from ./enron_emails.db\n",
            "Loading existing database from ./enron_emails.db\n",
            "Loading existing database from ./enron_emails.db\n",
            "Loading existing database from ./enron_emails.db\n",
            "Loading existing database from ./enron_emails.db\n",
            "Loading existing database from ./enron_emails.db\n",
            "Loading existing database from ./enron_emails.db\n",
            "Loading existing database from ./enron_emails.db\n",
            "Loading existing database from ./enron_emails.db\n",
            "Loading existing database from ./enron_emails.db\n",
            "Loading existing database from ./enron_emails.db\n",
            "Loading existing database from ./enron_emails.db\n",
            "Loading existing database from ./enron_emails.db\n",
            "Loading existing database from ./enron_emails.db\n",
            "Loading existing database from ./enron_emails.db\n"
          ]
        },
        {
          "name": "stderr",
          "output_type": "stream",
          "text": []
        },
        {
          "name": "stdout",
          "output_type": "stream",
          "text": [
            "Loading existing database from ./enron_emails.db\n",
            "Loading existing database from ./enron_emails.db\n",
            "Loading existing database from ./enron_emails.db\n",
            "Loading existing database from ./enron_emails.db\n",
            "Loading existing database from ./enron_emails.db\n",
            "Loading existing database from ./enron_emails.db\n",
            "Loading existing database from ./enron_emails.db\n",
            "Loading existing database from ./enron_emails.db\n"
          ]
        },
        {
          "name": "stderr",
          "output_type": "stream",
          "text": []
        },
        {
          "name": "stdout",
          "output_type": "stream",
          "text": [
            "Loading existing database from ./enron_emails.db\n",
            "Loading existing database from ./enron_emails.db\n",
            "Loading existing database from ./enron_emails.db\n",
            "Loading existing database from ./enron_emails.db\n",
            "Loading existing database from ./enron_emails.db\n",
            "Loading existing database from ./enron_emails.db\n",
            "Loading existing database from ./enron_emails.db\n",
            "Loading existing database from ./enron_emails.db\n",
            "Loading existing database from ./enron_emails.db\n",
            "Loading existing database from ./enron_emails.db\n",
            "Loading existing database from ./enron_emails.db\n",
            "Loading existing database from ./enron_emails.db\n",
            "Loading existing database from ./enron_emails.db\n"
          ]
        },
        {
          "name": "stderr",
          "output_type": "stream",
          "text": [
            "gather: 100%|██████████| 8/8 [01:21<00:00, 10.21s/it, reward=0, correct=1, completion_tokens=70.6]\n"
          ]
        },
        {
          "data": {
            "text/html": [
              "<pre style=\"white-space:pre;overflow-x:auto;line-height:normal;font-family:Menlo,'DejaVu Sans Mono',consolas,'Courier New',monospace\">\n",
              "<span style=\"font-weight: bold\">[</span>RULER<span style=\"font-weight: bold\">]</span> Pretty-printed LLM choice JSON:\n",
              "</pre>\n"
            ],
            "text/plain": [
              "\n",
              "\u001b[1m[\u001b[0mRULER\u001b[1m]\u001b[0m Pretty-printed LLM choice JSON:\n"
            ]
          },
          "metadata": {},
          "output_type": "display_data"
        },
        {
          "data": {
            "text/html": [
              "<pre style=\"white-space:pre;overflow-x:auto;line-height:normal;font-family:Menlo,'DejaVu Sans Mono',consolas,'Courier New',monospace\"><span style=\"font-weight: bold\">{</span>\n",
              "    <span style=\"color: #008000; text-decoration-color: #008000\">'scores'</span>: <span style=\"font-weight: bold\">[</span>\n",
              "        <span style=\"font-weight: bold\">{</span>\n",
              "            <span style=\"color: #008000; text-decoration-color: #008000\">'trajectory_id'</span>: <span style=\"color: #008000; text-decoration-color: #008000\">'1'</span>,\n",
              "            <span style=\"color: #008000; text-decoration-color: #008000\">'explanation'</span>: <span style=\"color: #008000; text-decoration-color: #008000\">'Gives a generic, incorrect answer instead of identifying Andrea Bertone'</span>,\n",
              "            <span style=\"color: #008000; text-decoration-color: #008000\">'score'</span>: <span style=\"color: #008080; text-decoration-color: #008080; font-weight: bold\">0.1</span>\n",
              "        <span style=\"font-weight: bold\">}</span>,\n",
              "        <span style=\"font-weight: bold\">{</span>\n",
              "            <span style=\"color: #008000; text-decoration-color: #008000\">'trajectory_id'</span>: <span style=\"color: #008000; text-decoration-color: #008000\">'2'</span>,\n",
              "            <span style=\"color: #008000; text-decoration-color: #008000\">'explanation'</span>: <span style=\"color: #008000; text-decoration-color: #008000\">'Efficiently searches, reads the correct email, and correctly identifies Andrea </span>\n",
              "<span style=\"color: #008000; text-decoration-color: #008000\">Bertone'</span>,\n",
              "            <span style=\"color: #008000; text-decoration-color: #008000\">'score'</span>: <span style=\"color: #008080; text-decoration-color: #008080; font-weight: bold\">0.9</span>\n",
              "        <span style=\"font-weight: bold\">}</span>,\n",
              "        <span style=\"font-weight: bold\">{</span>\n",
              "            <span style=\"color: #008000; text-decoration-color: #008000\">'trajectory_id'</span>: <span style=\"color: #008000; text-decoration-color: #008000\">'3'</span>,\n",
              "            <span style=\"color: #008000; text-decoration-color: #008000\">'explanation'</span>: <span style=\"color: #008000; text-decoration-color: #008000\">'Similar to trajectory 2: correctly finds and names Andrea Bertone'</span>,\n",
              "            <span style=\"color: #008000; text-decoration-color: #008000\">'score'</span>: <span style=\"color: #008080; text-decoration-color: #008080; font-weight: bold\">0.9</span>\n",
              "        <span style=\"font-weight: bold\">}</span>,\n",
              "        <span style=\"font-weight: bold\">{</span>\n",
              "            <span style=\"color: #008000; text-decoration-color: #008000\">'trajectory_id'</span>: <span style=\"color: #008000; text-decoration-color: #008000\">'4'</span>,\n",
              "            <span style=\"color: #008000; text-decoration-color: #008000\">'explanation'</span>: <span style=\"color: #008000; text-decoration-color: #008000\">'Also finds the correct contact but includes unnecessary parameters and extra </span>\n",
              "<span style=\"color: #008000; text-decoration-color: #008000\">verbosity'</span>,\n",
              "            <span style=\"color: #008000; text-decoration-color: #008000\">'score'</span>: <span style=\"color: #008080; text-decoration-color: #008080; font-weight: bold\">0.8</span>\n",
              "        <span style=\"font-weight: bold\">}</span>\n",
              "    <span style=\"font-weight: bold\">]</span>\n",
              "<span style=\"font-weight: bold\">}</span>\n",
              "</pre>\n"
            ],
            "text/plain": [
              "\u001b[1m{\u001b[0m\n",
              "    \u001b[32m'scores'\u001b[0m: \u001b[1m[\u001b[0m\n",
              "        \u001b[1m{\u001b[0m\n",
              "            \u001b[32m'trajectory_id'\u001b[0m: \u001b[32m'1'\u001b[0m,\n",
              "            \u001b[32m'explanation'\u001b[0m: \u001b[32m'Gives a generic, incorrect answer instead of identifying Andrea Bertone'\u001b[0m,\n",
              "            \u001b[32m'score'\u001b[0m: \u001b[1;36m0.1\u001b[0m\n",
              "        \u001b[1m}\u001b[0m,\n",
              "        \u001b[1m{\u001b[0m\n",
              "            \u001b[32m'trajectory_id'\u001b[0m: \u001b[32m'2'\u001b[0m,\n",
              "            \u001b[32m'explanation'\u001b[0m: \u001b[32m'Efficiently searches, reads the correct email, and correctly identifies Andrea \u001b[0m\n",
              "\u001b[32mBertone'\u001b[0m,\n",
              "            \u001b[32m'score'\u001b[0m: \u001b[1;36m0.9\u001b[0m\n",
              "        \u001b[1m}\u001b[0m,\n",
              "        \u001b[1m{\u001b[0m\n",
              "            \u001b[32m'trajectory_id'\u001b[0m: \u001b[32m'3'\u001b[0m,\n",
              "            \u001b[32m'explanation'\u001b[0m: \u001b[32m'Similar to trajectory 2: correctly finds and names Andrea Bertone'\u001b[0m,\n",
              "            \u001b[32m'score'\u001b[0m: \u001b[1;36m0.9\u001b[0m\n",
              "        \u001b[1m}\u001b[0m,\n",
              "        \u001b[1m{\u001b[0m\n",
              "            \u001b[32m'trajectory_id'\u001b[0m: \u001b[32m'4'\u001b[0m,\n",
              "            \u001b[32m'explanation'\u001b[0m: \u001b[32m'Also finds the correct contact but includes unnecessary parameters and extra \u001b[0m\n",
              "\u001b[32mverbosity'\u001b[0m,\n",
              "            \u001b[32m'score'\u001b[0m: \u001b[1;36m0.8\u001b[0m\n",
              "        \u001b[1m}\u001b[0m\n",
              "    \u001b[1m]\u001b[0m\n",
              "\u001b[1m}\u001b[0m\n"
            ]
          },
          "metadata": {},
          "output_type": "display_data"
        },
        {
          "data": {
            "text/html": [
              "<pre style=\"white-space:pre;overflow-x:auto;line-height:normal;font-family:Menlo,'DejaVu Sans Mono',consolas,'Courier New',monospace\">\n",
              "<span style=\"font-weight: bold\">[</span>RULER<span style=\"font-weight: bold\">]</span> Pretty-printed LLM choice JSON:\n",
              "</pre>\n"
            ],
            "text/plain": [
              "\n",
              "\u001b[1m[\u001b[0mRULER\u001b[1m]\u001b[0m Pretty-printed LLM choice JSON:\n"
            ]
          },
          "metadata": {},
          "output_type": "display_data"
        },
        {
          "data": {
            "text/html": [
              "<pre style=\"white-space:pre;overflow-x:auto;line-height:normal;font-family:Menlo,'DejaVu Sans Mono',consolas,'Courier New',monospace\"><span style=\"font-weight: bold\">{</span>\n",
              "    <span style=\"color: #008000; text-decoration-color: #008000\">'scores'</span>: <span style=\"font-weight: bold\">[</span>\n",
              "        <span style=\"font-weight: bold\">{</span>\n",
              "            <span style=\"color: #008000; text-decoration-color: #008000\">'trajectory_id'</span>: <span style=\"color: #008000; text-decoration-color: #008000\">'1'</span>,\n",
              "            <span style=\"color: #008000; text-decoration-color: #008000\">'explanation'</span>: <span style=\"color: #008000; text-decoration-color: #008000\">'Made repeated searches but never read any email or return a final answer — failed to </span>\n",
              "<span style=\"color: #008000; text-decoration-color: #008000\">achieve the goal.'</span>,\n",
              "            <span style=\"color: #008000; text-decoration-color: #008000\">'score'</span>: <span style=\"color: #008080; text-decoration-color: #008080; font-weight: bold\">0.0</span>\n",
              "        <span style=\"font-weight: bold\">}</span>,\n",
              "        <span style=\"font-weight: bold\">{</span>\n",
              "            <span style=\"color: #008000; text-decoration-color: #008000\">'trajectory_id'</span>: <span style=\"color: #008000; text-decoration-color: #008000\">'2'</span>,\n",
              "            <span style=\"color: #008000; text-decoration-color: #008000\">'explanation'</span>: <span style=\"color: #008000; text-decoration-color: #008000\">'Performed multiple searches but never retrieved or returned the answer — failed to </span>\n",
              "<span style=\"color: #008000; text-decoration-color: #008000\">achieve the goal.'</span>,\n",
              "            <span style=\"color: #008000; text-decoration-color: #008000\">'score'</span>: <span style=\"color: #008080; text-decoration-color: #008080; font-weight: bold\">0.0</span>\n",
              "        <span style=\"font-weight: bold\">}</span>,\n",
              "        <span style=\"font-weight: bold\">{</span>\n",
              "            <span style=\"color: #008000; text-decoration-color: #008000\">'trajectory_id'</span>: <span style=\"color: #008000; text-decoration-color: #008000\">'3'</span>,\n",
              "            <span style=\"color: #008000; text-decoration-color: #008000\">'explanation'</span>: <span style=\"color: #008000; text-decoration-color: #008000\">'Repeated searches and attempts to read emails but never found the content or provided a</span>\n",
              "<span style=\"color: #008000; text-decoration-color: #008000\">final answer — failed to achieve the goal.'</span>,\n",
              "            <span style=\"color: #008000; text-decoration-color: #008000\">'score'</span>: <span style=\"color: #008080; text-decoration-color: #008080; font-weight: bold\">0.0</span>\n",
              "        <span style=\"font-weight: bold\">}</span>,\n",
              "        <span style=\"font-weight: bold\">{</span>\n",
              "            <span style=\"color: #008000; text-decoration-color: #008000\">'trajectory_id'</span>: <span style=\"color: #008000; text-decoration-color: #008000\">'4'</span>,\n",
              "            <span style=\"color: #008000; text-decoration-color: #008000\">'explanation'</span>: <span style=\"color: #008000; text-decoration-color: #008000\">'Efficiently searched, read the relevant email, and returned the correct answer with the</span>\n",
              "<span style=\"color: #008000; text-decoration-color: #008000\">source message ID.'</span>,\n",
              "            <span style=\"color: #008000; text-decoration-color: #008000\">'score'</span>: <span style=\"color: #008080; text-decoration-color: #008080; font-weight: bold\">0.9</span>\n",
              "        <span style=\"font-weight: bold\">}</span>\n",
              "    <span style=\"font-weight: bold\">]</span>\n",
              "<span style=\"font-weight: bold\">}</span>\n",
              "</pre>\n"
            ],
            "text/plain": [
              "\u001b[1m{\u001b[0m\n",
              "    \u001b[32m'scores'\u001b[0m: \u001b[1m[\u001b[0m\n",
              "        \u001b[1m{\u001b[0m\n",
              "            \u001b[32m'trajectory_id'\u001b[0m: \u001b[32m'1'\u001b[0m,\n",
              "            \u001b[32m'explanation'\u001b[0m: \u001b[32m'Made repeated searches but never read any email or return a final answer — failed to \u001b[0m\n",
              "\u001b[32machieve the goal.'\u001b[0m,\n",
              "            \u001b[32m'score'\u001b[0m: \u001b[1;36m0.0\u001b[0m\n",
              "        \u001b[1m}\u001b[0m,\n",
              "        \u001b[1m{\u001b[0m\n",
              "            \u001b[32m'trajectory_id'\u001b[0m: \u001b[32m'2'\u001b[0m,\n",
              "            \u001b[32m'explanation'\u001b[0m: \u001b[32m'Performed multiple searches but never retrieved or returned the answer — failed to \u001b[0m\n",
              "\u001b[32machieve the goal.'\u001b[0m,\n",
              "            \u001b[32m'score'\u001b[0m: \u001b[1;36m0.0\u001b[0m\n",
              "        \u001b[1m}\u001b[0m,\n",
              "        \u001b[1m{\u001b[0m\n",
              "            \u001b[32m'trajectory_id'\u001b[0m: \u001b[32m'3'\u001b[0m,\n",
              "            \u001b[32m'explanation'\u001b[0m: \u001b[32m'Repeated searches and attempts to read emails but never found the content or provided a\u001b[0m\n",
              "\u001b[32mfinal answer — failed to achieve the goal.'\u001b[0m,\n",
              "            \u001b[32m'score'\u001b[0m: \u001b[1;36m0.0\u001b[0m\n",
              "        \u001b[1m}\u001b[0m,\n",
              "        \u001b[1m{\u001b[0m\n",
              "            \u001b[32m'trajectory_id'\u001b[0m: \u001b[32m'4'\u001b[0m,\n",
              "            \u001b[32m'explanation'\u001b[0m: \u001b[32m'Efficiently searched, read the relevant email, and returned the correct answer with the\u001b[0m\n",
              "\u001b[32msource message ID.'\u001b[0m,\n",
              "            \u001b[32m'score'\u001b[0m: \u001b[1;36m0.9\u001b[0m\n",
              "        \u001b[1m}\u001b[0m\n",
              "    \u001b[1m]\u001b[0m\n",
              "\u001b[1m}\u001b[0m\n"
            ]
          },
          "metadata": {},
          "output_type": "display_data"
        },
        {
          "name": "stdout",
          "output_type": "stream",
          "text": [
            "No \"val/reward\" metric found in history\n",
            "Deleted checkpoint ./.art/email-search-agent-langgraph/models/email-agent-langgraph-001/checkpoints/0019\n",
            "Packed 8 trajectories into 6 sequences of length 2048\n"
          ]
        },
        {
          "name": "stderr",
          "output_type": "stream",
          "text": [
            "train: 100%|██████████| 6/6 [00:20<00:00,  3.47s/it, loss=0.551, grad_norm=0.296, policy_loss=0.551, entropy=0.41]"
          ]
        },
        {
          "name": "stdout",
          "output_type": "stream",
          "text": [
            "Completed training step 20\n"
          ]
        },
        {
          "name": "stderr",
          "output_type": "stream",
          "text": [
            "\n"
          ]
        }
      ],
      "source": [
        "# Training configuration\n",
        "from art.utils import iterate_dataset\n",
        "from art.langgraph import wrap_rollout\n",
        "\n",
        "training_config = {\n",
        "    \"groups_per_step\": 2,\n",
        "    \"num_epochs\": 20,\n",
        "    \"rollouts_per_group\": 4,\n",
        "    \"learning_rate\": 1e-5,\n",
        "    \"max_steps\": 20,\n",
        "}\n",
        "\n",
        "# Use iterate_dataset with real training scenarios (similar to train.py)\n",
        "training_iterator = iterate_dataset(\n",
        "    training_scenarios,  # Use real scenarios from Hugging Face\n",
        "    groups_per_step=training_config[\"groups_per_step\"],\n",
        "    num_epochs=training_config[\"num_epochs\"],\n",
        "    initial_step=await model.get_step(),\n",
        ")\n",
        "\n",
        "for batch in training_iterator:\n",
        "    print(\n",
        "        f\"Training step {batch.step}, epoch {batch.epoch}, epoch step {batch.epoch_step}\"\n",
        "    )\n",
        "    print(f\"Batch contains {len(batch.items)} scenarios\")\n",
        "\n",
        "    # Create trajectory groups for this batch (similar to train.py)\n",
        "    groups = []\n",
        "    for scenario in batch.items:\n",
        "        groups.append(\n",
        "            art.TrajectoryGroup(\n",
        "                (\n",
        "                    wrap_rollout(model, rollout)(\n",
        "                        model, EmailScenario(step=batch.step, scenario=scenario)\n",
        "                    )\n",
        "                    for _ in range(training_config[\"rollouts_per_group\"])\n",
        "                )\n",
        "            )\n",
        "        )\n",
        "    print(groups[0])\n",
        "    # Gather all trajectory groups\n",
        "    finished_groups = await art.gather_trajectory_groups(\n",
        "        groups,\n",
        "        pbar_desc=\"gather\",\n",
        "        max_exceptions=training_config[\"rollouts_per_group\"] * len(batch.items),\n",
        "    )\n",
        "\n",
        "    judged_groups = []\n",
        "    for group in finished_groups:\n",
        "        # Use RULER to assign relative scores to each trajectory\n",
        "        judged_group = await ruler_score_group(group, \"openai/o4-mini\", debug=True)\n",
        "        judged_groups.append(judged_group)\n",
        "\n",
        "    await model.delete_checkpoints()\n",
        "    await model.train(\n",
        "        judged_groups,\n",
        "        config=art.TrainConfig(learning_rate=training_config[\"learning_rate\"]),\n",
        "        # Lowering the logprob_calculation_chunk_size is a memory saving measure\n",
        "        # to allow longer sequences (up to 8192 tokens) to be processed on a T4.\n",
        "        _config={\"logprob_calculation_chunk_size\": 8},\n",
        "    )\n",
        "\n",
        "    print(f\"Completed training step {batch.step}\")\n",
        "\n",
        "    # Stop after max_steps for demo purposes (adjust as needed)\n",
        "    if batch.step >= training_config[\"max_steps\"]:\n",
        "        break"
      ]
    },
    {
      "cell_type": "markdown",
      "metadata": {
        "id": "2wnlNGMlIX6K"
      },
      "source": [
        "### Using the Model\n",
        "\n",
        "LangGraph를 이용해서 Agent가 emails를 검색하고 질문에 대답할 수 있도록 훈련시켰습니다! \n",
        "\n",
        "이제 training loop 밖으로 당신의 모델을 사용할 시간입니다. \n",
        "\n",
        "\n",
        "방금 훈련시킨 모델의 데모를 위해 아래 코드를 확인하세요.\n",
        "\n"
      ]
    },
    {
      "cell_type": "code",
      "execution_count": 9,
      "metadata": {
        "id": "xvofjjLmIX6L"
      },
      "outputs": [
        {
          "name": "stdout",
          "output_type": "stream",
          "text": [
            "Testing the trained LangGraph model with a real scenario...\n",
            "\n",
            "Test scenario ID: 3751\n",
            "Question: What is my schedule for the week of August 28th?\n",
            "Expected answer: Monday--in office; Tuesday--in office; Wednesday--in office; Thursday--vacation; Friday--vacation.\n",
            "Reference message IDs: ['<28971276.1075842953941.JavaMail.evans@thyme>']\n",
            "Inbox: jeff.dasovich@enron.com\n",
            "Query date: 2000-09-20\n",
            "--------------------------------------------------\n"
          ]
        },
        {
          "name": "stderr",
          "output_type": "stream",
          "text": [
            "/tmp/ipykernel_288833/1452329291.py:133: LangGraphDeprecatedSinceV10: create_react_agent has been moved to langchain.agents. Please update your import to 'from langchain.agents import create_agent'. Deprecated in LangGraph V1.0 to be removed in V2.0.\n",
            "  react_agent = create_react_agent(chat_model, tools)\n"
          ]
        },
        {
          "name": "stdout",
          "output_type": "stream",
          "text": [
            "Loading existing database from ./enron_emails.db\n",
            "Loading existing database from ./enron_emails.db\n",
            "Loading existing database from ./enron_emails.db\n",
            "Loading existing database from ./enron_emails.db\n",
            "Loading existing database from ./enron_emails.db\n",
            "LangGraph Agent's trajectory:\n",
            "--------------------\n",
            "[SYSTEM]: \n",
            "You are an email search agent. You are given a user query and a list of tools you can use to search...\n",
            "\n",
            "[USER]: What is my schedule for the week of August 28th?\n",
            "\n",
            "[ASSISTANT]: [{'id': 'chatcmpl-tool-46d34658dbb743978da665a239ef61fe', 'type': 'function', 'function': {'name': 'search_inbox_tool', 'arguments': '{\"keywords\": [\"schedule\", \"August 28th\"]}'}}]\n",
            "\n",
            "[TOOL - unknown_tool]: \n",
            "\n",
            "[ASSISTANT]: [{'id': 'chatcmpl-tool-d0ad457ef20a45388d5cc2324e7cc073', 'type': 'function', 'function': {'name': 'search_inbox_tool', 'arguments': '{\"keywords\": [\"week\", \"August 28th\", \" agenda\", \"plan\"]}'}}]\n",
            "\n",
            "[TOOL - unknown_tool]: \n",
            "\n",
            "[ASSISTANT]: [{'id': 'chatcmpl-tool-36cfeb1bbe404d56aefc5da06d8dcead', 'type': 'function', 'function': {'name': 'search_inbox_tool', 'arguments': '{\"keywords\": [\"September 4th\", \"follow up\", \" August 28th\"]}'}}]\n",
            "\n",
            "[TOOL - unknown_tool]: \n",
            "\n",
            "[ASSISTANT]: [{'id': 'chatcmpl-tool-7b6d91cd15cb4b579ac5a7fe2d557fac', 'type': 'function', 'function': {'name': 'search_inbox_tool', 'arguments': '{\"keywords\": [\"August 28th\", \"meeting\"]}'}}]\n",
            "\n",
            "[TOOL - unknown_tool]: [{\"message_id\": \"<12993450.1075842953497.JavaMail.evans@thyme>\", \"snippet\": \" ... Conference Call <b>meeting</b> for Monday <b>August 28th</b> at 5:00 PM ED\\n>\\n> Bill Hederman asked ... \"}]\n",
            "\n",
            "[ASSISTANT]: [{'id': 'chatcmpl-tool-866f9c393b1c4d899aa632c9d386f451', 'type': 'function', 'function': {'name': 'read_email_tool', 'arguments': '{\"message_id\": \"<12993450.1075842953497.JavaMail.evans@thyme>\"}'}}]\n",
            "\n",
            "[TOOL - unknown_tool]: {\"message_id\": \"<12993450.1075842953497.JavaMail.evans@thyme>\", \"date\": \"2000-08-26 23:23:00\", \"subject\": \"RE: Conference Call meeting for Monday August 28th at 5:00 PM ED\", \"from_address\": \"amosher@a...\n",
            "\n",
            "[ASSISTANT]: Based on the email found, you had a meeting scheduled for August 28th at 5:00 PM EDT. The details are as follows:\n",
            "\n",
            "- Dial in Number: 1-800-832-3242\n",
            "- Option: 3\n",
            "- Option: 1\n",
            "- Meeting ID: 4321\n",
            "\n",
            "If you need more detailed information or if there were other meetings or activities for the week of August 28th, let me know and we can search for them. \n",
            "\n",
            "The message ID for the reference email is `<12993450.1075842953497.JavaMail.evans@thyme>`.\n",
            "\n",
            "Would you like to search for more information on the schedule for the week of August 28th?\n",
            "\n",
            "--------------------------------------------------\n",
            "No final answer provided by the agent\n",
            "\n",
            "Expected Answer: Monday--in office; Tuesday--in office; Wednesday--in office; Thursday--vacation; Friday--vacation.\n",
            "Expected Source IDs: ['<28971276.1075842953941.JavaMail.evans@thyme>']\n",
            "\n",
            "🎉 LangGraph email search agent testing completed!\n",
            "The agent used LangGraph's ReAct pattern with the same inference path as during training.\n"
          ]
        }
      ],
      "source": [
        "#@title Loading/inference code\n",
        "\n",
        "# Test the trained model using the rollout function\n",
        "# This avoids memory issues and uses the same inference path as training\n",
        "\n",
        "print(\"Testing the trained LangGraph model with a real scenario...\\n\")\n",
        "\n",
        "\n",
        "# Use a scenario from our training set\n",
        "test_scenario = training_scenarios[1]\n",
        "\n",
        "print(f\"Test scenario ID: {test_scenario.id}\")\n",
        "print(f\"Question: {test_scenario.question}\")\n",
        "print(f\"Expected answer: {test_scenario.answer}\")\n",
        "print(f\"Reference message IDs: {test_scenario.message_ids}\")\n",
        "print(f\"Inbox: {test_scenario.inbox_address}\")\n",
        "print(f\"Query date: {test_scenario.query_date}\")\n",
        "print(\"-\" * 50)\n",
        "\n",
        "# Run the rollout function with the trained model\n",
        "test_email_scenario = EmailScenario.model_validate(\n",
        "    {\"step\": 0, \"scenario\": test_scenario.model_dump()}\n",
        ")\n",
        "result_trajectory = await wrap_rollout(model, rollout)(model, test_email_scenario)\n",
        "\n",
        "print(\"LangGraph Agent's trajectory:\")\n",
        "print(\"-\" * 20)\n",
        "\n",
        "# Display the conversation\n",
        "messages = result_trajectory.messages()\n",
        "for i, msg in enumerate(messages):\n",
        "    role = msg.get(\"role\", \"unknown\")\n",
        "    content = msg.get(\"content\", \"\")\n",
        "    tool_calls = msg.get(\"tool_calls\", [])\n",
        "\n",
        "    if role == \"system\":\n",
        "        print(\n",
        "            f\"[SYSTEM]: {content[:100]}...\"\n",
        "            if len(content) > 100\n",
        "            else f\"[SYSTEM]: {content}\"\n",
        "        )\n",
        "    elif role == \"user\":\n",
        "        print(f\"[USER]: {content}\")\n",
        "    elif role == \"assistant\":\n",
        "        if tool_calls:\n",
        "            print(f\"[ASSISTANT]: {tool_calls}\")\n",
        "        if content:\n",
        "            print(f\"[ASSISTANT]: {content}\")\n",
        "    elif role == \"tool\":\n",
        "        tool_name = msg.get(\"name\", \"unknown_tool\")\n",
        "        print(\n",
        "            f\"[TOOL - {tool_name}]: {content[:200]}...\"\n",
        "            if len(content) > 200\n",
        "            else f\"[TOOL - {tool_name}]: {content}\"\n",
        "        )\n",
        "\n",
        "    print()\n",
        "\n",
        "print(\"-\" * 50)\n",
        "if result_trajectory.final_answer:\n",
        "    print(f\"Agent's Final Answer: {result_trajectory.final_answer.answer}\")\n",
        "    print(f\"Source IDs Used: {result_trajectory.final_answer.source_ids}\")\n",
        "else:\n",
        "    print(\"No final answer provided by the agent\")\n",
        "\n",
        "print(f\"\\nExpected Answer: {test_scenario.answer}\")\n",
        "print(f\"Expected Source IDs: {test_scenario.message_ids}\")\n",
        "\n",
        "print(\"\\n🎉 LangGraph email search agent testing completed!\")\n",
        "print(\n",
        "    \"The agent used LangGraph's ReAct pattern with the same inference path as during training.\"\n",
        ")"
      ]
    },
    {
      "cell_type": "markdown",
      "metadata": {
        "id": "omIgMH2KIX6L"
      },
      "source": [
        "<div class=\"align-center\">\n",
        "<a href=\"https://github.com/openpipe/art\"><img src=\"https://github.com/openpipe/art/raw/main/assets/ART_pill.png\" height=\"50\"></a>\n",
        "<a href=\"https://discord.gg/zbBHRUpwf4\"><img src=\"https://github.com/openpipe/art/raw/main/assets/Discord.png\" height=\"50\"></a>\n",
        "<a href=\"https://art.openpipe.ai\"><img src=\"https://github.com/openpipe/art/raw/main/assets/Documentation_pill.png\" height=\"50\"></a>\n",
        "\n",
        "Questions? Join the Discord and ask away! For feature requests or to leave a star, visit our [Github](https://github.com/openpipe/art).\n",
        "\n",
        "</div>"
      ]
    }
  ],
  "metadata": {
    "accelerator": "GPU",
    "colab": {
      "gpuType": "T4",
      "provenance": []
    },
    "kernelspec": {
      "display_name": "openpipe",
      "language": "python",
      "name": "python3"
    },
    "language_info": {
      "codemirror_mode": {
        "name": "ipython",
        "version": 3
      },
      "file_extension": ".py",
      "mimetype": "text/x-python",
      "name": "python",
      "nbconvert_exporter": "python",
      "pygments_lexer": "ipython3",
      "version": "3.11.13"
    }
  },
  "nbformat": 4,
  "nbformat_minor": 0
}
